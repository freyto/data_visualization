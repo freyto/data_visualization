{
 "cells": [
  {
   "cell_type": "markdown",
   "metadata": {},
   "source": [
    "# Plotly Viszualizations"
   ]
  },
  {
   "cell_type": "markdown",
   "metadata": {},
   "source": [
    "## Preparations"
   ]
  },
  {
   "cell_type": "code",
   "execution_count": 1,
   "metadata": {},
   "outputs": [],
   "source": [
    "import os\n",
    "import pandas as pd\n",
    "import plotly.express as px\n",
    "import plotly.graph_objects as go\n",
    "from plotly.subplots import make_subplots"
   ]
  },
  {
   "cell_type": "code",
   "execution_count": 2,
   "metadata": {},
   "outputs": [],
   "source": [
    "test_df = pd.read_csv(\".\\\\test_data\\\\2024-09-28.csv\", sep=\";\", decimal=\",\")"
   ]
  },
  {
   "cell_type": "code",
   "execution_count": 3,
   "metadata": {},
   "outputs": [
    {
     "data": {
      "text/html": [
       "<div>\n",
       "<style scoped>\n",
       "    .dataframe tbody tr th:only-of-type {\n",
       "        vertical-align: middle;\n",
       "    }\n",
       "\n",
       "    .dataframe tbody tr th {\n",
       "        vertical-align: top;\n",
       "    }\n",
       "\n",
       "    .dataframe thead th {\n",
       "        text-align: right;\n",
       "    }\n",
       "</style>\n",
       "<table border=\"1\" class=\"dataframe\">\n",
       "  <thead>\n",
       "    <tr style=\"text-align: right;\">\n",
       "      <th></th>\n",
       "      <th>ausgabe_haushalt</th>\n",
       "      <th>bemerkung</th>\n",
       "      <th>datum</th>\n",
       "      <th>kategorie</th>\n",
       "      <th>preis</th>\n",
       "      <th>shop</th>\n",
       "      <th>monat_jahr</th>\n",
       "    </tr>\n",
       "  </thead>\n",
       "  <tbody>\n",
       "    <tr>\n",
       "      <th>0</th>\n",
       "      <td>False</td>\n",
       "      <td>NaN</td>\n",
       "      <td>2024-08-31</td>\n",
       "      <td>Drogerie/Apotheke</td>\n",
       "      <td>3.49</td>\n",
       "      <td>Feneberg</td>\n",
       "      <td>2024-08</td>\n",
       "    </tr>\n",
       "    <tr>\n",
       "      <th>1</th>\n",
       "      <td>False</td>\n",
       "      <td>NaN</td>\n",
       "      <td>2024-08-31</td>\n",
       "      <td>Drogerie/Apotheke</td>\n",
       "      <td>13.38</td>\n",
       "      <td>Apotheke</td>\n",
       "      <td>2024-08</td>\n",
       "    </tr>\n",
       "    <tr>\n",
       "      <th>2</th>\n",
       "      <td>True</td>\n",
       "      <td>NaN</td>\n",
       "      <td>2024-08-31</td>\n",
       "      <td>Lebensmittel</td>\n",
       "      <td>8.95</td>\n",
       "      <td>Feneberg</td>\n",
       "      <td>2024-08</td>\n",
       "    </tr>\n",
       "    <tr>\n",
       "      <th>3</th>\n",
       "      <td>False</td>\n",
       "      <td>Grillen</td>\n",
       "      <td>2024-08-30</td>\n",
       "      <td>Lebensmittel</td>\n",
       "      <td>13.17</td>\n",
       "      <td>Feneberg</td>\n",
       "      <td>2024-08</td>\n",
       "    </tr>\n",
       "    <tr>\n",
       "      <th>4</th>\n",
       "      <td>True</td>\n",
       "      <td>NaN</td>\n",
       "      <td>2024-08-30</td>\n",
       "      <td>Lebensmittel</td>\n",
       "      <td>4.05</td>\n",
       "      <td>Feneberg</td>\n",
       "      <td>2024-08</td>\n",
       "    </tr>\n",
       "    <tr>\n",
       "      <th>...</th>\n",
       "      <td>...</td>\n",
       "      <td>...</td>\n",
       "      <td>...</td>\n",
       "      <td>...</td>\n",
       "      <td>...</td>\n",
       "      <td>...</td>\n",
       "      <td>...</td>\n",
       "    </tr>\n",
       "    <tr>\n",
       "      <th>763</th>\n",
       "      <td>True</td>\n",
       "      <td>NaN</td>\n",
       "      <td>2023-10-03</td>\n",
       "      <td>Lebensmittel</td>\n",
       "      <td>5.70</td>\n",
       "      <td>MPreis</td>\n",
       "      <td>2023-10</td>\n",
       "    </tr>\n",
       "    <tr>\n",
       "      <th>764</th>\n",
       "      <td>False</td>\n",
       "      <td>NaN</td>\n",
       "      <td>2023-10-02</td>\n",
       "      <td>Vorsorge/Sparen</td>\n",
       "      <td>50.00</td>\n",
       "      <td>Bank</td>\n",
       "      <td>2023-10</td>\n",
       "    </tr>\n",
       "    <tr>\n",
       "      <th>765</th>\n",
       "      <td>False</td>\n",
       "      <td>NaN</td>\n",
       "      <td>2023-10-02</td>\n",
       "      <td>Wohnung</td>\n",
       "      <td>25.04</td>\n",
       "      <td>GEZ</td>\n",
       "      <td>2023-10</td>\n",
       "    </tr>\n",
       "    <tr>\n",
       "      <th>766</th>\n",
       "      <td>True</td>\n",
       "      <td>NaN</td>\n",
       "      <td>2023-10-02</td>\n",
       "      <td>Lebensmittel</td>\n",
       "      <td>18.77</td>\n",
       "      <td>Feneberg</td>\n",
       "      <td>2023-10</td>\n",
       "    </tr>\n",
       "    <tr>\n",
       "      <th>767</th>\n",
       "      <td>False</td>\n",
       "      <td>NaN</td>\n",
       "      <td>2023-10-01</td>\n",
       "      <td>Ausgehen/Alkohol</td>\n",
       "      <td>45.00</td>\n",
       "      <td>Vereinsheim</td>\n",
       "      <td>2023-10</td>\n",
       "    </tr>\n",
       "  </tbody>\n",
       "</table>\n",
       "<p>768 rows × 7 columns</p>\n",
       "</div>"
      ],
      "text/plain": [
       "     ausgabe_haushalt bemerkung       datum          kategorie  preis  \\\n",
       "0               False       NaN  2024-08-31  Drogerie/Apotheke   3.49   \n",
       "1               False       NaN  2024-08-31  Drogerie/Apotheke  13.38   \n",
       "2                True       NaN  2024-08-31       Lebensmittel   8.95   \n",
       "3               False   Grillen  2024-08-30       Lebensmittel  13.17   \n",
       "4                True       NaN  2024-08-30       Lebensmittel   4.05   \n",
       "..                ...       ...         ...                ...    ...   \n",
       "763              True       NaN  2023-10-03       Lebensmittel   5.70   \n",
       "764             False       NaN  2023-10-02    Vorsorge/Sparen  50.00   \n",
       "765             False       NaN  2023-10-02            Wohnung  25.04   \n",
       "766              True       NaN  2023-10-02       Lebensmittel  18.77   \n",
       "767             False       NaN  2023-10-01   Ausgehen/Alkohol  45.00   \n",
       "\n",
       "            shop monat_jahr  \n",
       "0       Feneberg    2024-08  \n",
       "1       Apotheke    2024-08  \n",
       "2       Feneberg    2024-08  \n",
       "3       Feneberg    2024-08  \n",
       "4       Feneberg    2024-08  \n",
       "..           ...        ...  \n",
       "763       MPreis    2023-10  \n",
       "764         Bank    2023-10  \n",
       "765          GEZ    2023-10  \n",
       "766     Feneberg    2023-10  \n",
       "767  Vereinsheim    2023-10  \n",
       "\n",
       "[768 rows x 7 columns]"
      ]
     },
     "execution_count": 3,
     "metadata": {},
     "output_type": "execute_result"
    }
   ],
   "source": [
    "test_df"
   ]
  },
  {
   "cell_type": "code",
   "execution_count": 4,
   "metadata": {},
   "outputs": [],
   "source": [
    "test_grouped_df = test_df.groupby(['monat_jahr', 'kategorie'])['preis'].sum().unstack(fill_value=0).stack() # fügt 0 bei Kategorien hinzu, wo es keine Ausgaben im Monat gab"
   ]
  },
  {
   "cell_type": "code",
   "execution_count": 5,
   "metadata": {},
   "outputs": [],
   "source": [
    "test_grouped_df = test_grouped_df.reset_index()"
   ]
  },
  {
   "cell_type": "code",
   "execution_count": 6,
   "metadata": {},
   "outputs": [],
   "source": [
    "test_grouped_df.rename(columns={0: 'preis'}, inplace=True)"
   ]
  },
  {
   "cell_type": "code",
   "execution_count": 7,
   "metadata": {},
   "outputs": [
    {
     "data": {
      "text/html": [
       "<div>\n",
       "<style scoped>\n",
       "    .dataframe tbody tr th:only-of-type {\n",
       "        vertical-align: middle;\n",
       "    }\n",
       "\n",
       "    .dataframe tbody tr th {\n",
       "        vertical-align: top;\n",
       "    }\n",
       "\n",
       "    .dataframe thead th {\n",
       "        text-align: right;\n",
       "    }\n",
       "</style>\n",
       "<table border=\"1\" class=\"dataframe\">\n",
       "  <thead>\n",
       "    <tr style=\"text-align: right;\">\n",
       "      <th></th>\n",
       "      <th>monat_jahr</th>\n",
       "      <th>kategorie</th>\n",
       "      <th>preis</th>\n",
       "    </tr>\n",
       "  </thead>\n",
       "  <tbody>\n",
       "    <tr>\n",
       "      <th>0</th>\n",
       "      <td>2023-10</td>\n",
       "      <td>Aktivitäten</td>\n",
       "      <td>5.00</td>\n",
       "    </tr>\n",
       "    <tr>\n",
       "      <th>1</th>\n",
       "      <td>2023-10</td>\n",
       "      <td>Ausgehen/Alkohol</td>\n",
       "      <td>193.00</td>\n",
       "    </tr>\n",
       "    <tr>\n",
       "      <th>2</th>\n",
       "      <td>2023-10</td>\n",
       "      <td>Auto</td>\n",
       "      <td>200.00</td>\n",
       "    </tr>\n",
       "    <tr>\n",
       "      <th>3</th>\n",
       "      <td>2023-10</td>\n",
       "      <td>Drogerie/Apotheke</td>\n",
       "      <td>30.62</td>\n",
       "    </tr>\n",
       "    <tr>\n",
       "      <th>4</th>\n",
       "      <td>2023-10</td>\n",
       "      <td>Elektronik/Telekommunikation</td>\n",
       "      <td>20.19</td>\n",
       "    </tr>\n",
       "    <tr>\n",
       "      <th>...</th>\n",
       "      <td>...</td>\n",
       "      <td>...</td>\n",
       "      <td>...</td>\n",
       "    </tr>\n",
       "    <tr>\n",
       "      <th>204</th>\n",
       "      <td>2024-08</td>\n",
       "      <td>Urlaub</td>\n",
       "      <td>288.12</td>\n",
       "    </tr>\n",
       "    <tr>\n",
       "      <th>205</th>\n",
       "      <td>2024-08</td>\n",
       "      <td>Versicherungen</td>\n",
       "      <td>0.00</td>\n",
       "    </tr>\n",
       "    <tr>\n",
       "      <th>206</th>\n",
       "      <td>2024-08</td>\n",
       "      <td>Vorsorge/Sparen</td>\n",
       "      <td>217.00</td>\n",
       "    </tr>\n",
       "    <tr>\n",
       "      <th>207</th>\n",
       "      <td>2024-08</td>\n",
       "      <td>Wohnung</td>\n",
       "      <td>1131.04</td>\n",
       "    </tr>\n",
       "    <tr>\n",
       "      <th>208</th>\n",
       "      <td>2024-08</td>\n",
       "      <td>Öffentliche Verkehrsmittel</td>\n",
       "      <td>0.00</td>\n",
       "    </tr>\n",
       "  </tbody>\n",
       "</table>\n",
       "<p>209 rows × 3 columns</p>\n",
       "</div>"
      ],
      "text/plain": [
       "    monat_jahr                     kategorie    preis\n",
       "0      2023-10                   Aktivitäten     5.00\n",
       "1      2023-10              Ausgehen/Alkohol   193.00\n",
       "2      2023-10                          Auto   200.00\n",
       "3      2023-10             Drogerie/Apotheke    30.62\n",
       "4      2023-10  Elektronik/Telekommunikation    20.19\n",
       "..         ...                           ...      ...\n",
       "204    2024-08                        Urlaub   288.12\n",
       "205    2024-08                Versicherungen     0.00\n",
       "206    2024-08               Vorsorge/Sparen   217.00\n",
       "207    2024-08                       Wohnung  1131.04\n",
       "208    2024-08    Öffentliche Verkehrsmittel     0.00\n",
       "\n",
       "[209 rows x 3 columns]"
      ]
     },
     "execution_count": 7,
     "metadata": {},
     "output_type": "execute_result"
    }
   ],
   "source": [
    "test_grouped_df"
   ]
  },
  {
   "cell_type": "markdown",
   "metadata": {},
   "source": [
    "## Paretor Chart"
   ]
  },
  {
   "cell_type": "code",
   "execution_count": 8,
   "metadata": {},
   "outputs": [],
   "source": [
    "def create_pareto(df, x_axis, y_axis, title_y_axis, unit=None, title=\"Pareto-Chart\", subtitle=\"\", show_share=False):\n",
    "\n",
    "    # Sort df descending and calculate share and cumulated share\n",
    "    df = df.sort_values(by=[y_axis], ascending=False)\n",
    "    sum = df[y_axis].sum()\n",
    "    df['share'] = df[y_axis] / sum * 100\n",
    "    df['cumulated share'] = df['share'].cumsum()\n",
    "\n",
    "    # Create pareto\n",
    "    fig = make_subplots(specs=[[{\"secondary_y\": True}]])\n",
    "\n",
    "    fig.add_trace(\n",
    "        go.Bar(x=df[x_axis],\n",
    "               y=df[y_axis],\n",
    "               name=title_y_axis,\n",
    "               text=df[y_axis].round(0),\n",
    "               textposition=\"auto\"),\n",
    "        secondary_y=False\n",
    "    )\n",
    "\n",
    "    fig.add_trace(\n",
    "        go.Scatter(x=df[x_axis],\n",
    "                   y=df['cumulated share'],\n",
    "                   name=\"Cumulated Share\"),\n",
    "        secondary_y=True\n",
    "    )\n",
    "\n",
    "    if show_share:\n",
    "        fig.add_trace(\n",
    "            go.Scatter(x=df[x_axis],\n",
    "                    y=df['share'],\n",
    "                    name='Share'),\n",
    "            secondary_y=True\n",
    "        )\n",
    "\n",
    "    fig.update_yaxes(secondary_y=False, showgrid=True)\n",
    "\n",
    "    if not unit == None:\n",
    "        fig.update_yaxes(secondary_y=False, ticksuffix=f\" {unit}\")\n",
    "\n",
    "    fig.update_yaxes(secondary_y=True, ticksuffix=\" %\", range=[0, 100], showgrid=True)\n",
    "\n",
    "    fig.update_layout(title=f\"{title}<br><sub>{subtitle}</sub>\")\n",
    "\n",
    "\n",
    "    return fig"
   ]
  },
  {
   "cell_type": "code",
   "execution_count": 10,
   "metadata": {},
   "outputs": [
    {
     "data": {
      "application/vnd.plotly.v1+json": {
       "config": {
        "plotlyServerURL": "https://plot.ly"
       },
       "data": [
        {
         "name": "Expenses",
         "text": [
          1131,
          915,
          675,
          288,
          217,
          198,
          177,
          125,
          50,
          39,
          35,
          28,
          28,
          24,
          18,
          18,
          0,
          0,
          0
         ],
         "textposition": "auto",
         "type": "bar",
         "x": [
          "Wohnung",
          "Auto",
          "Steuern/Gebühren",
          "Urlaub",
          "Vorsorge/Sparen",
          "Ausgehen/Alkohol",
          "Lebensmittel",
          "Tanken",
          "Geschenke",
          "Aktivitäten",
          "Kleidung/Schuhe",
          "Drogerie/Apotheke",
          "Restaurant/Fast Food",
          "Spenden",
          "Kantine",
          "Elektronik/Telekommunikation",
          "Parken",
          "Versicherungen",
          "Öffentliche Verkehrsmittel"
         ],
         "xaxis": "x",
         "y": [
          1131.04,
          914.55,
          674.96,
          288.12,
          217,
          198.5,
          176.62,
          125.25,
          49.9,
          39.3,
          35,
          28.130000000000003,
          28,
          24,
          18.5,
          17.990000000000002,
          0,
          0,
          0
         ],
         "yaxis": "y"
        },
        {
         "name": "Cumulated Share",
         "type": "scatter",
         "x": [
          "Wohnung",
          "Auto",
          "Steuern/Gebühren",
          "Urlaub",
          "Vorsorge/Sparen",
          "Ausgehen/Alkohol",
          "Lebensmittel",
          "Tanken",
          "Geschenke",
          "Aktivitäten",
          "Kleidung/Schuhe",
          "Drogerie/Apotheke",
          "Restaurant/Fast Food",
          "Spenden",
          "Kantine",
          "Elektronik/Telekommunikation",
          "Parken",
          "Versicherungen",
          "Öffentliche Verkehrsmittel"
         ],
         "xaxis": "x",
         "y": [
          28.512223773967314,
          51.56698244959489,
          68.58195146791164,
          75.84512687616905,
          81.31544849074581,
          86.31940628103838,
          90.77179431590727,
          93.9292034505881,
          95.1871253333871,
          96.17783334929894,
          97.0601432871339,
          97.76926838859954,
          98.47511633886751,
          99.08012886766862,
          99.54649269195282,
          99.99999999999999,
          99.99999999999999,
          99.99999999999999,
          99.99999999999999
         ],
         "yaxis": "y2"
        },
        {
         "name": "Share",
         "type": "scatter",
         "x": [
          "Wohnung",
          "Auto",
          "Steuern/Gebühren",
          "Urlaub",
          "Vorsorge/Sparen",
          "Ausgehen/Alkohol",
          "Lebensmittel",
          "Tanken",
          "Geschenke",
          "Aktivitäten",
          "Kleidung/Schuhe",
          "Drogerie/Apotheke",
          "Restaurant/Fast Food",
          "Spenden",
          "Kantine",
          "Elektronik/Telekommunikation",
          "Parken",
          "Versicherungen",
          "Öffentliche Verkehrsmittel"
         ],
         "xaxis": "x",
         "y": [
          28.512223773967314,
          23.054758675627575,
          17.014969018316755,
          7.263175408257412,
          5.470321614576768,
          5.003957790292573,
          4.452388034868888,
          3.1574091346808304,
          1.2579218827989895,
          0.9907080159118293,
          0.8823099378349627,
          0.7091251014656429,
          0.7058479502679701,
          0.6050125288011172,
          0.46636382428419454,
          0.4535073080471709,
          0,
          0,
          0
         ],
         "yaxis": "y2"
        }
       ],
       "layout": {
        "template": {
         "data": {
          "bar": [
           {
            "error_x": {
             "color": "#2a3f5f"
            },
            "error_y": {
             "color": "#2a3f5f"
            },
            "marker": {
             "line": {
              "color": "#E5ECF6",
              "width": 0.5
             },
             "pattern": {
              "fillmode": "overlay",
              "size": 10,
              "solidity": 0.2
             }
            },
            "type": "bar"
           }
          ],
          "barpolar": [
           {
            "marker": {
             "line": {
              "color": "#E5ECF6",
              "width": 0.5
             },
             "pattern": {
              "fillmode": "overlay",
              "size": 10,
              "solidity": 0.2
             }
            },
            "type": "barpolar"
           }
          ],
          "carpet": [
           {
            "aaxis": {
             "endlinecolor": "#2a3f5f",
             "gridcolor": "white",
             "linecolor": "white",
             "minorgridcolor": "white",
             "startlinecolor": "#2a3f5f"
            },
            "baxis": {
             "endlinecolor": "#2a3f5f",
             "gridcolor": "white",
             "linecolor": "white",
             "minorgridcolor": "white",
             "startlinecolor": "#2a3f5f"
            },
            "type": "carpet"
           }
          ],
          "choropleth": [
           {
            "colorbar": {
             "outlinewidth": 0,
             "ticks": ""
            },
            "type": "choropleth"
           }
          ],
          "contour": [
           {
            "colorbar": {
             "outlinewidth": 0,
             "ticks": ""
            },
            "colorscale": [
             [
              0,
              "#0d0887"
             ],
             [
              0.1111111111111111,
              "#46039f"
             ],
             [
              0.2222222222222222,
              "#7201a8"
             ],
             [
              0.3333333333333333,
              "#9c179e"
             ],
             [
              0.4444444444444444,
              "#bd3786"
             ],
             [
              0.5555555555555556,
              "#d8576b"
             ],
             [
              0.6666666666666666,
              "#ed7953"
             ],
             [
              0.7777777777777778,
              "#fb9f3a"
             ],
             [
              0.8888888888888888,
              "#fdca26"
             ],
             [
              1,
              "#f0f921"
             ]
            ],
            "type": "contour"
           }
          ],
          "contourcarpet": [
           {
            "colorbar": {
             "outlinewidth": 0,
             "ticks": ""
            },
            "type": "contourcarpet"
           }
          ],
          "heatmap": [
           {
            "colorbar": {
             "outlinewidth": 0,
             "ticks": ""
            },
            "colorscale": [
             [
              0,
              "#0d0887"
             ],
             [
              0.1111111111111111,
              "#46039f"
             ],
             [
              0.2222222222222222,
              "#7201a8"
             ],
             [
              0.3333333333333333,
              "#9c179e"
             ],
             [
              0.4444444444444444,
              "#bd3786"
             ],
             [
              0.5555555555555556,
              "#d8576b"
             ],
             [
              0.6666666666666666,
              "#ed7953"
             ],
             [
              0.7777777777777778,
              "#fb9f3a"
             ],
             [
              0.8888888888888888,
              "#fdca26"
             ],
             [
              1,
              "#f0f921"
             ]
            ],
            "type": "heatmap"
           }
          ],
          "heatmapgl": [
           {
            "colorbar": {
             "outlinewidth": 0,
             "ticks": ""
            },
            "colorscale": [
             [
              0,
              "#0d0887"
             ],
             [
              0.1111111111111111,
              "#46039f"
             ],
             [
              0.2222222222222222,
              "#7201a8"
             ],
             [
              0.3333333333333333,
              "#9c179e"
             ],
             [
              0.4444444444444444,
              "#bd3786"
             ],
             [
              0.5555555555555556,
              "#d8576b"
             ],
             [
              0.6666666666666666,
              "#ed7953"
             ],
             [
              0.7777777777777778,
              "#fb9f3a"
             ],
             [
              0.8888888888888888,
              "#fdca26"
             ],
             [
              1,
              "#f0f921"
             ]
            ],
            "type": "heatmapgl"
           }
          ],
          "histogram": [
           {
            "marker": {
             "pattern": {
              "fillmode": "overlay",
              "size": 10,
              "solidity": 0.2
             }
            },
            "type": "histogram"
           }
          ],
          "histogram2d": [
           {
            "colorbar": {
             "outlinewidth": 0,
             "ticks": ""
            },
            "colorscale": [
             [
              0,
              "#0d0887"
             ],
             [
              0.1111111111111111,
              "#46039f"
             ],
             [
              0.2222222222222222,
              "#7201a8"
             ],
             [
              0.3333333333333333,
              "#9c179e"
             ],
             [
              0.4444444444444444,
              "#bd3786"
             ],
             [
              0.5555555555555556,
              "#d8576b"
             ],
             [
              0.6666666666666666,
              "#ed7953"
             ],
             [
              0.7777777777777778,
              "#fb9f3a"
             ],
             [
              0.8888888888888888,
              "#fdca26"
             ],
             [
              1,
              "#f0f921"
             ]
            ],
            "type": "histogram2d"
           }
          ],
          "histogram2dcontour": [
           {
            "colorbar": {
             "outlinewidth": 0,
             "ticks": ""
            },
            "colorscale": [
             [
              0,
              "#0d0887"
             ],
             [
              0.1111111111111111,
              "#46039f"
             ],
             [
              0.2222222222222222,
              "#7201a8"
             ],
             [
              0.3333333333333333,
              "#9c179e"
             ],
             [
              0.4444444444444444,
              "#bd3786"
             ],
             [
              0.5555555555555556,
              "#d8576b"
             ],
             [
              0.6666666666666666,
              "#ed7953"
             ],
             [
              0.7777777777777778,
              "#fb9f3a"
             ],
             [
              0.8888888888888888,
              "#fdca26"
             ],
             [
              1,
              "#f0f921"
             ]
            ],
            "type": "histogram2dcontour"
           }
          ],
          "mesh3d": [
           {
            "colorbar": {
             "outlinewidth": 0,
             "ticks": ""
            },
            "type": "mesh3d"
           }
          ],
          "parcoords": [
           {
            "line": {
             "colorbar": {
              "outlinewidth": 0,
              "ticks": ""
             }
            },
            "type": "parcoords"
           }
          ],
          "pie": [
           {
            "automargin": true,
            "type": "pie"
           }
          ],
          "scatter": [
           {
            "fillpattern": {
             "fillmode": "overlay",
             "size": 10,
             "solidity": 0.2
            },
            "type": "scatter"
           }
          ],
          "scatter3d": [
           {
            "line": {
             "colorbar": {
              "outlinewidth": 0,
              "ticks": ""
             }
            },
            "marker": {
             "colorbar": {
              "outlinewidth": 0,
              "ticks": ""
             }
            },
            "type": "scatter3d"
           }
          ],
          "scattercarpet": [
           {
            "marker": {
             "colorbar": {
              "outlinewidth": 0,
              "ticks": ""
             }
            },
            "type": "scattercarpet"
           }
          ],
          "scattergeo": [
           {
            "marker": {
             "colorbar": {
              "outlinewidth": 0,
              "ticks": ""
             }
            },
            "type": "scattergeo"
           }
          ],
          "scattergl": [
           {
            "marker": {
             "colorbar": {
              "outlinewidth": 0,
              "ticks": ""
             }
            },
            "type": "scattergl"
           }
          ],
          "scattermapbox": [
           {
            "marker": {
             "colorbar": {
              "outlinewidth": 0,
              "ticks": ""
             }
            },
            "type": "scattermapbox"
           }
          ],
          "scatterpolar": [
           {
            "marker": {
             "colorbar": {
              "outlinewidth": 0,
              "ticks": ""
             }
            },
            "type": "scatterpolar"
           }
          ],
          "scatterpolargl": [
           {
            "marker": {
             "colorbar": {
              "outlinewidth": 0,
              "ticks": ""
             }
            },
            "type": "scatterpolargl"
           }
          ],
          "scatterternary": [
           {
            "marker": {
             "colorbar": {
              "outlinewidth": 0,
              "ticks": ""
             }
            },
            "type": "scatterternary"
           }
          ],
          "surface": [
           {
            "colorbar": {
             "outlinewidth": 0,
             "ticks": ""
            },
            "colorscale": [
             [
              0,
              "#0d0887"
             ],
             [
              0.1111111111111111,
              "#46039f"
             ],
             [
              0.2222222222222222,
              "#7201a8"
             ],
             [
              0.3333333333333333,
              "#9c179e"
             ],
             [
              0.4444444444444444,
              "#bd3786"
             ],
             [
              0.5555555555555556,
              "#d8576b"
             ],
             [
              0.6666666666666666,
              "#ed7953"
             ],
             [
              0.7777777777777778,
              "#fb9f3a"
             ],
             [
              0.8888888888888888,
              "#fdca26"
             ],
             [
              1,
              "#f0f921"
             ]
            ],
            "type": "surface"
           }
          ],
          "table": [
           {
            "cells": {
             "fill": {
              "color": "#EBF0F8"
             },
             "line": {
              "color": "white"
             }
            },
            "header": {
             "fill": {
              "color": "#C8D4E3"
             },
             "line": {
              "color": "white"
             }
            },
            "type": "table"
           }
          ]
         },
         "layout": {
          "annotationdefaults": {
           "arrowcolor": "#2a3f5f",
           "arrowhead": 0,
           "arrowwidth": 1
          },
          "autotypenumbers": "strict",
          "coloraxis": {
           "colorbar": {
            "outlinewidth": 0,
            "ticks": ""
           }
          },
          "colorscale": {
           "diverging": [
            [
             0,
             "#8e0152"
            ],
            [
             0.1,
             "#c51b7d"
            ],
            [
             0.2,
             "#de77ae"
            ],
            [
             0.3,
             "#f1b6da"
            ],
            [
             0.4,
             "#fde0ef"
            ],
            [
             0.5,
             "#f7f7f7"
            ],
            [
             0.6,
             "#e6f5d0"
            ],
            [
             0.7,
             "#b8e186"
            ],
            [
             0.8,
             "#7fbc41"
            ],
            [
             0.9,
             "#4d9221"
            ],
            [
             1,
             "#276419"
            ]
           ],
           "sequential": [
            [
             0,
             "#0d0887"
            ],
            [
             0.1111111111111111,
             "#46039f"
            ],
            [
             0.2222222222222222,
             "#7201a8"
            ],
            [
             0.3333333333333333,
             "#9c179e"
            ],
            [
             0.4444444444444444,
             "#bd3786"
            ],
            [
             0.5555555555555556,
             "#d8576b"
            ],
            [
             0.6666666666666666,
             "#ed7953"
            ],
            [
             0.7777777777777778,
             "#fb9f3a"
            ],
            [
             0.8888888888888888,
             "#fdca26"
            ],
            [
             1,
             "#f0f921"
            ]
           ],
           "sequentialminus": [
            [
             0,
             "#0d0887"
            ],
            [
             0.1111111111111111,
             "#46039f"
            ],
            [
             0.2222222222222222,
             "#7201a8"
            ],
            [
             0.3333333333333333,
             "#9c179e"
            ],
            [
             0.4444444444444444,
             "#bd3786"
            ],
            [
             0.5555555555555556,
             "#d8576b"
            ],
            [
             0.6666666666666666,
             "#ed7953"
            ],
            [
             0.7777777777777778,
             "#fb9f3a"
            ],
            [
             0.8888888888888888,
             "#fdca26"
            ],
            [
             1,
             "#f0f921"
            ]
           ]
          },
          "colorway": [
           "#636efa",
           "#EF553B",
           "#00cc96",
           "#ab63fa",
           "#FFA15A",
           "#19d3f3",
           "#FF6692",
           "#B6E880",
           "#FF97FF",
           "#FECB52"
          ],
          "font": {
           "color": "#2a3f5f"
          },
          "geo": {
           "bgcolor": "white",
           "lakecolor": "white",
           "landcolor": "#E5ECF6",
           "showlakes": true,
           "showland": true,
           "subunitcolor": "white"
          },
          "hoverlabel": {
           "align": "left"
          },
          "hovermode": "closest",
          "mapbox": {
           "style": "light"
          },
          "paper_bgcolor": "white",
          "plot_bgcolor": "#E5ECF6",
          "polar": {
           "angularaxis": {
            "gridcolor": "white",
            "linecolor": "white",
            "ticks": ""
           },
           "bgcolor": "#E5ECF6",
           "radialaxis": {
            "gridcolor": "white",
            "linecolor": "white",
            "ticks": ""
           }
          },
          "scene": {
           "xaxis": {
            "backgroundcolor": "#E5ECF6",
            "gridcolor": "white",
            "gridwidth": 2,
            "linecolor": "white",
            "showbackground": true,
            "ticks": "",
            "zerolinecolor": "white"
           },
           "yaxis": {
            "backgroundcolor": "#E5ECF6",
            "gridcolor": "white",
            "gridwidth": 2,
            "linecolor": "white",
            "showbackground": true,
            "ticks": "",
            "zerolinecolor": "white"
           },
           "zaxis": {
            "backgroundcolor": "#E5ECF6",
            "gridcolor": "white",
            "gridwidth": 2,
            "linecolor": "white",
            "showbackground": true,
            "ticks": "",
            "zerolinecolor": "white"
           }
          },
          "shapedefaults": {
           "line": {
            "color": "#2a3f5f"
           }
          },
          "ternary": {
           "aaxis": {
            "gridcolor": "white",
            "linecolor": "white",
            "ticks": ""
           },
           "baxis": {
            "gridcolor": "white",
            "linecolor": "white",
            "ticks": ""
           },
           "bgcolor": "#E5ECF6",
           "caxis": {
            "gridcolor": "white",
            "linecolor": "white",
            "ticks": ""
           }
          },
          "title": {
           "x": 0.05
          },
          "xaxis": {
           "automargin": true,
           "gridcolor": "white",
           "linecolor": "white",
           "ticks": "",
           "title": {
            "standoff": 15
           },
           "zerolinecolor": "white",
           "zerolinewidth": 2
          },
          "yaxis": {
           "automargin": true,
           "gridcolor": "white",
           "linecolor": "white",
           "ticks": "",
           "title": {
            "standoff": 15
           },
           "zerolinecolor": "white",
           "zerolinewidth": 2
          }
         }
        },
        "title": {
         "text": "Pareto-Chart<br><sub></sub>"
        },
        "xaxis": {
         "anchor": "y",
         "domain": [
          0,
          0.94
         ]
        },
        "yaxis": {
         "anchor": "x",
         "domain": [
          0,
          1
         ],
         "showgrid": true,
         "ticksuffix": " €"
        },
        "yaxis2": {
         "anchor": "x",
         "overlaying": "y",
         "range": [
          0,
          100
         ],
         "showgrid": true,
         "side": "right",
         "ticksuffix": " %"
        }
       }
      }
     },
     "metadata": {},
     "output_type": "display_data"
    }
   ],
   "source": [
    "test_pareto = create_pareto(df=test_grouped_df[test_grouped_df[\"monat_jahr\"] == \"2024-08\"], \n",
    "                     x_axis=\"kategorie\", \n",
    "                     y_axis=\"preis\",\n",
    "                     title_y_axis=\"Expenses\",\n",
    "                     unit=\"€\",\n",
    "                     show_share=True)\n",
    "test_pareto.show()"
   ]
  },
  {
   "cell_type": "markdown",
   "metadata": {},
   "source": [
    "## Stacked bar chart with total sum on each bar"
   ]
  },
  {
   "cell_type": "code",
   "execution_count": 11,
   "metadata": {},
   "outputs": [
    {
     "data": {
      "text/html": [
       "<div>\n",
       "<style scoped>\n",
       "    .dataframe tbody tr th:only-of-type {\n",
       "        vertical-align: middle;\n",
       "    }\n",
       "\n",
       "    .dataframe tbody tr th {\n",
       "        vertical-align: top;\n",
       "    }\n",
       "\n",
       "    .dataframe thead th {\n",
       "        text-align: right;\n",
       "    }\n",
       "</style>\n",
       "<table border=\"1\" class=\"dataframe\">\n",
       "  <thead>\n",
       "    <tr style=\"text-align: right;\">\n",
       "      <th></th>\n",
       "      <th>monat_jahr</th>\n",
       "      <th>kategorie</th>\n",
       "      <th>preis</th>\n",
       "    </tr>\n",
       "  </thead>\n",
       "  <tbody>\n",
       "    <tr>\n",
       "      <th>0</th>\n",
       "      <td>2023-10</td>\n",
       "      <td>Aktivitäten</td>\n",
       "      <td>5.00</td>\n",
       "    </tr>\n",
       "    <tr>\n",
       "      <th>1</th>\n",
       "      <td>2023-10</td>\n",
       "      <td>Ausgehen/Alkohol</td>\n",
       "      <td>193.00</td>\n",
       "    </tr>\n",
       "    <tr>\n",
       "      <th>2</th>\n",
       "      <td>2023-10</td>\n",
       "      <td>Auto</td>\n",
       "      <td>200.00</td>\n",
       "    </tr>\n",
       "    <tr>\n",
       "      <th>3</th>\n",
       "      <td>2023-10</td>\n",
       "      <td>Drogerie/Apotheke</td>\n",
       "      <td>30.62</td>\n",
       "    </tr>\n",
       "    <tr>\n",
       "      <th>4</th>\n",
       "      <td>2023-10</td>\n",
       "      <td>Elektronik/Telekommunikation</td>\n",
       "      <td>20.19</td>\n",
       "    </tr>\n",
       "    <tr>\n",
       "      <th>...</th>\n",
       "      <td>...</td>\n",
       "      <td>...</td>\n",
       "      <td>...</td>\n",
       "    </tr>\n",
       "    <tr>\n",
       "      <th>204</th>\n",
       "      <td>2024-08</td>\n",
       "      <td>Urlaub</td>\n",
       "      <td>288.12</td>\n",
       "    </tr>\n",
       "    <tr>\n",
       "      <th>205</th>\n",
       "      <td>2024-08</td>\n",
       "      <td>Versicherungen</td>\n",
       "      <td>0.00</td>\n",
       "    </tr>\n",
       "    <tr>\n",
       "      <th>206</th>\n",
       "      <td>2024-08</td>\n",
       "      <td>Vorsorge/Sparen</td>\n",
       "      <td>217.00</td>\n",
       "    </tr>\n",
       "    <tr>\n",
       "      <th>207</th>\n",
       "      <td>2024-08</td>\n",
       "      <td>Wohnung</td>\n",
       "      <td>1131.04</td>\n",
       "    </tr>\n",
       "    <tr>\n",
       "      <th>208</th>\n",
       "      <td>2024-08</td>\n",
       "      <td>Öffentliche Verkehrsmittel</td>\n",
       "      <td>0.00</td>\n",
       "    </tr>\n",
       "  </tbody>\n",
       "</table>\n",
       "<p>209 rows × 3 columns</p>\n",
       "</div>"
      ],
      "text/plain": [
       "    monat_jahr                     kategorie    preis\n",
       "0      2023-10                   Aktivitäten     5.00\n",
       "1      2023-10              Ausgehen/Alkohol   193.00\n",
       "2      2023-10                          Auto   200.00\n",
       "3      2023-10             Drogerie/Apotheke    30.62\n",
       "4      2023-10  Elektronik/Telekommunikation    20.19\n",
       "..         ...                           ...      ...\n",
       "204    2024-08                        Urlaub   288.12\n",
       "205    2024-08                Versicherungen     0.00\n",
       "206    2024-08               Vorsorge/Sparen   217.00\n",
       "207    2024-08                       Wohnung  1131.04\n",
       "208    2024-08    Öffentliche Verkehrsmittel     0.00\n",
       "\n",
       "[209 rows x 3 columns]"
      ]
     },
     "execution_count": 11,
     "metadata": {},
     "output_type": "execute_result"
    }
   ],
   "source": [
    "test_grouped_df"
   ]
  },
  {
   "cell_type": "code",
   "execution_count": 12,
   "metadata": {},
   "outputs": [],
   "source": [
    "def stacked_bar(df, x_axis, y_axis, color, unit=None, title=\"Stacked Bar Chart\", subtitle=\"\", show_sum=False, x_axis_title=None, y_axis_title=None, show_avg_expense=False):\n",
    "    \n",
    "    fig = px.bar(df,\n",
    "                 x=x_axis,\n",
    "                 y=y_axis,\n",
    "                 color=color,\n",
    "                 title=f\"{title}<br><sub>{subtitle}</sub>\")\n",
    "    \n",
    "    if show_sum:\n",
    "        df_sum = df.groupby([x_axis])[y_axis].sum().round(0)\n",
    "\n",
    "        fig.add_trace(\n",
    "            go.Scatter(\n",
    "                x=df_sum.index,\n",
    "                y=df_sum,\n",
    "                text=df_sum,\n",
    "                mode='text',\n",
    "                textposition='top center',\n",
    "                showlegend=False\n",
    "            )\n",
    "        )\n",
    "\n",
    "    if show_avg_expense:\n",
    "        df_sum = df.groupby([x_axis])[y_axis].sum()\n",
    "\n",
    "        mean= df_sum.mean()\n",
    "\n",
    "        fig.add_hline(y=mean, line_width=1, line_dash=\"dash\", line_color=\"black\")\n",
    "\n",
    "\n",
    "    if not x_axis_title == None:\n",
    "        fig.update_xaxes(title=x_axis_title)\n",
    "\n",
    "    if not y_axis_title == None:\n",
    "        fig.update_yaxes(title=y_axis_title)\n",
    "\n",
    "    if not unit == None:\n",
    "        fig.update_yaxes(ticksuffix=f\" {unit}\")\n",
    "    \n",
    "    return fig"
   ]
  },
  {
   "cell_type": "code",
   "execution_count": 13,
   "metadata": {},
   "outputs": [
    {
     "data": {
      "application/vnd.plotly.v1+json": {
       "config": {
        "plotlyServerURL": "https://plot.ly"
       },
       "data": [
        {
         "alignmentgroup": "True",
         "hovertemplate": "kategorie=Aktivitäten<br>monat_jahr=%{x}<br>preis=%{y}<extra></extra>",
         "legendgroup": "Aktivitäten",
         "marker": {
          "color": "#636efa",
          "pattern": {
           "shape": ""
          }
         },
         "name": "Aktivitäten",
         "offsetgroup": "Aktivitäten",
         "orientation": "v",
         "showlegend": true,
         "textposition": "auto",
         "type": "bar",
         "x": [
          "2023-10",
          "2023-11",
          "2023-12",
          "2024-01",
          "2024-02",
          "2024-03",
          "2024-04",
          "2024-05",
          "2024-06",
          "2024-07",
          "2024-08"
         ],
         "xaxis": "x",
         "y": [
          5,
          21.9,
          466.8,
          167,
          434,
          68.3,
          123.85,
          116,
          0,
          0,
          39.3
         ],
         "yaxis": "y"
        },
        {
         "alignmentgroup": "True",
         "hovertemplate": "kategorie=Ausgehen/Alkohol<br>monat_jahr=%{x}<br>preis=%{y}<extra></extra>",
         "legendgroup": "Ausgehen/Alkohol",
         "marker": {
          "color": "#EF553B",
          "pattern": {
           "shape": ""
          }
         },
         "name": "Ausgehen/Alkohol",
         "offsetgroup": "Ausgehen/Alkohol",
         "orientation": "v",
         "showlegend": true,
         "textposition": "auto",
         "type": "bar",
         "x": [
          "2023-10",
          "2023-11",
          "2023-12",
          "2024-01",
          "2024-02",
          "2024-03",
          "2024-04",
          "2024-05",
          "2024-06",
          "2024-07",
          "2024-08"
         ],
         "xaxis": "x",
         "y": [
          193,
          179.7,
          211.94,
          63,
          230,
          20.5,
          17.5,
          149,
          39,
          43.5,
          198.5
         ],
         "yaxis": "y"
        },
        {
         "alignmentgroup": "True",
         "hovertemplate": "kategorie=Auto<br>monat_jahr=%{x}<br>preis=%{y}<extra></extra>",
         "legendgroup": "Auto",
         "marker": {
          "color": "#00cc96",
          "pattern": {
           "shape": ""
          }
         },
         "name": "Auto",
         "offsetgroup": "Auto",
         "orientation": "v",
         "showlegend": true,
         "textposition": "auto",
         "type": "bar",
         "x": [
          "2023-10",
          "2023-11",
          "2023-12",
          "2024-01",
          "2024-02",
          "2024-03",
          "2024-04",
          "2024-05",
          "2024-06",
          "2024-07",
          "2024-08"
         ],
         "xaxis": "x",
         "y": [
          200,
          0,
          3.99,
          0,
          0,
          0,
          0,
          50,
          986.51,
          0,
          914.55
         ],
         "yaxis": "y"
        },
        {
         "alignmentgroup": "True",
         "hovertemplate": "kategorie=Drogerie/Apotheke<br>monat_jahr=%{x}<br>preis=%{y}<extra></extra>",
         "legendgroup": "Drogerie/Apotheke",
         "marker": {
          "color": "#ab63fa",
          "pattern": {
           "shape": ""
          }
         },
         "name": "Drogerie/Apotheke",
         "offsetgroup": "Drogerie/Apotheke",
         "orientation": "v",
         "showlegend": true,
         "textposition": "auto",
         "type": "bar",
         "x": [
          "2023-10",
          "2023-11",
          "2023-12",
          "2024-01",
          "2024-02",
          "2024-03",
          "2024-04",
          "2024-05",
          "2024-06",
          "2024-07",
          "2024-08"
         ],
         "xaxis": "x",
         "y": [
          30.62,
          50.56,
          37.07,
          12.15,
          51.980000000000004,
          40,
          21.990000000000002,
          36.59,
          22.33,
          65.53999999999999,
          28.130000000000003
         ],
         "yaxis": "y"
        },
        {
         "alignmentgroup": "True",
         "hovertemplate": "kategorie=Elektronik/Telekommunikation<br>monat_jahr=%{x}<br>preis=%{y}<extra></extra>",
         "legendgroup": "Elektronik/Telekommunikation",
         "marker": {
          "color": "#FFA15A",
          "pattern": {
           "shape": ""
          }
         },
         "name": "Elektronik/Telekommunikation",
         "offsetgroup": "Elektronik/Telekommunikation",
         "orientation": "v",
         "showlegend": true,
         "textposition": "auto",
         "type": "bar",
         "x": [
          "2023-10",
          "2023-11",
          "2023-12",
          "2024-01",
          "2024-02",
          "2024-03",
          "2024-04",
          "2024-05",
          "2024-06",
          "2024-07",
          "2024-08"
         ],
         "xaxis": "x",
         "y": [
          20.19,
          17.5,
          17.5,
          22.5,
          17.5,
          34.45,
          22.88,
          594.5,
          17.5,
          17.5,
          17.990000000000002
         ],
         "yaxis": "y"
        },
        {
         "alignmentgroup": "True",
         "hovertemplate": "kategorie=Geschenke<br>monat_jahr=%{x}<br>preis=%{y}<extra></extra>",
         "legendgroup": "Geschenke",
         "marker": {
          "color": "#19d3f3",
          "pattern": {
           "shape": ""
          }
         },
         "name": "Geschenke",
         "offsetgroup": "Geschenke",
         "orientation": "v",
         "showlegend": true,
         "textposition": "auto",
         "type": "bar",
         "x": [
          "2023-10",
          "2023-11",
          "2023-12",
          "2024-01",
          "2024-02",
          "2024-03",
          "2024-04",
          "2024-05",
          "2024-06",
          "2024-07",
          "2024-08"
         ],
         "xaxis": "x",
         "y": [
          137.16,
          230.95,
          383.7,
          125.25,
          111.92,
          133.81,
          15,
          152.09,
          162.59,
          30.490000000000002,
          49.9
         ],
         "yaxis": "y"
        },
        {
         "alignmentgroup": "True",
         "hovertemplate": "kategorie=Kantine<br>monat_jahr=%{x}<br>preis=%{y}<extra></extra>",
         "legendgroup": "Kantine",
         "marker": {
          "color": "#FF6692",
          "pattern": {
           "shape": ""
          }
         },
         "name": "Kantine",
         "offsetgroup": "Kantine",
         "orientation": "v",
         "showlegend": true,
         "textposition": "auto",
         "type": "bar",
         "x": [
          "2023-10",
          "2023-11",
          "2023-12",
          "2024-01",
          "2024-02",
          "2024-03",
          "2024-04",
          "2024-05",
          "2024-06",
          "2024-07",
          "2024-08"
         ],
         "xaxis": "x",
         "y": [
          41.800000000000004,
          86.05000000000001,
          56.400000000000006,
          50.1,
          63.50000000000001,
          22.8,
          48.199999999999996,
          45.9,
          57.199999999999996,
          70.2,
          18.5
         ],
         "yaxis": "y"
        },
        {
         "alignmentgroup": "True",
         "hovertemplate": "kategorie=Kleidung/Schuhe<br>monat_jahr=%{x}<br>preis=%{y}<extra></extra>",
         "legendgroup": "Kleidung/Schuhe",
         "marker": {
          "color": "#B6E880",
          "pattern": {
           "shape": ""
          }
         },
         "name": "Kleidung/Schuhe",
         "offsetgroup": "Kleidung/Schuhe",
         "orientation": "v",
         "showlegend": true,
         "textposition": "auto",
         "type": "bar",
         "x": [
          "2023-10",
          "2023-11",
          "2023-12",
          "2024-01",
          "2024-02",
          "2024-03",
          "2024-04",
          "2024-05",
          "2024-06",
          "2024-07",
          "2024-08"
         ],
         "xaxis": "x",
         "y": [
          0,
          0,
          0,
          66.98,
          0,
          0,
          53.98,
          30,
          20,
          0,
          35
         ],
         "yaxis": "y"
        },
        {
         "alignmentgroup": "True",
         "hovertemplate": "kategorie=Lebensmittel<br>monat_jahr=%{x}<br>preis=%{y}<extra></extra>",
         "legendgroup": "Lebensmittel",
         "marker": {
          "color": "#FF97FF",
          "pattern": {
           "shape": ""
          }
         },
         "name": "Lebensmittel",
         "offsetgroup": "Lebensmittel",
         "orientation": "v",
         "showlegend": true,
         "textposition": "auto",
         "type": "bar",
         "x": [
          "2023-10",
          "2023-11",
          "2023-12",
          "2024-01",
          "2024-02",
          "2024-03",
          "2024-04",
          "2024-05",
          "2024-06",
          "2024-07",
          "2024-08"
         ],
         "xaxis": "x",
         "y": [
          248.94,
          183.43,
          167.12,
          221.19,
          239.28,
          155.21,
          150.9,
          205.97,
          165.25,
          231.23,
          176.62
         ],
         "yaxis": "y"
        },
        {
         "alignmentgroup": "True",
         "hovertemplate": "kategorie=Parken<br>monat_jahr=%{x}<br>preis=%{y}<extra></extra>",
         "legendgroup": "Parken",
         "marker": {
          "color": "#FECB52",
          "pattern": {
           "shape": ""
          }
         },
         "name": "Parken",
         "offsetgroup": "Parken",
         "orientation": "v",
         "showlegend": true,
         "textposition": "auto",
         "type": "bar",
         "x": [
          "2023-10",
          "2023-11",
          "2023-12",
          "2024-01",
          "2024-02",
          "2024-03",
          "2024-04",
          "2024-05",
          "2024-06",
          "2024-07",
          "2024-08"
         ],
         "xaxis": "x",
         "y": [
          7,
          0,
          7,
          10,
          0,
          0,
          1.5,
          2,
          3,
          5,
          0
         ],
         "yaxis": "y"
        },
        {
         "alignmentgroup": "True",
         "hovertemplate": "kategorie=Restaurant/Fast Food<br>monat_jahr=%{x}<br>preis=%{y}<extra></extra>",
         "legendgroup": "Restaurant/Fast Food",
         "marker": {
          "color": "#636efa",
          "pattern": {
           "shape": ""
          }
         },
         "name": "Restaurant/Fast Food",
         "offsetgroup": "Restaurant/Fast Food",
         "orientation": "v",
         "showlegend": true,
         "textposition": "auto",
         "type": "bar",
         "x": [
          "2023-10",
          "2023-11",
          "2023-12",
          "2024-01",
          "2024-02",
          "2024-03",
          "2024-04",
          "2024-05",
          "2024-06",
          "2024-07",
          "2024-08"
         ],
         "xaxis": "x",
         "y": [
          181,
          43.5,
          60.31,
          29.18,
          83,
          95.5,
          71.08,
          51.8,
          3.5,
          22.990000000000002,
          28
         ],
         "yaxis": "y"
        },
        {
         "alignmentgroup": "True",
         "hovertemplate": "kategorie=Spenden<br>monat_jahr=%{x}<br>preis=%{y}<extra></extra>",
         "legendgroup": "Spenden",
         "marker": {
          "color": "#EF553B",
          "pattern": {
           "shape": ""
          }
         },
         "name": "Spenden",
         "offsetgroup": "Spenden",
         "orientation": "v",
         "showlegend": true,
         "textposition": "auto",
         "type": "bar",
         "x": [
          "2023-10",
          "2023-11",
          "2023-12",
          "2024-01",
          "2024-02",
          "2024-03",
          "2024-04",
          "2024-05",
          "2024-06",
          "2024-07",
          "2024-08"
         ],
         "xaxis": "x",
         "y": [
          0,
          0,
          2,
          0,
          0,
          0,
          0,
          0,
          0,
          30,
          24
         ],
         "yaxis": "y"
        },
        {
         "alignmentgroup": "True",
         "hovertemplate": "kategorie=Steuern/Gebühren<br>monat_jahr=%{x}<br>preis=%{y}<extra></extra>",
         "legendgroup": "Steuern/Gebühren",
         "marker": {
          "color": "#00cc96",
          "pattern": {
           "shape": ""
          }
         },
         "name": "Steuern/Gebühren",
         "offsetgroup": "Steuern/Gebühren",
         "orientation": "v",
         "showlegend": true,
         "textposition": "auto",
         "type": "bar",
         "x": [
          "2023-10",
          "2023-11",
          "2023-12",
          "2024-01",
          "2024-02",
          "2024-03",
          "2024-04",
          "2024-05",
          "2024-06",
          "2024-07",
          "2024-08"
         ],
         "xaxis": "x",
         "y": [
          7.47,
          7.47,
          29.97,
          7.47,
          525.12,
          7.47,
          7.47,
          49.11,
          7.47,
          0,
          674.96
         ],
         "yaxis": "y"
        },
        {
         "alignmentgroup": "True",
         "hovertemplate": "kategorie=Tanken<br>monat_jahr=%{x}<br>preis=%{y}<extra></extra>",
         "legendgroup": "Tanken",
         "marker": {
          "color": "#ab63fa",
          "pattern": {
           "shape": ""
          }
         },
         "name": "Tanken",
         "offsetgroup": "Tanken",
         "orientation": "v",
         "showlegend": true,
         "textposition": "auto",
         "type": "bar",
         "x": [
          "2023-10",
          "2023-11",
          "2023-12",
          "2024-01",
          "2024-02",
          "2024-03",
          "2024-04",
          "2024-05",
          "2024-06",
          "2024-07",
          "2024-08"
         ],
         "xaxis": "x",
         "y": [
          294.64,
          155.92,
          142.56,
          152.77,
          144.65,
          65.36,
          156.21,
          67.78,
          148.28,
          78.18,
          125.25
         ],
         "yaxis": "y"
        },
        {
         "alignmentgroup": "True",
         "hovertemplate": "kategorie=Urlaub<br>monat_jahr=%{x}<br>preis=%{y}<extra></extra>",
         "legendgroup": "Urlaub",
         "marker": {
          "color": "#FFA15A",
          "pattern": {
           "shape": ""
          }
         },
         "name": "Urlaub",
         "offsetgroup": "Urlaub",
         "orientation": "v",
         "showlegend": true,
         "textposition": "auto",
         "type": "bar",
         "x": [
          "2023-10",
          "2023-11",
          "2023-12",
          "2024-01",
          "2024-02",
          "2024-03",
          "2024-04",
          "2024-05",
          "2024-06",
          "2024-07",
          "2024-08"
         ],
         "xaxis": "x",
         "y": [
          0,
          207,
          0,
          0,
          0,
          614,
          348.4,
          377,
          498.13,
          61.730000000000004,
          288.12
         ],
         "yaxis": "y"
        },
        {
         "alignmentgroup": "True",
         "hovertemplate": "kategorie=Versicherungen<br>monat_jahr=%{x}<br>preis=%{y}<extra></extra>",
         "legendgroup": "Versicherungen",
         "marker": {
          "color": "#19d3f3",
          "pattern": {
           "shape": ""
          }
         },
         "name": "Versicherungen",
         "offsetgroup": "Versicherungen",
         "orientation": "v",
         "showlegend": true,
         "textposition": "auto",
         "type": "bar",
         "x": [
          "2023-10",
          "2023-11",
          "2023-12",
          "2024-01",
          "2024-02",
          "2024-03",
          "2024-04",
          "2024-05",
          "2024-06",
          "2024-07",
          "2024-08"
         ],
         "xaxis": "x",
         "y": [
          0,
          0,
          257.31,
          0,
          0,
          0,
          0,
          0,
          54,
          109.84,
          0
         ],
         "yaxis": "y"
        },
        {
         "alignmentgroup": "True",
         "hovertemplate": "kategorie=Vorsorge/Sparen<br>monat_jahr=%{x}<br>preis=%{y}<extra></extra>",
         "legendgroup": "Vorsorge/Sparen",
         "marker": {
          "color": "#FF6692",
          "pattern": {
           "shape": ""
          }
         },
         "name": "Vorsorge/Sparen",
         "offsetgroup": "Vorsorge/Sparen",
         "orientation": "v",
         "showlegend": true,
         "textposition": "auto",
         "type": "bar",
         "x": [
          "2023-10",
          "2023-11",
          "2023-12",
          "2024-01",
          "2024-02",
          "2024-03",
          "2024-04",
          "2024-05",
          "2024-06",
          "2024-07",
          "2024-08"
         ],
         "xaxis": "x",
         "y": [
          126,
          126,
          176,
          479,
          181,
          181,
          210,
          217,
          530.5,
          194.5,
          217
         ],
         "yaxis": "y"
        },
        {
         "alignmentgroup": "True",
         "hovertemplate": "kategorie=Wohnung<br>monat_jahr=%{x}<br>preis=%{y}<extra></extra>",
         "legendgroup": "Wohnung",
         "marker": {
          "color": "#B6E880",
          "pattern": {
           "shape": ""
          }
         },
         "name": "Wohnung",
         "offsetgroup": "Wohnung",
         "orientation": "v",
         "showlegend": true,
         "textposition": "auto",
         "type": "bar",
         "x": [
          "2023-10",
          "2023-11",
          "2023-12",
          "2024-01",
          "2024-02",
          "2024-03",
          "2024-04",
          "2024-05",
          "2024-06",
          "2024-07",
          "2024-08"
         ],
         "xaxis": "x",
         "y": [
          1078.03,
          1173.34,
          1061.24,
          1263.23,
          1155.74,
          1039.35,
          1402.4,
          1087.86,
          1104,
          1109.96,
          1131.04
         ],
         "yaxis": "y"
        },
        {
         "alignmentgroup": "True",
         "hovertemplate": "kategorie=Öffentliche Verkehrsmittel<br>monat_jahr=%{x}<br>preis=%{y}<extra></extra>",
         "legendgroup": "Öffentliche Verkehrsmittel",
         "marker": {
          "color": "#FF97FF",
          "pattern": {
           "shape": ""
          }
         },
         "name": "Öffentliche Verkehrsmittel",
         "offsetgroup": "Öffentliche Verkehrsmittel",
         "orientation": "v",
         "showlegend": true,
         "textposition": "auto",
         "type": "bar",
         "x": [
          "2023-10",
          "2023-11",
          "2023-12",
          "2024-01",
          "2024-02",
          "2024-03",
          "2024-04",
          "2024-05",
          "2024-06",
          "2024-07",
          "2024-08"
         ],
         "xaxis": "x",
         "y": [
          0,
          0,
          14.5,
          0,
          0,
          0,
          0,
          13.8,
          0,
          0,
          0
         ],
         "yaxis": "y"
        },
        {
         "mode": "text",
         "showlegend": false,
         "text": [
          2571,
          2483,
          3095,
          2670,
          3238,
          2478,
          2651,
          3246,
          3819,
          2071,
          3967
         ],
         "textposition": "top center",
         "type": "scatter",
         "x": [
          "2023-10",
          "2023-11",
          "2023-12",
          "2024-01",
          "2024-02",
          "2024-03",
          "2024-04",
          "2024-05",
          "2024-06",
          "2024-07",
          "2024-08"
         ],
         "y": [
          2571,
          2483,
          3095,
          2670,
          3238,
          2478,
          2651,
          3246,
          3819,
          2071,
          3967
         ]
        }
       ],
       "layout": {
        "barmode": "relative",
        "legend": {
         "title": {
          "text": "kategorie"
         },
         "tracegroupgap": 0
        },
        "shapes": [
         {
          "line": {
           "color": "black",
           "dash": "dash",
           "width": 1
          },
          "type": "line",
          "x0": 0,
          "x1": 1,
          "xref": "x domain",
          "y0": 2935.398181818182,
          "y1": 2935.398181818182,
          "yref": "y"
         }
        ],
        "template": {
         "data": {
          "bar": [
           {
            "error_x": {
             "color": "#2a3f5f"
            },
            "error_y": {
             "color": "#2a3f5f"
            },
            "marker": {
             "line": {
              "color": "#E5ECF6",
              "width": 0.5
             },
             "pattern": {
              "fillmode": "overlay",
              "size": 10,
              "solidity": 0.2
             }
            },
            "type": "bar"
           }
          ],
          "barpolar": [
           {
            "marker": {
             "line": {
              "color": "#E5ECF6",
              "width": 0.5
             },
             "pattern": {
              "fillmode": "overlay",
              "size": 10,
              "solidity": 0.2
             }
            },
            "type": "barpolar"
           }
          ],
          "carpet": [
           {
            "aaxis": {
             "endlinecolor": "#2a3f5f",
             "gridcolor": "white",
             "linecolor": "white",
             "minorgridcolor": "white",
             "startlinecolor": "#2a3f5f"
            },
            "baxis": {
             "endlinecolor": "#2a3f5f",
             "gridcolor": "white",
             "linecolor": "white",
             "minorgridcolor": "white",
             "startlinecolor": "#2a3f5f"
            },
            "type": "carpet"
           }
          ],
          "choropleth": [
           {
            "colorbar": {
             "outlinewidth": 0,
             "ticks": ""
            },
            "type": "choropleth"
           }
          ],
          "contour": [
           {
            "colorbar": {
             "outlinewidth": 0,
             "ticks": ""
            },
            "colorscale": [
             [
              0,
              "#0d0887"
             ],
             [
              0.1111111111111111,
              "#46039f"
             ],
             [
              0.2222222222222222,
              "#7201a8"
             ],
             [
              0.3333333333333333,
              "#9c179e"
             ],
             [
              0.4444444444444444,
              "#bd3786"
             ],
             [
              0.5555555555555556,
              "#d8576b"
             ],
             [
              0.6666666666666666,
              "#ed7953"
             ],
             [
              0.7777777777777778,
              "#fb9f3a"
             ],
             [
              0.8888888888888888,
              "#fdca26"
             ],
             [
              1,
              "#f0f921"
             ]
            ],
            "type": "contour"
           }
          ],
          "contourcarpet": [
           {
            "colorbar": {
             "outlinewidth": 0,
             "ticks": ""
            },
            "type": "contourcarpet"
           }
          ],
          "heatmap": [
           {
            "colorbar": {
             "outlinewidth": 0,
             "ticks": ""
            },
            "colorscale": [
             [
              0,
              "#0d0887"
             ],
             [
              0.1111111111111111,
              "#46039f"
             ],
             [
              0.2222222222222222,
              "#7201a8"
             ],
             [
              0.3333333333333333,
              "#9c179e"
             ],
             [
              0.4444444444444444,
              "#bd3786"
             ],
             [
              0.5555555555555556,
              "#d8576b"
             ],
             [
              0.6666666666666666,
              "#ed7953"
             ],
             [
              0.7777777777777778,
              "#fb9f3a"
             ],
             [
              0.8888888888888888,
              "#fdca26"
             ],
             [
              1,
              "#f0f921"
             ]
            ],
            "type": "heatmap"
           }
          ],
          "heatmapgl": [
           {
            "colorbar": {
             "outlinewidth": 0,
             "ticks": ""
            },
            "colorscale": [
             [
              0,
              "#0d0887"
             ],
             [
              0.1111111111111111,
              "#46039f"
             ],
             [
              0.2222222222222222,
              "#7201a8"
             ],
             [
              0.3333333333333333,
              "#9c179e"
             ],
             [
              0.4444444444444444,
              "#bd3786"
             ],
             [
              0.5555555555555556,
              "#d8576b"
             ],
             [
              0.6666666666666666,
              "#ed7953"
             ],
             [
              0.7777777777777778,
              "#fb9f3a"
             ],
             [
              0.8888888888888888,
              "#fdca26"
             ],
             [
              1,
              "#f0f921"
             ]
            ],
            "type": "heatmapgl"
           }
          ],
          "histogram": [
           {
            "marker": {
             "pattern": {
              "fillmode": "overlay",
              "size": 10,
              "solidity": 0.2
             }
            },
            "type": "histogram"
           }
          ],
          "histogram2d": [
           {
            "colorbar": {
             "outlinewidth": 0,
             "ticks": ""
            },
            "colorscale": [
             [
              0,
              "#0d0887"
             ],
             [
              0.1111111111111111,
              "#46039f"
             ],
             [
              0.2222222222222222,
              "#7201a8"
             ],
             [
              0.3333333333333333,
              "#9c179e"
             ],
             [
              0.4444444444444444,
              "#bd3786"
             ],
             [
              0.5555555555555556,
              "#d8576b"
             ],
             [
              0.6666666666666666,
              "#ed7953"
             ],
             [
              0.7777777777777778,
              "#fb9f3a"
             ],
             [
              0.8888888888888888,
              "#fdca26"
             ],
             [
              1,
              "#f0f921"
             ]
            ],
            "type": "histogram2d"
           }
          ],
          "histogram2dcontour": [
           {
            "colorbar": {
             "outlinewidth": 0,
             "ticks": ""
            },
            "colorscale": [
             [
              0,
              "#0d0887"
             ],
             [
              0.1111111111111111,
              "#46039f"
             ],
             [
              0.2222222222222222,
              "#7201a8"
             ],
             [
              0.3333333333333333,
              "#9c179e"
             ],
             [
              0.4444444444444444,
              "#bd3786"
             ],
             [
              0.5555555555555556,
              "#d8576b"
             ],
             [
              0.6666666666666666,
              "#ed7953"
             ],
             [
              0.7777777777777778,
              "#fb9f3a"
             ],
             [
              0.8888888888888888,
              "#fdca26"
             ],
             [
              1,
              "#f0f921"
             ]
            ],
            "type": "histogram2dcontour"
           }
          ],
          "mesh3d": [
           {
            "colorbar": {
             "outlinewidth": 0,
             "ticks": ""
            },
            "type": "mesh3d"
           }
          ],
          "parcoords": [
           {
            "line": {
             "colorbar": {
              "outlinewidth": 0,
              "ticks": ""
             }
            },
            "type": "parcoords"
           }
          ],
          "pie": [
           {
            "automargin": true,
            "type": "pie"
           }
          ],
          "scatter": [
           {
            "fillpattern": {
             "fillmode": "overlay",
             "size": 10,
             "solidity": 0.2
            },
            "type": "scatter"
           }
          ],
          "scatter3d": [
           {
            "line": {
             "colorbar": {
              "outlinewidth": 0,
              "ticks": ""
             }
            },
            "marker": {
             "colorbar": {
              "outlinewidth": 0,
              "ticks": ""
             }
            },
            "type": "scatter3d"
           }
          ],
          "scattercarpet": [
           {
            "marker": {
             "colorbar": {
              "outlinewidth": 0,
              "ticks": ""
             }
            },
            "type": "scattercarpet"
           }
          ],
          "scattergeo": [
           {
            "marker": {
             "colorbar": {
              "outlinewidth": 0,
              "ticks": ""
             }
            },
            "type": "scattergeo"
           }
          ],
          "scattergl": [
           {
            "marker": {
             "colorbar": {
              "outlinewidth": 0,
              "ticks": ""
             }
            },
            "type": "scattergl"
           }
          ],
          "scattermapbox": [
           {
            "marker": {
             "colorbar": {
              "outlinewidth": 0,
              "ticks": ""
             }
            },
            "type": "scattermapbox"
           }
          ],
          "scatterpolar": [
           {
            "marker": {
             "colorbar": {
              "outlinewidth": 0,
              "ticks": ""
             }
            },
            "type": "scatterpolar"
           }
          ],
          "scatterpolargl": [
           {
            "marker": {
             "colorbar": {
              "outlinewidth": 0,
              "ticks": ""
             }
            },
            "type": "scatterpolargl"
           }
          ],
          "scatterternary": [
           {
            "marker": {
             "colorbar": {
              "outlinewidth": 0,
              "ticks": ""
             }
            },
            "type": "scatterternary"
           }
          ],
          "surface": [
           {
            "colorbar": {
             "outlinewidth": 0,
             "ticks": ""
            },
            "colorscale": [
             [
              0,
              "#0d0887"
             ],
             [
              0.1111111111111111,
              "#46039f"
             ],
             [
              0.2222222222222222,
              "#7201a8"
             ],
             [
              0.3333333333333333,
              "#9c179e"
             ],
             [
              0.4444444444444444,
              "#bd3786"
             ],
             [
              0.5555555555555556,
              "#d8576b"
             ],
             [
              0.6666666666666666,
              "#ed7953"
             ],
             [
              0.7777777777777778,
              "#fb9f3a"
             ],
             [
              0.8888888888888888,
              "#fdca26"
             ],
             [
              1,
              "#f0f921"
             ]
            ],
            "type": "surface"
           }
          ],
          "table": [
           {
            "cells": {
             "fill": {
              "color": "#EBF0F8"
             },
             "line": {
              "color": "white"
             }
            },
            "header": {
             "fill": {
              "color": "#C8D4E3"
             },
             "line": {
              "color": "white"
             }
            },
            "type": "table"
           }
          ]
         },
         "layout": {
          "annotationdefaults": {
           "arrowcolor": "#2a3f5f",
           "arrowhead": 0,
           "arrowwidth": 1
          },
          "autotypenumbers": "strict",
          "coloraxis": {
           "colorbar": {
            "outlinewidth": 0,
            "ticks": ""
           }
          },
          "colorscale": {
           "diverging": [
            [
             0,
             "#8e0152"
            ],
            [
             0.1,
             "#c51b7d"
            ],
            [
             0.2,
             "#de77ae"
            ],
            [
             0.3,
             "#f1b6da"
            ],
            [
             0.4,
             "#fde0ef"
            ],
            [
             0.5,
             "#f7f7f7"
            ],
            [
             0.6,
             "#e6f5d0"
            ],
            [
             0.7,
             "#b8e186"
            ],
            [
             0.8,
             "#7fbc41"
            ],
            [
             0.9,
             "#4d9221"
            ],
            [
             1,
             "#276419"
            ]
           ],
           "sequential": [
            [
             0,
             "#0d0887"
            ],
            [
             0.1111111111111111,
             "#46039f"
            ],
            [
             0.2222222222222222,
             "#7201a8"
            ],
            [
             0.3333333333333333,
             "#9c179e"
            ],
            [
             0.4444444444444444,
             "#bd3786"
            ],
            [
             0.5555555555555556,
             "#d8576b"
            ],
            [
             0.6666666666666666,
             "#ed7953"
            ],
            [
             0.7777777777777778,
             "#fb9f3a"
            ],
            [
             0.8888888888888888,
             "#fdca26"
            ],
            [
             1,
             "#f0f921"
            ]
           ],
           "sequentialminus": [
            [
             0,
             "#0d0887"
            ],
            [
             0.1111111111111111,
             "#46039f"
            ],
            [
             0.2222222222222222,
             "#7201a8"
            ],
            [
             0.3333333333333333,
             "#9c179e"
            ],
            [
             0.4444444444444444,
             "#bd3786"
            ],
            [
             0.5555555555555556,
             "#d8576b"
            ],
            [
             0.6666666666666666,
             "#ed7953"
            ],
            [
             0.7777777777777778,
             "#fb9f3a"
            ],
            [
             0.8888888888888888,
             "#fdca26"
            ],
            [
             1,
             "#f0f921"
            ]
           ]
          },
          "colorway": [
           "#636efa",
           "#EF553B",
           "#00cc96",
           "#ab63fa",
           "#FFA15A",
           "#19d3f3",
           "#FF6692",
           "#B6E880",
           "#FF97FF",
           "#FECB52"
          ],
          "font": {
           "color": "#2a3f5f"
          },
          "geo": {
           "bgcolor": "white",
           "lakecolor": "white",
           "landcolor": "#E5ECF6",
           "showlakes": true,
           "showland": true,
           "subunitcolor": "white"
          },
          "hoverlabel": {
           "align": "left"
          },
          "hovermode": "closest",
          "mapbox": {
           "style": "light"
          },
          "paper_bgcolor": "white",
          "plot_bgcolor": "#E5ECF6",
          "polar": {
           "angularaxis": {
            "gridcolor": "white",
            "linecolor": "white",
            "ticks": ""
           },
           "bgcolor": "#E5ECF6",
           "radialaxis": {
            "gridcolor": "white",
            "linecolor": "white",
            "ticks": ""
           }
          },
          "scene": {
           "xaxis": {
            "backgroundcolor": "#E5ECF6",
            "gridcolor": "white",
            "gridwidth": 2,
            "linecolor": "white",
            "showbackground": true,
            "ticks": "",
            "zerolinecolor": "white"
           },
           "yaxis": {
            "backgroundcolor": "#E5ECF6",
            "gridcolor": "white",
            "gridwidth": 2,
            "linecolor": "white",
            "showbackground": true,
            "ticks": "",
            "zerolinecolor": "white"
           },
           "zaxis": {
            "backgroundcolor": "#E5ECF6",
            "gridcolor": "white",
            "gridwidth": 2,
            "linecolor": "white",
            "showbackground": true,
            "ticks": "",
            "zerolinecolor": "white"
           }
          },
          "shapedefaults": {
           "line": {
            "color": "#2a3f5f"
           }
          },
          "ternary": {
           "aaxis": {
            "gridcolor": "white",
            "linecolor": "white",
            "ticks": ""
           },
           "baxis": {
            "gridcolor": "white",
            "linecolor": "white",
            "ticks": ""
           },
           "bgcolor": "#E5ECF6",
           "caxis": {
            "gridcolor": "white",
            "linecolor": "white",
            "ticks": ""
           }
          },
          "title": {
           "x": 0.05
          },
          "xaxis": {
           "automargin": true,
           "gridcolor": "white",
           "linecolor": "white",
           "ticks": "",
           "title": {
            "standoff": 15
           },
           "zerolinecolor": "white",
           "zerolinewidth": 2
          },
          "yaxis": {
           "automargin": true,
           "gridcolor": "white",
           "linecolor": "white",
           "ticks": "",
           "title": {
            "standoff": 15
           },
           "zerolinecolor": "white",
           "zerolinewidth": 2
          }
         }
        },
        "title": {
         "text": "Stacked Bar Chart<br><sub></sub>"
        },
        "xaxis": {
         "anchor": "y",
         "domain": [
          0,
          1
         ],
         "title": {
          "text": "monat_jahr"
         }
        },
        "yaxis": {
         "anchor": "x",
         "domain": [
          0,
          1
         ],
         "title": {
          "text": "preis"
         }
        }
       }
      }
     },
     "metadata": {},
     "output_type": "display_data"
    }
   ],
   "source": [
    "test_bar = stacked_bar(test_grouped_df, \n",
    "                       x_axis=\"monat_jahr\", \n",
    "                       y_axis=\"preis\", \n",
    "                       color=\"kategorie\",\n",
    "                       show_sum=True,\n",
    "                       show_avg_expense=True)\n",
    "test_bar.show()"
   ]
  },
  {
   "cell_type": "markdown",
   "metadata": {},
   "source": [
    "## Write Plotly figures to HTML-file"
   ]
  },
  {
   "cell_type": "code",
   "execution_count": 16,
   "metadata": {},
   "outputs": [],
   "source": [
    "def write_to_html(filename, figure, path=None, overwrite=False):\n",
    "\n",
    "    if path == None:\n",
    "        html_path = f\"./{filename}.html\"\n",
    "    else:\n",
    "        html_path = f\"{path}/{filename}.html\"\n",
    "\n",
    "    if overwrite:\n",
    "        if os.path.isfile(html_path):\n",
    "            os.remove(html_path)\n",
    "\n",
    "    with open(html_path, 'a') as f:\n",
    "        f.write(figure.to_html(full_html=False, include_plotlyjs='cdn'))\n",
    "\n",
    "    return print(f\"Figure saved in {html_path}\")"
   ]
  },
  {
   "cell_type": "code",
   "execution_count": 18,
   "metadata": {},
   "outputs": [
    {
     "name": "stdout",
     "output_type": "stream",
     "text": [
      "Figure saved in ./Test.html\n"
     ]
    }
   ],
   "source": [
    "write_to_html(filename=\"Test\",\n",
    "              figure=test_bar)"
   ]
  }
 ],
 "metadata": {
  "kernelspec": {
   "display_name": ".venv",
   "language": "python",
   "name": "python3"
  },
  "language_info": {
   "codemirror_mode": {
    "name": "ipython",
    "version": 3
   },
   "file_extension": ".py",
   "mimetype": "text/x-python",
   "name": "python",
   "nbconvert_exporter": "python",
   "pygments_lexer": "ipython3",
   "version": "3.9.13"
  }
 },
 "nbformat": 4,
 "nbformat_minor": 2
}
