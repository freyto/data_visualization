{
 "cells": [
  {
   "cell_type": "markdown",
   "metadata": {},
   "source": [
    "# Matplotlib Visualizations"
   ]
  },
  {
   "cell_type": "markdown",
   "metadata": {},
   "source": [
    "## Preperations"
   ]
  },
  {
   "cell_type": "code",
   "execution_count": 85,
   "metadata": {},
   "outputs": [],
   "source": [
    "import os\n",
    "import pandas as pd\n",
    "import math\n",
    "import matplotlib.pyplot as plt\n",
    "import matplotlib as mpl\n",
    "import seaborn as sns\n",
    "import plotly.express as px\n",
    "import plotly.graph_objects as go"
   ]
  },
  {
   "cell_type": "code",
   "execution_count": 86,
   "metadata": {},
   "outputs": [],
   "source": [
    "import plotly.io as pio"
   ]
  },
  {
   "cell_type": "code",
   "execution_count": 87,
   "metadata": {},
   "outputs": [
    {
     "data": {
      "text/plain": [
       "Templates configuration\n",
       "-----------------------\n",
       "    Default template: 'seaborn'\n",
       "    Available templates:\n",
       "        ['ggplot2', 'seaborn', 'simple_white', 'plotly',\n",
       "         'plotly_white', 'plotly_dark', 'presentation', 'xgridoff',\n",
       "         'ygridoff', 'gridon', 'none']"
      ]
     },
     "execution_count": 87,
     "metadata": {},
     "output_type": "execute_result"
    }
   ],
   "source": [
    "pio.templates"
   ]
  },
  {
   "cell_type": "code",
   "execution_count": 95,
   "metadata": {},
   "outputs": [],
   "source": [
    "pio.templates[\"draft\"] = go.layout.Template(\n",
    "    layout_annotations=[\n",
    "        dict(\n",
    "            name=\"draft watermark\",\n",
    "            text=\"DRAFT\",\n",
    "            textangle=-30,\n",
    "            opacity=0.1,\n",
    "            font=dict(color=\"black\", size=100),\n",
    "            xref=\"paper\",\n",
    "            yref=\"paper\",\n",
    "            x=0.5,\n",
    "            y=0.5,\n",
    "            showarrow=False,\n",
    "        )\n",
    "    ]\n",
    ")"
   ]
  },
  {
   "cell_type": "code",
   "execution_count": 96,
   "metadata": {},
   "outputs": [],
   "source": [
    "pio.templates[\"confidental\"] = go.layout.Template(\n",
    "    layout_annotations=[\n",
    "        dict(\n",
    "            name=\"draft watermark\",\n",
    "            text=\"CONFIDENTAL\",\n",
    "            textangle=-30,\n",
    "            opacity=0.1,\n",
    "            font=dict(color=\"red\", size=100),\n",
    "            xref=\"paper\",\n",
    "            yref=\"paper\",\n",
    "            x=0.5,\n",
    "            y=0.5,\n",
    "            showarrow=False,\n",
    "        )\n",
    "    ]\n",
    ")"
   ]
  },
  {
   "cell_type": "code",
   "execution_count": 97,
   "metadata": {},
   "outputs": [
    {
     "data": {
      "text/plain": [
       "Templates configuration\n",
       "-----------------------\n",
       "    Default template: 'seaborn+draft'\n",
       "    Available templates:\n",
       "        ['ggplot2', 'seaborn', 'simple_white', 'plotly',\n",
       "         'plotly_white', 'plotly_dark', 'presentation', 'xgridoff',\n",
       "         'ygridoff', 'gridon', 'none', 'draft', 'confidental']"
      ]
     },
     "execution_count": 97,
     "metadata": {},
     "output_type": "execute_result"
    }
   ],
   "source": [
    "pio.templates"
   ]
  },
  {
   "cell_type": "code",
   "execution_count": 93,
   "metadata": {},
   "outputs": [],
   "source": [
    "pio.templates.default = \"seaborn+draft\""
   ]
  },
  {
   "cell_type": "code",
   "execution_count": 3,
   "metadata": {},
   "outputs": [],
   "source": [
    "pd.set_option('display.max_rows', 10)"
   ]
  },
  {
   "cell_type": "code",
   "execution_count": 4,
   "metadata": {},
   "outputs": [
    {
     "name": "stdout",
     "output_type": "stream",
     "text": [
      "<class 'pandas.core.frame.DataFrame'>\n",
      "RangeIndex: 768 entries, 0 to 767\n",
      "Data columns (total 7 columns):\n",
      " #   Column            Non-Null Count  Dtype         \n",
      "---  ------            --------------  -----         \n",
      " 0   ausgabe_haushalt  768 non-null    bool          \n",
      " 1   bemerkung         232 non-null    object        \n",
      " 2   datum             768 non-null    datetime64[ns]\n",
      " 3   kategorie         768 non-null    object        \n",
      " 4   preis             768 non-null    float64       \n",
      " 5   shop              652 non-null    object        \n",
      " 6   monat_jahr        768 non-null    object        \n",
      "dtypes: bool(1), datetime64[ns](1), float64(1), object(4)\n",
      "memory usage: 36.9+ KB\n"
     ]
    }
   ],
   "source": [
    "test_df = pd.read_csv('./test_data_private/2024-09-28.csv', sep=';', decimal=',')\n",
    "test_df['datum'] = pd.to_datetime(test_df['datum'])\n",
    "test_df.info()"
   ]
  },
  {
   "cell_type": "code",
   "execution_count": 80,
   "metadata": {},
   "outputs": [
    {
     "data": {
      "text/plain": [
       "<Axes: >"
      ]
     },
     "execution_count": 80,
     "metadata": {},
     "output_type": "execute_result"
    },
    {
     "data": {
      "image/png": "[encoded data removed]",
      "text/plain": [
       "<Figure size 640x480 with 1 Axes>"
      ]
     },
     "metadata": {},
     "output_type": "display_data"
    }
   ],
   "source": [
    "test_df['preis'].hist()"
   ]
  },
  {
   "cell_type": "code",
   "execution_count": 6,
   "metadata": {},
   "outputs": [
    {
     "data": {
      "text/plain": [
       "0       3.49\n",
       "1      13.38\n",
       "2       8.95\n",
       "3      13.17\n",
       "4       4.05\n",
       "       ...  \n",
       "763     5.70\n",
       "764    50.00\n",
       "765    25.04\n",
       "766    18.77\n",
       "767    45.00\n",
       "Name: preis, Length: 768, dtype: float64"
      ]
     },
     "execution_count": 6,
     "metadata": {},
     "output_type": "execute_result"
    }
   ],
   "source": [
    "test_df['preis']"
   ]
  },
  {
   "cell_type": "code",
   "execution_count": 81,
   "metadata": {},
   "outputs": [
    {
     "data": {
      "image/png": "[encoded data removed]",
      "text/plain": [
       "<Figure size 640x480 with 1 Axes>"
      ]
     },
     "metadata": {},
     "output_type": "display_data"
    }
   ],
   "source": [
    "test_df.boxplot(column='preis')\n",
    "plt.title('Test Preis')\n",
    "plt.show()"
   ]
  },
  {
   "cell_type": "code",
   "execution_count": 8,
   "metadata": {},
   "outputs": [
    {
     "name": "stdout",
     "output_type": "stream",
     "text": [
      "<class 'pandas.core.frame.DataFrame'>\n",
      "RangeIndex: 143 entries, 0 to 142\n",
      "Data columns (total 11 columns):\n",
      " #   Column                                      Non-Null Count  Dtype  \n",
      "---  ------                                      --------------  -----  \n",
      " 0   Country name                                143 non-null    object \n",
      " 1   Ladder score                                143 non-null    float64\n",
      " 2   upperwhisker                                143 non-null    float64\n",
      " 3   lowerwhisker                                143 non-null    float64\n",
      " 4   Explained by: Log GDP per capita            140 non-null    float64\n",
      " 5   Explained by: Social support                140 non-null    float64\n",
      " 6   Explained by: Healthy life expectancy       140 non-null    float64\n",
      " 7   Explained by: Freedom to make life choices  140 non-null    float64\n",
      " 8   Explained by: Generosity                    140 non-null    float64\n",
      " 9   Explained by: Perceptions of corruption     140 non-null    float64\n",
      " 10  Dystopia + residual                         140 non-null    float64\n",
      "dtypes: float64(10), object(1)\n",
      "memory usage: 12.4+ KB\n"
     ]
    }
   ],
   "source": [
    "whr = pd.read_csv('./test_data_public/WHR2024.csv')\n",
    "whr = whr.replace(['Turkiye'], 'Turkey')\n",
    "whr = whr.replace(['Hong Kong S.A.R. of China'], 'Hong Kong')\n",
    "whr = whr.replace(['Taiwan Province of China'], 'Taiwan')\n",
    "whr.info()"
   ]
  },
  {
   "cell_type": "code",
   "execution_count": 9,
   "metadata": {},
   "outputs": [
    {
     "data": {
      "text/html": [
       "<div>\n",
       "<style scoped>\n",
       "    .dataframe tbody tr th:only-of-type {\n",
       "        vertical-align: middle;\n",
       "    }\n",
       "\n",
       "    .dataframe tbody tr th {\n",
       "        vertical-align: top;\n",
       "    }\n",
       "\n",
       "    .dataframe thead th {\n",
       "        text-align: right;\n",
       "    }\n",
       "</style>\n",
       "<table border=\"1\" class=\"dataframe\">\n",
       "  <thead>\n",
       "    <tr style=\"text-align: right;\">\n",
       "      <th></th>\n",
       "      <th>Ladder score</th>\n",
       "      <th>upperwhisker</th>\n",
       "      <th>lowerwhisker</th>\n",
       "      <th>Explained by: Log GDP per capita</th>\n",
       "      <th>Explained by: Social support</th>\n",
       "      <th>Explained by: Healthy life expectancy</th>\n",
       "      <th>Explained by: Freedom to make life choices</th>\n",
       "      <th>Explained by: Generosity</th>\n",
       "      <th>Explained by: Perceptions of corruption</th>\n",
       "      <th>Dystopia + residual</th>\n",
       "    </tr>\n",
       "  </thead>\n",
       "  <tbody>\n",
       "    <tr>\n",
       "      <th>count</th>\n",
       "      <td>143.000000</td>\n",
       "      <td>143.000000</td>\n",
       "      <td>143.000000</td>\n",
       "      <td>140.000000</td>\n",
       "      <td>140.000000</td>\n",
       "      <td>140.000000</td>\n",
       "      <td>140.000000</td>\n",
       "      <td>140.000000</td>\n",
       "      <td>140.000000</td>\n",
       "      <td>140.000000</td>\n",
       "    </tr>\n",
       "    <tr>\n",
       "      <th>mean</th>\n",
       "      <td>5.527580</td>\n",
       "      <td>5.641175</td>\n",
       "      <td>5.413972</td>\n",
       "      <td>1.378807</td>\n",
       "      <td>1.134329</td>\n",
       "      <td>0.520886</td>\n",
       "      <td>0.620621</td>\n",
       "      <td>0.146271</td>\n",
       "      <td>0.154121</td>\n",
       "      <td>1.575914</td>\n",
       "    </tr>\n",
       "    <tr>\n",
       "      <th>std</th>\n",
       "      <td>1.170717</td>\n",
       "      <td>1.155008</td>\n",
       "      <td>1.187133</td>\n",
       "      <td>0.425098</td>\n",
       "      <td>0.333317</td>\n",
       "      <td>0.164923</td>\n",
       "      <td>0.162492</td>\n",
       "      <td>0.073441</td>\n",
       "      <td>0.126238</td>\n",
       "      <td>0.537459</td>\n",
       "    </tr>\n",
       "    <tr>\n",
       "      <th>min</th>\n",
       "      <td>1.721000</td>\n",
       "      <td>1.775000</td>\n",
       "      <td>1.667000</td>\n",
       "      <td>0.000000</td>\n",
       "      <td>0.000000</td>\n",
       "      <td>0.000000</td>\n",
       "      <td>0.000000</td>\n",
       "      <td>0.000000</td>\n",
       "      <td>0.000000</td>\n",
       "      <td>-0.073000</td>\n",
       "    </tr>\n",
       "    <tr>\n",
       "      <th>25%</th>\n",
       "      <td>4.726000</td>\n",
       "      <td>4.845500</td>\n",
       "      <td>4.606000</td>\n",
       "      <td>1.077750</td>\n",
       "      <td>0.921750</td>\n",
       "      <td>0.398000</td>\n",
       "      <td>0.527500</td>\n",
       "      <td>0.091000</td>\n",
       "      <td>0.068750</td>\n",
       "      <td>1.308250</td>\n",
       "    </tr>\n",
       "    <tr>\n",
       "      <th>50%</th>\n",
       "      <td>5.785000</td>\n",
       "      <td>5.895000</td>\n",
       "      <td>5.674000</td>\n",
       "      <td>1.431500</td>\n",
       "      <td>1.237500</td>\n",
       "      <td>0.549500</td>\n",
       "      <td>0.641000</td>\n",
       "      <td>0.136500</td>\n",
       "      <td>0.120500</td>\n",
       "      <td>1.644500</td>\n",
       "    </tr>\n",
       "    <tr>\n",
       "      <th>75%</th>\n",
       "      <td>6.416000</td>\n",
       "      <td>6.507500</td>\n",
       "      <td>6.319000</td>\n",
       "      <td>1.741500</td>\n",
       "      <td>1.383250</td>\n",
       "      <td>0.648500</td>\n",
       "      <td>0.736000</td>\n",
       "      <td>0.192500</td>\n",
       "      <td>0.193750</td>\n",
       "      <td>1.881750</td>\n",
       "    </tr>\n",
       "    <tr>\n",
       "      <th>max</th>\n",
       "      <td>7.741000</td>\n",
       "      <td>7.815000</td>\n",
       "      <td>7.667000</td>\n",
       "      <td>2.141000</td>\n",
       "      <td>1.617000</td>\n",
       "      <td>0.857000</td>\n",
       "      <td>0.863000</td>\n",
       "      <td>0.401000</td>\n",
       "      <td>0.575000</td>\n",
       "      <td>2.998000</td>\n",
       "    </tr>\n",
       "  </tbody>\n",
       "</table>\n",
       "</div>"
      ],
      "text/plain": [
       "       Ladder score  upperwhisker  lowerwhisker  \\\n",
       "count    143.000000    143.000000    143.000000   \n",
       "mean       5.527580      5.641175      5.413972   \n",
       "std        1.170717      1.155008      1.187133   \n",
       "min        1.721000      1.775000      1.667000   \n",
       "25%        4.726000      4.845500      4.606000   \n",
       "50%        5.785000      5.895000      5.674000   \n",
       "75%        6.416000      6.507500      6.319000   \n",
       "max        7.741000      7.815000      7.667000   \n",
       "\n",
       "       Explained by: Log GDP per capita  Explained by: Social support  \\\n",
       "count                        140.000000                    140.000000   \n",
       "mean                           1.378807                      1.134329   \n",
       "std                            0.425098                      0.333317   \n",
       "min                            0.000000                      0.000000   \n",
       "25%                            1.077750                      0.921750   \n",
       "50%                            1.431500                      1.237500   \n",
       "75%                            1.741500                      1.383250   \n",
       "max                            2.141000                      1.617000   \n",
       "\n",
       "       Explained by: Healthy life expectancy  \\\n",
       "count                             140.000000   \n",
       "mean                                0.520886   \n",
       "std                                 0.164923   \n",
       "min                                 0.000000   \n",
       "25%                                 0.398000   \n",
       "50%                                 0.549500   \n",
       "75%                                 0.648500   \n",
       "max                                 0.857000   \n",
       "\n",
       "       Explained by: Freedom to make life choices  Explained by: Generosity  \\\n",
       "count                                  140.000000                140.000000   \n",
       "mean                                     0.620621                  0.146271   \n",
       "std                                      0.162492                  0.073441   \n",
       "min                                      0.000000                  0.000000   \n",
       "25%                                      0.527500                  0.091000   \n",
       "50%                                      0.641000                  0.136500   \n",
       "75%                                      0.736000                  0.192500   \n",
       "max                                      0.863000                  0.401000   \n",
       "\n",
       "       Explained by: Perceptions of corruption  Dystopia + residual  \n",
       "count                               140.000000           140.000000  \n",
       "mean                                  0.154121             1.575914  \n",
       "std                                   0.126238             0.537459  \n",
       "min                                   0.000000            -0.073000  \n",
       "25%                                   0.068750             1.308250  \n",
       "50%                                   0.120500             1.644500  \n",
       "75%                                   0.193750             1.881750  \n",
       "max                                   0.575000             2.998000  "
      ]
     },
     "execution_count": 9,
     "metadata": {},
     "output_type": "execute_result"
    }
   ],
   "source": [
    "whr.describe()"
   ]
  },
  {
   "cell_type": "code",
   "execution_count": 82,
   "metadata": {},
   "outputs": [
    {
     "data": {
      "text/plain": [
       "<Axes: title={'center': 'test'}>"
      ]
     },
     "execution_count": 82,
     "metadata": {},
     "output_type": "execute_result"
    },
    {
     "data": {
      "image/png": "[encoded data removed]",
      "text/plain": [
       "<Figure size 640x480 with 1 Axes>"
      ]
     },
     "metadata": {},
     "output_type": "display_data"
    }
   ],
   "source": [
    "whr['Explained by: Log GDP per capita'].plot(kind='box', title='test')"
   ]
  },
  {
   "cell_type": "code",
   "execution_count": 11,
   "metadata": {},
   "outputs": [
    {
     "data": {
      "text/html": [
       "<div>\n",
       "<style scoped>\n",
       "    .dataframe tbody tr th:only-of-type {\n",
       "        vertical-align: middle;\n",
       "    }\n",
       "\n",
       "    .dataframe tbody tr th {\n",
       "        vertical-align: top;\n",
       "    }\n",
       "\n",
       "    .dataframe thead th {\n",
       "        text-align: right;\n",
       "    }\n",
       "</style>\n",
       "<table border=\"1\" class=\"dataframe\">\n",
       "  <thead>\n",
       "    <tr style=\"text-align: right;\">\n",
       "      <th></th>\n",
       "      <th>Continent</th>\n",
       "      <th>Country</th>\n",
       "    </tr>\n",
       "  </thead>\n",
       "  <tbody>\n",
       "    <tr>\n",
       "      <th>0</th>\n",
       "      <td>Africa</td>\n",
       "      <td>Algeria</td>\n",
       "    </tr>\n",
       "    <tr>\n",
       "      <th>1</th>\n",
       "      <td>Africa</td>\n",
       "      <td>Angola</td>\n",
       "    </tr>\n",
       "    <tr>\n",
       "      <th>2</th>\n",
       "      <td>Africa</td>\n",
       "      <td>Benin</td>\n",
       "    </tr>\n",
       "    <tr>\n",
       "      <th>3</th>\n",
       "      <td>Africa</td>\n",
       "      <td>Botswana</td>\n",
       "    </tr>\n",
       "    <tr>\n",
       "      <th>4</th>\n",
       "      <td>Africa</td>\n",
       "      <td>Burkina</td>\n",
       "    </tr>\n",
       "    <tr>\n",
       "      <th>...</th>\n",
       "      <td>...</td>\n",
       "      <td>...</td>\n",
       "    </tr>\n",
       "    <tr>\n",
       "      <th>191</th>\n",
       "      <td>South America</td>\n",
       "      <td>Paraguay</td>\n",
       "    </tr>\n",
       "    <tr>\n",
       "      <th>192</th>\n",
       "      <td>South America</td>\n",
       "      <td>Peru</td>\n",
       "    </tr>\n",
       "    <tr>\n",
       "      <th>193</th>\n",
       "      <td>South America</td>\n",
       "      <td>Suriname</td>\n",
       "    </tr>\n",
       "    <tr>\n",
       "      <th>194</th>\n",
       "      <td>South America</td>\n",
       "      <td>Uruguay</td>\n",
       "    </tr>\n",
       "    <tr>\n",
       "      <th>195</th>\n",
       "      <td>South America</td>\n",
       "      <td>Venezuela</td>\n",
       "    </tr>\n",
       "  </tbody>\n",
       "</table>\n",
       "<p>196 rows × 2 columns</p>\n",
       "</div>"
      ],
      "text/plain": [
       "         Continent    Country\n",
       "0           Africa    Algeria\n",
       "1           Africa     Angola\n",
       "2           Africa      Benin\n",
       "3           Africa   Botswana\n",
       "4           Africa    Burkina\n",
       "..             ...        ...\n",
       "191  South America   Paraguay\n",
       "192  South America       Peru\n",
       "193  South America   Suriname\n",
       "194  South America    Uruguay\n",
       "195  South America  Venezuela\n",
       "\n",
       "[196 rows x 2 columns]"
      ]
     },
     "execution_count": 11,
     "metadata": {},
     "output_type": "execute_result"
    }
   ],
   "source": [
    "contintent_df = pd.read_csv(\"./test_data_public/Countries by continents.csv\")\n",
    "contintent_df"
   ]
  },
  {
   "cell_type": "code",
   "execution_count": 14,
   "metadata": {},
   "outputs": [],
   "source": [
    "whr = whr.merge(contintent_df, left_on='Country name', right_on='Country', how='left').drop(columns='Country')"
   ]
  },
  {
   "cell_type": "code",
   "execution_count": 15,
   "metadata": {},
   "outputs": [
    {
     "data": {
      "text/html": [
       "<div>\n",
       "<style scoped>\n",
       "    .dataframe tbody tr th:only-of-type {\n",
       "        vertical-align: middle;\n",
       "    }\n",
       "\n",
       "    .dataframe tbody tr th {\n",
       "        vertical-align: top;\n",
       "    }\n",
       "\n",
       "    .dataframe thead th {\n",
       "        text-align: right;\n",
       "    }\n",
       "</style>\n",
       "<table border=\"1\" class=\"dataframe\">\n",
       "  <thead>\n",
       "    <tr style=\"text-align: right;\">\n",
       "      <th></th>\n",
       "      <th>Country name</th>\n",
       "      <th>Ladder score</th>\n",
       "      <th>upperwhisker</th>\n",
       "      <th>lowerwhisker</th>\n",
       "      <th>Explained by: Log GDP per capita</th>\n",
       "      <th>Explained by: Social support</th>\n",
       "      <th>Explained by: Healthy life expectancy</th>\n",
       "      <th>Explained by: Freedom to make life choices</th>\n",
       "      <th>Explained by: Generosity</th>\n",
       "      <th>Explained by: Perceptions of corruption</th>\n",
       "      <th>Dystopia + residual</th>\n",
       "      <th>Continent</th>\n",
       "    </tr>\n",
       "  </thead>\n",
       "  <tbody>\n",
       "    <tr>\n",
       "      <th>0</th>\n",
       "      <td>Finland</td>\n",
       "      <td>7.741</td>\n",
       "      <td>7.815</td>\n",
       "      <td>7.667</td>\n",
       "      <td>1.844</td>\n",
       "      <td>1.572</td>\n",
       "      <td>0.695</td>\n",
       "      <td>0.859</td>\n",
       "      <td>0.142</td>\n",
       "      <td>0.546</td>\n",
       "      <td>2.082</td>\n",
       "      <td>Europe</td>\n",
       "    </tr>\n",
       "    <tr>\n",
       "      <th>1</th>\n",
       "      <td>Denmark</td>\n",
       "      <td>7.583</td>\n",
       "      <td>7.665</td>\n",
       "      <td>7.500</td>\n",
       "      <td>1.908</td>\n",
       "      <td>1.520</td>\n",
       "      <td>0.699</td>\n",
       "      <td>0.823</td>\n",
       "      <td>0.204</td>\n",
       "      <td>0.548</td>\n",
       "      <td>1.881</td>\n",
       "      <td>Europe</td>\n",
       "    </tr>\n",
       "    <tr>\n",
       "      <th>2</th>\n",
       "      <td>Iceland</td>\n",
       "      <td>7.525</td>\n",
       "      <td>7.618</td>\n",
       "      <td>7.433</td>\n",
       "      <td>1.881</td>\n",
       "      <td>1.617</td>\n",
       "      <td>0.718</td>\n",
       "      <td>0.819</td>\n",
       "      <td>0.258</td>\n",
       "      <td>0.182</td>\n",
       "      <td>2.050</td>\n",
       "      <td>Europe</td>\n",
       "    </tr>\n",
       "    <tr>\n",
       "      <th>3</th>\n",
       "      <td>Sweden</td>\n",
       "      <td>7.344</td>\n",
       "      <td>7.422</td>\n",
       "      <td>7.267</td>\n",
       "      <td>1.878</td>\n",
       "      <td>1.501</td>\n",
       "      <td>0.724</td>\n",
       "      <td>0.838</td>\n",
       "      <td>0.221</td>\n",
       "      <td>0.524</td>\n",
       "      <td>1.658</td>\n",
       "      <td>Europe</td>\n",
       "    </tr>\n",
       "    <tr>\n",
       "      <th>4</th>\n",
       "      <td>Israel</td>\n",
       "      <td>7.341</td>\n",
       "      <td>7.405</td>\n",
       "      <td>7.277</td>\n",
       "      <td>1.803</td>\n",
       "      <td>1.513</td>\n",
       "      <td>0.740</td>\n",
       "      <td>0.641</td>\n",
       "      <td>0.153</td>\n",
       "      <td>0.193</td>\n",
       "      <td>2.298</td>\n",
       "      <td>Asia</td>\n",
       "    </tr>\n",
       "    <tr>\n",
       "      <th>...</th>\n",
       "      <td>...</td>\n",
       "      <td>...</td>\n",
       "      <td>...</td>\n",
       "      <td>...</td>\n",
       "      <td>...</td>\n",
       "      <td>...</td>\n",
       "      <td>...</td>\n",
       "      <td>...</td>\n",
       "      <td>...</td>\n",
       "      <td>...</td>\n",
       "      <td>...</td>\n",
       "      <td>...</td>\n",
       "    </tr>\n",
       "    <tr>\n",
       "      <th>138</th>\n",
       "      <td>Congo (Kinshasa)</td>\n",
       "      <td>3.295</td>\n",
       "      <td>3.462</td>\n",
       "      <td>3.128</td>\n",
       "      <td>0.534</td>\n",
       "      <td>0.665</td>\n",
       "      <td>0.262</td>\n",
       "      <td>0.473</td>\n",
       "      <td>0.189</td>\n",
       "      <td>0.072</td>\n",
       "      <td>1.102</td>\n",
       "      <td>NaN</td>\n",
       "    </tr>\n",
       "    <tr>\n",
       "      <th>139</th>\n",
       "      <td>Sierra Leone</td>\n",
       "      <td>3.245</td>\n",
       "      <td>3.366</td>\n",
       "      <td>3.124</td>\n",
       "      <td>0.654</td>\n",
       "      <td>0.566</td>\n",
       "      <td>0.253</td>\n",
       "      <td>0.469</td>\n",
       "      <td>0.181</td>\n",
       "      <td>0.053</td>\n",
       "      <td>1.068</td>\n",
       "      <td>Africa</td>\n",
       "    </tr>\n",
       "    <tr>\n",
       "      <th>140</th>\n",
       "      <td>Lesotho</td>\n",
       "      <td>3.186</td>\n",
       "      <td>3.469</td>\n",
       "      <td>2.904</td>\n",
       "      <td>0.771</td>\n",
       "      <td>0.851</td>\n",
       "      <td>0.000</td>\n",
       "      <td>0.523</td>\n",
       "      <td>0.082</td>\n",
       "      <td>0.085</td>\n",
       "      <td>0.875</td>\n",
       "      <td>Africa</td>\n",
       "    </tr>\n",
       "    <tr>\n",
       "      <th>141</th>\n",
       "      <td>Lebanon</td>\n",
       "      <td>2.707</td>\n",
       "      <td>2.797</td>\n",
       "      <td>2.616</td>\n",
       "      <td>1.377</td>\n",
       "      <td>0.577</td>\n",
       "      <td>0.556</td>\n",
       "      <td>0.173</td>\n",
       "      <td>0.068</td>\n",
       "      <td>0.029</td>\n",
       "      <td>-0.073</td>\n",
       "      <td>Asia</td>\n",
       "    </tr>\n",
       "    <tr>\n",
       "      <th>142</th>\n",
       "      <td>Afghanistan</td>\n",
       "      <td>1.721</td>\n",
       "      <td>1.775</td>\n",
       "      <td>1.667</td>\n",
       "      <td>0.628</td>\n",
       "      <td>0.000</td>\n",
       "      <td>0.242</td>\n",
       "      <td>0.000</td>\n",
       "      <td>0.091</td>\n",
       "      <td>0.088</td>\n",
       "      <td>0.672</td>\n",
       "      <td>Asia</td>\n",
       "    </tr>\n",
       "  </tbody>\n",
       "</table>\n",
       "<p>143 rows × 12 columns</p>\n",
       "</div>"
      ],
      "text/plain": [
       "         Country name  Ladder score  upperwhisker  lowerwhisker  \\\n",
       "0             Finland         7.741         7.815         7.667   \n",
       "1             Denmark         7.583         7.665         7.500   \n",
       "2             Iceland         7.525         7.618         7.433   \n",
       "3              Sweden         7.344         7.422         7.267   \n",
       "4              Israel         7.341         7.405         7.277   \n",
       "..                ...           ...           ...           ...   \n",
       "138  Congo (Kinshasa)         3.295         3.462         3.128   \n",
       "139      Sierra Leone         3.245         3.366         3.124   \n",
       "140           Lesotho         3.186         3.469         2.904   \n",
       "141           Lebanon         2.707         2.797         2.616   \n",
       "142       Afghanistan         1.721         1.775         1.667   \n",
       "\n",
       "     Explained by: Log GDP per capita  Explained by: Social support  \\\n",
       "0                               1.844                         1.572   \n",
       "1                               1.908                         1.520   \n",
       "2                               1.881                         1.617   \n",
       "3                               1.878                         1.501   \n",
       "4                               1.803                         1.513   \n",
       "..                                ...                           ...   \n",
       "138                             0.534                         0.665   \n",
       "139                             0.654                         0.566   \n",
       "140                             0.771                         0.851   \n",
       "141                             1.377                         0.577   \n",
       "142                             0.628                         0.000   \n",
       "\n",
       "     Explained by: Healthy life expectancy  \\\n",
       "0                                    0.695   \n",
       "1                                    0.699   \n",
       "2                                    0.718   \n",
       "3                                    0.724   \n",
       "4                                    0.740   \n",
       "..                                     ...   \n",
       "138                                  0.262   \n",
       "139                                  0.253   \n",
       "140                                  0.000   \n",
       "141                                  0.556   \n",
       "142                                  0.242   \n",
       "\n",
       "     Explained by: Freedom to make life choices  Explained by: Generosity  \\\n",
       "0                                         0.859                     0.142   \n",
       "1                                         0.823                     0.204   \n",
       "2                                         0.819                     0.258   \n",
       "3                                         0.838                     0.221   \n",
       "4                                         0.641                     0.153   \n",
       "..                                          ...                       ...   \n",
       "138                                       0.473                     0.189   \n",
       "139                                       0.469                     0.181   \n",
       "140                                       0.523                     0.082   \n",
       "141                                       0.173                     0.068   \n",
       "142                                       0.000                     0.091   \n",
       "\n",
       "     Explained by: Perceptions of corruption  Dystopia + residual Continent  \n",
       "0                                      0.546                2.082    Europe  \n",
       "1                                      0.548                1.881    Europe  \n",
       "2                                      0.182                2.050    Europe  \n",
       "3                                      0.524                1.658    Europe  \n",
       "4                                      0.193                2.298      Asia  \n",
       "..                                       ...                  ...       ...  \n",
       "138                                    0.072                1.102       NaN  \n",
       "139                                    0.053                1.068    Africa  \n",
       "140                                    0.085                0.875    Africa  \n",
       "141                                    0.029               -0.073      Asia  \n",
       "142                                    0.088                0.672      Asia  \n",
       "\n",
       "[143 rows x 12 columns]"
      ]
     },
     "execution_count": 15,
     "metadata": {},
     "output_type": "execute_result"
    }
   ],
   "source": [
    "whr"
   ]
  },
  {
   "cell_type": "code",
   "execution_count": 94,
   "metadata": {},
   "outputs": [
    {
     "data": {
      "application/vnd.plotly.v1+json": {
       "config": {
        "plotlyServerURL": "https://plot.ly"
       },
       "data": [
        {
         "alignmentgroup": "True",
         "boxpoints": "all",
         "customdata": [
          [
           "Finland",
           7.741
          ],
          [
           "Denmark",
           7.583
          ],
          [
           "Iceland",
           7.525
          ],
          [
           "Sweden",
           7.344
          ],
          [
           "Israel",
           7.341
          ],
          [
           "Netherlands",
           7.319
          ],
          [
           "Norway",
           7.302
          ],
          [
           "Luxembourg",
           7.122
          ],
          [
           "Switzerland",
           7.06
          ],
          [
           "Australia",
           7.057
          ],
          [
           "New Zealand",
           7.029
          ],
          [
           "Costa Rica",
           6.955
          ],
          [
           "Kuwait",
           6.951
          ],
          [
           "Austria",
           6.905
          ],
          [
           "Canada",
           6.9
          ],
          [
           "Belgium",
           6.894
          ],
          [
           "Ireland",
           6.838
          ],
          [
           "Czechia",
           6.822
          ],
          [
           "Lithuania",
           6.818
          ],
          [
           "United Kingdom",
           6.749
          ],
          [
           "Slovenia",
           6.743
          ],
          [
           "United Arab Emirates",
           6.733
          ],
          [
           "United States",
           6.725
          ],
          [
           "Germany",
           6.719
          ],
          [
           "Mexico",
           6.678
          ],
          [
           "Uruguay",
           6.611
          ],
          [
           "France",
           6.609
          ],
          [
           "Saudi Arabia",
           6.594
          ],
          [
           "Kosovo",
           6.561
          ],
          [
           "Singapore",
           6.523
          ],
          [
           "Taiwan",
           6.503
          ],
          [
           "Romania",
           6.491
          ],
          [
           "El Salvador",
           6.469
          ],
          [
           "Estonia",
           6.448
          ],
          [
           "Poland",
           6.442
          ],
          [
           "Spain",
           6.421
          ],
          [
           "Serbia",
           6.411
          ],
          [
           "Chile",
           6.36
          ],
          [
           "Panama",
           6.358
          ],
          [
           "Malta",
           6.346
          ],
          [
           "Italy",
           6.324
          ],
          [
           "Guatemala",
           6.287
          ],
          [
           "Nicaragua",
           6.284
          ],
          [
           "Brazil",
           6.272
          ],
          [
           "Slovakia",
           6.257
          ],
          [
           "Latvia",
           6.234
          ],
          [
           "Uzbekistan",
           6.195
          ],
          [
           "Argentina",
           6.188
          ],
          [
           "Kazakhstan",
           6.188
          ],
          [
           "Cyprus",
           6.068
          ],
          [
           "Japan",
           6.06
          ],
          [
           "South Korea",
           6.058
          ],
          [
           "Philippines",
           6.048
          ],
          [
           "Vietnam",
           6.043
          ],
          [
           "Portugal",
           6.03
          ],
          [
           "Hungary",
           6.017
          ],
          [
           "Paraguay",
           5.977
          ],
          [
           "Thailand",
           5.976
          ],
          [
           "Malaysia",
           5.975
          ],
          [
           "China",
           5.973
          ],
          [
           "Honduras",
           5.968
          ],
          [
           "Bahrain",
           5.959
          ],
          [
           "Croatia",
           5.942
          ],
          [
           "Greece",
           5.934
          ],
          [
           "Bosnia and Herzegovina",
           5.877
          ],
          [
           "Libya",
           5.866
          ],
          [
           "Jamaica",
           5.842
          ],
          [
           "Peru",
           5.841
          ],
          [
           "Dominican Republic",
           5.823
          ],
          [
           "Mauritius",
           5.816
          ],
          [
           "Moldova",
           5.816
          ],
          [
           "Russia",
           5.785
          ],
          [
           "Bolivia",
           5.784
          ],
          [
           "Ecuador",
           5.725
          ],
          [
           "Kyrgyzstan",
           5.714
          ],
          [
           "Montenegro",
           5.707
          ],
          [
           "Mongolia",
           5.696
          ],
          [
           "Colombia",
           5.695
          ],
          [
           "Venezuela",
           5.607
          ],
          [
           "Indonesia",
           5.568
          ],
          [
           "Bulgaria",
           5.463
          ],
          [
           "Armenia",
           5.455
          ],
          [
           "South Africa",
           5.422
          ],
          [
           "North Macedonia",
           5.369
          ],
          [
           "Algeria",
           5.364
          ],
          [
           "Hong Kong",
           5.316
          ],
          [
           "Albania",
           5.304
          ],
          [
           "Tajikistan",
           5.281
          ],
          [
           "Congo (Brazzaville)",
           5.221
          ],
          [
           "Mozambique",
           5.216
          ],
          [
           "Georgia",
           5.185
          ],
          [
           "Iraq",
           5.166
          ],
          [
           "Nepal",
           5.158
          ],
          [
           "Laos",
           5.139
          ],
          [
           "Gabon",
           5.106
          ],
          [
           "Ivory Coast",
           5.08
          ],
          [
           "Guinea",
           5.023
          ],
          [
           "Turkey",
           4.975
          ],
          [
           "Senegal",
           4.969
          ],
          [
           "Iran",
           4.923
          ],
          [
           "Azerbaijan",
           4.893
          ],
          [
           "Nigeria",
           4.881
          ],
          [
           "State of Palestine",
           4.879
          ],
          [
           "Cameroon",
           4.874
          ],
          [
           "Ukraine",
           4.873
          ],
          [
           "Namibia",
           4.832
          ],
          [
           "Morocco",
           4.795
          ],
          [
           "Pakistan",
           4.657
          ],
          [
           "Niger",
           4.556
          ],
          [
           "Burkina Faso",
           4.548
          ],
          [
           "Mauritania",
           4.505
          ],
          [
           "Gambia",
           4.485
          ],
          [
           "Chad",
           4.471
          ],
          [
           "Kenya",
           4.47
          ],
          [
           "Tunisia",
           4.422
          ],
          [
           "Benin",
           4.377
          ],
          [
           "Uganda",
           4.372
          ],
          [
           "Myanmar",
           4.354
          ],
          [
           "Cambodia",
           4.341
          ],
          [
           "Ghana",
           4.289
          ],
          [
           "Liberia",
           4.269
          ],
          [
           "Mali",
           4.232
          ],
          [
           "Madagascar",
           4.228
          ],
          [
           "Togo",
           4.214
          ],
          [
           "Jordan",
           4.186
          ],
          [
           "India",
           4.054
          ],
          [
           "Egypt",
           3.977
          ],
          [
           "Sri Lanka",
           3.898
          ],
          [
           "Bangladesh",
           3.886
          ],
          [
           "Ethiopia",
           3.861
          ],
          [
           "Tanzania",
           3.781
          ],
          [
           "Comoros",
           3.566
          ],
          [
           "Yemen",
           3.561
          ],
          [
           "Zambia",
           3.502
          ],
          [
           "Eswatini",
           3.502
          ],
          [
           "Malawi",
           3.421
          ],
          [
           "Botswana",
           3.383
          ],
          [
           "Zimbabwe",
           3.341
          ],
          [
           "Congo (Kinshasa)",
           3.295
          ],
          [
           "Sierra Leone",
           3.245
          ],
          [
           "Lesotho",
           3.186
          ],
          [
           "Lebanon",
           2.707
          ],
          [
           "Afghanistan",
           1.721
          ]
         ],
         "hovertemplate": "Continent=%{x}<br>Explained by: Log GDP per capita=%{y}<br>Country name=%{customdata[0]}<br>Ladder score=%{customdata[1]}<extra></extra>",
         "legendgroup": "",
         "marker": {
          "color": "rgb(76,114,176)"
         },
         "name": "",
         "notched": false,
         "offsetgroup": "",
         "orientation": "v",
         "quartilemethod": "linear",
         "showlegend": false,
         "type": "box",
         "x": [
          "Europe",
          "Europe",
          "Europe",
          "Europe",
          "Asia",
          "Europe",
          "Europe",
          "Europe",
          "Europe",
          "Oceania",
          "Oceania",
          "North America",
          "Asia",
          "Europe",
          "North America",
          "Europe",
          "Europe",
          "Europe",
          "Europe",
          "Europe",
          "Europe",
          "Asia",
          "North America",
          "Europe",
          "North America",
          "South America",
          "Europe",
          "Asia",
          "Europe",
          "Asia",
          "Asia",
          "Europe",
          "North America",
          "Europe",
          "Europe",
          "Europe",
          "Europe",
          "South America",
          "North America",
          "Europe",
          "Europe",
          "North America",
          "North America",
          "South America",
          "Europe",
          "Europe",
          "Asia",
          "South America",
          "Asia",
          "Europe",
          "Asia",
          "Asia",
          "Asia",
          "Asia",
          "Europe",
          "Europe",
          "South America",
          "Asia",
          "Asia",
          "Asia",
          "North America",
          "Asia",
          "Europe",
          "Europe",
          "Europe",
          "Africa",
          "North America",
          "South America",
          "North America",
          "Africa",
          "Europe",
          "Asia",
          "South America",
          "South America",
          "Asia",
          "Europe",
          "Asia",
          "South America",
          "South America",
          "Asia",
          "Europe",
          "Europe",
          "Africa",
          null,
          "Africa",
          "Asia",
          "Europe",
          "Asia",
          null,
          "Africa",
          "Europe",
          "Asia",
          "Asia",
          "Asia",
          "Africa",
          "Africa",
          "Africa",
          "Europe",
          "Africa",
          "Asia",
          "Europe",
          "Africa",
          null,
          "Africa",
          "Europe",
          "Africa",
          "Africa",
          "Asia",
          "Africa",
          null,
          "Africa",
          "Africa",
          "Africa",
          "Africa",
          "Africa",
          "Africa",
          "Africa",
          null,
          "Asia",
          "Africa",
          "Africa",
          "Africa",
          "Africa",
          "Africa",
          "Asia",
          "Asia",
          "Africa",
          "Asia",
          "Asia",
          "Africa",
          "Africa",
          "Africa",
          "Asia",
          "Africa",
          null,
          "Africa",
          "Africa",
          "Africa",
          null,
          "Africa",
          "Africa",
          "Asia",
          "Asia"
         ],
         "x0": " ",
         "xaxis": "x",
         "y": [
          1.844,
          1.908,
          1.881,
          1.878,
          1.803,
          1.901,
          1.952,
          2.141,
          1.97,
          1.854,
          1.81,
          1.561,
          1.845,
          1.885,
          1.84,
          1.868,
          2.129,
          1.783,
          1.766,
          1.822,
          1.786,
          1.983,
          1.939,
          1.871,
          1.521,
          1.596,
          1.818,
          1.842,
          1.364,
          2.118,
          1.842,
          1.699,
          1.265,
          1.752,
          1.738,
          1.766,
          1.538,
          1.616,
          1.702,
          1.827,
          1.8,
          1.26,
          1.097,
          1.43,
          1.706,
          1.7,
          1.212,
          1.562,
          1.622,
          1.794,
          1.786,
          1.815,
          1.232,
          1.331,
          1.728,
          1.722,
          1.398,
          1.484,
          1.646,
          1.497,
          1.091,
          null,
          1.71,
          1.684,
          1.465,
          1.526,
          1.28,
          1.371,
          1.517,
          1.57,
          1.385,
          1.642,
          1.217,
          1.315,
          1.054,
          1.571,
          1.353,
          1.437,
          0,
          1.361,
          1.629,
          1.444,
          1.389,
          1.475,
          1.324,
          1.909,
          1.438,
          null,
          0.892,
          0.56,
          1.467,
          1.249,
          0.965,
          1.208,
          1.403,
          1.08,
          0.831,
          1.702,
          0.927,
          1.435,
          1.433,
          1.042,
          null,
          0.943,
          1.35,
          1.266,
          1.213,
          1.069,
          0.573,
          0.756,
          1.078,
          0.75,
          0.603,
          1.037,
          1.306,
          0.914,
          0.772,
          0.978,
          1.011,
          1.077,
          0.619,
          0.747,
          0.628,
          0.758,
          1.262,
          1.166,
          1.37,
          1.361,
          1.122,
          0.792,
          0.82,
          0.896,
          0.671,
          0.899,
          1.255,
          0.617,
          1.445,
          0.748,
          0.534,
          0.654,
          0.771,
          1.377,
          0.628
         ],
         "y0": " ",
         "yaxis": "y"
        }
       ],
       "layout": {
        "boxmode": "group",
        "legend": {
         "tracegroupgap": 0
        },
        "template": {
         "data": {
          "bar": [
           {
            "error_x": {
             "color": "rgb(36,36,36)"
            },
            "error_y": {
             "color": "rgb(36,36,36)"
            },
            "marker": {
             "line": {
              "color": "rgb(234,234,242)",
              "width": 0.5
             },
             "pattern": {
              "fillmode": "overlay",
              "size": 10,
              "solidity": 0.2
             }
            },
            "type": "bar"
           }
          ],
          "barpolar": [
           {
            "marker": {
             "line": {
              "color": "rgb(234,234,242)",
              "width": 0.5
             },
             "pattern": {
              "fillmode": "overlay",
              "size": 10,
              "solidity": 0.2
             }
            },
            "type": "barpolar"
           }
          ],
          "carpet": [
           {
            "aaxis": {
             "endlinecolor": "rgb(36,36,36)",
             "gridcolor": "white",
             "linecolor": "white",
             "minorgridcolor": "white",
             "startlinecolor": "rgb(36,36,36)"
            },
            "baxis": {
             "endlinecolor": "rgb(36,36,36)",
             "gridcolor": "white",
             "linecolor": "white",
             "minorgridcolor": "white",
             "startlinecolor": "rgb(36,36,36)"
            },
            "type": "carpet"
           }
          ],
          "choropleth": [
           {
            "colorbar": {
             "outlinewidth": 0,
             "tickcolor": "rgb(36,36,36)",
             "ticklen": 8,
             "ticks": "outside",
             "tickwidth": 2
            },
            "type": "choropleth"
           }
          ],
          "contour": [
           {
            "colorbar": {
             "outlinewidth": 0,
             "tickcolor": "rgb(36,36,36)",
             "ticklen": 8,
             "ticks": "outside",
             "tickwidth": 2
            },
            "colorscale": [
             [
              0,
              "rgb(2,4,25)"
             ],
             [
              0.06274509803921569,
              "rgb(24,15,41)"
             ],
             [
              0.12549019607843137,
              "rgb(47,23,57)"
             ],
             [
              0.18823529411764706,
              "rgb(71,28,72)"
             ],
             [
              0.25098039215686274,
              "rgb(97,30,82)"
             ],
             [
              0.3137254901960784,
              "rgb(123,30,89)"
             ],
             [
              0.3764705882352941,
              "rgb(150,27,91)"
             ],
             [
              0.4392156862745098,
              "rgb(177,22,88)"
             ],
             [
              0.5019607843137255,
              "rgb(203,26,79)"
             ],
             [
              0.5647058823529412,
              "rgb(223,47,67)"
             ],
             [
              0.6274509803921569,
              "rgb(236,76,61)"
             ],
             [
              0.6901960784313725,
              "rgb(242,107,73)"
             ],
             [
              0.7529411764705882,
              "rgb(244,135,95)"
             ],
             [
              0.8156862745098039,
              "rgb(245,162,122)"
             ],
             [
              0.8784313725490196,
              "rgb(246,188,153)"
             ],
             [
              0.9411764705882353,
              "rgb(247,212,187)"
             ],
             [
              1,
              "rgb(250,234,220)"
             ]
            ],
            "type": "contour"
           }
          ],
          "contourcarpet": [
           {
            "colorbar": {
             "outlinewidth": 0,
             "tickcolor": "rgb(36,36,36)",
             "ticklen": 8,
             "ticks": "outside",
             "tickwidth": 2
            },
            "type": "contourcarpet"
           }
          ],
          "heatmap": [
           {
            "colorbar": {
             "outlinewidth": 0,
             "tickcolor": "rgb(36,36,36)",
             "ticklen": 8,
             "ticks": "outside",
             "tickwidth": 2
            },
            "colorscale": [
             [
              0,
              "rgb(2,4,25)"
             ],
             [
              0.06274509803921569,
              "rgb(24,15,41)"
             ],
             [
              0.12549019607843137,
              "rgb(47,23,57)"
             ],
             [
              0.18823529411764706,
              "rgb(71,28,72)"
             ],
             [
              0.25098039215686274,
              "rgb(97,30,82)"
             ],
             [
              0.3137254901960784,
              "rgb(123,30,89)"
             ],
             [
              0.3764705882352941,
              "rgb(150,27,91)"
             ],
             [
              0.4392156862745098,
              "rgb(177,22,88)"
             ],
             [
              0.5019607843137255,
              "rgb(203,26,79)"
             ],
             [
              0.5647058823529412,
              "rgb(223,47,67)"
             ],
             [
              0.6274509803921569,
              "rgb(236,76,61)"
             ],
             [
              0.6901960784313725,
              "rgb(242,107,73)"
             ],
             [
              0.7529411764705882,
              "rgb(244,135,95)"
             ],
             [
              0.8156862745098039,
              "rgb(245,162,122)"
             ],
             [
              0.8784313725490196,
              "rgb(246,188,153)"
             ],
             [
              0.9411764705882353,
              "rgb(247,212,187)"
             ],
             [
              1,
              "rgb(250,234,220)"
             ]
            ],
            "type": "heatmap"
           }
          ],
          "heatmapgl": [
           {
            "colorbar": {
             "outlinewidth": 0,
             "tickcolor": "rgb(36,36,36)",
             "ticklen": 8,
             "ticks": "outside",
             "tickwidth": 2
            },
            "colorscale": [
             [
              0,
              "rgb(2,4,25)"
             ],
             [
              0.06274509803921569,
              "rgb(24,15,41)"
             ],
             [
              0.12549019607843137,
              "rgb(47,23,57)"
             ],
             [
              0.18823529411764706,
              "rgb(71,28,72)"
             ],
             [
              0.25098039215686274,
              "rgb(97,30,82)"
             ],
             [
              0.3137254901960784,
              "rgb(123,30,89)"
             ],
             [
              0.3764705882352941,
              "rgb(150,27,91)"
             ],
             [
              0.4392156862745098,
              "rgb(177,22,88)"
             ],
             [
              0.5019607843137255,
              "rgb(203,26,79)"
             ],
             [
              0.5647058823529412,
              "rgb(223,47,67)"
             ],
             [
              0.6274509803921569,
              "rgb(236,76,61)"
             ],
             [
              0.6901960784313725,
              "rgb(242,107,73)"
             ],
             [
              0.7529411764705882,
              "rgb(244,135,95)"
             ],
             [
              0.8156862745098039,
              "rgb(245,162,122)"
             ],
             [
              0.8784313725490196,
              "rgb(246,188,153)"
             ],
             [
              0.9411764705882353,
              "rgb(247,212,187)"
             ],
             [
              1,
              "rgb(250,234,220)"
             ]
            ],
            "type": "heatmapgl"
           }
          ],
          "histogram": [
           {
            "marker": {
             "pattern": {
              "fillmode": "overlay",
              "size": 10,
              "solidity": 0.2
             }
            },
            "type": "histogram"
           }
          ],
          "histogram2d": [
           {
            "colorbar": {
             "outlinewidth": 0,
             "tickcolor": "rgb(36,36,36)",
             "ticklen": 8,
             "ticks": "outside",
             "tickwidth": 2
            },
            "colorscale": [
             [
              0,
              "rgb(2,4,25)"
             ],
             [
              0.06274509803921569,
              "rgb(24,15,41)"
             ],
             [
              0.12549019607843137,
              "rgb(47,23,57)"
             ],
             [
              0.18823529411764706,
              "rgb(71,28,72)"
             ],
             [
              0.25098039215686274,
              "rgb(97,30,82)"
             ],
             [
              0.3137254901960784,
              "rgb(123,30,89)"
             ],
             [
              0.3764705882352941,
              "rgb(150,27,91)"
             ],
             [
              0.4392156862745098,
              "rgb(177,22,88)"
             ],
             [
              0.5019607843137255,
              "rgb(203,26,79)"
             ],
             [
              0.5647058823529412,
              "rgb(223,47,67)"
             ],
             [
              0.6274509803921569,
              "rgb(236,76,61)"
             ],
             [
              0.6901960784313725,
              "rgb(242,107,73)"
             ],
             [
              0.7529411764705882,
              "rgb(244,135,95)"
             ],
             [
              0.8156862745098039,
              "rgb(245,162,122)"
             ],
             [
              0.8784313725490196,
              "rgb(246,188,153)"
             ],
             [
              0.9411764705882353,
              "rgb(247,212,187)"
             ],
             [
              1,
              "rgb(250,234,220)"
             ]
            ],
            "type": "histogram2d"
           }
          ],
          "histogram2dcontour": [
           {
            "colorbar": {
             "outlinewidth": 0,
             "tickcolor": "rgb(36,36,36)",
             "ticklen": 8,
             "ticks": "outside",
             "tickwidth": 2
            },
            "colorscale": [
             [
              0,
              "rgb(2,4,25)"
             ],
             [
              0.06274509803921569,
              "rgb(24,15,41)"
             ],
             [
              0.12549019607843137,
              "rgb(47,23,57)"
             ],
             [
              0.18823529411764706,
              "rgb(71,28,72)"
             ],
             [
              0.25098039215686274,
              "rgb(97,30,82)"
             ],
             [
              0.3137254901960784,
              "rgb(123,30,89)"
             ],
             [
              0.3764705882352941,
              "rgb(150,27,91)"
             ],
             [
              0.4392156862745098,
              "rgb(177,22,88)"
             ],
             [
              0.5019607843137255,
              "rgb(203,26,79)"
             ],
             [
              0.5647058823529412,
              "rgb(223,47,67)"
             ],
             [
              0.6274509803921569,
              "rgb(236,76,61)"
             ],
             [
              0.6901960784313725,
              "rgb(242,107,73)"
             ],
             [
              0.7529411764705882,
              "rgb(244,135,95)"
             ],
             [
              0.8156862745098039,
              "rgb(245,162,122)"
             ],
             [
              0.8784313725490196,
              "rgb(246,188,153)"
             ],
             [
              0.9411764705882353,
              "rgb(247,212,187)"
             ],
             [
              1,
              "rgb(250,234,220)"
             ]
            ],
            "type": "histogram2dcontour"
           }
          ],
          "mesh3d": [
           {
            "colorbar": {
             "outlinewidth": 0,
             "tickcolor": "rgb(36,36,36)",
             "ticklen": 8,
             "ticks": "outside",
             "tickwidth": 2
            },
            "type": "mesh3d"
           }
          ],
          "parcoords": [
           {
            "line": {
             "colorbar": {
              "outlinewidth": 0,
              "tickcolor": "rgb(36,36,36)",
              "ticklen": 8,
              "ticks": "outside",
              "tickwidth": 2
             }
            },
            "type": "parcoords"
           }
          ],
          "pie": [
           {
            "automargin": true,
            "type": "pie"
           }
          ],
          "scatter": [
           {
            "fillpattern": {
             "fillmode": "overlay",
             "size": 10,
             "solidity": 0.2
            },
            "type": "scatter"
           }
          ],
          "scatter3d": [
           {
            "line": {
             "colorbar": {
              "outlinewidth": 0,
              "tickcolor": "rgb(36,36,36)",
              "ticklen": 8,
              "ticks": "outside",
              "tickwidth": 2
             }
            },
            "marker": {
             "colorbar": {
              "outlinewidth": 0,
              "tickcolor": "rgb(36,36,36)",
              "ticklen": 8,
              "ticks": "outside",
              "tickwidth": 2
             }
            },
            "type": "scatter3d"
           }
          ],
          "scattercarpet": [
           {
            "marker": {
             "colorbar": {
              "outlinewidth": 0,
              "tickcolor": "rgb(36,36,36)",
              "ticklen": 8,
              "ticks": "outside",
              "tickwidth": 2
             }
            },
            "type": "scattercarpet"
           }
          ],
          "scattergeo": [
           {
            "marker": {
             "colorbar": {
              "outlinewidth": 0,
              "tickcolor": "rgb(36,36,36)",
              "ticklen": 8,
              "ticks": "outside",
              "tickwidth": 2
             }
            },
            "type": "scattergeo"
           }
          ],
          "scattergl": [
           {
            "marker": {
             "colorbar": {
              "outlinewidth": 0,
              "tickcolor": "rgb(36,36,36)",
              "ticklen": 8,
              "ticks": "outside",
              "tickwidth": 2
             }
            },
            "type": "scattergl"
           }
          ],
          "scattermapbox": [
           {
            "marker": {
             "colorbar": {
              "outlinewidth": 0,
              "tickcolor": "rgb(36,36,36)",
              "ticklen": 8,
              "ticks": "outside",
              "tickwidth": 2
             }
            },
            "type": "scattermapbox"
           }
          ],
          "scatterpolar": [
           {
            "marker": {
             "colorbar": {
              "outlinewidth": 0,
              "tickcolor": "rgb(36,36,36)",
              "ticklen": 8,
              "ticks": "outside",
              "tickwidth": 2
             }
            },
            "type": "scatterpolar"
           }
          ],
          "scatterpolargl": [
           {
            "marker": {
             "colorbar": {
              "outlinewidth": 0,
              "tickcolor": "rgb(36,36,36)",
              "ticklen": 8,
              "ticks": "outside",
              "tickwidth": 2
             }
            },
            "type": "scatterpolargl"
           }
          ],
          "scatterternary": [
           {
            "marker": {
             "colorbar": {
              "outlinewidth": 0,
              "tickcolor": "rgb(36,36,36)",
              "ticklen": 8,
              "ticks": "outside",
              "tickwidth": 2
             }
            },
            "type": "scatterternary"
           }
          ],
          "surface": [
           {
            "colorbar": {
             "outlinewidth": 0,
             "tickcolor": "rgb(36,36,36)",
             "ticklen": 8,
             "ticks": "outside",
             "tickwidth": 2
            },
            "colorscale": [
             [
              0,
              "rgb(2,4,25)"
             ],
             [
              0.06274509803921569,
              "rgb(24,15,41)"
             ],
             [
              0.12549019607843137,
              "rgb(47,23,57)"
             ],
             [
              0.18823529411764706,
              "rgb(71,28,72)"
             ],
             [
              0.25098039215686274,
              "rgb(97,30,82)"
             ],
             [
              0.3137254901960784,
              "rgb(123,30,89)"
             ],
             [
              0.3764705882352941,
              "rgb(150,27,91)"
             ],
             [
              0.4392156862745098,
              "rgb(177,22,88)"
             ],
             [
              0.5019607843137255,
              "rgb(203,26,79)"
             ],
             [
              0.5647058823529412,
              "rgb(223,47,67)"
             ],
             [
              0.6274509803921569,
              "rgb(236,76,61)"
             ],
             [
              0.6901960784313725,
              "rgb(242,107,73)"
             ],
             [
              0.7529411764705882,
              "rgb(244,135,95)"
             ],
             [
              0.8156862745098039,
              "rgb(245,162,122)"
             ],
             [
              0.8784313725490196,
              "rgb(246,188,153)"
             ],
             [
              0.9411764705882353,
              "rgb(247,212,187)"
             ],
             [
              1,
              "rgb(250,234,220)"
             ]
            ],
            "type": "surface"
           }
          ],
          "table": [
           {
            "cells": {
             "fill": {
              "color": "rgb(231,231,240)"
             },
             "line": {
              "color": "white"
             }
            },
            "header": {
             "fill": {
              "color": "rgb(183,183,191)"
             },
             "line": {
              "color": "white"
             }
            },
            "type": "table"
           }
          ]
         },
         "layout": {
          "annotationdefaults": {
           "arrowcolor": "rgb(67,103,167)"
          },
          "annotations": [
           {
            "font": {
             "color": "red",
             "size": 100
            },
            "name": "draft watermark",
            "opacity": 0.1,
            "showarrow": false,
            "text": "CONFIDENTAL",
            "textangle": -30,
            "x": 0.5,
            "xref": "paper",
            "y": 0.5,
            "yref": "paper"
           }
          ],
          "autotypenumbers": "strict",
          "coloraxis": {
           "colorbar": {
            "outlinewidth": 0,
            "tickcolor": "rgb(36,36,36)",
            "ticklen": 8,
            "ticks": "outside",
            "tickwidth": 2
           }
          },
          "colorscale": {
           "sequential": [
            [
             0,
             "rgb(2,4,25)"
            ],
            [
             0.06274509803921569,
             "rgb(24,15,41)"
            ],
            [
             0.12549019607843137,
             "rgb(47,23,57)"
            ],
            [
             0.18823529411764706,
             "rgb(71,28,72)"
            ],
            [
             0.25098039215686274,
             "rgb(97,30,82)"
            ],
            [
             0.3137254901960784,
             "rgb(123,30,89)"
            ],
            [
             0.3764705882352941,
             "rgb(150,27,91)"
            ],
            [
             0.4392156862745098,
             "rgb(177,22,88)"
            ],
            [
             0.5019607843137255,
             "rgb(203,26,79)"
            ],
            [
             0.5647058823529412,
             "rgb(223,47,67)"
            ],
            [
             0.6274509803921569,
             "rgb(236,76,61)"
            ],
            [
             0.6901960784313725,
             "rgb(242,107,73)"
            ],
            [
             0.7529411764705882,
             "rgb(244,135,95)"
            ],
            [
             0.8156862745098039,
             "rgb(245,162,122)"
            ],
            [
             0.8784313725490196,
             "rgb(246,188,153)"
            ],
            [
             0.9411764705882353,
             "rgb(247,212,187)"
            ],
            [
             1,
             "rgb(250,234,220)"
            ]
           ],
           "sequentialminus": [
            [
             0,
             "rgb(2,4,25)"
            ],
            [
             0.06274509803921569,
             "rgb(24,15,41)"
            ],
            [
             0.12549019607843137,
             "rgb(47,23,57)"
            ],
            [
             0.18823529411764706,
             "rgb(71,28,72)"
            ],
            [
             0.25098039215686274,
             "rgb(97,30,82)"
            ],
            [
             0.3137254901960784,
             "rgb(123,30,89)"
            ],
            [
             0.3764705882352941,
             "rgb(150,27,91)"
            ],
            [
             0.4392156862745098,
             "rgb(177,22,88)"
            ],
            [
             0.5019607843137255,
             "rgb(203,26,79)"
            ],
            [
             0.5647058823529412,
             "rgb(223,47,67)"
            ],
            [
             0.6274509803921569,
             "rgb(236,76,61)"
            ],
            [
             0.6901960784313725,
             "rgb(242,107,73)"
            ],
            [
             0.7529411764705882,
             "rgb(244,135,95)"
            ],
            [
             0.8156862745098039,
             "rgb(245,162,122)"
            ],
            [
             0.8784313725490196,
             "rgb(246,188,153)"
            ],
            [
             0.9411764705882353,
             "rgb(247,212,187)"
            ],
            [
             1,
             "rgb(250,234,220)"
            ]
           ]
          },
          "colorway": [
           "rgb(76,114,176)",
           "rgb(221,132,82)",
           "rgb(85,168,104)",
           "rgb(196,78,82)",
           "rgb(129,114,179)",
           "rgb(147,120,96)",
           "rgb(218,139,195)",
           "rgb(140,140,140)",
           "rgb(204,185,116)",
           "rgb(100,181,205)"
          ],
          "font": {
           "color": "rgb(36,36,36)"
          },
          "geo": {
           "bgcolor": "white",
           "lakecolor": "white",
           "landcolor": "rgb(234,234,242)",
           "showlakes": true,
           "showland": true,
           "subunitcolor": "white"
          },
          "hoverlabel": {
           "align": "left"
          },
          "hovermode": "closest",
          "paper_bgcolor": "white",
          "plot_bgcolor": "rgb(234,234,242)",
          "polar": {
           "angularaxis": {
            "gridcolor": "white",
            "linecolor": "white",
            "showgrid": true,
            "ticks": ""
           },
           "bgcolor": "rgb(234,234,242)",
           "radialaxis": {
            "gridcolor": "white",
            "linecolor": "white",
            "showgrid": true,
            "ticks": ""
           }
          },
          "scene": {
           "xaxis": {
            "backgroundcolor": "rgb(234,234,242)",
            "gridcolor": "white",
            "gridwidth": 2,
            "linecolor": "white",
            "showbackground": true,
            "showgrid": true,
            "ticks": "",
            "zerolinecolor": "white"
           },
           "yaxis": {
            "backgroundcolor": "rgb(234,234,242)",
            "gridcolor": "white",
            "gridwidth": 2,
            "linecolor": "white",
            "showbackground": true,
            "showgrid": true,
            "ticks": "",
            "zerolinecolor": "white"
           },
           "zaxis": {
            "backgroundcolor": "rgb(234,234,242)",
            "gridcolor": "white",
            "gridwidth": 2,
            "linecolor": "white",
            "showbackground": true,
            "showgrid": true,
            "ticks": "",
            "zerolinecolor": "white"
           }
          },
          "shapedefaults": {
           "fillcolor": "rgb(67,103,167)",
           "line": {
            "width": 0
           },
           "opacity": 0.5
          },
          "ternary": {
           "aaxis": {
            "gridcolor": "white",
            "linecolor": "white",
            "showgrid": true,
            "ticks": ""
           },
           "baxis": {
            "gridcolor": "white",
            "linecolor": "white",
            "showgrid": true,
            "ticks": ""
           },
           "bgcolor": "rgb(234,234,242)",
           "caxis": {
            "gridcolor": "white",
            "linecolor": "white",
            "showgrid": true,
            "ticks": ""
           }
          },
          "xaxis": {
           "automargin": true,
           "gridcolor": "white",
           "linecolor": "white",
           "showgrid": true,
           "ticks": "",
           "title": {
            "standoff": 15
           },
           "zerolinecolor": "white"
          },
          "yaxis": {
           "automargin": true,
           "gridcolor": "white",
           "linecolor": "white",
           "showgrid": true,
           "ticks": "",
           "title": {
            "standoff": 15
           },
           "zerolinecolor": "white"
          }
         }
        },
        "title": {
         "text": "Boxplot"
        },
        "xaxis": {
         "anchor": "y",
         "domain": [
          0,
          1
         ],
         "title": {
          "text": "Continent"
         }
        },
        "yaxis": {
         "anchor": "x",
         "domain": [
          0,
          1
         ],
         "title": {
          "text": "Explained by: Log GDP per capita"
         }
        }
       }
      }
     },
     "metadata": {},
     "output_type": "display_data"
    }
   ],
   "source": [
    "boxplot = px.box(whr, \n",
    "                 x='Continent', \n",
    "                 y='Explained by: Log GDP per capita', \n",
    "                 points='all',\n",
    "                 notched=False,\n",
    "                 hover_data=['Country name', 'Ladder score'],\n",
    "                 title=\"Boxplot\")\n",
    "boxplot.update_traces(quartilemethod=\"linear\")\n",
    "boxplot.show()"
   ]
  },
  {
   "cell_type": "code",
   "execution_count": 17,
   "metadata": {},
   "outputs": [
    {
     "name": "stdout",
     "output_type": "stream",
     "text": [
      "<class 'pandas.core.frame.DataFrame'>\n",
      "RangeIndex: 143 entries, 0 to 142\n",
      "Data columns (total 12 columns):\n",
      " #   Column                                      Non-Null Count  Dtype  \n",
      "---  ------                                      --------------  -----  \n",
      " 0   Country name                                143 non-null    object \n",
      " 1   Ladder score                                143 non-null    float64\n",
      " 2   upperwhisker                                143 non-null    float64\n",
      " 3   lowerwhisker                                143 non-null    float64\n",
      " 4   Explained by: Log GDP per capita            140 non-null    float64\n",
      " 5   Explained by: Social support                140 non-null    float64\n",
      " 6   Explained by: Healthy life expectancy       140 non-null    float64\n",
      " 7   Explained by: Freedom to make life choices  140 non-null    float64\n",
      " 8   Explained by: Generosity                    140 non-null    float64\n",
      " 9   Explained by: Perceptions of corruption     140 non-null    float64\n",
      " 10  Dystopia + residual                         140 non-null    float64\n",
      " 11  Continent                                   135 non-null    object \n",
      "dtypes: float64(10), object(2)\n",
      "memory usage: 13.5+ KB\n"
     ]
    }
   ],
   "source": [
    "whr.info()"
   ]
  },
  {
   "cell_type": "code",
   "execution_count": 18,
   "metadata": {},
   "outputs": [
    {
     "data": {
      "text/html": [
       "<div>\n",
       "<style scoped>\n",
       "    .dataframe tbody tr th:only-of-type {\n",
       "        vertical-align: middle;\n",
       "    }\n",
       "\n",
       "    .dataframe tbody tr th {\n",
       "        vertical-align: top;\n",
       "    }\n",
       "\n",
       "    .dataframe thead th {\n",
       "        text-align: right;\n",
       "    }\n",
       "</style>\n",
       "<table border=\"1\" class=\"dataframe\">\n",
       "  <thead>\n",
       "    <tr style=\"text-align: right;\">\n",
       "      <th></th>\n",
       "      <th>Country name</th>\n",
       "      <th>Continent</th>\n",
       "    </tr>\n",
       "  </thead>\n",
       "  <tbody>\n",
       "    <tr>\n",
       "      <th>28</th>\n",
       "      <td>Kosovo</td>\n",
       "      <td>NaN</td>\n",
       "    </tr>\n",
       "    <tr>\n",
       "      <th>83</th>\n",
       "      <td>North Macedonia</td>\n",
       "      <td>NaN</td>\n",
       "    </tr>\n",
       "    <tr>\n",
       "      <th>88</th>\n",
       "      <td>Congo (Brazzaville)</td>\n",
       "      <td>NaN</td>\n",
       "    </tr>\n",
       "    <tr>\n",
       "      <th>102</th>\n",
       "      <td>State of Palestine</td>\n",
       "      <td>NaN</td>\n",
       "    </tr>\n",
       "    <tr>\n",
       "      <th>109</th>\n",
       "      <td>Burkina Faso</td>\n",
       "      <td>NaN</td>\n",
       "    </tr>\n",
       "    <tr>\n",
       "      <th>117</th>\n",
       "      <td>Myanmar</td>\n",
       "      <td>NaN</td>\n",
       "    </tr>\n",
       "    <tr>\n",
       "      <th>134</th>\n",
       "      <td>Eswatini</td>\n",
       "      <td>NaN</td>\n",
       "    </tr>\n",
       "    <tr>\n",
       "      <th>138</th>\n",
       "      <td>Congo (Kinshasa)</td>\n",
       "      <td>NaN</td>\n",
       "    </tr>\n",
       "  </tbody>\n",
       "</table>\n",
       "</div>"
      ],
      "text/plain": [
       "            Country name Continent\n",
       "28                Kosovo       NaN\n",
       "83       North Macedonia       NaN\n",
       "88   Congo (Brazzaville)       NaN\n",
       "102   State of Palestine       NaN\n",
       "109         Burkina Faso       NaN\n",
       "117              Myanmar       NaN\n",
       "134             Eswatini       NaN\n",
       "138     Congo (Kinshasa)       NaN"
      ]
     },
     "execution_count": 18,
     "metadata": {},
     "output_type": "execute_result"
    }
   ],
   "source": [
    "whr[['Country name', 'Continent']][whr[['Country name', 'Continent']]['Continent'].isnull()]"
   ]
  },
  {
   "cell_type": "code",
   "execution_count": 19,
   "metadata": {},
   "outputs": [
    {
     "data": {
      "text/html": [
       "<div>\n",
       "<style scoped>\n",
       "    .dataframe tbody tr th:only-of-type {\n",
       "        vertical-align: middle;\n",
       "    }\n",
       "\n",
       "    .dataframe tbody tr th {\n",
       "        vertical-align: top;\n",
       "    }\n",
       "\n",
       "    .dataframe thead th {\n",
       "        text-align: right;\n",
       "    }\n",
       "</style>\n",
       "<table border=\"1\" class=\"dataframe\">\n",
       "  <thead>\n",
       "    <tr style=\"text-align: right;\">\n",
       "      <th></th>\n",
       "      <th>Continent</th>\n",
       "      <th>Country</th>\n",
       "    </tr>\n",
       "  </thead>\n",
       "  <tbody>\n",
       "    <tr>\n",
       "      <th>0</th>\n",
       "      <td>Africa</td>\n",
       "      <td>Algeria</td>\n",
       "    </tr>\n",
       "    <tr>\n",
       "      <th>1</th>\n",
       "      <td>Africa</td>\n",
       "      <td>Angola</td>\n",
       "    </tr>\n",
       "    <tr>\n",
       "      <th>2</th>\n",
       "      <td>Africa</td>\n",
       "      <td>Benin</td>\n",
       "    </tr>\n",
       "    <tr>\n",
       "      <th>3</th>\n",
       "      <td>Africa</td>\n",
       "      <td>Botswana</td>\n",
       "    </tr>\n",
       "    <tr>\n",
       "      <th>4</th>\n",
       "      <td>Africa</td>\n",
       "      <td>Burkina</td>\n",
       "    </tr>\n",
       "    <tr>\n",
       "      <th>...</th>\n",
       "      <td>...</td>\n",
       "      <td>...</td>\n",
       "    </tr>\n",
       "    <tr>\n",
       "      <th>191</th>\n",
       "      <td>South America</td>\n",
       "      <td>Paraguay</td>\n",
       "    </tr>\n",
       "    <tr>\n",
       "      <th>192</th>\n",
       "      <td>South America</td>\n",
       "      <td>Peru</td>\n",
       "    </tr>\n",
       "    <tr>\n",
       "      <th>193</th>\n",
       "      <td>South America</td>\n",
       "      <td>Suriname</td>\n",
       "    </tr>\n",
       "    <tr>\n",
       "      <th>194</th>\n",
       "      <td>South America</td>\n",
       "      <td>Uruguay</td>\n",
       "    </tr>\n",
       "    <tr>\n",
       "      <th>195</th>\n",
       "      <td>South America</td>\n",
       "      <td>Venezuela</td>\n",
       "    </tr>\n",
       "  </tbody>\n",
       "</table>\n",
       "<p>196 rows × 2 columns</p>\n",
       "</div>"
      ],
      "text/plain": [
       "         Continent    Country\n",
       "0           Africa    Algeria\n",
       "1           Africa     Angola\n",
       "2           Africa      Benin\n",
       "3           Africa   Botswana\n",
       "4           Africa    Burkina\n",
       "..             ...        ...\n",
       "191  South America   Paraguay\n",
       "192  South America       Peru\n",
       "193  South America   Suriname\n",
       "194  South America    Uruguay\n",
       "195  South America  Venezuela\n",
       "\n",
       "[196 rows x 2 columns]"
      ]
     },
     "execution_count": 19,
     "metadata": {},
     "output_type": "execute_result"
    }
   ],
   "source": [
    "contintent_df"
   ]
  },
  {
   "cell_type": "code",
   "execution_count": 20,
   "metadata": {},
   "outputs": [
    {
     "data": {
      "text/plain": [
       "Index([28], dtype='int64')"
      ]
     },
     "execution_count": 20,
     "metadata": {},
     "output_type": "execute_result"
    }
   ],
   "source": [
    "whr[whr['Country name'] == 'Kosovo'].index"
   ]
  },
  {
   "cell_type": "code",
   "execution_count": 21,
   "metadata": {},
   "outputs": [],
   "source": [
    "whr.loc[whr[whr['Country name'] == 'Kosovo'].index, 'Continent'] = 'Europe'"
   ]
  },
  {
   "cell_type": "code",
   "execution_count": 22,
   "metadata": {},
   "outputs": [
    {
     "data": {
      "text/html": [
       "<div>\n",
       "<style scoped>\n",
       "    .dataframe tbody tr th:only-of-type {\n",
       "        vertical-align: middle;\n",
       "    }\n",
       "\n",
       "    .dataframe tbody tr th {\n",
       "        vertical-align: top;\n",
       "    }\n",
       "\n",
       "    .dataframe thead th {\n",
       "        text-align: right;\n",
       "    }\n",
       "</style>\n",
       "<table border=\"1\" class=\"dataframe\">\n",
       "  <thead>\n",
       "    <tr style=\"text-align: right;\">\n",
       "      <th></th>\n",
       "      <th>Country name</th>\n",
       "      <th>Ladder score</th>\n",
       "      <th>upperwhisker</th>\n",
       "      <th>lowerwhisker</th>\n",
       "      <th>Explained by: Log GDP per capita</th>\n",
       "      <th>Explained by: Social support</th>\n",
       "      <th>Explained by: Healthy life expectancy</th>\n",
       "      <th>Explained by: Freedom to make life choices</th>\n",
       "      <th>Explained by: Generosity</th>\n",
       "      <th>Explained by: Perceptions of corruption</th>\n",
       "      <th>Dystopia + residual</th>\n",
       "      <th>Continent</th>\n",
       "    </tr>\n",
       "  </thead>\n",
       "  <tbody>\n",
       "    <tr>\n",
       "      <th>28</th>\n",
       "      <td>Kosovo</td>\n",
       "      <td>6.561</td>\n",
       "      <td>6.667</td>\n",
       "      <td>6.455</td>\n",
       "      <td>1.364</td>\n",
       "      <td>1.277</td>\n",
       "      <td>0.599</td>\n",
       "      <td>0.739</td>\n",
       "      <td>0.254</td>\n",
       "      <td>0.073</td>\n",
       "      <td>2.255</td>\n",
       "      <td>Europe</td>\n",
       "    </tr>\n",
       "  </tbody>\n",
       "</table>\n",
       "</div>"
      ],
      "text/plain": [
       "   Country name  Ladder score  upperwhisker  lowerwhisker  \\\n",
       "28       Kosovo         6.561         6.667         6.455   \n",
       "\n",
       "    Explained by: Log GDP per capita  Explained by: Social support  \\\n",
       "28                             1.364                         1.277   \n",
       "\n",
       "    Explained by: Healthy life expectancy  \\\n",
       "28                                  0.599   \n",
       "\n",
       "    Explained by: Freedom to make life choices  Explained by: Generosity  \\\n",
       "28                                       0.739                     0.254   \n",
       "\n",
       "    Explained by: Perceptions of corruption  Dystopia + residual Continent  \n",
       "28                                    0.073                2.255    Europe  "
      ]
     },
     "execution_count": 22,
     "metadata": {},
     "output_type": "execute_result"
    }
   ],
   "source": [
    "whr[whr['Country name'] == 'Kosovo']"
   ]
  },
  {
   "cell_type": "code",
   "execution_count": 23,
   "metadata": {},
   "outputs": [
    {
     "data": {
      "application/vnd.plotly.v1+json": {
       "config": {
        "plotlyServerURL": "https://plot.ly"
       },
       "data": [
        {
         "coloraxis": "coloraxis",
         "hovertemplate": "x: %{x}<br>y: %{y}<br>color: %{z}<extra></extra>",
         "name": "0",
         "type": "heatmap",
         "x": [
          "Ladder score",
          "Explained by: Log GDP per capita",
          "Explained by: Social support",
          "Explained by: Healthy life expectancy",
          "Explained by: Freedom to make life choices",
          "Explained by: Generosity",
          "Explained by: Perceptions of corruption"
         ],
         "xaxis": "x",
         "y": [
          "Ladder score",
          "Explained by: Log GDP per capita",
          "Explained by: Social support",
          "Explained by: Healthy life expectancy",
          "Explained by: Freedom to make life choices",
          "Explained by: Generosity",
          "Explained by: Perceptions of corruption"
         ],
         "yaxis": "y",
         "z": [
          [
           1,
           0.7685036824504893,
           0.8135420015083895,
           0.7596593784588572,
           0.6444511472915279,
           0.13003823390385097,
           0.4518290387140598
          ],
          [
           0.7685036824504893,
           1,
           0.7268431189903383,
           0.8302561727949419,
           0.41488559042045225,
           -0.05940472594802079,
           0.4442269744559737
          ],
          [
           0.8135420015083895,
           0.7268431189903383,
           1,
           0.7069240554155788,
           0.48464110035641006,
           0.07946580843231578,
           0.25086968196222253
          ],
          [
           0.7596593784588572,
           0.8302561727949419,
           0.7069240554155788,
           1,
           0.4010816038152913,
           0.007148045015717682,
           0.39902575709185584
          ],
          [
           0.6444511472915279,
           0.41488559042045225,
           0.48464110035641006,
           0.4010816038152913,
           1,
           0.2243228504795328,
           0.3441972988220115
          ],
          [
           0.13003823390385097,
           -0.05940472594802079,
           0.07946580843231578,
           0.007148045015717682,
           0.2243228504795328,
           1,
           0.17266582429413718
          ],
          [
           0.4518290387140598,
           0.4442269744559737,
           0.25086968196222253,
           0.39902575709185584,
           0.3441972988220115,
           0.17266582429413718,
           1
          ]
         ]
        }
       ],
       "layout": {
        "coloraxis": {
         "colorscale": [
          [
           0,
           "#0d0887"
          ],
          [
           0.1111111111111111,
           "#46039f"
          ],
          [
           0.2222222222222222,
           "#7201a8"
          ],
          [
           0.3333333333333333,
           "#9c179e"
          ],
          [
           0.4444444444444444,
           "#bd3786"
          ],
          [
           0.5555555555555556,
           "#d8576b"
          ],
          [
           0.6666666666666666,
           "#ed7953"
          ],
          [
           0.7777777777777778,
           "#fb9f3a"
          ],
          [
           0.8888888888888888,
           "#fdca26"
          ],
          [
           1,
           "#f0f921"
          ]
         ]
        },
        "margin": {
         "t": 60
        },
        "template": {
         "data": {
          "bar": [
           {
            "error_x": {
             "color": "#2a3f5f"
            },
            "error_y": {
             "color": "#2a3f5f"
            },
            "marker": {
             "line": {
              "color": "#E5ECF6",
              "width": 0.5
             },
             "pattern": {
              "fillmode": "overlay",
              "size": 10,
              "solidity": 0.2
             }
            },
            "type": "bar"
           }
          ],
          "barpolar": [
           {
            "marker": {
             "line": {
              "color": "#E5ECF6",
              "width": 0.5
             },
             "pattern": {
              "fillmode": "overlay",
              "size": 10,
              "solidity": 0.2
             }
            },
            "type": "barpolar"
           }
          ],
          "carpet": [
           {
            "aaxis": {
             "endlinecolor": "#2a3f5f",
             "gridcolor": "white",
             "linecolor": "white",
             "minorgridcolor": "white",
             "startlinecolor": "#2a3f5f"
            },
            "baxis": {
             "endlinecolor": "#2a3f5f",
             "gridcolor": "white",
             "linecolor": "white",
             "minorgridcolor": "white",
             "startlinecolor": "#2a3f5f"
            },
            "type": "carpet"
           }
          ],
          "choropleth": [
           {
            "colorbar": {
             "outlinewidth": 0,
             "ticks": ""
            },
            "type": "choropleth"
           }
          ],
          "contour": [
           {
            "colorbar": {
             "outlinewidth": 0,
             "ticks": ""
            },
            "colorscale": [
             [
              0,
              "#0d0887"
             ],
             [
              0.1111111111111111,
              "#46039f"
             ],
             [
              0.2222222222222222,
              "#7201a8"
             ],
             [
              0.3333333333333333,
              "#9c179e"
             ],
             [
              0.4444444444444444,
              "#bd3786"
             ],
             [
              0.5555555555555556,
              "#d8576b"
             ],
             [
              0.6666666666666666,
              "#ed7953"
             ],
             [
              0.7777777777777778,
              "#fb9f3a"
             ],
             [
              0.8888888888888888,
              "#fdca26"
             ],
             [
              1,
              "#f0f921"
             ]
            ],
            "type": "contour"
           }
          ],
          "contourcarpet": [
           {
            "colorbar": {
             "outlinewidth": 0,
             "ticks": ""
            },
            "type": "contourcarpet"
           }
          ],
          "heatmap": [
           {
            "colorbar": {
             "outlinewidth": 0,
             "ticks": ""
            },
            "colorscale": [
             [
              0,
              "#0d0887"
             ],
             [
              0.1111111111111111,
              "#46039f"
             ],
             [
              0.2222222222222222,
              "#7201a8"
             ],
             [
              0.3333333333333333,
              "#9c179e"
             ],
             [
              0.4444444444444444,
              "#bd3786"
             ],
             [
              0.5555555555555556,
              "#d8576b"
             ],
             [
              0.6666666666666666,
              "#ed7953"
             ],
             [
              0.7777777777777778,
              "#fb9f3a"
             ],
             [
              0.8888888888888888,
              "#fdca26"
             ],
             [
              1,
              "#f0f921"
             ]
            ],
            "type": "heatmap"
           }
          ],
          "heatmapgl": [
           {
            "colorbar": {
             "outlinewidth": 0,
             "ticks": ""
            },
            "colorscale": [
             [
              0,
              "#0d0887"
             ],
             [
              0.1111111111111111,
              "#46039f"
             ],
             [
              0.2222222222222222,
              "#7201a8"
             ],
             [
              0.3333333333333333,
              "#9c179e"
             ],
             [
              0.4444444444444444,
              "#bd3786"
             ],
             [
              0.5555555555555556,
              "#d8576b"
             ],
             [
              0.6666666666666666,
              "#ed7953"
             ],
             [
              0.7777777777777778,
              "#fb9f3a"
             ],
             [
              0.8888888888888888,
              "#fdca26"
             ],
             [
              1,
              "#f0f921"
             ]
            ],
            "type": "heatmapgl"
           }
          ],
          "histogram": [
           {
            "marker": {
             "pattern": {
              "fillmode": "overlay",
              "size": 10,
              "solidity": 0.2
             }
            },
            "type": "histogram"
           }
          ],
          "histogram2d": [
           {
            "colorbar": {
             "outlinewidth": 0,
             "ticks": ""
            },
            "colorscale": [
             [
              0,
              "#0d0887"
             ],
             [
              0.1111111111111111,
              "#46039f"
             ],
             [
              0.2222222222222222,
              "#7201a8"
             ],
             [
              0.3333333333333333,
              "#9c179e"
             ],
             [
              0.4444444444444444,
              "#bd3786"
             ],
             [
              0.5555555555555556,
              "#d8576b"
             ],
             [
              0.6666666666666666,
              "#ed7953"
             ],
             [
              0.7777777777777778,
              "#fb9f3a"
             ],
             [
              0.8888888888888888,
              "#fdca26"
             ],
             [
              1,
              "#f0f921"
             ]
            ],
            "type": "histogram2d"
           }
          ],
          "histogram2dcontour": [
           {
            "colorbar": {
             "outlinewidth": 0,
             "ticks": ""
            },
            "colorscale": [
             [
              0,
              "#0d0887"
             ],
             [
              0.1111111111111111,
              "#46039f"
             ],
             [
              0.2222222222222222,
              "#7201a8"
             ],
             [
              0.3333333333333333,
              "#9c179e"
             ],
             [
              0.4444444444444444,
              "#bd3786"
             ],
             [
              0.5555555555555556,
              "#d8576b"
             ],
             [
              0.6666666666666666,
              "#ed7953"
             ],
             [
              0.7777777777777778,
              "#fb9f3a"
             ],
             [
              0.8888888888888888,
              "#fdca26"
             ],
             [
              1,
              "#f0f921"
             ]
            ],
            "type": "histogram2dcontour"
           }
          ],
          "mesh3d": [
           {
            "colorbar": {
             "outlinewidth": 0,
             "ticks": ""
            },
            "type": "mesh3d"
           }
          ],
          "parcoords": [
           {
            "line": {
             "colorbar": {
              "outlinewidth": 0,
              "ticks": ""
             }
            },
            "type": "parcoords"
           }
          ],
          "pie": [
           {
            "automargin": true,
            "type": "pie"
           }
          ],
          "scatter": [
           {
            "fillpattern": {
             "fillmode": "overlay",
             "size": 10,
             "solidity": 0.2
            },
            "type": "scatter"
           }
          ],
          "scatter3d": [
           {
            "line": {
             "colorbar": {
              "outlinewidth": 0,
              "ticks": ""
             }
            },
            "marker": {
             "colorbar": {
              "outlinewidth": 0,
              "ticks": ""
             }
            },
            "type": "scatter3d"
           }
          ],
          "scattercarpet": [
           {
            "marker": {
             "colorbar": {
              "outlinewidth": 0,
              "ticks": ""
             }
            },
            "type": "scattercarpet"
           }
          ],
          "scattergeo": [
           {
            "marker": {
             "colorbar": {
              "outlinewidth": 0,
              "ticks": ""
             }
            },
            "type": "scattergeo"
           }
          ],
          "scattergl": [
           {
            "marker": {
             "colorbar": {
              "outlinewidth": 0,
              "ticks": ""
             }
            },
            "type": "scattergl"
           }
          ],
          "scattermapbox": [
           {
            "marker": {
             "colorbar": {
              "outlinewidth": 0,
              "ticks": ""
             }
            },
            "type": "scattermapbox"
           }
          ],
          "scatterpolar": [
           {
            "marker": {
             "colorbar": {
              "outlinewidth": 0,
              "ticks": ""
             }
            },
            "type": "scatterpolar"
           }
          ],
          "scatterpolargl": [
           {
            "marker": {
             "colorbar": {
              "outlinewidth": 0,
              "ticks": ""
             }
            },
            "type": "scatterpolargl"
           }
          ],
          "scatterternary": [
           {
            "marker": {
             "colorbar": {
              "outlinewidth": 0,
              "ticks": ""
             }
            },
            "type": "scatterternary"
           }
          ],
          "surface": [
           {
            "colorbar": {
             "outlinewidth": 0,
             "ticks": ""
            },
            "colorscale": [
             [
              0,
              "#0d0887"
             ],
             [
              0.1111111111111111,
              "#46039f"
             ],
             [
              0.2222222222222222,
              "#7201a8"
             ],
             [
              0.3333333333333333,
              "#9c179e"
             ],
             [
              0.4444444444444444,
              "#bd3786"
             ],
             [
              0.5555555555555556,
              "#d8576b"
             ],
             [
              0.6666666666666666,
              "#ed7953"
             ],
             [
              0.7777777777777778,
              "#fb9f3a"
             ],
             [
              0.8888888888888888,
              "#fdca26"
             ],
             [
              1,
              "#f0f921"
             ]
            ],
            "type": "surface"
           }
          ],
          "table": [
           {
            "cells": {
             "fill": {
              "color": "#EBF0F8"
             },
             "line": {
              "color": "white"
             }
            },
            "header": {
             "fill": {
              "color": "#C8D4E3"
             },
             "line": {
              "color": "white"
             }
            },
            "type": "table"
           }
          ]
         },
         "layout": {
          "annotationdefaults": {
           "arrowcolor": "#2a3f5f",
           "arrowhead": 0,
           "arrowwidth": 1
          },
          "autotypenumbers": "strict",
          "coloraxis": {
           "colorbar": {
            "outlinewidth": 0,
            "ticks": ""
           }
          },
          "colorscale": {
           "diverging": [
            [
             0,
             "#8e0152"
            ],
            [
             0.1,
             "#c51b7d"
            ],
            [
             0.2,
             "#de77ae"
            ],
            [
             0.3,
             "#f1b6da"
            ],
            [
             0.4,
             "#fde0ef"
            ],
            [
             0.5,
             "#f7f7f7"
            ],
            [
             0.6,
             "#e6f5d0"
            ],
            [
             0.7,
             "#b8e186"
            ],
            [
             0.8,
             "#7fbc41"
            ],
            [
             0.9,
             "#4d9221"
            ],
            [
             1,
             "#276419"
            ]
           ],
           "sequential": [
            [
             0,
             "#0d0887"
            ],
            [
             0.1111111111111111,
             "#46039f"
            ],
            [
             0.2222222222222222,
             "#7201a8"
            ],
            [
             0.3333333333333333,
             "#9c179e"
            ],
            [
             0.4444444444444444,
             "#bd3786"
            ],
            [
             0.5555555555555556,
             "#d8576b"
            ],
            [
             0.6666666666666666,
             "#ed7953"
            ],
            [
             0.7777777777777778,
             "#fb9f3a"
            ],
            [
             0.8888888888888888,
             "#fdca26"
            ],
            [
             1,
             "#f0f921"
            ]
           ],
           "sequentialminus": [
            [
             0,
             "#0d0887"
            ],
            [
             0.1111111111111111,
             "#46039f"
            ],
            [
             0.2222222222222222,
             "#7201a8"
            ],
            [
             0.3333333333333333,
             "#9c179e"
            ],
            [
             0.4444444444444444,
             "#bd3786"
            ],
            [
             0.5555555555555556,
             "#d8576b"
            ],
            [
             0.6666666666666666,
             "#ed7953"
            ],
            [
             0.7777777777777778,
             "#fb9f3a"
            ],
            [
             0.8888888888888888,
             "#fdca26"
            ],
            [
             1,
             "#f0f921"
            ]
           ]
          },
          "colorway": [
           "#636efa",
           "#EF553B",
           "#00cc96",
           "#ab63fa",
           "#FFA15A",
           "#19d3f3",
           "#FF6692",
           "#B6E880",
           "#FF97FF",
           "#FECB52"
          ],
          "font": {
           "color": "#2a3f5f"
          },
          "geo": {
           "bgcolor": "white",
           "lakecolor": "white",
           "landcolor": "#E5ECF6",
           "showlakes": true,
           "showland": true,
           "subunitcolor": "white"
          },
          "hoverlabel": {
           "align": "left"
          },
          "hovermode": "closest",
          "mapbox": {
           "style": "light"
          },
          "paper_bgcolor": "white",
          "plot_bgcolor": "#E5ECF6",
          "polar": {
           "angularaxis": {
            "gridcolor": "white",
            "linecolor": "white",
            "ticks": ""
           },
           "bgcolor": "#E5ECF6",
           "radialaxis": {
            "gridcolor": "white",
            "linecolor": "white",
            "ticks": ""
           }
          },
          "scene": {
           "xaxis": {
            "backgroundcolor": "#E5ECF6",
            "gridcolor": "white",
            "gridwidth": 2,
            "linecolor": "white",
            "showbackground": true,
            "ticks": "",
            "zerolinecolor": "white"
           },
           "yaxis": {
            "backgroundcolor": "#E5ECF6",
            "gridcolor": "white",
            "gridwidth": 2,
            "linecolor": "white",
            "showbackground": true,
            "ticks": "",
            "zerolinecolor": "white"
           },
           "zaxis": {
            "backgroundcolor": "#E5ECF6",
            "gridcolor": "white",
            "gridwidth": 2,
            "linecolor": "white",
            "showbackground": true,
            "ticks": "",
            "zerolinecolor": "white"
           }
          },
          "shapedefaults": {
           "line": {
            "color": "#2a3f5f"
           }
          },
          "ternary": {
           "aaxis": {
            "gridcolor": "white",
            "linecolor": "white",
            "ticks": ""
           },
           "baxis": {
            "gridcolor": "white",
            "linecolor": "white",
            "ticks": ""
           },
           "bgcolor": "#E5ECF6",
           "caxis": {
            "gridcolor": "white",
            "linecolor": "white",
            "ticks": ""
           }
          },
          "title": {
           "x": 0.05
          },
          "xaxis": {
           "automargin": true,
           "gridcolor": "white",
           "linecolor": "white",
           "ticks": "",
           "title": {
            "standoff": 15
           },
           "zerolinecolor": "white",
           "zerolinewidth": 2
          },
          "yaxis": {
           "automargin": true,
           "gridcolor": "white",
           "linecolor": "white",
           "ticks": "",
           "title": {
            "standoff": 15
           },
           "zerolinecolor": "white",
           "zerolinewidth": 2
          }
         }
        },
        "xaxis": {
         "anchor": "y",
         "constrain": "domain",
         "domain": [
          0,
          1
         ],
         "scaleanchor": "y"
        },
        "yaxis": {
         "anchor": "x",
         "autorange": "reversed",
         "constrain": "domain",
         "domain": [
          0,
          1
         ]
        }
       }
      }
     },
     "metadata": {},
     "output_type": "display_data"
    }
   ],
   "source": [
    "heatmap = px.imshow(whr[['Ladder score', 'Explained by: Log GDP per capita', 'Explained by: Social support', 'Explained by: Healthy life expectancy', 'Explained by: Freedom to make life choices', 'Explained by: Generosity', 'Explained by: Perceptions of corruption']].corr())\n",
    "heatmap.show()"
   ]
  },
  {
   "cell_type": "code",
   "execution_count": 24,
   "metadata": {},
   "outputs": [
    {
     "data": {
      "text/plain": [
       "<Axes: title={'center': 'Boxplot'}>"
      ]
     },
     "execution_count": 24,
     "metadata": {},
     "output_type": "execute_result"
    },
    {
     "data": {
      "image/png": "[encoded data removed]",
      "text/plain": [
       "<Figure size 640x480 with 1 Axes>"
      ]
     },
     "metadata": {},
     "output_type": "display_data"
    }
   ],
   "source": [
    "whr['Ladder score'].plot(kind=\"box\", title='Boxplot')"
   ]
  },
  {
   "cell_type": "code",
   "execution_count": 25,
   "metadata": {},
   "outputs": [
    {
     "data": {
      "text/html": [
       "<div>\n",
       "<style scoped>\n",
       "    .dataframe tbody tr th:only-of-type {\n",
       "        vertical-align: middle;\n",
       "    }\n",
       "\n",
       "    .dataframe tbody tr th {\n",
       "        vertical-align: top;\n",
       "    }\n",
       "\n",
       "    .dataframe thead th {\n",
       "        text-align: right;\n",
       "    }\n",
       "</style>\n",
       "<table border=\"1\" class=\"dataframe\">\n",
       "  <thead>\n",
       "    <tr style=\"text-align: right;\">\n",
       "      <th></th>\n",
       "      <th>Country name</th>\n",
       "      <th>Ladder score</th>\n",
       "      <th>upperwhisker</th>\n",
       "      <th>lowerwhisker</th>\n",
       "      <th>Explained by: Log GDP per capita</th>\n",
       "      <th>Explained by: Social support</th>\n",
       "      <th>Explained by: Healthy life expectancy</th>\n",
       "      <th>Explained by: Freedom to make life choices</th>\n",
       "      <th>Explained by: Generosity</th>\n",
       "      <th>Explained by: Perceptions of corruption</th>\n",
       "      <th>Dystopia + residual</th>\n",
       "      <th>Continent</th>\n",
       "    </tr>\n",
       "  </thead>\n",
       "  <tbody>\n",
       "    <tr>\n",
       "      <th>0</th>\n",
       "      <td>Finland</td>\n",
       "      <td>7.741</td>\n",
       "      <td>7.815</td>\n",
       "      <td>7.667</td>\n",
       "      <td>1.844</td>\n",
       "      <td>1.572</td>\n",
       "      <td>0.695</td>\n",
       "      <td>0.859</td>\n",
       "      <td>0.142</td>\n",
       "      <td>0.546</td>\n",
       "      <td>2.082</td>\n",
       "      <td>Europe</td>\n",
       "    </tr>\n",
       "    <tr>\n",
       "      <th>1</th>\n",
       "      <td>Denmark</td>\n",
       "      <td>7.583</td>\n",
       "      <td>7.665</td>\n",
       "      <td>7.500</td>\n",
       "      <td>1.908</td>\n",
       "      <td>1.520</td>\n",
       "      <td>0.699</td>\n",
       "      <td>0.823</td>\n",
       "      <td>0.204</td>\n",
       "      <td>0.548</td>\n",
       "      <td>1.881</td>\n",
       "      <td>Europe</td>\n",
       "    </tr>\n",
       "    <tr>\n",
       "      <th>2</th>\n",
       "      <td>Iceland</td>\n",
       "      <td>7.525</td>\n",
       "      <td>7.618</td>\n",
       "      <td>7.433</td>\n",
       "      <td>1.881</td>\n",
       "      <td>1.617</td>\n",
       "      <td>0.718</td>\n",
       "      <td>0.819</td>\n",
       "      <td>0.258</td>\n",
       "      <td>0.182</td>\n",
       "      <td>2.050</td>\n",
       "      <td>Europe</td>\n",
       "    </tr>\n",
       "    <tr>\n",
       "      <th>3</th>\n",
       "      <td>Sweden</td>\n",
       "      <td>7.344</td>\n",
       "      <td>7.422</td>\n",
       "      <td>7.267</td>\n",
       "      <td>1.878</td>\n",
       "      <td>1.501</td>\n",
       "      <td>0.724</td>\n",
       "      <td>0.838</td>\n",
       "      <td>0.221</td>\n",
       "      <td>0.524</td>\n",
       "      <td>1.658</td>\n",
       "      <td>Europe</td>\n",
       "    </tr>\n",
       "    <tr>\n",
       "      <th>4</th>\n",
       "      <td>Israel</td>\n",
       "      <td>7.341</td>\n",
       "      <td>7.405</td>\n",
       "      <td>7.277</td>\n",
       "      <td>1.803</td>\n",
       "      <td>1.513</td>\n",
       "      <td>0.740</td>\n",
       "      <td>0.641</td>\n",
       "      <td>0.153</td>\n",
       "      <td>0.193</td>\n",
       "      <td>2.298</td>\n",
       "      <td>Asia</td>\n",
       "    </tr>\n",
       "  </tbody>\n",
       "</table>\n",
       "</div>"
      ],
      "text/plain": [
       "  Country name  Ladder score  upperwhisker  lowerwhisker  \\\n",
       "0      Finland         7.741         7.815         7.667   \n",
       "1      Denmark         7.583         7.665         7.500   \n",
       "2      Iceland         7.525         7.618         7.433   \n",
       "3       Sweden         7.344         7.422         7.267   \n",
       "4       Israel         7.341         7.405         7.277   \n",
       "\n",
       "   Explained by: Log GDP per capita  Explained by: Social support  \\\n",
       "0                             1.844                         1.572   \n",
       "1                             1.908                         1.520   \n",
       "2                             1.881                         1.617   \n",
       "3                             1.878                         1.501   \n",
       "4                             1.803                         1.513   \n",
       "\n",
       "   Explained by: Healthy life expectancy  \\\n",
       "0                                  0.695   \n",
       "1                                  0.699   \n",
       "2                                  0.718   \n",
       "3                                  0.724   \n",
       "4                                  0.740   \n",
       "\n",
       "   Explained by: Freedom to make life choices  Explained by: Generosity  \\\n",
       "0                                       0.859                     0.142   \n",
       "1                                       0.823                     0.204   \n",
       "2                                       0.819                     0.258   \n",
       "3                                       0.838                     0.221   \n",
       "4                                       0.641                     0.153   \n",
       "\n",
       "   Explained by: Perceptions of corruption  Dystopia + residual Continent  \n",
       "0                                    0.546                2.082    Europe  \n",
       "1                                    0.548                1.881    Europe  \n",
       "2                                    0.182                2.050    Europe  \n",
       "3                                    0.524                1.658    Europe  \n",
       "4                                    0.193                2.298      Asia  "
      ]
     },
     "execution_count": 25,
     "metadata": {},
     "output_type": "execute_result"
    }
   ],
   "source": [
    "whr.head()"
   ]
  },
  {
   "cell_type": "code",
   "execution_count": 27,
   "metadata": {},
   "outputs": [],
   "source": [
    "whr['Grouping mean'] = ['Ladder score above mean' if x >= whr['Ladder score'].mean() else 'Ladder score below mean' for x in whr['Ladder score']]"
   ]
  },
  {
   "cell_type": "code",
   "execution_count": 78,
   "metadata": {},
   "outputs": [
    {
     "data": {
      "application/vnd.plotly.v1+json": {
       "config": {
        "plotlyServerURL": "https://plot.ly"
       },
       "data": [
        {
         "alignmentgroup": "True",
         "boxpoints": "all",
         "customdata": [
          [
           "Finland",
           7.741
          ],
          [
           "Denmark",
           7.583
          ],
          [
           "Iceland",
           7.525
          ],
          [
           "Sweden",
           7.344
          ],
          [
           "Israel",
           7.341
          ],
          [
           "Netherlands",
           7.319
          ],
          [
           "Norway",
           7.302
          ],
          [
           "Luxembourg",
           7.122
          ],
          [
           "Switzerland",
           7.06
          ],
          [
           "Australia",
           7.057
          ],
          [
           "New Zealand",
           7.029
          ],
          [
           "Costa Rica",
           6.955
          ],
          [
           "Kuwait",
           6.951
          ],
          [
           "Austria",
           6.905
          ],
          [
           "Canada",
           6.9
          ],
          [
           "Belgium",
           6.894
          ],
          [
           "Ireland",
           6.838
          ],
          [
           "Czechia",
           6.822
          ],
          [
           "Lithuania",
           6.818
          ],
          [
           "United Kingdom",
           6.749
          ],
          [
           "Slovenia",
           6.743
          ],
          [
           "United Arab Emirates",
           6.733
          ],
          [
           "United States",
           6.725
          ],
          [
           "Germany",
           6.719
          ],
          [
           "Mexico",
           6.678
          ],
          [
           "Uruguay",
           6.611
          ],
          [
           "France",
           6.609
          ],
          [
           "Saudi Arabia",
           6.594
          ],
          [
           "Kosovo",
           6.561
          ],
          [
           "Singapore",
           6.523
          ],
          [
           "Taiwan",
           6.503
          ],
          [
           "Romania",
           6.491
          ],
          [
           "El Salvador",
           6.469
          ],
          [
           "Estonia",
           6.448
          ],
          [
           "Poland",
           6.442
          ],
          [
           "Spain",
           6.421
          ],
          [
           "Serbia",
           6.411
          ],
          [
           "Chile",
           6.36
          ],
          [
           "Panama",
           6.358
          ],
          [
           "Malta",
           6.346
          ],
          [
           "Italy",
           6.324
          ],
          [
           "Guatemala",
           6.287
          ],
          [
           "Nicaragua",
           6.284
          ],
          [
           "Brazil",
           6.272
          ],
          [
           "Slovakia",
           6.257
          ],
          [
           "Latvia",
           6.234
          ],
          [
           "Uzbekistan",
           6.195
          ],
          [
           "Argentina",
           6.188
          ],
          [
           "Kazakhstan",
           6.188
          ],
          [
           "Cyprus",
           6.068
          ],
          [
           "Japan",
           6.06
          ],
          [
           "South Korea",
           6.058
          ],
          [
           "Philippines",
           6.048
          ],
          [
           "Vietnam",
           6.043
          ],
          [
           "Portugal",
           6.03
          ],
          [
           "Hungary",
           6.017
          ],
          [
           "Paraguay",
           5.977
          ],
          [
           "Thailand",
           5.976
          ],
          [
           "Malaysia",
           5.975
          ],
          [
           "China",
           5.973
          ],
          [
           "Honduras",
           5.968
          ],
          [
           "Croatia",
           5.942
          ],
          [
           "Greece",
           5.934
          ],
          [
           "Bosnia and Herzegovina",
           5.877
          ],
          [
           "Libya",
           5.866
          ],
          [
           "Jamaica",
           5.842
          ],
          [
           "Peru",
           5.841
          ],
          [
           "Dominican Republic",
           5.823
          ],
          [
           "Mauritius",
           5.816
          ],
          [
           "Moldova",
           5.816
          ],
          [
           "Russia",
           5.785
          ],
          [
           "Bolivia",
           5.784
          ],
          [
           "Ecuador",
           5.725
          ],
          [
           "Kyrgyzstan",
           5.714
          ],
          [
           "Montenegro",
           5.707
          ],
          [
           "Mongolia",
           5.696
          ],
          [
           "Colombia",
           5.695
          ],
          [
           "Indonesia",
           5.568
          ]
         ],
         "hovertemplate": "Grouping mean=Ladder score above mean<br>Continent=%{x}<br>Explained by: Log GDP per capita=%{y}<br>Country name=%{customdata[0]}<br>Ladder score=%{customdata[1]}<extra></extra>",
         "legendgroup": "Ladder score above mean",
         "marker": {
          "color": "#F8766D"
         },
         "name": "Ladder score above mean",
         "notched": false,
         "offsetgroup": "Ladder score above mean",
         "orientation": "v",
         "quartilemethod": "linear",
         "showlegend": true,
         "type": "box",
         "x": [
          "Europe",
          "Europe",
          "Europe",
          "Europe",
          "Asia",
          "Europe",
          "Europe",
          "Europe",
          "Europe",
          "Oceania",
          "Oceania",
          "North America",
          "Asia",
          "Europe",
          "North America",
          "Europe",
          "Europe",
          "Europe",
          "Europe",
          "Europe",
          "Europe",
          "Asia",
          "North America",
          "Europe",
          "North America",
          "South America",
          "Europe",
          "Asia",
          "Europe",
          "Asia",
          "Asia",
          "Europe",
          "North America",
          "Europe",
          "Europe",
          "Europe",
          "Europe",
          "South America",
          "North America",
          "Europe",
          "Europe",
          "North America",
          "North America",
          "South America",
          "Europe",
          "Europe",
          "Asia",
          "South America",
          "Asia",
          "Europe",
          "Asia",
          "Asia",
          "Asia",
          "Asia",
          "Europe",
          "Europe",
          "South America",
          "Asia",
          "Asia",
          "Asia",
          "North America",
          "Europe",
          "Europe",
          "Europe",
          "Africa",
          "North America",
          "South America",
          "North America",
          "Africa",
          "Europe",
          "Asia",
          "South America",
          "South America",
          "Asia",
          "Europe",
          "Asia",
          "South America",
          "Asia"
         ],
         "x0": " ",
         "xaxis": "x",
         "y": [
          1.844,
          1.908,
          1.881,
          1.878,
          1.803,
          1.901,
          1.952,
          2.141,
          1.97,
          1.854,
          1.81,
          1.561,
          1.845,
          1.885,
          1.84,
          1.868,
          2.129,
          1.783,
          1.766,
          1.822,
          1.786,
          1.983,
          1.939,
          1.871,
          1.521,
          1.596,
          1.818,
          1.842,
          1.364,
          2.118,
          1.842,
          1.699,
          1.265,
          1.752,
          1.738,
          1.766,
          1.538,
          1.616,
          1.702,
          1.827,
          1.8,
          1.26,
          1.097,
          1.43,
          1.706,
          1.7,
          1.212,
          1.562,
          1.622,
          1.794,
          1.786,
          1.815,
          1.232,
          1.331,
          1.728,
          1.722,
          1.398,
          1.484,
          1.646,
          1.497,
          1.091,
          1.71,
          1.684,
          1.465,
          1.526,
          1.28,
          1.371,
          1.517,
          1.57,
          1.385,
          1.642,
          1.217,
          1.315,
          1.054,
          1.571,
          1.353,
          1.437,
          1.361
         ],
         "y0": " ",
         "yaxis": "y"
        },
        {
         "alignmentgroup": "True",
         "boxpoints": "all",
         "customdata": [
          [
           "Bulgaria",
           5.463
          ],
          [
           "Armenia",
           5.455
          ],
          [
           "South Africa",
           5.422
          ],
          [
           "North Macedonia",
           5.369
          ],
          [
           "Algeria",
           5.364
          ],
          [
           "Hong Kong",
           5.316
          ],
          [
           "Albania",
           5.304
          ],
          [
           "Congo (Brazzaville)",
           5.221
          ],
          [
           "Mozambique",
           5.216
          ],
          [
           "Georgia",
           5.185
          ],
          [
           "Iraq",
           5.166
          ],
          [
           "Nepal",
           5.158
          ],
          [
           "Laos",
           5.139
          ],
          [
           "Gabon",
           5.106
          ],
          [
           "Ivory Coast",
           5.08
          ],
          [
           "Guinea",
           5.023
          ],
          [
           "Turkey",
           4.975
          ],
          [
           "Senegal",
           4.969
          ],
          [
           "Iran",
           4.923
          ],
          [
           "Azerbaijan",
           4.893
          ],
          [
           "Nigeria",
           4.881
          ],
          [
           "Cameroon",
           4.874
          ],
          [
           "Ukraine",
           4.873
          ],
          [
           "Namibia",
           4.832
          ],
          [
           "Morocco",
           4.795
          ],
          [
           "Pakistan",
           4.657
          ],
          [
           "Niger",
           4.556
          ],
          [
           "Burkina Faso",
           4.548
          ],
          [
           "Mauritania",
           4.505
          ],
          [
           "Gambia",
           4.485
          ],
          [
           "Chad",
           4.471
          ],
          [
           "Kenya",
           4.47
          ],
          [
           "Tunisia",
           4.422
          ],
          [
           "Benin",
           4.377
          ],
          [
           "Uganda",
           4.372
          ],
          [
           "Myanmar",
           4.354
          ],
          [
           "Cambodia",
           4.341
          ],
          [
           "Ghana",
           4.289
          ],
          [
           "Liberia",
           4.269
          ],
          [
           "Mali",
           4.232
          ],
          [
           "Madagascar",
           4.228
          ],
          [
           "Togo",
           4.214
          ],
          [
           "Jordan",
           4.186
          ],
          [
           "India",
           4.054
          ],
          [
           "Egypt",
           3.977
          ],
          [
           "Sri Lanka",
           3.898
          ],
          [
           "Bangladesh",
           3.886
          ],
          [
           "Ethiopia",
           3.861
          ],
          [
           "Tanzania",
           3.781
          ],
          [
           "Comoros",
           3.566
          ],
          [
           "Yemen",
           3.561
          ],
          [
           "Zambia",
           3.502
          ],
          [
           "Eswatini",
           3.502
          ],
          [
           "Malawi",
           3.421
          ],
          [
           "Botswana",
           3.383
          ],
          [
           "Zimbabwe",
           3.341
          ],
          [
           "Congo (Kinshasa)",
           3.295
          ],
          [
           "Sierra Leone",
           3.245
          ],
          [
           "Lesotho",
           3.186
          ],
          [
           "Lebanon",
           2.707
          ],
          [
           "Afghanistan",
           1.721
          ]
         ],
         "hovertemplate": "Grouping mean=Ladder score below mean<br>Continent=%{x}<br>Explained by: Log GDP per capita=%{y}<br>Country name=%{customdata[0]}<br>Ladder score=%{customdata[1]}<extra></extra>",
         "legendgroup": "Ladder score below mean",
         "marker": {
          "color": "#A3A500"
         },
         "name": "Ladder score below mean",
         "notched": false,
         "offsetgroup": "Ladder score below mean",
         "orientation": "v",
         "quartilemethod": "linear",
         "showlegend": true,
         "type": "box",
         "x": [
          "Europe",
          "Europe",
          "Africa",
          null,
          "Africa",
          "Asia",
          "Europe",
          null,
          "Africa",
          "Europe",
          "Asia",
          "Asia",
          "Asia",
          "Africa",
          "Africa",
          "Africa",
          "Europe",
          "Africa",
          "Asia",
          "Europe",
          "Africa",
          "Africa",
          "Europe",
          "Africa",
          "Africa",
          "Asia",
          "Africa",
          null,
          "Africa",
          "Africa",
          "Africa",
          "Africa",
          "Africa",
          "Africa",
          "Africa",
          null,
          "Asia",
          "Africa",
          "Africa",
          "Africa",
          "Africa",
          "Africa",
          "Asia",
          "Asia",
          "Africa",
          "Asia",
          "Asia",
          "Africa",
          "Africa",
          "Africa",
          "Asia",
          "Africa",
          null,
          "Africa",
          "Africa",
          "Africa",
          null,
          "Africa",
          "Africa",
          "Asia",
          "Asia"
         ],
         "x0": " ",
         "xaxis": "x",
         "y": [
          1.629,
          1.444,
          1.389,
          1.475,
          1.324,
          1.909,
          1.438,
          0.892,
          0.56,
          1.467,
          1.249,
          0.965,
          1.208,
          1.403,
          1.08,
          0.831,
          1.702,
          0.927,
          1.435,
          1.433,
          1.042,
          0.943,
          1.35,
          1.266,
          1.213,
          1.069,
          0.573,
          0.756,
          1.078,
          0.75,
          0.603,
          1.037,
          1.306,
          0.914,
          0.772,
          0.978,
          1.011,
          1.077,
          0.619,
          0.747,
          0.628,
          0.758,
          1.262,
          1.166,
          1.37,
          1.361,
          1.122,
          0.792,
          0.82,
          0.896,
          0.671,
          0.899,
          1.255,
          0.617,
          1.445,
          0.748,
          0.534,
          0.654,
          0.771,
          1.377,
          0.628
         ],
         "y0": " ",
         "yaxis": "y"
        }
       ],
       "layout": {
        "boxmode": "group",
        "legend": {
         "title": {
          "text": "Grouping mean"
         },
         "tracegroupgap": 0
        },
        "template": {
         "data": {
          "bar": [
           {
            "error_x": {
             "color": "rgb(51,51,51)"
            },
            "error_y": {
             "color": "rgb(51,51,51)"
            },
            "marker": {
             "line": {
              "color": "rgb(237,237,237)",
              "width": 0.5
             },
             "pattern": {
              "fillmode": "overlay",
              "size": 10,
              "solidity": 0.2
             }
            },
            "type": "bar"
           }
          ],
          "barpolar": [
           {
            "marker": {
             "line": {
              "color": "rgb(237,237,237)",
              "width": 0.5
             },
             "pattern": {
              "fillmode": "overlay",
              "size": 10,
              "solidity": 0.2
             }
            },
            "type": "barpolar"
           }
          ],
          "carpet": [
           {
            "aaxis": {
             "endlinecolor": "rgb(51,51,51)",
             "gridcolor": "white",
             "linecolor": "white",
             "minorgridcolor": "white",
             "startlinecolor": "rgb(51,51,51)"
            },
            "baxis": {
             "endlinecolor": "rgb(51,51,51)",
             "gridcolor": "white",
             "linecolor": "white",
             "minorgridcolor": "white",
             "startlinecolor": "rgb(51,51,51)"
            },
            "type": "carpet"
           }
          ],
          "choropleth": [
           {
            "colorbar": {
             "outlinewidth": 0,
             "tickcolor": "rgb(237,237,237)",
             "ticklen": 6,
             "ticks": "inside"
            },
            "type": "choropleth"
           }
          ],
          "contour": [
           {
            "colorbar": {
             "outlinewidth": 0,
             "tickcolor": "rgb(237,237,237)",
             "ticklen": 6,
             "ticks": "inside"
            },
            "colorscale": [
             [
              0,
              "rgb(20,44,66)"
             ],
             [
              1,
              "rgb(90,179,244)"
             ]
            ],
            "type": "contour"
           }
          ],
          "contourcarpet": [
           {
            "colorbar": {
             "outlinewidth": 0,
             "tickcolor": "rgb(237,237,237)",
             "ticklen": 6,
             "ticks": "inside"
            },
            "type": "contourcarpet"
           }
          ],
          "heatmap": [
           {
            "colorbar": {
             "outlinewidth": 0,
             "tickcolor": "rgb(237,237,237)",
             "ticklen": 6,
             "ticks": "inside"
            },
            "colorscale": [
             [
              0,
              "rgb(20,44,66)"
             ],
             [
              1,
              "rgb(90,179,244)"
             ]
            ],
            "type": "heatmap"
           }
          ],
          "heatmapgl": [
           {
            "colorbar": {
             "outlinewidth": 0,
             "tickcolor": "rgb(237,237,237)",
             "ticklen": 6,
             "ticks": "inside"
            },
            "colorscale": [
             [
              0,
              "rgb(20,44,66)"
             ],
             [
              1,
              "rgb(90,179,244)"
             ]
            ],
            "type": "heatmapgl"
           }
          ],
          "histogram": [
           {
            "marker": {
             "pattern": {
              "fillmode": "overlay",
              "size": 10,
              "solidity": 0.2
             }
            },
            "type": "histogram"
           }
          ],
          "histogram2d": [
           {
            "colorbar": {
             "outlinewidth": 0,
             "tickcolor": "rgb(237,237,237)",
             "ticklen": 6,
             "ticks": "inside"
            },
            "colorscale": [
             [
              0,
              "rgb(20,44,66)"
             ],
             [
              1,
              "rgb(90,179,244)"
             ]
            ],
            "type": "histogram2d"
           }
          ],
          "histogram2dcontour": [
           {
            "colorbar": {
             "outlinewidth": 0,
             "tickcolor": "rgb(237,237,237)",
             "ticklen": 6,
             "ticks": "inside"
            },
            "colorscale": [
             [
              0,
              "rgb(20,44,66)"
             ],
             [
              1,
              "rgb(90,179,244)"
             ]
            ],
            "type": "histogram2dcontour"
           }
          ],
          "mesh3d": [
           {
            "colorbar": {
             "outlinewidth": 0,
             "tickcolor": "rgb(237,237,237)",
             "ticklen": 6,
             "ticks": "inside"
            },
            "type": "mesh3d"
           }
          ],
          "parcoords": [
           {
            "line": {
             "colorbar": {
              "outlinewidth": 0,
              "tickcolor": "rgb(237,237,237)",
              "ticklen": 6,
              "ticks": "inside"
             }
            },
            "type": "parcoords"
           }
          ],
          "pie": [
           {
            "automargin": true,
            "type": "pie"
           }
          ],
          "scatter": [
           {
            "fillpattern": {
             "fillmode": "overlay",
             "size": 10,
             "solidity": 0.2
            },
            "type": "scatter"
           }
          ],
          "scatter3d": [
           {
            "line": {
             "colorbar": {
              "outlinewidth": 0,
              "tickcolor": "rgb(237,237,237)",
              "ticklen": 6,
              "ticks": "inside"
             }
            },
            "marker": {
             "colorbar": {
              "outlinewidth": 0,
              "tickcolor": "rgb(237,237,237)",
              "ticklen": 6,
              "ticks": "inside"
             }
            },
            "type": "scatter3d"
           }
          ],
          "scattercarpet": [
           {
            "marker": {
             "colorbar": {
              "outlinewidth": 0,
              "tickcolor": "rgb(237,237,237)",
              "ticklen": 6,
              "ticks": "inside"
             }
            },
            "type": "scattercarpet"
           }
          ],
          "scattergeo": [
           {
            "marker": {
             "colorbar": {
              "outlinewidth": 0,
              "tickcolor": "rgb(237,237,237)",
              "ticklen": 6,
              "ticks": "inside"
             }
            },
            "type": "scattergeo"
           }
          ],
          "scattergl": [
           {
            "marker": {
             "colorbar": {
              "outlinewidth": 0,
              "tickcolor": "rgb(237,237,237)",
              "ticklen": 6,
              "ticks": "inside"
             }
            },
            "type": "scattergl"
           }
          ],
          "scattermapbox": [
           {
            "marker": {
             "colorbar": {
              "outlinewidth": 0,
              "tickcolor": "rgb(237,237,237)",
              "ticklen": 6,
              "ticks": "inside"
             }
            },
            "type": "scattermapbox"
           }
          ],
          "scatterpolar": [
           {
            "marker": {
             "colorbar": {
              "outlinewidth": 0,
              "tickcolor": "rgb(237,237,237)",
              "ticklen": 6,
              "ticks": "inside"
             }
            },
            "type": "scatterpolar"
           }
          ],
          "scatterpolargl": [
           {
            "marker": {
             "colorbar": {
              "outlinewidth": 0,
              "tickcolor": "rgb(237,237,237)",
              "ticklen": 6,
              "ticks": "inside"
             }
            },
            "type": "scatterpolargl"
           }
          ],
          "scatterternary": [
           {
            "marker": {
             "colorbar": {
              "outlinewidth": 0,
              "tickcolor": "rgb(237,237,237)",
              "ticklen": 6,
              "ticks": "inside"
             }
            },
            "type": "scatterternary"
           }
          ],
          "surface": [
           {
            "colorbar": {
             "outlinewidth": 0,
             "tickcolor": "rgb(237,237,237)",
             "ticklen": 6,
             "ticks": "inside"
            },
            "colorscale": [
             [
              0,
              "rgb(20,44,66)"
             ],
             [
              1,
              "rgb(90,179,244)"
             ]
            ],
            "type": "surface"
           }
          ],
          "table": [
           {
            "cells": {
             "fill": {
              "color": "rgb(237,237,237)"
             },
             "line": {
              "color": "white"
             }
            },
            "header": {
             "fill": {
              "color": "rgb(217,217,217)"
             },
             "line": {
              "color": "white"
             }
            },
            "type": "table"
           }
          ]
         },
         "layout": {
          "annotationdefaults": {
           "arrowhead": 0,
           "arrowwidth": 1
          },
          "autotypenumbers": "strict",
          "coloraxis": {
           "colorbar": {
            "outlinewidth": 0,
            "tickcolor": "rgb(237,237,237)",
            "ticklen": 6,
            "ticks": "inside"
           }
          },
          "colorscale": {
           "sequential": [
            [
             0,
             "rgb(20,44,66)"
            ],
            [
             1,
             "rgb(90,179,244)"
            ]
           ],
           "sequentialminus": [
            [
             0,
             "rgb(20,44,66)"
            ],
            [
             1,
             "rgb(90,179,244)"
            ]
           ]
          },
          "colorway": [
           "#F8766D",
           "#A3A500",
           "#00BF7D",
           "#00B0F6",
           "#E76BF3"
          ],
          "font": {
           "color": "rgb(51,51,51)"
          },
          "geo": {
           "bgcolor": "white",
           "lakecolor": "white",
           "landcolor": "rgb(237,237,237)",
           "showlakes": true,
           "showland": true,
           "subunitcolor": "white"
          },
          "hoverlabel": {
           "align": "left"
          },
          "hovermode": "closest",
          "paper_bgcolor": "white",
          "plot_bgcolor": "rgb(237,237,237)",
          "polar": {
           "angularaxis": {
            "gridcolor": "white",
            "linecolor": "white",
            "showgrid": true,
            "tickcolor": "rgb(51,51,51)",
            "ticks": "outside"
           },
           "bgcolor": "rgb(237,237,237)",
           "radialaxis": {
            "gridcolor": "white",
            "linecolor": "white",
            "showgrid": true,
            "tickcolor": "rgb(51,51,51)",
            "ticks": "outside"
           }
          },
          "scene": {
           "xaxis": {
            "backgroundcolor": "rgb(237,237,237)",
            "gridcolor": "white",
            "gridwidth": 2,
            "linecolor": "white",
            "showbackground": true,
            "showgrid": true,
            "tickcolor": "rgb(51,51,51)",
            "ticks": "outside",
            "zerolinecolor": "white"
           },
           "yaxis": {
            "backgroundcolor": "rgb(237,237,237)",
            "gridcolor": "white",
            "gridwidth": 2,
            "linecolor": "white",
            "showbackground": true,
            "showgrid": true,
            "tickcolor": "rgb(51,51,51)",
            "ticks": "outside",
            "zerolinecolor": "white"
           },
           "zaxis": {
            "backgroundcolor": "rgb(237,237,237)",
            "gridcolor": "white",
            "gridwidth": 2,
            "linecolor": "white",
            "showbackground": true,
            "showgrid": true,
            "tickcolor": "rgb(51,51,51)",
            "ticks": "outside",
            "zerolinecolor": "white"
           }
          },
          "shapedefaults": {
           "fillcolor": "black",
           "line": {
            "width": 0
           },
           "opacity": 0.3
          },
          "ternary": {
           "aaxis": {
            "gridcolor": "white",
            "linecolor": "white",
            "showgrid": true,
            "tickcolor": "rgb(51,51,51)",
            "ticks": "outside"
           },
           "baxis": {
            "gridcolor": "white",
            "linecolor": "white",
            "showgrid": true,
            "tickcolor": "rgb(51,51,51)",
            "ticks": "outside"
           },
           "bgcolor": "rgb(237,237,237)",
           "caxis": {
            "gridcolor": "white",
            "linecolor": "white",
            "showgrid": true,
            "tickcolor": "rgb(51,51,51)",
            "ticks": "outside"
           }
          },
          "xaxis": {
           "automargin": true,
           "gridcolor": "white",
           "linecolor": "white",
           "showgrid": true,
           "tickcolor": "rgb(51,51,51)",
           "ticks": "outside",
           "title": {
            "standoff": 15
           },
           "zerolinecolor": "white"
          },
          "yaxis": {
           "automargin": true,
           "gridcolor": "white",
           "linecolor": "white",
           "showgrid": true,
           "tickcolor": "rgb(51,51,51)",
           "ticks": "outside",
           "title": {
            "standoff": 15
           },
           "zerolinecolor": "white"
          }
         }
        },
        "title": {
         "text": "Boxplot: 'ggplot2' Theme"
        },
        "xaxis": {
         "anchor": "y",
         "domain": [
          0,
          1
         ],
         "title": {
          "text": "Continent"
         }
        },
        "yaxis": {
         "anchor": "x",
         "domain": [
          0,
          1
         ],
         "title": {
          "text": "Explained by: Log GDP per capita"
         }
        }
       }
      }
     },
     "metadata": {},
     "output_type": "display_data"
    },
    {
     "data": {
      "application/vnd.plotly.v1+json": {
       "config": {
        "plotlyServerURL": "https://plot.ly"
       },
       "data": [
        {
         "alignmentgroup": "True",
         "boxpoints": "all",
         "customdata": [
          [
           "Finland",
           7.741
          ],
          [
           "Denmark",
           7.583
          ],
          [
           "Iceland",
           7.525
          ],
          [
           "Sweden",
           7.344
          ],
          [
           "Israel",
           7.341
          ],
          [
           "Netherlands",
           7.319
          ],
          [
           "Norway",
           7.302
          ],
          [
           "Luxembourg",
           7.122
          ],
          [
           "Switzerland",
           7.06
          ],
          [
           "Australia",
           7.057
          ],
          [
           "New Zealand",
           7.029
          ],
          [
           "Costa Rica",
           6.955
          ],
          [
           "Kuwait",
           6.951
          ],
          [
           "Austria",
           6.905
          ],
          [
           "Canada",
           6.9
          ],
          [
           "Belgium",
           6.894
          ],
          [
           "Ireland",
           6.838
          ],
          [
           "Czechia",
           6.822
          ],
          [
           "Lithuania",
           6.818
          ],
          [
           "United Kingdom",
           6.749
          ],
          [
           "Slovenia",
           6.743
          ],
          [
           "United Arab Emirates",
           6.733
          ],
          [
           "United States",
           6.725
          ],
          [
           "Germany",
           6.719
          ],
          [
           "Mexico",
           6.678
          ],
          [
           "Uruguay",
           6.611
          ],
          [
           "France",
           6.609
          ],
          [
           "Saudi Arabia",
           6.594
          ],
          [
           "Kosovo",
           6.561
          ],
          [
           "Singapore",
           6.523
          ],
          [
           "Taiwan",
           6.503
          ],
          [
           "Romania",
           6.491
          ],
          [
           "El Salvador",
           6.469
          ],
          [
           "Estonia",
           6.448
          ],
          [
           "Poland",
           6.442
          ],
          [
           "Spain",
           6.421
          ],
          [
           "Serbia",
           6.411
          ],
          [
           "Chile",
           6.36
          ],
          [
           "Panama",
           6.358
          ],
          [
           "Malta",
           6.346
          ],
          [
           "Italy",
           6.324
          ],
          [
           "Guatemala",
           6.287
          ],
          [
           "Nicaragua",
           6.284
          ],
          [
           "Brazil",
           6.272
          ],
          [
           "Slovakia",
           6.257
          ],
          [
           "Latvia",
           6.234
          ],
          [
           "Uzbekistan",
           6.195
          ],
          [
           "Argentina",
           6.188
          ],
          [
           "Kazakhstan",
           6.188
          ],
          [
           "Cyprus",
           6.068
          ],
          [
           "Japan",
           6.06
          ],
          [
           "South Korea",
           6.058
          ],
          [
           "Philippines",
           6.048
          ],
          [
           "Vietnam",
           6.043
          ],
          [
           "Portugal",
           6.03
          ],
          [
           "Hungary",
           6.017
          ],
          [
           "Paraguay",
           5.977
          ],
          [
           "Thailand",
           5.976
          ],
          [
           "Malaysia",
           5.975
          ],
          [
           "China",
           5.973
          ],
          [
           "Honduras",
           5.968
          ],
          [
           "Croatia",
           5.942
          ],
          [
           "Greece",
           5.934
          ],
          [
           "Bosnia and Herzegovina",
           5.877
          ],
          [
           "Libya",
           5.866
          ],
          [
           "Jamaica",
           5.842
          ],
          [
           "Peru",
           5.841
          ],
          [
           "Dominican Republic",
           5.823
          ],
          [
           "Mauritius",
           5.816
          ],
          [
           "Moldova",
           5.816
          ],
          [
           "Russia",
           5.785
          ],
          [
           "Bolivia",
           5.784
          ],
          [
           "Ecuador",
           5.725
          ],
          [
           "Kyrgyzstan",
           5.714
          ],
          [
           "Montenegro",
           5.707
          ],
          [
           "Mongolia",
           5.696
          ],
          [
           "Colombia",
           5.695
          ],
          [
           "Indonesia",
           5.568
          ]
         ],
         "hovertemplate": "Grouping mean=Ladder score above mean<br>Continent=%{x}<br>Explained by: Log GDP per capita=%{y}<br>Country name=%{customdata[0]}<br>Ladder score=%{customdata[1]}<extra></extra>",
         "legendgroup": "Ladder score above mean",
         "marker": {
          "color": "rgb(76,114,176)"
         },
         "name": "Ladder score above mean",
         "notched": false,
         "offsetgroup": "Ladder score above mean",
         "orientation": "v",
         "quartilemethod": "linear",
         "showlegend": true,
         "type": "box",
         "x": [
          "Europe",
          "Europe",
          "Europe",
          "Europe",
          "Asia",
          "Europe",
          "Europe",
          "Europe",
          "Europe",
          "Oceania",
          "Oceania",
          "North America",
          "Asia",
          "Europe",
          "North America",
          "Europe",
          "Europe",
          "Europe",
          "Europe",
          "Europe",
          "Europe",
          "Asia",
          "North America",
          "Europe",
          "North America",
          "South America",
          "Europe",
          "Asia",
          "Europe",
          "Asia",
          "Asia",
          "Europe",
          "North America",
          "Europe",
          "Europe",
          "Europe",
          "Europe",
          "South America",
          "North America",
          "Europe",
          "Europe",
          "North America",
          "North America",
          "South America",
          "Europe",
          "Europe",
          "Asia",
          "South America",
          "Asia",
          "Europe",
          "Asia",
          "Asia",
          "Asia",
          "Asia",
          "Europe",
          "Europe",
          "South America",
          "Asia",
          "Asia",
          "Asia",
          "North America",
          "Europe",
          "Europe",
          "Europe",
          "Africa",
          "North America",
          "South America",
          "North America",
          "Africa",
          "Europe",
          "Asia",
          "South America",
          "South America",
          "Asia",
          "Europe",
          "Asia",
          "South America",
          "Asia"
         ],
         "x0": " ",
         "xaxis": "x",
         "y": [
          1.844,
          1.908,
          1.881,
          1.878,
          1.803,
          1.901,
          1.952,
          2.141,
          1.97,
          1.854,
          1.81,
          1.561,
          1.845,
          1.885,
          1.84,
          1.868,
          2.129,
          1.783,
          1.766,
          1.822,
          1.786,
          1.983,
          1.939,
          1.871,
          1.521,
          1.596,
          1.818,
          1.842,
          1.364,
          2.118,
          1.842,
          1.699,
          1.265,
          1.752,
          1.738,
          1.766,
          1.538,
          1.616,
          1.702,
          1.827,
          1.8,
          1.26,
          1.097,
          1.43,
          1.706,
          1.7,
          1.212,
          1.562,
          1.622,
          1.794,
          1.786,
          1.815,
          1.232,
          1.331,
          1.728,
          1.722,
          1.398,
          1.484,
          1.646,
          1.497,
          1.091,
          1.71,
          1.684,
          1.465,
          1.526,
          1.28,
          1.371,
          1.517,
          1.57,
          1.385,
          1.642,
          1.217,
          1.315,
          1.054,
          1.571,
          1.353,
          1.437,
          1.361
         ],
         "y0": " ",
         "yaxis": "y"
        },
        {
         "alignmentgroup": "True",
         "boxpoints": "all",
         "customdata": [
          [
           "Bulgaria",
           5.463
          ],
          [
           "Armenia",
           5.455
          ],
          [
           "South Africa",
           5.422
          ],
          [
           "North Macedonia",
           5.369
          ],
          [
           "Algeria",
           5.364
          ],
          [
           "Hong Kong",
           5.316
          ],
          [
           "Albania",
           5.304
          ],
          [
           "Congo (Brazzaville)",
           5.221
          ],
          [
           "Mozambique",
           5.216
          ],
          [
           "Georgia",
           5.185
          ],
          [
           "Iraq",
           5.166
          ],
          [
           "Nepal",
           5.158
          ],
          [
           "Laos",
           5.139
          ],
          [
           "Gabon",
           5.106
          ],
          [
           "Ivory Coast",
           5.08
          ],
          [
           "Guinea",
           5.023
          ],
          [
           "Turkey",
           4.975
          ],
          [
           "Senegal",
           4.969
          ],
          [
           "Iran",
           4.923
          ],
          [
           "Azerbaijan",
           4.893
          ],
          [
           "Nigeria",
           4.881
          ],
          [
           "Cameroon",
           4.874
          ],
          [
           "Ukraine",
           4.873
          ],
          [
           "Namibia",
           4.832
          ],
          [
           "Morocco",
           4.795
          ],
          [
           "Pakistan",
           4.657
          ],
          [
           "Niger",
           4.556
          ],
          [
           "Burkina Faso",
           4.548
          ],
          [
           "Mauritania",
           4.505
          ],
          [
           "Gambia",
           4.485
          ],
          [
           "Chad",
           4.471
          ],
          [
           "Kenya",
           4.47
          ],
          [
           "Tunisia",
           4.422
          ],
          [
           "Benin",
           4.377
          ],
          [
           "Uganda",
           4.372
          ],
          [
           "Myanmar",
           4.354
          ],
          [
           "Cambodia",
           4.341
          ],
          [
           "Ghana",
           4.289
          ],
          [
           "Liberia",
           4.269
          ],
          [
           "Mali",
           4.232
          ],
          [
           "Madagascar",
           4.228
          ],
          [
           "Togo",
           4.214
          ],
          [
           "Jordan",
           4.186
          ],
          [
           "India",
           4.054
          ],
          [
           "Egypt",
           3.977
          ],
          [
           "Sri Lanka",
           3.898
          ],
          [
           "Bangladesh",
           3.886
          ],
          [
           "Ethiopia",
           3.861
          ],
          [
           "Tanzania",
           3.781
          ],
          [
           "Comoros",
           3.566
          ],
          [
           "Yemen",
           3.561
          ],
          [
           "Zambia",
           3.502
          ],
          [
           "Eswatini",
           3.502
          ],
          [
           "Malawi",
           3.421
          ],
          [
           "Botswana",
           3.383
          ],
          [
           "Zimbabwe",
           3.341
          ],
          [
           "Congo (Kinshasa)",
           3.295
          ],
          [
           "Sierra Leone",
           3.245
          ],
          [
           "Lesotho",
           3.186
          ],
          [
           "Lebanon",
           2.707
          ],
          [
           "Afghanistan",
           1.721
          ]
         ],
         "hovertemplate": "Grouping mean=Ladder score below mean<br>Continent=%{x}<br>Explained by: Log GDP per capita=%{y}<br>Country name=%{customdata[0]}<br>Ladder score=%{customdata[1]}<extra></extra>",
         "legendgroup": "Ladder score below mean",
         "marker": {
          "color": "rgb(221,132,82)"
         },
         "name": "Ladder score below mean",
         "notched": false,
         "offsetgroup": "Ladder score below mean",
         "orientation": "v",
         "quartilemethod": "linear",
         "showlegend": true,
         "type": "box",
         "x": [
          "Europe",
          "Europe",
          "Africa",
          null,
          "Africa",
          "Asia",
          "Europe",
          null,
          "Africa",
          "Europe",
          "Asia",
          "Asia",
          "Asia",
          "Africa",
          "Africa",
          "Africa",
          "Europe",
          "Africa",
          "Asia",
          "Europe",
          "Africa",
          "Africa",
          "Europe",
          "Africa",
          "Africa",
          "Asia",
          "Africa",
          null,
          "Africa",
          "Africa",
          "Africa",
          "Africa",
          "Africa",
          "Africa",
          "Africa",
          null,
          "Asia",
          "Africa",
          "Africa",
          "Africa",
          "Africa",
          "Africa",
          "Asia",
          "Asia",
          "Africa",
          "Asia",
          "Asia",
          "Africa",
          "Africa",
          "Africa",
          "Asia",
          "Africa",
          null,
          "Africa",
          "Africa",
          "Africa",
          null,
          "Africa",
          "Africa",
          "Asia",
          "Asia"
         ],
         "x0": " ",
         "xaxis": "x",
         "y": [
          1.629,
          1.444,
          1.389,
          1.475,
          1.324,
          1.909,
          1.438,
          0.892,
          0.56,
          1.467,
          1.249,
          0.965,
          1.208,
          1.403,
          1.08,
          0.831,
          1.702,
          0.927,
          1.435,
          1.433,
          1.042,
          0.943,
          1.35,
          1.266,
          1.213,
          1.069,
          0.573,
          0.756,
          1.078,
          0.75,
          0.603,
          1.037,
          1.306,
          0.914,
          0.772,
          0.978,
          1.011,
          1.077,
          0.619,
          0.747,
          0.628,
          0.758,
          1.262,
          1.166,
          1.37,
          1.361,
          1.122,
          0.792,
          0.82,
          0.896,
          0.671,
          0.899,
          1.255,
          0.617,
          1.445,
          0.748,
          0.534,
          0.654,
          0.771,
          1.377,
          0.628
         ],
         "y0": " ",
         "yaxis": "y"
        }
       ],
       "layout": {
        "boxmode": "group",
        "legend": {
         "title": {
          "text": "Grouping mean"
         },
         "tracegroupgap": 0
        },
        "template": {
         "data": {
          "bar": [
           {
            "error_x": {
             "color": "rgb(36,36,36)"
            },
            "error_y": {
             "color": "rgb(36,36,36)"
            },
            "marker": {
             "line": {
              "color": "rgb(234,234,242)",
              "width": 0.5
             },
             "pattern": {
              "fillmode": "overlay",
              "size": 10,
              "solidity": 0.2
             }
            },
            "type": "bar"
           }
          ],
          "barpolar": [
           {
            "marker": {
             "line": {
              "color": "rgb(234,234,242)",
              "width": 0.5
             },
             "pattern": {
              "fillmode": "overlay",
              "size": 10,
              "solidity": 0.2
             }
            },
            "type": "barpolar"
           }
          ],
          "carpet": [
           {
            "aaxis": {
             "endlinecolor": "rgb(36,36,36)",
             "gridcolor": "white",
             "linecolor": "white",
             "minorgridcolor": "white",
             "startlinecolor": "rgb(36,36,36)"
            },
            "baxis": {
             "endlinecolor": "rgb(36,36,36)",
             "gridcolor": "white",
             "linecolor": "white",
             "minorgridcolor": "white",
             "startlinecolor": "rgb(36,36,36)"
            },
            "type": "carpet"
           }
          ],
          "choropleth": [
           {
            "colorbar": {
             "outlinewidth": 0,
             "tickcolor": "rgb(36,36,36)",
             "ticklen": 8,
             "ticks": "outside",
             "tickwidth": 2
            },
            "type": "choropleth"
           }
          ],
          "contour": [
           {
            "colorbar": {
             "outlinewidth": 0,
             "tickcolor": "rgb(36,36,36)",
             "ticklen": 8,
             "ticks": "outside",
             "tickwidth": 2
            },
            "colorscale": [
             [
              0,
              "rgb(2,4,25)"
             ],
             [
              0.06274509803921569,
              "rgb(24,15,41)"
             ],
             [
              0.12549019607843137,
              "rgb(47,23,57)"
             ],
             [
              0.18823529411764706,
              "rgb(71,28,72)"
             ],
             [
              0.25098039215686274,
              "rgb(97,30,82)"
             ],
             [
              0.3137254901960784,
              "rgb(123,30,89)"
             ],
             [
              0.3764705882352941,
              "rgb(150,27,91)"
             ],
             [
              0.4392156862745098,
              "rgb(177,22,88)"
             ],
             [
              0.5019607843137255,
              "rgb(203,26,79)"
             ],
             [
              0.5647058823529412,
              "rgb(223,47,67)"
             ],
             [
              0.6274509803921569,
              "rgb(236,76,61)"
             ],
             [
              0.6901960784313725,
              "rgb(242,107,73)"
             ],
             [
              0.7529411764705882,
              "rgb(244,135,95)"
             ],
             [
              0.8156862745098039,
              "rgb(245,162,122)"
             ],
             [
              0.8784313725490196,
              "rgb(246,188,153)"
             ],
             [
              0.9411764705882353,
              "rgb(247,212,187)"
             ],
             [
              1,
              "rgb(250,234,220)"
             ]
            ],
            "type": "contour"
           }
          ],
          "contourcarpet": [
           {
            "colorbar": {
             "outlinewidth": 0,
             "tickcolor": "rgb(36,36,36)",
             "ticklen": 8,
             "ticks": "outside",
             "tickwidth": 2
            },
            "type": "contourcarpet"
           }
          ],
          "heatmap": [
           {
            "colorbar": {
             "outlinewidth": 0,
             "tickcolor": "rgb(36,36,36)",
             "ticklen": 8,
             "ticks": "outside",
             "tickwidth": 2
            },
            "colorscale": [
             [
              0,
              "rgb(2,4,25)"
             ],
             [
              0.06274509803921569,
              "rgb(24,15,41)"
             ],
             [
              0.12549019607843137,
              "rgb(47,23,57)"
             ],
             [
              0.18823529411764706,
              "rgb(71,28,72)"
             ],
             [
              0.25098039215686274,
              "rgb(97,30,82)"
             ],
             [
              0.3137254901960784,
              "rgb(123,30,89)"
             ],
             [
              0.3764705882352941,
              "rgb(150,27,91)"
             ],
             [
              0.4392156862745098,
              "rgb(177,22,88)"
             ],
             [
              0.5019607843137255,
              "rgb(203,26,79)"
             ],
             [
              0.5647058823529412,
              "rgb(223,47,67)"
             ],
             [
              0.6274509803921569,
              "rgb(236,76,61)"
             ],
             [
              0.6901960784313725,
              "rgb(242,107,73)"
             ],
             [
              0.7529411764705882,
              "rgb(244,135,95)"
             ],
             [
              0.8156862745098039,
              "rgb(245,162,122)"
             ],
             [
              0.8784313725490196,
              "rgb(246,188,153)"
             ],
             [
              0.9411764705882353,
              "rgb(247,212,187)"
             ],
             [
              1,
              "rgb(250,234,220)"
             ]
            ],
            "type": "heatmap"
           }
          ],
          "heatmapgl": [
           {
            "colorbar": {
             "outlinewidth": 0,
             "tickcolor": "rgb(36,36,36)",
             "ticklen": 8,
             "ticks": "outside",
             "tickwidth": 2
            },
            "colorscale": [
             [
              0,
              "rgb(2,4,25)"
             ],
             [
              0.06274509803921569,
              "rgb(24,15,41)"
             ],
             [
              0.12549019607843137,
              "rgb(47,23,57)"
             ],
             [
              0.18823529411764706,
              "rgb(71,28,72)"
             ],
             [
              0.25098039215686274,
              "rgb(97,30,82)"
             ],
             [
              0.3137254901960784,
              "rgb(123,30,89)"
             ],
             [
              0.3764705882352941,
              "rgb(150,27,91)"
             ],
             [
              0.4392156862745098,
              "rgb(177,22,88)"
             ],
             [
              0.5019607843137255,
              "rgb(203,26,79)"
             ],
             [
              0.5647058823529412,
              "rgb(223,47,67)"
             ],
             [
              0.6274509803921569,
              "rgb(236,76,61)"
             ],
             [
              0.6901960784313725,
              "rgb(242,107,73)"
             ],
             [
              0.7529411764705882,
              "rgb(244,135,95)"
             ],
             [
              0.8156862745098039,
              "rgb(245,162,122)"
             ],
             [
              0.8784313725490196,
              "rgb(246,188,153)"
             ],
             [
              0.9411764705882353,
              "rgb(247,212,187)"
             ],
             [
              1,
              "rgb(250,234,220)"
             ]
            ],
            "type": "heatmapgl"
           }
          ],
          "histogram": [
           {
            "marker": {
             "pattern": {
              "fillmode": "overlay",
              "size": 10,
              "solidity": 0.2
             }
            },
            "type": "histogram"
           }
          ],
          "histogram2d": [
           {
            "colorbar": {
             "outlinewidth": 0,
             "tickcolor": "rgb(36,36,36)",
             "ticklen": 8,
             "ticks": "outside",
             "tickwidth": 2
            },
            "colorscale": [
             [
              0,
              "rgb(2,4,25)"
             ],
             [
              0.06274509803921569,
              "rgb(24,15,41)"
             ],
             [
              0.12549019607843137,
              "rgb(47,23,57)"
             ],
             [
              0.18823529411764706,
              "rgb(71,28,72)"
             ],
             [
              0.25098039215686274,
              "rgb(97,30,82)"
             ],
             [
              0.3137254901960784,
              "rgb(123,30,89)"
             ],
             [
              0.3764705882352941,
              "rgb(150,27,91)"
             ],
             [
              0.4392156862745098,
              "rgb(177,22,88)"
             ],
             [
              0.5019607843137255,
              "rgb(203,26,79)"
             ],
             [
              0.5647058823529412,
              "rgb(223,47,67)"
             ],
             [
              0.6274509803921569,
              "rgb(236,76,61)"
             ],
             [
              0.6901960784313725,
              "rgb(242,107,73)"
             ],
             [
              0.7529411764705882,
              "rgb(244,135,95)"
             ],
             [
              0.8156862745098039,
              "rgb(245,162,122)"
             ],
             [
              0.8784313725490196,
              "rgb(246,188,153)"
             ],
             [
              0.9411764705882353,
              "rgb(247,212,187)"
             ],
             [
              1,
              "rgb(250,234,220)"
             ]
            ],
            "type": "histogram2d"
           }
          ],
          "histogram2dcontour": [
           {
            "colorbar": {
             "outlinewidth": 0,
             "tickcolor": "rgb(36,36,36)",
             "ticklen": 8,
             "ticks": "outside",
             "tickwidth": 2
            },
            "colorscale": [
             [
              0,
              "rgb(2,4,25)"
             ],
             [
              0.06274509803921569,
              "rgb(24,15,41)"
             ],
             [
              0.12549019607843137,
              "rgb(47,23,57)"
             ],
             [
              0.18823529411764706,
              "rgb(71,28,72)"
             ],
             [
              0.25098039215686274,
              "rgb(97,30,82)"
             ],
             [
              0.3137254901960784,
              "rgb(123,30,89)"
             ],
             [
              0.3764705882352941,
              "rgb(150,27,91)"
             ],
             [
              0.4392156862745098,
              "rgb(177,22,88)"
             ],
             [
              0.5019607843137255,
              "rgb(203,26,79)"
             ],
             [
              0.5647058823529412,
              "rgb(223,47,67)"
             ],
             [
              0.6274509803921569,
              "rgb(236,76,61)"
             ],
             [
              0.6901960784313725,
              "rgb(242,107,73)"
             ],
             [
              0.7529411764705882,
              "rgb(244,135,95)"
             ],
             [
              0.8156862745098039,
              "rgb(245,162,122)"
             ],
             [
              0.8784313725490196,
              "rgb(246,188,153)"
             ],
             [
              0.9411764705882353,
              "rgb(247,212,187)"
             ],
             [
              1,
              "rgb(250,234,220)"
             ]
            ],
            "type": "histogram2dcontour"
           }
          ],
          "mesh3d": [
           {
            "colorbar": {
             "outlinewidth": 0,
             "tickcolor": "rgb(36,36,36)",
             "ticklen": 8,
             "ticks": "outside",
             "tickwidth": 2
            },
            "type": "mesh3d"
           }
          ],
          "parcoords": [
           {
            "line": {
             "colorbar": {
              "outlinewidth": 0,
              "tickcolor": "rgb(36,36,36)",
              "ticklen": 8,
              "ticks": "outside",
              "tickwidth": 2
             }
            },
            "type": "parcoords"
           }
          ],
          "pie": [
           {
            "automargin": true,
            "type": "pie"
           }
          ],
          "scatter": [
           {
            "fillpattern": {
             "fillmode": "overlay",
             "size": 10,
             "solidity": 0.2
            },
            "type": "scatter"
           }
          ],
          "scatter3d": [
           {
            "line": {
             "colorbar": {
              "outlinewidth": 0,
              "tickcolor": "rgb(36,36,36)",
              "ticklen": 8,
              "ticks": "outside",
              "tickwidth": 2
             }
            },
            "marker": {
             "colorbar": {
              "outlinewidth": 0,
              "tickcolor": "rgb(36,36,36)",
              "ticklen": 8,
              "ticks": "outside",
              "tickwidth": 2
             }
            },
            "type": "scatter3d"
           }
          ],
          "scattercarpet": [
           {
            "marker": {
             "colorbar": {
              "outlinewidth": 0,
              "tickcolor": "rgb(36,36,36)",
              "ticklen": 8,
              "ticks": "outside",
              "tickwidth": 2
             }
            },
            "type": "scattercarpet"
           }
          ],
          "scattergeo": [
           {
            "marker": {
             "colorbar": {
              "outlinewidth": 0,
              "tickcolor": "rgb(36,36,36)",
              "ticklen": 8,
              "ticks": "outside",
              "tickwidth": 2
             }
            },
            "type": "scattergeo"
           }
          ],
          "scattergl": [
           {
            "marker": {
             "colorbar": {
              "outlinewidth": 0,
              "tickcolor": "rgb(36,36,36)",
              "ticklen": 8,
              "ticks": "outside",
              "tickwidth": 2
             }
            },
            "type": "scattergl"
           }
          ],
          "scattermapbox": [
           {
            "marker": {
             "colorbar": {
              "outlinewidth": 0,
              "tickcolor": "rgb(36,36,36)",
              "ticklen": 8,
              "ticks": "outside",
              "tickwidth": 2
             }
            },
            "type": "scattermapbox"
           }
          ],
          "scatterpolar": [
           {
            "marker": {
             "colorbar": {
              "outlinewidth": 0,
              "tickcolor": "rgb(36,36,36)",
              "ticklen": 8,
              "ticks": "outside",
              "tickwidth": 2
             }
            },
            "type": "scatterpolar"
           }
          ],
          "scatterpolargl": [
           {
            "marker": {
             "colorbar": {
              "outlinewidth": 0,
              "tickcolor": "rgb(36,36,36)",
              "ticklen": 8,
              "ticks": "outside",
              "tickwidth": 2
             }
            },
            "type": "scatterpolargl"
           }
          ],
          "scatterternary": [
           {
            "marker": {
             "colorbar": {
              "outlinewidth": 0,
              "tickcolor": "rgb(36,36,36)",
              "ticklen": 8,
              "ticks": "outside",
              "tickwidth": 2
             }
            },
            "type": "scatterternary"
           }
          ],
          "surface": [
           {
            "colorbar": {
             "outlinewidth": 0,
             "tickcolor": "rgb(36,36,36)",
             "ticklen": 8,
             "ticks": "outside",
             "tickwidth": 2
            },
            "colorscale": [
             [
              0,
              "rgb(2,4,25)"
             ],
             [
              0.06274509803921569,
              "rgb(24,15,41)"
             ],
             [
              0.12549019607843137,
              "rgb(47,23,57)"
             ],
             [
              0.18823529411764706,
              "rgb(71,28,72)"
             ],
             [
              0.25098039215686274,
              "rgb(97,30,82)"
             ],
             [
              0.3137254901960784,
              "rgb(123,30,89)"
             ],
             [
              0.3764705882352941,
              "rgb(150,27,91)"
             ],
             [
              0.4392156862745098,
              "rgb(177,22,88)"
             ],
             [
              0.5019607843137255,
              "rgb(203,26,79)"
             ],
             [
              0.5647058823529412,
              "rgb(223,47,67)"
             ],
             [
              0.6274509803921569,
              "rgb(236,76,61)"
             ],
             [
              0.6901960784313725,
              "rgb(242,107,73)"
             ],
             [
              0.7529411764705882,
              "rgb(244,135,95)"
             ],
             [
              0.8156862745098039,
              "rgb(245,162,122)"
             ],
             [
              0.8784313725490196,
              "rgb(246,188,153)"
             ],
             [
              0.9411764705882353,
              "rgb(247,212,187)"
             ],
             [
              1,
              "rgb(250,234,220)"
             ]
            ],
            "type": "surface"
           }
          ],
          "table": [
           {
            "cells": {
             "fill": {
              "color": "rgb(231,231,240)"
             },
             "line": {
              "color": "white"
             }
            },
            "header": {
             "fill": {
              "color": "rgb(183,183,191)"
             },
             "line": {
              "color": "white"
             }
            },
            "type": "table"
           }
          ]
         },
         "layout": {
          "annotationdefaults": {
           "arrowcolor": "rgb(67,103,167)"
          },
          "autotypenumbers": "strict",
          "coloraxis": {
           "colorbar": {
            "outlinewidth": 0,
            "tickcolor": "rgb(36,36,36)",
            "ticklen": 8,
            "ticks": "outside",
            "tickwidth": 2
           }
          },
          "colorscale": {
           "sequential": [
            [
             0,
             "rgb(2,4,25)"
            ],
            [
             0.06274509803921569,
             "rgb(24,15,41)"
            ],
            [
             0.12549019607843137,
             "rgb(47,23,57)"
            ],
            [
             0.18823529411764706,
             "rgb(71,28,72)"
            ],
            [
             0.25098039215686274,
             "rgb(97,30,82)"
            ],
            [
             0.3137254901960784,
             "rgb(123,30,89)"
            ],
            [
             0.3764705882352941,
             "rgb(150,27,91)"
            ],
            [
             0.4392156862745098,
             "rgb(177,22,88)"
            ],
            [
             0.5019607843137255,
             "rgb(203,26,79)"
            ],
            [
             0.5647058823529412,
             "rgb(223,47,67)"
            ],
            [
             0.6274509803921569,
             "rgb(236,76,61)"
            ],
            [
             0.6901960784313725,
             "rgb(242,107,73)"
            ],
            [
             0.7529411764705882,
             "rgb(244,135,95)"
            ],
            [
             0.8156862745098039,
             "rgb(245,162,122)"
            ],
            [
             0.8784313725490196,
             "rgb(246,188,153)"
            ],
            [
             0.9411764705882353,
             "rgb(247,212,187)"
            ],
            [
             1,
             "rgb(250,234,220)"
            ]
           ],
           "sequentialminus": [
            [
             0,
             "rgb(2,4,25)"
            ],
            [
             0.06274509803921569,
             "rgb(24,15,41)"
            ],
            [
             0.12549019607843137,
             "rgb(47,23,57)"
            ],
            [
             0.18823529411764706,
             "rgb(71,28,72)"
            ],
            [
             0.25098039215686274,
             "rgb(97,30,82)"
            ],
            [
             0.3137254901960784,
             "rgb(123,30,89)"
            ],
            [
             0.3764705882352941,
             "rgb(150,27,91)"
            ],
            [
             0.4392156862745098,
             "rgb(177,22,88)"
            ],
            [
             0.5019607843137255,
             "rgb(203,26,79)"
            ],
            [
             0.5647058823529412,
             "rgb(223,47,67)"
            ],
            [
             0.6274509803921569,
             "rgb(236,76,61)"
            ],
            [
             0.6901960784313725,
             "rgb(242,107,73)"
            ],
            [
             0.7529411764705882,
             "rgb(244,135,95)"
            ],
            [
             0.8156862745098039,
             "rgb(245,162,122)"
            ],
            [
             0.8784313725490196,
             "rgb(246,188,153)"
            ],
            [
             0.9411764705882353,
             "rgb(247,212,187)"
            ],
            [
             1,
             "rgb(250,234,220)"
            ]
           ]
          },
          "colorway": [
           "rgb(76,114,176)",
           "rgb(221,132,82)",
           "rgb(85,168,104)",
           "rgb(196,78,82)",
           "rgb(129,114,179)",
           "rgb(147,120,96)",
           "rgb(218,139,195)",
           "rgb(140,140,140)",
           "rgb(204,185,116)",
           "rgb(100,181,205)"
          ],
          "font": {
           "color": "rgb(36,36,36)"
          },
          "geo": {
           "bgcolor": "white",
           "lakecolor": "white",
           "landcolor": "rgb(234,234,242)",
           "showlakes": true,
           "showland": true,
           "subunitcolor": "white"
          },
          "hoverlabel": {
           "align": "left"
          },
          "hovermode": "closest",
          "paper_bgcolor": "white",
          "plot_bgcolor": "rgb(234,234,242)",
          "polar": {
           "angularaxis": {
            "gridcolor": "white",
            "linecolor": "white",
            "showgrid": true,
            "ticks": ""
           },
           "bgcolor": "rgb(234,234,242)",
           "radialaxis": {
            "gridcolor": "white",
            "linecolor": "white",
            "showgrid": true,
            "ticks": ""
           }
          },
          "scene": {
           "xaxis": {
            "backgroundcolor": "rgb(234,234,242)",
            "gridcolor": "white",
            "gridwidth": 2,
            "linecolor": "white",
            "showbackground": true,
            "showgrid": true,
            "ticks": "",
            "zerolinecolor": "white"
           },
           "yaxis": {
            "backgroundcolor": "rgb(234,234,242)",
            "gridcolor": "white",
            "gridwidth": 2,
            "linecolor": "white",
            "showbackground": true,
            "showgrid": true,
            "ticks": "",
            "zerolinecolor": "white"
           },
           "zaxis": {
            "backgroundcolor": "rgb(234,234,242)",
            "gridcolor": "white",
            "gridwidth": 2,
            "linecolor": "white",
            "showbackground": true,
            "showgrid": true,
            "ticks": "",
            "zerolinecolor": "white"
           }
          },
          "shapedefaults": {
           "fillcolor": "rgb(67,103,167)",
           "line": {
            "width": 0
           },
           "opacity": 0.5
          },
          "ternary": {
           "aaxis": {
            "gridcolor": "white",
            "linecolor": "white",
            "showgrid": true,
            "ticks": ""
           },
           "baxis": {
            "gridcolor": "white",
            "linecolor": "white",
            "showgrid": true,
            "ticks": ""
           },
           "bgcolor": "rgb(234,234,242)",
           "caxis": {
            "gridcolor": "white",
            "linecolor": "white",
            "showgrid": true,
            "ticks": ""
           }
          },
          "xaxis": {
           "automargin": true,
           "gridcolor": "white",
           "linecolor": "white",
           "showgrid": true,
           "ticks": "",
           "title": {
            "standoff": 15
           },
           "zerolinecolor": "white"
          },
          "yaxis": {
           "automargin": true,
           "gridcolor": "white",
           "linecolor": "white",
           "showgrid": true,
           "ticks": "",
           "title": {
            "standoff": 15
           },
           "zerolinecolor": "white"
          }
         }
        },
        "title": {
         "text": "Boxplot: 'seaborn' Theme"
        },
        "xaxis": {
         "anchor": "y",
         "domain": [
          0,
          1
         ],
         "title": {
          "text": "Continent"
         }
        },
        "yaxis": {
         "anchor": "x",
         "domain": [
          0,
          1
         ],
         "title": {
          "text": "Explained by: Log GDP per capita"
         }
        }
       }
      }
     },
     "metadata": {},
     "output_type": "display_data"
    },
    {
     "data": {
      "application/vnd.plotly.v1+json": {
       "config": {
        "plotlyServerURL": "https://plot.ly"
       },
       "data": [
        {
         "alignmentgroup": "True",
         "boxpoints": "all",
         "customdata": [
          [
           "Finland",
           7.741
          ],
          [
           "Denmark",
           7.583
          ],
          [
           "Iceland",
           7.525
          ],
          [
           "Sweden",
           7.344
          ],
          [
           "Israel",
           7.341
          ],
          [
           "Netherlands",
           7.319
          ],
          [
           "Norway",
           7.302
          ],
          [
           "Luxembourg",
           7.122
          ],
          [
           "Switzerland",
           7.06
          ],
          [
           "Australia",
           7.057
          ],
          [
           "New Zealand",
           7.029
          ],
          [
           "Costa Rica",
           6.955
          ],
          [
           "Kuwait",
           6.951
          ],
          [
           "Austria",
           6.905
          ],
          [
           "Canada",
           6.9
          ],
          [
           "Belgium",
           6.894
          ],
          [
           "Ireland",
           6.838
          ],
          [
           "Czechia",
           6.822
          ],
          [
           "Lithuania",
           6.818
          ],
          [
           "United Kingdom",
           6.749
          ],
          [
           "Slovenia",
           6.743
          ],
          [
           "United Arab Emirates",
           6.733
          ],
          [
           "United States",
           6.725
          ],
          [
           "Germany",
           6.719
          ],
          [
           "Mexico",
           6.678
          ],
          [
           "Uruguay",
           6.611
          ],
          [
           "France",
           6.609
          ],
          [
           "Saudi Arabia",
           6.594
          ],
          [
           "Kosovo",
           6.561
          ],
          [
           "Singapore",
           6.523
          ],
          [
           "Taiwan",
           6.503
          ],
          [
           "Romania",
           6.491
          ],
          [
           "El Salvador",
           6.469
          ],
          [
           "Estonia",
           6.448
          ],
          [
           "Poland",
           6.442
          ],
          [
           "Spain",
           6.421
          ],
          [
           "Serbia",
           6.411
          ],
          [
           "Chile",
           6.36
          ],
          [
           "Panama",
           6.358
          ],
          [
           "Malta",
           6.346
          ],
          [
           "Italy",
           6.324
          ],
          [
           "Guatemala",
           6.287
          ],
          [
           "Nicaragua",
           6.284
          ],
          [
           "Brazil",
           6.272
          ],
          [
           "Slovakia",
           6.257
          ],
          [
           "Latvia",
           6.234
          ],
          [
           "Uzbekistan",
           6.195
          ],
          [
           "Argentina",
           6.188
          ],
          [
           "Kazakhstan",
           6.188
          ],
          [
           "Cyprus",
           6.068
          ],
          [
           "Japan",
           6.06
          ],
          [
           "South Korea",
           6.058
          ],
          [
           "Philippines",
           6.048
          ],
          [
           "Vietnam",
           6.043
          ],
          [
           "Portugal",
           6.03
          ],
          [
           "Hungary",
           6.017
          ],
          [
           "Paraguay",
           5.977
          ],
          [
           "Thailand",
           5.976
          ],
          [
           "Malaysia",
           5.975
          ],
          [
           "China",
           5.973
          ],
          [
           "Honduras",
           5.968
          ],
          [
           "Croatia",
           5.942
          ],
          [
           "Greece",
           5.934
          ],
          [
           "Bosnia and Herzegovina",
           5.877
          ],
          [
           "Libya",
           5.866
          ],
          [
           "Jamaica",
           5.842
          ],
          [
           "Peru",
           5.841
          ],
          [
           "Dominican Republic",
           5.823
          ],
          [
           "Mauritius",
           5.816
          ],
          [
           "Moldova",
           5.816
          ],
          [
           "Russia",
           5.785
          ],
          [
           "Bolivia",
           5.784
          ],
          [
           "Ecuador",
           5.725
          ],
          [
           "Kyrgyzstan",
           5.714
          ],
          [
           "Montenegro",
           5.707
          ],
          [
           "Mongolia",
           5.696
          ],
          [
           "Colombia",
           5.695
          ],
          [
           "Indonesia",
           5.568
          ]
         ],
         "hovertemplate": "Grouping mean=Ladder score above mean<br>Continent=%{x}<br>Explained by: Log GDP per capita=%{y}<br>Country name=%{customdata[0]}<br>Ladder score=%{customdata[1]}<extra></extra>",
         "legendgroup": "Ladder score above mean",
         "marker": {
          "color": "#1F77B4"
         },
         "name": "Ladder score above mean",
         "notched": false,
         "offsetgroup": "Ladder score above mean",
         "orientation": "v",
         "quartilemethod": "linear",
         "showlegend": true,
         "type": "box",
         "x": [
          "Europe",
          "Europe",
          "Europe",
          "Europe",
          "Asia",
          "Europe",
          "Europe",
          "Europe",
          "Europe",
          "Oceania",
          "Oceania",
          "North America",
          "Asia",
          "Europe",
          "North America",
          "Europe",
          "Europe",
          "Europe",
          "Europe",
          "Europe",
          "Europe",
          "Asia",
          "North America",
          "Europe",
          "North America",
          "South America",
          "Europe",
          "Asia",
          "Europe",
          "Asia",
          "Asia",
          "Europe",
          "North America",
          "Europe",
          "Europe",
          "Europe",
          "Europe",
          "South America",
          "North America",
          "Europe",
          "Europe",
          "North America",
          "North America",
          "South America",
          "Europe",
          "Europe",
          "Asia",
          "South America",
          "Asia",
          "Europe",
          "Asia",
          "Asia",
          "Asia",
          "Asia",
          "Europe",
          "Europe",
          "South America",
          "Asia",
          "Asia",
          "Asia",
          "North America",
          "Europe",
          "Europe",
          "Europe",
          "Africa",
          "North America",
          "South America",
          "North America",
          "Africa",
          "Europe",
          "Asia",
          "South America",
          "South America",
          "Asia",
          "Europe",
          "Asia",
          "South America",
          "Asia"
         ],
         "x0": " ",
         "xaxis": "x",
         "y": [
          1.844,
          1.908,
          1.881,
          1.878,
          1.803,
          1.901,
          1.952,
          2.141,
          1.97,
          1.854,
          1.81,
          1.561,
          1.845,
          1.885,
          1.84,
          1.868,
          2.129,
          1.783,
          1.766,
          1.822,
          1.786,
          1.983,
          1.939,
          1.871,
          1.521,
          1.596,
          1.818,
          1.842,
          1.364,
          2.118,
          1.842,
          1.699,
          1.265,
          1.752,
          1.738,
          1.766,
          1.538,
          1.616,
          1.702,
          1.827,
          1.8,
          1.26,
          1.097,
          1.43,
          1.706,
          1.7,
          1.212,
          1.562,
          1.622,
          1.794,
          1.786,
          1.815,
          1.232,
          1.331,
          1.728,
          1.722,
          1.398,
          1.484,
          1.646,
          1.497,
          1.091,
          1.71,
          1.684,
          1.465,
          1.526,
          1.28,
          1.371,
          1.517,
          1.57,
          1.385,
          1.642,
          1.217,
          1.315,
          1.054,
          1.571,
          1.353,
          1.437,
          1.361
         ],
         "y0": " ",
         "yaxis": "y"
        },
        {
         "alignmentgroup": "True",
         "boxpoints": "all",
         "customdata": [
          [
           "Bulgaria",
           5.463
          ],
          [
           "Armenia",
           5.455
          ],
          [
           "South Africa",
           5.422
          ],
          [
           "North Macedonia",
           5.369
          ],
          [
           "Algeria",
           5.364
          ],
          [
           "Hong Kong",
           5.316
          ],
          [
           "Albania",
           5.304
          ],
          [
           "Congo (Brazzaville)",
           5.221
          ],
          [
           "Mozambique",
           5.216
          ],
          [
           "Georgia",
           5.185
          ],
          [
           "Iraq",
           5.166
          ],
          [
           "Nepal",
           5.158
          ],
          [
           "Laos",
           5.139
          ],
          [
           "Gabon",
           5.106
          ],
          [
           "Ivory Coast",
           5.08
          ],
          [
           "Guinea",
           5.023
          ],
          [
           "Turkey",
           4.975
          ],
          [
           "Senegal",
           4.969
          ],
          [
           "Iran",
           4.923
          ],
          [
           "Azerbaijan",
           4.893
          ],
          [
           "Nigeria",
           4.881
          ],
          [
           "Cameroon",
           4.874
          ],
          [
           "Ukraine",
           4.873
          ],
          [
           "Namibia",
           4.832
          ],
          [
           "Morocco",
           4.795
          ],
          [
           "Pakistan",
           4.657
          ],
          [
           "Niger",
           4.556
          ],
          [
           "Burkina Faso",
           4.548
          ],
          [
           "Mauritania",
           4.505
          ],
          [
           "Gambia",
           4.485
          ],
          [
           "Chad",
           4.471
          ],
          [
           "Kenya",
           4.47
          ],
          [
           "Tunisia",
           4.422
          ],
          [
           "Benin",
           4.377
          ],
          [
           "Uganda",
           4.372
          ],
          [
           "Myanmar",
           4.354
          ],
          [
           "Cambodia",
           4.341
          ],
          [
           "Ghana",
           4.289
          ],
          [
           "Liberia",
           4.269
          ],
          [
           "Mali",
           4.232
          ],
          [
           "Madagascar",
           4.228
          ],
          [
           "Togo",
           4.214
          ],
          [
           "Jordan",
           4.186
          ],
          [
           "India",
           4.054
          ],
          [
           "Egypt",
           3.977
          ],
          [
           "Sri Lanka",
           3.898
          ],
          [
           "Bangladesh",
           3.886
          ],
          [
           "Ethiopia",
           3.861
          ],
          [
           "Tanzania",
           3.781
          ],
          [
           "Comoros",
           3.566
          ],
          [
           "Yemen",
           3.561
          ],
          [
           "Zambia",
           3.502
          ],
          [
           "Eswatini",
           3.502
          ],
          [
           "Malawi",
           3.421
          ],
          [
           "Botswana",
           3.383
          ],
          [
           "Zimbabwe",
           3.341
          ],
          [
           "Congo (Kinshasa)",
           3.295
          ],
          [
           "Sierra Leone",
           3.245
          ],
          [
           "Lesotho",
           3.186
          ],
          [
           "Lebanon",
           2.707
          ],
          [
           "Afghanistan",
           1.721
          ]
         ],
         "hovertemplate": "Grouping mean=Ladder score below mean<br>Continent=%{x}<br>Explained by: Log GDP per capita=%{y}<br>Country name=%{customdata[0]}<br>Ladder score=%{customdata[1]}<extra></extra>",
         "legendgroup": "Ladder score below mean",
         "marker": {
          "color": "#FF7F0E"
         },
         "name": "Ladder score below mean",
         "notched": false,
         "offsetgroup": "Ladder score below mean",
         "orientation": "v",
         "quartilemethod": "linear",
         "showlegend": true,
         "type": "box",
         "x": [
          "Europe",
          "Europe",
          "Africa",
          null,
          "Africa",
          "Asia",
          "Europe",
          null,
          "Africa",
          "Europe",
          "Asia",
          "Asia",
          "Asia",
          "Africa",
          "Africa",
          "Africa",
          "Europe",
          "Africa",
          "Asia",
          "Europe",
          "Africa",
          "Africa",
          "Europe",
          "Africa",
          "Africa",
          "Asia",
          "Africa",
          null,
          "Africa",
          "Africa",
          "Africa",
          "Africa",
          "Africa",
          "Africa",
          "Africa",
          null,
          "Asia",
          "Africa",
          "Africa",
          "Africa",
          "Africa",
          "Africa",
          "Asia",
          "Asia",
          "Africa",
          "Asia",
          "Asia",
          "Africa",
          "Africa",
          "Africa",
          "Asia",
          "Africa",
          null,
          "Africa",
          "Africa",
          "Africa",
          null,
          "Africa",
          "Africa",
          "Asia",
          "Asia"
         ],
         "x0": " ",
         "xaxis": "x",
         "y": [
          1.629,
          1.444,
          1.389,
          1.475,
          1.324,
          1.909,
          1.438,
          0.892,
          0.56,
          1.467,
          1.249,
          0.965,
          1.208,
          1.403,
          1.08,
          0.831,
          1.702,
          0.927,
          1.435,
          1.433,
          1.042,
          0.943,
          1.35,
          1.266,
          1.213,
          1.069,
          0.573,
          0.756,
          1.078,
          0.75,
          0.603,
          1.037,
          1.306,
          0.914,
          0.772,
          0.978,
          1.011,
          1.077,
          0.619,
          0.747,
          0.628,
          0.758,
          1.262,
          1.166,
          1.37,
          1.361,
          1.122,
          0.792,
          0.82,
          0.896,
          0.671,
          0.899,
          1.255,
          0.617,
          1.445,
          0.748,
          0.534,
          0.654,
          0.771,
          1.377,
          0.628
         ],
         "y0": " ",
         "yaxis": "y"
        }
       ],
       "layout": {
        "boxmode": "group",
        "legend": {
         "title": {
          "text": "Grouping mean"
         },
         "tracegroupgap": 0
        },
        "template": {
         "data": {
          "bar": [
           {
            "error_x": {
             "color": "rgb(36,36,36)"
            },
            "error_y": {
             "color": "rgb(36,36,36)"
            },
            "marker": {
             "line": {
              "color": "white",
              "width": 0.5
             },
             "pattern": {
              "fillmode": "overlay",
              "size": 10,
              "solidity": 0.2
             }
            },
            "type": "bar"
           }
          ],
          "barpolar": [
           {
            "marker": {
             "line": {
              "color": "white",
              "width": 0.5
             },
             "pattern": {
              "fillmode": "overlay",
              "size": 10,
              "solidity": 0.2
             }
            },
            "type": "barpolar"
           }
          ],
          "carpet": [
           {
            "aaxis": {
             "endlinecolor": "rgb(36,36,36)",
             "gridcolor": "white",
             "linecolor": "white",
             "minorgridcolor": "white",
             "startlinecolor": "rgb(36,36,36)"
            },
            "baxis": {
             "endlinecolor": "rgb(36,36,36)",
             "gridcolor": "white",
             "linecolor": "white",
             "minorgridcolor": "white",
             "startlinecolor": "rgb(36,36,36)"
            },
            "type": "carpet"
           }
          ],
          "choropleth": [
           {
            "colorbar": {
             "outlinewidth": 1,
             "tickcolor": "rgb(36,36,36)",
             "ticks": "outside"
            },
            "type": "choropleth"
           }
          ],
          "contour": [
           {
            "colorbar": {
             "outlinewidth": 1,
             "tickcolor": "rgb(36,36,36)",
             "ticks": "outside"
            },
            "colorscale": [
             [
              0,
              "#440154"
             ],
             [
              0.1111111111111111,
              "#482878"
             ],
             [
              0.2222222222222222,
              "#3e4989"
             ],
             [
              0.3333333333333333,
              "#31688e"
             ],
             [
              0.4444444444444444,
              "#26828e"
             ],
             [
              0.5555555555555556,
              "#1f9e89"
             ],
             [
              0.6666666666666666,
              "#35b779"
             ],
             [
              0.7777777777777778,
              "#6ece58"
             ],
             [
              0.8888888888888888,
              "#b5de2b"
             ],
             [
              1,
              "#fde725"
             ]
            ],
            "type": "contour"
           }
          ],
          "contourcarpet": [
           {
            "colorbar": {
             "outlinewidth": 1,
             "tickcolor": "rgb(36,36,36)",
             "ticks": "outside"
            },
            "type": "contourcarpet"
           }
          ],
          "heatmap": [
           {
            "colorbar": {
             "outlinewidth": 1,
             "tickcolor": "rgb(36,36,36)",
             "ticks": "outside"
            },
            "colorscale": [
             [
              0,
              "#440154"
             ],
             [
              0.1111111111111111,
              "#482878"
             ],
             [
              0.2222222222222222,
              "#3e4989"
             ],
             [
              0.3333333333333333,
              "#31688e"
             ],
             [
              0.4444444444444444,
              "#26828e"
             ],
             [
              0.5555555555555556,
              "#1f9e89"
             ],
             [
              0.6666666666666666,
              "#35b779"
             ],
             [
              0.7777777777777778,
              "#6ece58"
             ],
             [
              0.8888888888888888,
              "#b5de2b"
             ],
             [
              1,
              "#fde725"
             ]
            ],
            "type": "heatmap"
           }
          ],
          "heatmapgl": [
           {
            "colorbar": {
             "outlinewidth": 1,
             "tickcolor": "rgb(36,36,36)",
             "ticks": "outside"
            },
            "colorscale": [
             [
              0,
              "#440154"
             ],
             [
              0.1111111111111111,
              "#482878"
             ],
             [
              0.2222222222222222,
              "#3e4989"
             ],
             [
              0.3333333333333333,
              "#31688e"
             ],
             [
              0.4444444444444444,
              "#26828e"
             ],
             [
              0.5555555555555556,
              "#1f9e89"
             ],
             [
              0.6666666666666666,
              "#35b779"
             ],
             [
              0.7777777777777778,
              "#6ece58"
             ],
             [
              0.8888888888888888,
              "#b5de2b"
             ],
             [
              1,
              "#fde725"
             ]
            ],
            "type": "heatmapgl"
           }
          ],
          "histogram": [
           {
            "marker": {
             "line": {
              "color": "white",
              "width": 0.6
             }
            },
            "type": "histogram"
           }
          ],
          "histogram2d": [
           {
            "colorbar": {
             "outlinewidth": 1,
             "tickcolor": "rgb(36,36,36)",
             "ticks": "outside"
            },
            "colorscale": [
             [
              0,
              "#440154"
             ],
             [
              0.1111111111111111,
              "#482878"
             ],
             [
              0.2222222222222222,
              "#3e4989"
             ],
             [
              0.3333333333333333,
              "#31688e"
             ],
             [
              0.4444444444444444,
              "#26828e"
             ],
             [
              0.5555555555555556,
              "#1f9e89"
             ],
             [
              0.6666666666666666,
              "#35b779"
             ],
             [
              0.7777777777777778,
              "#6ece58"
             ],
             [
              0.8888888888888888,
              "#b5de2b"
             ],
             [
              1,
              "#fde725"
             ]
            ],
            "type": "histogram2d"
           }
          ],
          "histogram2dcontour": [
           {
            "colorbar": {
             "outlinewidth": 1,
             "tickcolor": "rgb(36,36,36)",
             "ticks": "outside"
            },
            "colorscale": [
             [
              0,
              "#440154"
             ],
             [
              0.1111111111111111,
              "#482878"
             ],
             [
              0.2222222222222222,
              "#3e4989"
             ],
             [
              0.3333333333333333,
              "#31688e"
             ],
             [
              0.4444444444444444,
              "#26828e"
             ],
             [
              0.5555555555555556,
              "#1f9e89"
             ],
             [
              0.6666666666666666,
              "#35b779"
             ],
             [
              0.7777777777777778,
              "#6ece58"
             ],
             [
              0.8888888888888888,
              "#b5de2b"
             ],
             [
              1,
              "#fde725"
             ]
            ],
            "type": "histogram2dcontour"
           }
          ],
          "mesh3d": [
           {
            "colorbar": {
             "outlinewidth": 1,
             "tickcolor": "rgb(36,36,36)",
             "ticks": "outside"
            },
            "type": "mesh3d"
           }
          ],
          "parcoords": [
           {
            "line": {
             "colorbar": {
              "outlinewidth": 1,
              "tickcolor": "rgb(36,36,36)",
              "ticks": "outside"
             }
            },
            "type": "parcoords"
           }
          ],
          "pie": [
           {
            "automargin": true,
            "type": "pie"
           }
          ],
          "scatter": [
           {
            "fillpattern": {
             "fillmode": "overlay",
             "size": 10,
             "solidity": 0.2
            },
            "type": "scatter"
           }
          ],
          "scatter3d": [
           {
            "line": {
             "colorbar": {
              "outlinewidth": 1,
              "tickcolor": "rgb(36,36,36)",
              "ticks": "outside"
             }
            },
            "marker": {
             "colorbar": {
              "outlinewidth": 1,
              "tickcolor": "rgb(36,36,36)",
              "ticks": "outside"
             }
            },
            "type": "scatter3d"
           }
          ],
          "scattercarpet": [
           {
            "marker": {
             "colorbar": {
              "outlinewidth": 1,
              "tickcolor": "rgb(36,36,36)",
              "ticks": "outside"
             }
            },
            "type": "scattercarpet"
           }
          ],
          "scattergeo": [
           {
            "marker": {
             "colorbar": {
              "outlinewidth": 1,
              "tickcolor": "rgb(36,36,36)",
              "ticks": "outside"
             }
            },
            "type": "scattergeo"
           }
          ],
          "scattergl": [
           {
            "marker": {
             "colorbar": {
              "outlinewidth": 1,
              "tickcolor": "rgb(36,36,36)",
              "ticks": "outside"
             }
            },
            "type": "scattergl"
           }
          ],
          "scattermapbox": [
           {
            "marker": {
             "colorbar": {
              "outlinewidth": 1,
              "tickcolor": "rgb(36,36,36)",
              "ticks": "outside"
             }
            },
            "type": "scattermapbox"
           }
          ],
          "scatterpolar": [
           {
            "marker": {
             "colorbar": {
              "outlinewidth": 1,
              "tickcolor": "rgb(36,36,36)",
              "ticks": "outside"
             }
            },
            "type": "scatterpolar"
           }
          ],
          "scatterpolargl": [
           {
            "marker": {
             "colorbar": {
              "outlinewidth": 1,
              "tickcolor": "rgb(36,36,36)",
              "ticks": "outside"
             }
            },
            "type": "scatterpolargl"
           }
          ],
          "scatterternary": [
           {
            "marker": {
             "colorbar": {
              "outlinewidth": 1,
              "tickcolor": "rgb(36,36,36)",
              "ticks": "outside"
             }
            },
            "type": "scatterternary"
           }
          ],
          "surface": [
           {
            "colorbar": {
             "outlinewidth": 1,
             "tickcolor": "rgb(36,36,36)",
             "ticks": "outside"
            },
            "colorscale": [
             [
              0,
              "#440154"
             ],
             [
              0.1111111111111111,
              "#482878"
             ],
             [
              0.2222222222222222,
              "#3e4989"
             ],
             [
              0.3333333333333333,
              "#31688e"
             ],
             [
              0.4444444444444444,
              "#26828e"
             ],
             [
              0.5555555555555556,
              "#1f9e89"
             ],
             [
              0.6666666666666666,
              "#35b779"
             ],
             [
              0.7777777777777778,
              "#6ece58"
             ],
             [
              0.8888888888888888,
              "#b5de2b"
             ],
             [
              1,
              "#fde725"
             ]
            ],
            "type": "surface"
           }
          ],
          "table": [
           {
            "cells": {
             "fill": {
              "color": "rgb(237,237,237)"
             },
             "line": {
              "color": "white"
             }
            },
            "header": {
             "fill": {
              "color": "rgb(217,217,217)"
             },
             "line": {
              "color": "white"
             }
            },
            "type": "table"
           }
          ]
         },
         "layout": {
          "annotationdefaults": {
           "arrowhead": 0,
           "arrowwidth": 1
          },
          "autotypenumbers": "strict",
          "coloraxis": {
           "colorbar": {
            "outlinewidth": 1,
            "tickcolor": "rgb(36,36,36)",
            "ticks": "outside"
           }
          },
          "colorscale": {
           "diverging": [
            [
             0,
             "rgb(103,0,31)"
            ],
            [
             0.1,
             "rgb(178,24,43)"
            ],
            [
             0.2,
             "rgb(214,96,77)"
            ],
            [
             0.3,
             "rgb(244,165,130)"
            ],
            [
             0.4,
             "rgb(253,219,199)"
            ],
            [
             0.5,
             "rgb(247,247,247)"
            ],
            [
             0.6,
             "rgb(209,229,240)"
            ],
            [
             0.7,
             "rgb(146,197,222)"
            ],
            [
             0.8,
             "rgb(67,147,195)"
            ],
            [
             0.9,
             "rgb(33,102,172)"
            ],
            [
             1,
             "rgb(5,48,97)"
            ]
           ],
           "sequential": [
            [
             0,
             "#440154"
            ],
            [
             0.1111111111111111,
             "#482878"
            ],
            [
             0.2222222222222222,
             "#3e4989"
            ],
            [
             0.3333333333333333,
             "#31688e"
            ],
            [
             0.4444444444444444,
             "#26828e"
            ],
            [
             0.5555555555555556,
             "#1f9e89"
            ],
            [
             0.6666666666666666,
             "#35b779"
            ],
            [
             0.7777777777777778,
             "#6ece58"
            ],
            [
             0.8888888888888888,
             "#b5de2b"
            ],
            [
             1,
             "#fde725"
            ]
           ],
           "sequentialminus": [
            [
             0,
             "#440154"
            ],
            [
             0.1111111111111111,
             "#482878"
            ],
            [
             0.2222222222222222,
             "#3e4989"
            ],
            [
             0.3333333333333333,
             "#31688e"
            ],
            [
             0.4444444444444444,
             "#26828e"
            ],
            [
             0.5555555555555556,
             "#1f9e89"
            ],
            [
             0.6666666666666666,
             "#35b779"
            ],
            [
             0.7777777777777778,
             "#6ece58"
            ],
            [
             0.8888888888888888,
             "#b5de2b"
            ],
            [
             1,
             "#fde725"
            ]
           ]
          },
          "colorway": [
           "#1F77B4",
           "#FF7F0E",
           "#2CA02C",
           "#D62728",
           "#9467BD",
           "#8C564B",
           "#E377C2",
           "#7F7F7F",
           "#BCBD22",
           "#17BECF"
          ],
          "font": {
           "color": "rgb(36,36,36)"
          },
          "geo": {
           "bgcolor": "white",
           "lakecolor": "white",
           "landcolor": "white",
           "showlakes": true,
           "showland": true,
           "subunitcolor": "white"
          },
          "hoverlabel": {
           "align": "left"
          },
          "hovermode": "closest",
          "mapbox": {
           "style": "light"
          },
          "paper_bgcolor": "white",
          "plot_bgcolor": "white",
          "polar": {
           "angularaxis": {
            "gridcolor": "rgb(232,232,232)",
            "linecolor": "rgb(36,36,36)",
            "showgrid": false,
            "showline": true,
            "ticks": "outside"
           },
           "bgcolor": "white",
           "radialaxis": {
            "gridcolor": "rgb(232,232,232)",
            "linecolor": "rgb(36,36,36)",
            "showgrid": false,
            "showline": true,
            "ticks": "outside"
           }
          },
          "scene": {
           "xaxis": {
            "backgroundcolor": "white",
            "gridcolor": "rgb(232,232,232)",
            "gridwidth": 2,
            "linecolor": "rgb(36,36,36)",
            "showbackground": true,
            "showgrid": false,
            "showline": true,
            "ticks": "outside",
            "zeroline": false,
            "zerolinecolor": "rgb(36,36,36)"
           },
           "yaxis": {
            "backgroundcolor": "white",
            "gridcolor": "rgb(232,232,232)",
            "gridwidth": 2,
            "linecolor": "rgb(36,36,36)",
            "showbackground": true,
            "showgrid": false,
            "showline": true,
            "ticks": "outside",
            "zeroline": false,
            "zerolinecolor": "rgb(36,36,36)"
           },
           "zaxis": {
            "backgroundcolor": "white",
            "gridcolor": "rgb(232,232,232)",
            "gridwidth": 2,
            "linecolor": "rgb(36,36,36)",
            "showbackground": true,
            "showgrid": false,
            "showline": true,
            "ticks": "outside",
            "zeroline": false,
            "zerolinecolor": "rgb(36,36,36)"
           }
          },
          "shapedefaults": {
           "fillcolor": "black",
           "line": {
            "width": 0
           },
           "opacity": 0.3
          },
          "ternary": {
           "aaxis": {
            "gridcolor": "rgb(232,232,232)",
            "linecolor": "rgb(36,36,36)",
            "showgrid": false,
            "showline": true,
            "ticks": "outside"
           },
           "baxis": {
            "gridcolor": "rgb(232,232,232)",
            "linecolor": "rgb(36,36,36)",
            "showgrid": false,
            "showline": true,
            "ticks": "outside"
           },
           "bgcolor": "white",
           "caxis": {
            "gridcolor": "rgb(232,232,232)",
            "linecolor": "rgb(36,36,36)",
            "showgrid": false,
            "showline": true,
            "ticks": "outside"
           }
          },
          "title": {
           "x": 0.05
          },
          "xaxis": {
           "automargin": true,
           "gridcolor": "rgb(232,232,232)",
           "linecolor": "rgb(36,36,36)",
           "showgrid": false,
           "showline": true,
           "ticks": "outside",
           "title": {
            "standoff": 15
           },
           "zeroline": false,
           "zerolinecolor": "rgb(36,36,36)"
          },
          "yaxis": {
           "automargin": true,
           "gridcolor": "rgb(232,232,232)",
           "linecolor": "rgb(36,36,36)",
           "showgrid": false,
           "showline": true,
           "ticks": "outside",
           "title": {
            "standoff": 15
           },
           "zeroline": false,
           "zerolinecolor": "rgb(36,36,36)"
          }
         }
        },
        "title": {
         "text": "Boxplot: 'simple_white' Theme"
        },
        "xaxis": {
         "anchor": "y",
         "domain": [
          0,
          1
         ],
         "title": {
          "text": "Continent"
         }
        },
        "yaxis": {
         "anchor": "x",
         "domain": [
          0,
          1
         ],
         "title": {
          "text": "Explained by: Log GDP per capita"
         }
        }
       }
      }
     },
     "metadata": {},
     "output_type": "display_data"
    },
    {
     "data": {
      "application/vnd.plotly.v1+json": {
       "config": {
        "plotlyServerURL": "https://plot.ly"
       },
       "data": [
        {
         "alignmentgroup": "True",
         "boxpoints": "all",
         "customdata": [
          [
           "Finland",
           7.741
          ],
          [
           "Denmark",
           7.583
          ],
          [
           "Iceland",
           7.525
          ],
          [
           "Sweden",
           7.344
          ],
          [
           "Israel",
           7.341
          ],
          [
           "Netherlands",
           7.319
          ],
          [
           "Norway",
           7.302
          ],
          [
           "Luxembourg",
           7.122
          ],
          [
           "Switzerland",
           7.06
          ],
          [
           "Australia",
           7.057
          ],
          [
           "New Zealand",
           7.029
          ],
          [
           "Costa Rica",
           6.955
          ],
          [
           "Kuwait",
           6.951
          ],
          [
           "Austria",
           6.905
          ],
          [
           "Canada",
           6.9
          ],
          [
           "Belgium",
           6.894
          ],
          [
           "Ireland",
           6.838
          ],
          [
           "Czechia",
           6.822
          ],
          [
           "Lithuania",
           6.818
          ],
          [
           "United Kingdom",
           6.749
          ],
          [
           "Slovenia",
           6.743
          ],
          [
           "United Arab Emirates",
           6.733
          ],
          [
           "United States",
           6.725
          ],
          [
           "Germany",
           6.719
          ],
          [
           "Mexico",
           6.678
          ],
          [
           "Uruguay",
           6.611
          ],
          [
           "France",
           6.609
          ],
          [
           "Saudi Arabia",
           6.594
          ],
          [
           "Kosovo",
           6.561
          ],
          [
           "Singapore",
           6.523
          ],
          [
           "Taiwan",
           6.503
          ],
          [
           "Romania",
           6.491
          ],
          [
           "El Salvador",
           6.469
          ],
          [
           "Estonia",
           6.448
          ],
          [
           "Poland",
           6.442
          ],
          [
           "Spain",
           6.421
          ],
          [
           "Serbia",
           6.411
          ],
          [
           "Chile",
           6.36
          ],
          [
           "Panama",
           6.358
          ],
          [
           "Malta",
           6.346
          ],
          [
           "Italy",
           6.324
          ],
          [
           "Guatemala",
           6.287
          ],
          [
           "Nicaragua",
           6.284
          ],
          [
           "Brazil",
           6.272
          ],
          [
           "Slovakia",
           6.257
          ],
          [
           "Latvia",
           6.234
          ],
          [
           "Uzbekistan",
           6.195
          ],
          [
           "Argentina",
           6.188
          ],
          [
           "Kazakhstan",
           6.188
          ],
          [
           "Cyprus",
           6.068
          ],
          [
           "Japan",
           6.06
          ],
          [
           "South Korea",
           6.058
          ],
          [
           "Philippines",
           6.048
          ],
          [
           "Vietnam",
           6.043
          ],
          [
           "Portugal",
           6.03
          ],
          [
           "Hungary",
           6.017
          ],
          [
           "Paraguay",
           5.977
          ],
          [
           "Thailand",
           5.976
          ],
          [
           "Malaysia",
           5.975
          ],
          [
           "China",
           5.973
          ],
          [
           "Honduras",
           5.968
          ],
          [
           "Croatia",
           5.942
          ],
          [
           "Greece",
           5.934
          ],
          [
           "Bosnia and Herzegovina",
           5.877
          ],
          [
           "Libya",
           5.866
          ],
          [
           "Jamaica",
           5.842
          ],
          [
           "Peru",
           5.841
          ],
          [
           "Dominican Republic",
           5.823
          ],
          [
           "Mauritius",
           5.816
          ],
          [
           "Moldova",
           5.816
          ],
          [
           "Russia",
           5.785
          ],
          [
           "Bolivia",
           5.784
          ],
          [
           "Ecuador",
           5.725
          ],
          [
           "Kyrgyzstan",
           5.714
          ],
          [
           "Montenegro",
           5.707
          ],
          [
           "Mongolia",
           5.696
          ],
          [
           "Colombia",
           5.695
          ],
          [
           "Indonesia",
           5.568
          ]
         ],
         "hovertemplate": "Grouping mean=Ladder score above mean<br>Continent=%{x}<br>Explained by: Log GDP per capita=%{y}<br>Country name=%{customdata[0]}<br>Ladder score=%{customdata[1]}<extra></extra>",
         "legendgroup": "Ladder score above mean",
         "marker": {
          "color": "#636efa"
         },
         "name": "Ladder score above mean",
         "notched": false,
         "offsetgroup": "Ladder score above mean",
         "orientation": "v",
         "quartilemethod": "linear",
         "showlegend": true,
         "type": "box",
         "x": [
          "Europe",
          "Europe",
          "Europe",
          "Europe",
          "Asia",
          "Europe",
          "Europe",
          "Europe",
          "Europe",
          "Oceania",
          "Oceania",
          "North America",
          "Asia",
          "Europe",
          "North America",
          "Europe",
          "Europe",
          "Europe",
          "Europe",
          "Europe",
          "Europe",
          "Asia",
          "North America",
          "Europe",
          "North America",
          "South America",
          "Europe",
          "Asia",
          "Europe",
          "Asia",
          "Asia",
          "Europe",
          "North America",
          "Europe",
          "Europe",
          "Europe",
          "Europe",
          "South America",
          "North America",
          "Europe",
          "Europe",
          "North America",
          "North America",
          "South America",
          "Europe",
          "Europe",
          "Asia",
          "South America",
          "Asia",
          "Europe",
          "Asia",
          "Asia",
          "Asia",
          "Asia",
          "Europe",
          "Europe",
          "South America",
          "Asia",
          "Asia",
          "Asia",
          "North America",
          "Europe",
          "Europe",
          "Europe",
          "Africa",
          "North America",
          "South America",
          "North America",
          "Africa",
          "Europe",
          "Asia",
          "South America",
          "South America",
          "Asia",
          "Europe",
          "Asia",
          "South America",
          "Asia"
         ],
         "x0": " ",
         "xaxis": "x",
         "y": [
          1.844,
          1.908,
          1.881,
          1.878,
          1.803,
          1.901,
          1.952,
          2.141,
          1.97,
          1.854,
          1.81,
          1.561,
          1.845,
          1.885,
          1.84,
          1.868,
          2.129,
          1.783,
          1.766,
          1.822,
          1.786,
          1.983,
          1.939,
          1.871,
          1.521,
          1.596,
          1.818,
          1.842,
          1.364,
          2.118,
          1.842,
          1.699,
          1.265,
          1.752,
          1.738,
          1.766,
          1.538,
          1.616,
          1.702,
          1.827,
          1.8,
          1.26,
          1.097,
          1.43,
          1.706,
          1.7,
          1.212,
          1.562,
          1.622,
          1.794,
          1.786,
          1.815,
          1.232,
          1.331,
          1.728,
          1.722,
          1.398,
          1.484,
          1.646,
          1.497,
          1.091,
          1.71,
          1.684,
          1.465,
          1.526,
          1.28,
          1.371,
          1.517,
          1.57,
          1.385,
          1.642,
          1.217,
          1.315,
          1.054,
          1.571,
          1.353,
          1.437,
          1.361
         ],
         "y0": " ",
         "yaxis": "y"
        },
        {
         "alignmentgroup": "True",
         "boxpoints": "all",
         "customdata": [
          [
           "Bulgaria",
           5.463
          ],
          [
           "Armenia",
           5.455
          ],
          [
           "South Africa",
           5.422
          ],
          [
           "North Macedonia",
           5.369
          ],
          [
           "Algeria",
           5.364
          ],
          [
           "Hong Kong",
           5.316
          ],
          [
           "Albania",
           5.304
          ],
          [
           "Congo (Brazzaville)",
           5.221
          ],
          [
           "Mozambique",
           5.216
          ],
          [
           "Georgia",
           5.185
          ],
          [
           "Iraq",
           5.166
          ],
          [
           "Nepal",
           5.158
          ],
          [
           "Laos",
           5.139
          ],
          [
           "Gabon",
           5.106
          ],
          [
           "Ivory Coast",
           5.08
          ],
          [
           "Guinea",
           5.023
          ],
          [
           "Turkey",
           4.975
          ],
          [
           "Senegal",
           4.969
          ],
          [
           "Iran",
           4.923
          ],
          [
           "Azerbaijan",
           4.893
          ],
          [
           "Nigeria",
           4.881
          ],
          [
           "Cameroon",
           4.874
          ],
          [
           "Ukraine",
           4.873
          ],
          [
           "Namibia",
           4.832
          ],
          [
           "Morocco",
           4.795
          ],
          [
           "Pakistan",
           4.657
          ],
          [
           "Niger",
           4.556
          ],
          [
           "Burkina Faso",
           4.548
          ],
          [
           "Mauritania",
           4.505
          ],
          [
           "Gambia",
           4.485
          ],
          [
           "Chad",
           4.471
          ],
          [
           "Kenya",
           4.47
          ],
          [
           "Tunisia",
           4.422
          ],
          [
           "Benin",
           4.377
          ],
          [
           "Uganda",
           4.372
          ],
          [
           "Myanmar",
           4.354
          ],
          [
           "Cambodia",
           4.341
          ],
          [
           "Ghana",
           4.289
          ],
          [
           "Liberia",
           4.269
          ],
          [
           "Mali",
           4.232
          ],
          [
           "Madagascar",
           4.228
          ],
          [
           "Togo",
           4.214
          ],
          [
           "Jordan",
           4.186
          ],
          [
           "India",
           4.054
          ],
          [
           "Egypt",
           3.977
          ],
          [
           "Sri Lanka",
           3.898
          ],
          [
           "Bangladesh",
           3.886
          ],
          [
           "Ethiopia",
           3.861
          ],
          [
           "Tanzania",
           3.781
          ],
          [
           "Comoros",
           3.566
          ],
          [
           "Yemen",
           3.561
          ],
          [
           "Zambia",
           3.502
          ],
          [
           "Eswatini",
           3.502
          ],
          [
           "Malawi",
           3.421
          ],
          [
           "Botswana",
           3.383
          ],
          [
           "Zimbabwe",
           3.341
          ],
          [
           "Congo (Kinshasa)",
           3.295
          ],
          [
           "Sierra Leone",
           3.245
          ],
          [
           "Lesotho",
           3.186
          ],
          [
           "Lebanon",
           2.707
          ],
          [
           "Afghanistan",
           1.721
          ]
         ],
         "hovertemplate": "Grouping mean=Ladder score below mean<br>Continent=%{x}<br>Explained by: Log GDP per capita=%{y}<br>Country name=%{customdata[0]}<br>Ladder score=%{customdata[1]}<extra></extra>",
         "legendgroup": "Ladder score below mean",
         "marker": {
          "color": "#EF553B"
         },
         "name": "Ladder score below mean",
         "notched": false,
         "offsetgroup": "Ladder score below mean",
         "orientation": "v",
         "quartilemethod": "linear",
         "showlegend": true,
         "type": "box",
         "x": [
          "Europe",
          "Europe",
          "Africa",
          null,
          "Africa",
          "Asia",
          "Europe",
          null,
          "Africa",
          "Europe",
          "Asia",
          "Asia",
          "Asia",
          "Africa",
          "Africa",
          "Africa",
          "Europe",
          "Africa",
          "Asia",
          "Europe",
          "Africa",
          "Africa",
          "Europe",
          "Africa",
          "Africa",
          "Asia",
          "Africa",
          null,
          "Africa",
          "Africa",
          "Africa",
          "Africa",
          "Africa",
          "Africa",
          "Africa",
          null,
          "Asia",
          "Africa",
          "Africa",
          "Africa",
          "Africa",
          "Africa",
          "Asia",
          "Asia",
          "Africa",
          "Asia",
          "Asia",
          "Africa",
          "Africa",
          "Africa",
          "Asia",
          "Africa",
          null,
          "Africa",
          "Africa",
          "Africa",
          null,
          "Africa",
          "Africa",
          "Asia",
          "Asia"
         ],
         "x0": " ",
         "xaxis": "x",
         "y": [
          1.629,
          1.444,
          1.389,
          1.475,
          1.324,
          1.909,
          1.438,
          0.892,
          0.56,
          1.467,
          1.249,
          0.965,
          1.208,
          1.403,
          1.08,
          0.831,
          1.702,
          0.927,
          1.435,
          1.433,
          1.042,
          0.943,
          1.35,
          1.266,
          1.213,
          1.069,
          0.573,
          0.756,
          1.078,
          0.75,
          0.603,
          1.037,
          1.306,
          0.914,
          0.772,
          0.978,
          1.011,
          1.077,
          0.619,
          0.747,
          0.628,
          0.758,
          1.262,
          1.166,
          1.37,
          1.361,
          1.122,
          0.792,
          0.82,
          0.896,
          0.671,
          0.899,
          1.255,
          0.617,
          1.445,
          0.748,
          0.534,
          0.654,
          0.771,
          1.377,
          0.628
         ],
         "y0": " ",
         "yaxis": "y"
        }
       ],
       "layout": {
        "boxmode": "group",
        "legend": {
         "title": {
          "text": "Grouping mean"
         },
         "tracegroupgap": 0
        },
        "template": {
         "data": {
          "bar": [
           {
            "error_x": {
             "color": "#2a3f5f"
            },
            "error_y": {
             "color": "#2a3f5f"
            },
            "marker": {
             "line": {
              "color": "#E5ECF6",
              "width": 0.5
             },
             "pattern": {
              "fillmode": "overlay",
              "size": 10,
              "solidity": 0.2
             }
            },
            "type": "bar"
           }
          ],
          "barpolar": [
           {
            "marker": {
             "line": {
              "color": "#E5ECF6",
              "width": 0.5
             },
             "pattern": {
              "fillmode": "overlay",
              "size": 10,
              "solidity": 0.2
             }
            },
            "type": "barpolar"
           }
          ],
          "carpet": [
           {
            "aaxis": {
             "endlinecolor": "#2a3f5f",
             "gridcolor": "white",
             "linecolor": "white",
             "minorgridcolor": "white",
             "startlinecolor": "#2a3f5f"
            },
            "baxis": {
             "endlinecolor": "#2a3f5f",
             "gridcolor": "white",
             "linecolor": "white",
             "minorgridcolor": "white",
             "startlinecolor": "#2a3f5f"
            },
            "type": "carpet"
           }
          ],
          "choropleth": [
           {
            "colorbar": {
             "outlinewidth": 0,
             "ticks": ""
            },
            "type": "choropleth"
           }
          ],
          "contour": [
           {
            "colorbar": {
             "outlinewidth": 0,
             "ticks": ""
            },
            "colorscale": [
             [
              0,
              "#0d0887"
             ],
             [
              0.1111111111111111,
              "#46039f"
             ],
             [
              0.2222222222222222,
              "#7201a8"
             ],
             [
              0.3333333333333333,
              "#9c179e"
             ],
             [
              0.4444444444444444,
              "#bd3786"
             ],
             [
              0.5555555555555556,
              "#d8576b"
             ],
             [
              0.6666666666666666,
              "#ed7953"
             ],
             [
              0.7777777777777778,
              "#fb9f3a"
             ],
             [
              0.8888888888888888,
              "#fdca26"
             ],
             [
              1,
              "#f0f921"
             ]
            ],
            "type": "contour"
           }
          ],
          "contourcarpet": [
           {
            "colorbar": {
             "outlinewidth": 0,
             "ticks": ""
            },
            "type": "contourcarpet"
           }
          ],
          "heatmap": [
           {
            "colorbar": {
             "outlinewidth": 0,
             "ticks": ""
            },
            "colorscale": [
             [
              0,
              "#0d0887"
             ],
             [
              0.1111111111111111,
              "#46039f"
             ],
             [
              0.2222222222222222,
              "#7201a8"
             ],
             [
              0.3333333333333333,
              "#9c179e"
             ],
             [
              0.4444444444444444,
              "#bd3786"
             ],
             [
              0.5555555555555556,
              "#d8576b"
             ],
             [
              0.6666666666666666,
              "#ed7953"
             ],
             [
              0.7777777777777778,
              "#fb9f3a"
             ],
             [
              0.8888888888888888,
              "#fdca26"
             ],
             [
              1,
              "#f0f921"
             ]
            ],
            "type": "heatmap"
           }
          ],
          "heatmapgl": [
           {
            "colorbar": {
             "outlinewidth": 0,
             "ticks": ""
            },
            "colorscale": [
             [
              0,
              "#0d0887"
             ],
             [
              0.1111111111111111,
              "#46039f"
             ],
             [
              0.2222222222222222,
              "#7201a8"
             ],
             [
              0.3333333333333333,
              "#9c179e"
             ],
             [
              0.4444444444444444,
              "#bd3786"
             ],
             [
              0.5555555555555556,
              "#d8576b"
             ],
             [
              0.6666666666666666,
              "#ed7953"
             ],
             [
              0.7777777777777778,
              "#fb9f3a"
             ],
             [
              0.8888888888888888,
              "#fdca26"
             ],
             [
              1,
              "#f0f921"
             ]
            ],
            "type": "heatmapgl"
           }
          ],
          "histogram": [
           {
            "marker": {
             "pattern": {
              "fillmode": "overlay",
              "size": 10,
              "solidity": 0.2
             }
            },
            "type": "histogram"
           }
          ],
          "histogram2d": [
           {
            "colorbar": {
             "outlinewidth": 0,
             "ticks": ""
            },
            "colorscale": [
             [
              0,
              "#0d0887"
             ],
             [
              0.1111111111111111,
              "#46039f"
             ],
             [
              0.2222222222222222,
              "#7201a8"
             ],
             [
              0.3333333333333333,
              "#9c179e"
             ],
             [
              0.4444444444444444,
              "#bd3786"
             ],
             [
              0.5555555555555556,
              "#d8576b"
             ],
             [
              0.6666666666666666,
              "#ed7953"
             ],
             [
              0.7777777777777778,
              "#fb9f3a"
             ],
             [
              0.8888888888888888,
              "#fdca26"
             ],
             [
              1,
              "#f0f921"
             ]
            ],
            "type": "histogram2d"
           }
          ],
          "histogram2dcontour": [
           {
            "colorbar": {
             "outlinewidth": 0,
             "ticks": ""
            },
            "colorscale": [
             [
              0,
              "#0d0887"
             ],
             [
              0.1111111111111111,
              "#46039f"
             ],
             [
              0.2222222222222222,
              "#7201a8"
             ],
             [
              0.3333333333333333,
              "#9c179e"
             ],
             [
              0.4444444444444444,
              "#bd3786"
             ],
             [
              0.5555555555555556,
              "#d8576b"
             ],
             [
              0.6666666666666666,
              "#ed7953"
             ],
             [
              0.7777777777777778,
              "#fb9f3a"
             ],
             [
              0.8888888888888888,
              "#fdca26"
             ],
             [
              1,
              "#f0f921"
             ]
            ],
            "type": "histogram2dcontour"
           }
          ],
          "mesh3d": [
           {
            "colorbar": {
             "outlinewidth": 0,
             "ticks": ""
            },
            "type": "mesh3d"
           }
          ],
          "parcoords": [
           {
            "line": {
             "colorbar": {
              "outlinewidth": 0,
              "ticks": ""
             }
            },
            "type": "parcoords"
           }
          ],
          "pie": [
           {
            "automargin": true,
            "type": "pie"
           }
          ],
          "scatter": [
           {
            "fillpattern": {
             "fillmode": "overlay",
             "size": 10,
             "solidity": 0.2
            },
            "type": "scatter"
           }
          ],
          "scatter3d": [
           {
            "line": {
             "colorbar": {
              "outlinewidth": 0,
              "ticks": ""
             }
            },
            "marker": {
             "colorbar": {
              "outlinewidth": 0,
              "ticks": ""
             }
            },
            "type": "scatter3d"
           }
          ],
          "scattercarpet": [
           {
            "marker": {
             "colorbar": {
              "outlinewidth": 0,
              "ticks": ""
             }
            },
            "type": "scattercarpet"
           }
          ],
          "scattergeo": [
           {
            "marker": {
             "colorbar": {
              "outlinewidth": 0,
              "ticks": ""
             }
            },
            "type": "scattergeo"
           }
          ],
          "scattergl": [
           {
            "marker": {
             "colorbar": {
              "outlinewidth": 0,
              "ticks": ""
             }
            },
            "type": "scattergl"
           }
          ],
          "scattermapbox": [
           {
            "marker": {
             "colorbar": {
              "outlinewidth": 0,
              "ticks": ""
             }
            },
            "type": "scattermapbox"
           }
          ],
          "scatterpolar": [
           {
            "marker": {
             "colorbar": {
              "outlinewidth": 0,
              "ticks": ""
             }
            },
            "type": "scatterpolar"
           }
          ],
          "scatterpolargl": [
           {
            "marker": {
             "colorbar": {
              "outlinewidth": 0,
              "ticks": ""
             }
            },
            "type": "scatterpolargl"
           }
          ],
          "scatterternary": [
           {
            "marker": {
             "colorbar": {
              "outlinewidth": 0,
              "ticks": ""
             }
            },
            "type": "scatterternary"
           }
          ],
          "surface": [
           {
            "colorbar": {
             "outlinewidth": 0,
             "ticks": ""
            },
            "colorscale": [
             [
              0,
              "#0d0887"
             ],
             [
              0.1111111111111111,
              "#46039f"
             ],
             [
              0.2222222222222222,
              "#7201a8"
             ],
             [
              0.3333333333333333,
              "#9c179e"
             ],
             [
              0.4444444444444444,
              "#bd3786"
             ],
             [
              0.5555555555555556,
              "#d8576b"
             ],
             [
              0.6666666666666666,
              "#ed7953"
             ],
             [
              0.7777777777777778,
              "#fb9f3a"
             ],
             [
              0.8888888888888888,
              "#fdca26"
             ],
             [
              1,
              "#f0f921"
             ]
            ],
            "type": "surface"
           }
          ],
          "table": [
           {
            "cells": {
             "fill": {
              "color": "#EBF0F8"
             },
             "line": {
              "color": "white"
             }
            },
            "header": {
             "fill": {
              "color": "#C8D4E3"
             },
             "line": {
              "color": "white"
             }
            },
            "type": "table"
           }
          ]
         },
         "layout": {
          "annotationdefaults": {
           "arrowcolor": "#2a3f5f",
           "arrowhead": 0,
           "arrowwidth": 1
          },
          "autotypenumbers": "strict",
          "coloraxis": {
           "colorbar": {
            "outlinewidth": 0,
            "ticks": ""
           }
          },
          "colorscale": {
           "diverging": [
            [
             0,
             "#8e0152"
            ],
            [
             0.1,
             "#c51b7d"
            ],
            [
             0.2,
             "#de77ae"
            ],
            [
             0.3,
             "#f1b6da"
            ],
            [
             0.4,
             "#fde0ef"
            ],
            [
             0.5,
             "#f7f7f7"
            ],
            [
             0.6,
             "#e6f5d0"
            ],
            [
             0.7,
             "#b8e186"
            ],
            [
             0.8,
             "#7fbc41"
            ],
            [
             0.9,
             "#4d9221"
            ],
            [
             1,
             "#276419"
            ]
           ],
           "sequential": [
            [
             0,
             "#0d0887"
            ],
            [
             0.1111111111111111,
             "#46039f"
            ],
            [
             0.2222222222222222,
             "#7201a8"
            ],
            [
             0.3333333333333333,
             "#9c179e"
            ],
            [
             0.4444444444444444,
             "#bd3786"
            ],
            [
             0.5555555555555556,
             "#d8576b"
            ],
            [
             0.6666666666666666,
             "#ed7953"
            ],
            [
             0.7777777777777778,
             "#fb9f3a"
            ],
            [
             0.8888888888888888,
             "#fdca26"
            ],
            [
             1,
             "#f0f921"
            ]
           ],
           "sequentialminus": [
            [
             0,
             "#0d0887"
            ],
            [
             0.1111111111111111,
             "#46039f"
            ],
            [
             0.2222222222222222,
             "#7201a8"
            ],
            [
             0.3333333333333333,
             "#9c179e"
            ],
            [
             0.4444444444444444,
             "#bd3786"
            ],
            [
             0.5555555555555556,
             "#d8576b"
            ],
            [
             0.6666666666666666,
             "#ed7953"
            ],
            [
             0.7777777777777778,
             "#fb9f3a"
            ],
            [
             0.8888888888888888,
             "#fdca26"
            ],
            [
             1,
             "#f0f921"
            ]
           ]
          },
          "colorway": [
           "#636efa",
           "#EF553B",
           "#00cc96",
           "#ab63fa",
           "#FFA15A",
           "#19d3f3",
           "#FF6692",
           "#B6E880",
           "#FF97FF",
           "#FECB52"
          ],
          "font": {
           "color": "#2a3f5f"
          },
          "geo": {
           "bgcolor": "white",
           "lakecolor": "white",
           "landcolor": "#E5ECF6",
           "showlakes": true,
           "showland": true,
           "subunitcolor": "white"
          },
          "hoverlabel": {
           "align": "left"
          },
          "hovermode": "closest",
          "mapbox": {
           "style": "light"
          },
          "paper_bgcolor": "white",
          "plot_bgcolor": "#E5ECF6",
          "polar": {
           "angularaxis": {
            "gridcolor": "white",
            "linecolor": "white",
            "ticks": ""
           },
           "bgcolor": "#E5ECF6",
           "radialaxis": {
            "gridcolor": "white",
            "linecolor": "white",
            "ticks": ""
           }
          },
          "scene": {
           "xaxis": {
            "backgroundcolor": "#E5ECF6",
            "gridcolor": "white",
            "gridwidth": 2,
            "linecolor": "white",
            "showbackground": true,
            "ticks": "",
            "zerolinecolor": "white"
           },
           "yaxis": {
            "backgroundcolor": "#E5ECF6",
            "gridcolor": "white",
            "gridwidth": 2,
            "linecolor": "white",
            "showbackground": true,
            "ticks": "",
            "zerolinecolor": "white"
           },
           "zaxis": {
            "backgroundcolor": "#E5ECF6",
            "gridcolor": "white",
            "gridwidth": 2,
            "linecolor": "white",
            "showbackground": true,
            "ticks": "",
            "zerolinecolor": "white"
           }
          },
          "shapedefaults": {
           "line": {
            "color": "#2a3f5f"
           }
          },
          "ternary": {
           "aaxis": {
            "gridcolor": "white",
            "linecolor": "white",
            "ticks": ""
           },
           "baxis": {
            "gridcolor": "white",
            "linecolor": "white",
            "ticks": ""
           },
           "bgcolor": "#E5ECF6",
           "caxis": {
            "gridcolor": "white",
            "linecolor": "white",
            "ticks": ""
           }
          },
          "title": {
           "x": 0.05
          },
          "xaxis": {
           "automargin": true,
           "gridcolor": "white",
           "linecolor": "white",
           "ticks": "",
           "title": {
            "standoff": 15
           },
           "zerolinecolor": "white",
           "zerolinewidth": 2
          },
          "yaxis": {
           "automargin": true,
           "gridcolor": "white",
           "linecolor": "white",
           "ticks": "",
           "title": {
            "standoff": 15
           },
           "zerolinecolor": "white",
           "zerolinewidth": 2
          }
         }
        },
        "title": {
         "text": "Boxplot: 'plotly' Theme"
        },
        "xaxis": {
         "anchor": "y",
         "domain": [
          0,
          1
         ],
         "title": {
          "text": "Continent"
         }
        },
        "yaxis": {
         "anchor": "x",
         "domain": [
          0,
          1
         ],
         "title": {
          "text": "Explained by: Log GDP per capita"
         }
        }
       }
      }
     },
     "metadata": {},
     "output_type": "display_data"
    },
    {
     "data": {
      "application/vnd.plotly.v1+json": {
       "config": {
        "plotlyServerURL": "https://plot.ly"
       },
       "data": [
        {
         "alignmentgroup": "True",
         "boxpoints": "all",
         "customdata": [
          [
           "Finland",
           7.741
          ],
          [
           "Denmark",
           7.583
          ],
          [
           "Iceland",
           7.525
          ],
          [
           "Sweden",
           7.344
          ],
          [
           "Israel",
           7.341
          ],
          [
           "Netherlands",
           7.319
          ],
          [
           "Norway",
           7.302
          ],
          [
           "Luxembourg",
           7.122
          ],
          [
           "Switzerland",
           7.06
          ],
          [
           "Australia",
           7.057
          ],
          [
           "New Zealand",
           7.029
          ],
          [
           "Costa Rica",
           6.955
          ],
          [
           "Kuwait",
           6.951
          ],
          [
           "Austria",
           6.905
          ],
          [
           "Canada",
           6.9
          ],
          [
           "Belgium",
           6.894
          ],
          [
           "Ireland",
           6.838
          ],
          [
           "Czechia",
           6.822
          ],
          [
           "Lithuania",
           6.818
          ],
          [
           "United Kingdom",
           6.749
          ],
          [
           "Slovenia",
           6.743
          ],
          [
           "United Arab Emirates",
           6.733
          ],
          [
           "United States",
           6.725
          ],
          [
           "Germany",
           6.719
          ],
          [
           "Mexico",
           6.678
          ],
          [
           "Uruguay",
           6.611
          ],
          [
           "France",
           6.609
          ],
          [
           "Saudi Arabia",
           6.594
          ],
          [
           "Kosovo",
           6.561
          ],
          [
           "Singapore",
           6.523
          ],
          [
           "Taiwan",
           6.503
          ],
          [
           "Romania",
           6.491
          ],
          [
           "El Salvador",
           6.469
          ],
          [
           "Estonia",
           6.448
          ],
          [
           "Poland",
           6.442
          ],
          [
           "Spain",
           6.421
          ],
          [
           "Serbia",
           6.411
          ],
          [
           "Chile",
           6.36
          ],
          [
           "Panama",
           6.358
          ],
          [
           "Malta",
           6.346
          ],
          [
           "Italy",
           6.324
          ],
          [
           "Guatemala",
           6.287
          ],
          [
           "Nicaragua",
           6.284
          ],
          [
           "Brazil",
           6.272
          ],
          [
           "Slovakia",
           6.257
          ],
          [
           "Latvia",
           6.234
          ],
          [
           "Uzbekistan",
           6.195
          ],
          [
           "Argentina",
           6.188
          ],
          [
           "Kazakhstan",
           6.188
          ],
          [
           "Cyprus",
           6.068
          ],
          [
           "Japan",
           6.06
          ],
          [
           "South Korea",
           6.058
          ],
          [
           "Philippines",
           6.048
          ],
          [
           "Vietnam",
           6.043
          ],
          [
           "Portugal",
           6.03
          ],
          [
           "Hungary",
           6.017
          ],
          [
           "Paraguay",
           5.977
          ],
          [
           "Thailand",
           5.976
          ],
          [
           "Malaysia",
           5.975
          ],
          [
           "China",
           5.973
          ],
          [
           "Honduras",
           5.968
          ],
          [
           "Croatia",
           5.942
          ],
          [
           "Greece",
           5.934
          ],
          [
           "Bosnia and Herzegovina",
           5.877
          ],
          [
           "Libya",
           5.866
          ],
          [
           "Jamaica",
           5.842
          ],
          [
           "Peru",
           5.841
          ],
          [
           "Dominican Republic",
           5.823
          ],
          [
           "Mauritius",
           5.816
          ],
          [
           "Moldova",
           5.816
          ],
          [
           "Russia",
           5.785
          ],
          [
           "Bolivia",
           5.784
          ],
          [
           "Ecuador",
           5.725
          ],
          [
           "Kyrgyzstan",
           5.714
          ],
          [
           "Montenegro",
           5.707
          ],
          [
           "Mongolia",
           5.696
          ],
          [
           "Colombia",
           5.695
          ],
          [
           "Indonesia",
           5.568
          ]
         ],
         "hovertemplate": "Grouping mean=Ladder score above mean<br>Continent=%{x}<br>Explained by: Log GDP per capita=%{y}<br>Country name=%{customdata[0]}<br>Ladder score=%{customdata[1]}<extra></extra>",
         "legendgroup": "Ladder score above mean",
         "marker": {
          "color": "#636efa"
         },
         "name": "Ladder score above mean",
         "notched": false,
         "offsetgroup": "Ladder score above mean",
         "orientation": "v",
         "quartilemethod": "linear",
         "showlegend": true,
         "type": "box",
         "x": [
          "Europe",
          "Europe",
          "Europe",
          "Europe",
          "Asia",
          "Europe",
          "Europe",
          "Europe",
          "Europe",
          "Oceania",
          "Oceania",
          "North America",
          "Asia",
          "Europe",
          "North America",
          "Europe",
          "Europe",
          "Europe",
          "Europe",
          "Europe",
          "Europe",
          "Asia",
          "North America",
          "Europe",
          "North America",
          "South America",
          "Europe",
          "Asia",
          "Europe",
          "Asia",
          "Asia",
          "Europe",
          "North America",
          "Europe",
          "Europe",
          "Europe",
          "Europe",
          "South America",
          "North America",
          "Europe",
          "Europe",
          "North America",
          "North America",
          "South America",
          "Europe",
          "Europe",
          "Asia",
          "South America",
          "Asia",
          "Europe",
          "Asia",
          "Asia",
          "Asia",
          "Asia",
          "Europe",
          "Europe",
          "South America",
          "Asia",
          "Asia",
          "Asia",
          "North America",
          "Europe",
          "Europe",
          "Europe",
          "Africa",
          "North America",
          "South America",
          "North America",
          "Africa",
          "Europe",
          "Asia",
          "South America",
          "South America",
          "Asia",
          "Europe",
          "Asia",
          "South America",
          "Asia"
         ],
         "x0": " ",
         "xaxis": "x",
         "y": [
          1.844,
          1.908,
          1.881,
          1.878,
          1.803,
          1.901,
          1.952,
          2.141,
          1.97,
          1.854,
          1.81,
          1.561,
          1.845,
          1.885,
          1.84,
          1.868,
          2.129,
          1.783,
          1.766,
          1.822,
          1.786,
          1.983,
          1.939,
          1.871,
          1.521,
          1.596,
          1.818,
          1.842,
          1.364,
          2.118,
          1.842,
          1.699,
          1.265,
          1.752,
          1.738,
          1.766,
          1.538,
          1.616,
          1.702,
          1.827,
          1.8,
          1.26,
          1.097,
          1.43,
          1.706,
          1.7,
          1.212,
          1.562,
          1.622,
          1.794,
          1.786,
          1.815,
          1.232,
          1.331,
          1.728,
          1.722,
          1.398,
          1.484,
          1.646,
          1.497,
          1.091,
          1.71,
          1.684,
          1.465,
          1.526,
          1.28,
          1.371,
          1.517,
          1.57,
          1.385,
          1.642,
          1.217,
          1.315,
          1.054,
          1.571,
          1.353,
          1.437,
          1.361
         ],
         "y0": " ",
         "yaxis": "y"
        },
        {
         "alignmentgroup": "True",
         "boxpoints": "all",
         "customdata": [
          [
           "Bulgaria",
           5.463
          ],
          [
           "Armenia",
           5.455
          ],
          [
           "South Africa",
           5.422
          ],
          [
           "North Macedonia",
           5.369
          ],
          [
           "Algeria",
           5.364
          ],
          [
           "Hong Kong",
           5.316
          ],
          [
           "Albania",
           5.304
          ],
          [
           "Congo (Brazzaville)",
           5.221
          ],
          [
           "Mozambique",
           5.216
          ],
          [
           "Georgia",
           5.185
          ],
          [
           "Iraq",
           5.166
          ],
          [
           "Nepal",
           5.158
          ],
          [
           "Laos",
           5.139
          ],
          [
           "Gabon",
           5.106
          ],
          [
           "Ivory Coast",
           5.08
          ],
          [
           "Guinea",
           5.023
          ],
          [
           "Turkey",
           4.975
          ],
          [
           "Senegal",
           4.969
          ],
          [
           "Iran",
           4.923
          ],
          [
           "Azerbaijan",
           4.893
          ],
          [
           "Nigeria",
           4.881
          ],
          [
           "Cameroon",
           4.874
          ],
          [
           "Ukraine",
           4.873
          ],
          [
           "Namibia",
           4.832
          ],
          [
           "Morocco",
           4.795
          ],
          [
           "Pakistan",
           4.657
          ],
          [
           "Niger",
           4.556
          ],
          [
           "Burkina Faso",
           4.548
          ],
          [
           "Mauritania",
           4.505
          ],
          [
           "Gambia",
           4.485
          ],
          [
           "Chad",
           4.471
          ],
          [
           "Kenya",
           4.47
          ],
          [
           "Tunisia",
           4.422
          ],
          [
           "Benin",
           4.377
          ],
          [
           "Uganda",
           4.372
          ],
          [
           "Myanmar",
           4.354
          ],
          [
           "Cambodia",
           4.341
          ],
          [
           "Ghana",
           4.289
          ],
          [
           "Liberia",
           4.269
          ],
          [
           "Mali",
           4.232
          ],
          [
           "Madagascar",
           4.228
          ],
          [
           "Togo",
           4.214
          ],
          [
           "Jordan",
           4.186
          ],
          [
           "India",
           4.054
          ],
          [
           "Egypt",
           3.977
          ],
          [
           "Sri Lanka",
           3.898
          ],
          [
           "Bangladesh",
           3.886
          ],
          [
           "Ethiopia",
           3.861
          ],
          [
           "Tanzania",
           3.781
          ],
          [
           "Comoros",
           3.566
          ],
          [
           "Yemen",
           3.561
          ],
          [
           "Zambia",
           3.502
          ],
          [
           "Eswatini",
           3.502
          ],
          [
           "Malawi",
           3.421
          ],
          [
           "Botswana",
           3.383
          ],
          [
           "Zimbabwe",
           3.341
          ],
          [
           "Congo (Kinshasa)",
           3.295
          ],
          [
           "Sierra Leone",
           3.245
          ],
          [
           "Lesotho",
           3.186
          ],
          [
           "Lebanon",
           2.707
          ],
          [
           "Afghanistan",
           1.721
          ]
         ],
         "hovertemplate": "Grouping mean=Ladder score below mean<br>Continent=%{x}<br>Explained by: Log GDP per capita=%{y}<br>Country name=%{customdata[0]}<br>Ladder score=%{customdata[1]}<extra></extra>",
         "legendgroup": "Ladder score below mean",
         "marker": {
          "color": "#EF553B"
         },
         "name": "Ladder score below mean",
         "notched": false,
         "offsetgroup": "Ladder score below mean",
         "orientation": "v",
         "quartilemethod": "linear",
         "showlegend": true,
         "type": "box",
         "x": [
          "Europe",
          "Europe",
          "Africa",
          null,
          "Africa",
          "Asia",
          "Europe",
          null,
          "Africa",
          "Europe",
          "Asia",
          "Asia",
          "Asia",
          "Africa",
          "Africa",
          "Africa",
          "Europe",
          "Africa",
          "Asia",
          "Europe",
          "Africa",
          "Africa",
          "Europe",
          "Africa",
          "Africa",
          "Asia",
          "Africa",
          null,
          "Africa",
          "Africa",
          "Africa",
          "Africa",
          "Africa",
          "Africa",
          "Africa",
          null,
          "Asia",
          "Africa",
          "Africa",
          "Africa",
          "Africa",
          "Africa",
          "Asia",
          "Asia",
          "Africa",
          "Asia",
          "Asia",
          "Africa",
          "Africa",
          "Africa",
          "Asia",
          "Africa",
          null,
          "Africa",
          "Africa",
          "Africa",
          null,
          "Africa",
          "Africa",
          "Asia",
          "Asia"
         ],
         "x0": " ",
         "xaxis": "x",
         "y": [
          1.629,
          1.444,
          1.389,
          1.475,
          1.324,
          1.909,
          1.438,
          0.892,
          0.56,
          1.467,
          1.249,
          0.965,
          1.208,
          1.403,
          1.08,
          0.831,
          1.702,
          0.927,
          1.435,
          1.433,
          1.042,
          0.943,
          1.35,
          1.266,
          1.213,
          1.069,
          0.573,
          0.756,
          1.078,
          0.75,
          0.603,
          1.037,
          1.306,
          0.914,
          0.772,
          0.978,
          1.011,
          1.077,
          0.619,
          0.747,
          0.628,
          0.758,
          1.262,
          1.166,
          1.37,
          1.361,
          1.122,
          0.792,
          0.82,
          0.896,
          0.671,
          0.899,
          1.255,
          0.617,
          1.445,
          0.748,
          0.534,
          0.654,
          0.771,
          1.377,
          0.628
         ],
         "y0": " ",
         "yaxis": "y"
        }
       ],
       "layout": {
        "boxmode": "group",
        "legend": {
         "title": {
          "text": "Grouping mean"
         },
         "tracegroupgap": 0
        },
        "template": {
         "data": {
          "bar": [
           {
            "error_x": {
             "color": "#2a3f5f"
            },
            "error_y": {
             "color": "#2a3f5f"
            },
            "marker": {
             "line": {
              "color": "white",
              "width": 0.5
             },
             "pattern": {
              "fillmode": "overlay",
              "size": 10,
              "solidity": 0.2
             }
            },
            "type": "bar"
           }
          ],
          "barpolar": [
           {
            "marker": {
             "line": {
              "color": "white",
              "width": 0.5
             },
             "pattern": {
              "fillmode": "overlay",
              "size": 10,
              "solidity": 0.2
             }
            },
            "type": "barpolar"
           }
          ],
          "carpet": [
           {
            "aaxis": {
             "endlinecolor": "#2a3f5f",
             "gridcolor": "#C8D4E3",
             "linecolor": "#C8D4E3",
             "minorgridcolor": "#C8D4E3",
             "startlinecolor": "#2a3f5f"
            },
            "baxis": {
             "endlinecolor": "#2a3f5f",
             "gridcolor": "#C8D4E3",
             "linecolor": "#C8D4E3",
             "minorgridcolor": "#C8D4E3",
             "startlinecolor": "#2a3f5f"
            },
            "type": "carpet"
           }
          ],
          "choropleth": [
           {
            "colorbar": {
             "outlinewidth": 0,
             "ticks": ""
            },
            "type": "choropleth"
           }
          ],
          "contour": [
           {
            "colorbar": {
             "outlinewidth": 0,
             "ticks": ""
            },
            "colorscale": [
             [
              0,
              "#0d0887"
             ],
             [
              0.1111111111111111,
              "#46039f"
             ],
             [
              0.2222222222222222,
              "#7201a8"
             ],
             [
              0.3333333333333333,
              "#9c179e"
             ],
             [
              0.4444444444444444,
              "#bd3786"
             ],
             [
              0.5555555555555556,
              "#d8576b"
             ],
             [
              0.6666666666666666,
              "#ed7953"
             ],
             [
              0.7777777777777778,
              "#fb9f3a"
             ],
             [
              0.8888888888888888,
              "#fdca26"
             ],
             [
              1,
              "#f0f921"
             ]
            ],
            "type": "contour"
           }
          ],
          "contourcarpet": [
           {
            "colorbar": {
             "outlinewidth": 0,
             "ticks": ""
            },
            "type": "contourcarpet"
           }
          ],
          "heatmap": [
           {
            "colorbar": {
             "outlinewidth": 0,
             "ticks": ""
            },
            "colorscale": [
             [
              0,
              "#0d0887"
             ],
             [
              0.1111111111111111,
              "#46039f"
             ],
             [
              0.2222222222222222,
              "#7201a8"
             ],
             [
              0.3333333333333333,
              "#9c179e"
             ],
             [
              0.4444444444444444,
              "#bd3786"
             ],
             [
              0.5555555555555556,
              "#d8576b"
             ],
             [
              0.6666666666666666,
              "#ed7953"
             ],
             [
              0.7777777777777778,
              "#fb9f3a"
             ],
             [
              0.8888888888888888,
              "#fdca26"
             ],
             [
              1,
              "#f0f921"
             ]
            ],
            "type": "heatmap"
           }
          ],
          "heatmapgl": [
           {
            "colorbar": {
             "outlinewidth": 0,
             "ticks": ""
            },
            "colorscale": [
             [
              0,
              "#0d0887"
             ],
             [
              0.1111111111111111,
              "#46039f"
             ],
             [
              0.2222222222222222,
              "#7201a8"
             ],
             [
              0.3333333333333333,
              "#9c179e"
             ],
             [
              0.4444444444444444,
              "#bd3786"
             ],
             [
              0.5555555555555556,
              "#d8576b"
             ],
             [
              0.6666666666666666,
              "#ed7953"
             ],
             [
              0.7777777777777778,
              "#fb9f3a"
             ],
             [
              0.8888888888888888,
              "#fdca26"
             ],
             [
              1,
              "#f0f921"
             ]
            ],
            "type": "heatmapgl"
           }
          ],
          "histogram": [
           {
            "marker": {
             "pattern": {
              "fillmode": "overlay",
              "size": 10,
              "solidity": 0.2
             }
            },
            "type": "histogram"
           }
          ],
          "histogram2d": [
           {
            "colorbar": {
             "outlinewidth": 0,
             "ticks": ""
            },
            "colorscale": [
             [
              0,
              "#0d0887"
             ],
             [
              0.1111111111111111,
              "#46039f"
             ],
             [
              0.2222222222222222,
              "#7201a8"
             ],
             [
              0.3333333333333333,
              "#9c179e"
             ],
             [
              0.4444444444444444,
              "#bd3786"
             ],
             [
              0.5555555555555556,
              "#d8576b"
             ],
             [
              0.6666666666666666,
              "#ed7953"
             ],
             [
              0.7777777777777778,
              "#fb9f3a"
             ],
             [
              0.8888888888888888,
              "#fdca26"
             ],
             [
              1,
              "#f0f921"
             ]
            ],
            "type": "histogram2d"
           }
          ],
          "histogram2dcontour": [
           {
            "colorbar": {
             "outlinewidth": 0,
             "ticks": ""
            },
            "colorscale": [
             [
              0,
              "#0d0887"
             ],
             [
              0.1111111111111111,
              "#46039f"
             ],
             [
              0.2222222222222222,
              "#7201a8"
             ],
             [
              0.3333333333333333,
              "#9c179e"
             ],
             [
              0.4444444444444444,
              "#bd3786"
             ],
             [
              0.5555555555555556,
              "#d8576b"
             ],
             [
              0.6666666666666666,
              "#ed7953"
             ],
             [
              0.7777777777777778,
              "#fb9f3a"
             ],
             [
              0.8888888888888888,
              "#fdca26"
             ],
             [
              1,
              "#f0f921"
             ]
            ],
            "type": "histogram2dcontour"
           }
          ],
          "mesh3d": [
           {
            "colorbar": {
             "outlinewidth": 0,
             "ticks": ""
            },
            "type": "mesh3d"
           }
          ],
          "parcoords": [
           {
            "line": {
             "colorbar": {
              "outlinewidth": 0,
              "ticks": ""
             }
            },
            "type": "parcoords"
           }
          ],
          "pie": [
           {
            "automargin": true,
            "type": "pie"
           }
          ],
          "scatter": [
           {
            "fillpattern": {
             "fillmode": "overlay",
             "size": 10,
             "solidity": 0.2
            },
            "type": "scatter"
           }
          ],
          "scatter3d": [
           {
            "line": {
             "colorbar": {
              "outlinewidth": 0,
              "ticks": ""
             }
            },
            "marker": {
             "colorbar": {
              "outlinewidth": 0,
              "ticks": ""
             }
            },
            "type": "scatter3d"
           }
          ],
          "scattercarpet": [
           {
            "marker": {
             "colorbar": {
              "outlinewidth": 0,
              "ticks": ""
             }
            },
            "type": "scattercarpet"
           }
          ],
          "scattergeo": [
           {
            "marker": {
             "colorbar": {
              "outlinewidth": 0,
              "ticks": ""
             }
            },
            "type": "scattergeo"
           }
          ],
          "scattergl": [
           {
            "marker": {
             "colorbar": {
              "outlinewidth": 0,
              "ticks": ""
             }
            },
            "type": "scattergl"
           }
          ],
          "scattermapbox": [
           {
            "marker": {
             "colorbar": {
              "outlinewidth": 0,
              "ticks": ""
             }
            },
            "type": "scattermapbox"
           }
          ],
          "scatterpolar": [
           {
            "marker": {
             "colorbar": {
              "outlinewidth": 0,
              "ticks": ""
             }
            },
            "type": "scatterpolar"
           }
          ],
          "scatterpolargl": [
           {
            "marker": {
             "colorbar": {
              "outlinewidth": 0,
              "ticks": ""
             }
            },
            "type": "scatterpolargl"
           }
          ],
          "scatterternary": [
           {
            "marker": {
             "colorbar": {
              "outlinewidth": 0,
              "ticks": ""
             }
            },
            "type": "scatterternary"
           }
          ],
          "surface": [
           {
            "colorbar": {
             "outlinewidth": 0,
             "ticks": ""
            },
            "colorscale": [
             [
              0,
              "#0d0887"
             ],
             [
              0.1111111111111111,
              "#46039f"
             ],
             [
              0.2222222222222222,
              "#7201a8"
             ],
             [
              0.3333333333333333,
              "#9c179e"
             ],
             [
              0.4444444444444444,
              "#bd3786"
             ],
             [
              0.5555555555555556,
              "#d8576b"
             ],
             [
              0.6666666666666666,
              "#ed7953"
             ],
             [
              0.7777777777777778,
              "#fb9f3a"
             ],
             [
              0.8888888888888888,
              "#fdca26"
             ],
             [
              1,
              "#f0f921"
             ]
            ],
            "type": "surface"
           }
          ],
          "table": [
           {
            "cells": {
             "fill": {
              "color": "#EBF0F8"
             },
             "line": {
              "color": "white"
             }
            },
            "header": {
             "fill": {
              "color": "#C8D4E3"
             },
             "line": {
              "color": "white"
             }
            },
            "type": "table"
           }
          ]
         },
         "layout": {
          "annotationdefaults": {
           "arrowcolor": "#2a3f5f",
           "arrowhead": 0,
           "arrowwidth": 1
          },
          "autotypenumbers": "strict",
          "coloraxis": {
           "colorbar": {
            "outlinewidth": 0,
            "ticks": ""
           }
          },
          "colorscale": {
           "diverging": [
            [
             0,
             "#8e0152"
            ],
            [
             0.1,
             "#c51b7d"
            ],
            [
             0.2,
             "#de77ae"
            ],
            [
             0.3,
             "#f1b6da"
            ],
            [
             0.4,
             "#fde0ef"
            ],
            [
             0.5,
             "#f7f7f7"
            ],
            [
             0.6,
             "#e6f5d0"
            ],
            [
             0.7,
             "#b8e186"
            ],
            [
             0.8,
             "#7fbc41"
            ],
            [
             0.9,
             "#4d9221"
            ],
            [
             1,
             "#276419"
            ]
           ],
           "sequential": [
            [
             0,
             "#0d0887"
            ],
            [
             0.1111111111111111,
             "#46039f"
            ],
            [
             0.2222222222222222,
             "#7201a8"
            ],
            [
             0.3333333333333333,
             "#9c179e"
            ],
            [
             0.4444444444444444,
             "#bd3786"
            ],
            [
             0.5555555555555556,
             "#d8576b"
            ],
            [
             0.6666666666666666,
             "#ed7953"
            ],
            [
             0.7777777777777778,
             "#fb9f3a"
            ],
            [
             0.8888888888888888,
             "#fdca26"
            ],
            [
             1,
             "#f0f921"
            ]
           ],
           "sequentialminus": [
            [
             0,
             "#0d0887"
            ],
            [
             0.1111111111111111,
             "#46039f"
            ],
            [
             0.2222222222222222,
             "#7201a8"
            ],
            [
             0.3333333333333333,
             "#9c179e"
            ],
            [
             0.4444444444444444,
             "#bd3786"
            ],
            [
             0.5555555555555556,
             "#d8576b"
            ],
            [
             0.6666666666666666,
             "#ed7953"
            ],
            [
             0.7777777777777778,
             "#fb9f3a"
            ],
            [
             0.8888888888888888,
             "#fdca26"
            ],
            [
             1,
             "#f0f921"
            ]
           ]
          },
          "colorway": [
           "#636efa",
           "#EF553B",
           "#00cc96",
           "#ab63fa",
           "#FFA15A",
           "#19d3f3",
           "#FF6692",
           "#B6E880",
           "#FF97FF",
           "#FECB52"
          ],
          "font": {
           "color": "#2a3f5f"
          },
          "geo": {
           "bgcolor": "white",
           "lakecolor": "white",
           "landcolor": "white",
           "showlakes": true,
           "showland": true,
           "subunitcolor": "#C8D4E3"
          },
          "hoverlabel": {
           "align": "left"
          },
          "hovermode": "closest",
          "mapbox": {
           "style": "light"
          },
          "paper_bgcolor": "white",
          "plot_bgcolor": "white",
          "polar": {
           "angularaxis": {
            "gridcolor": "#EBF0F8",
            "linecolor": "#EBF0F8",
            "ticks": ""
           },
           "bgcolor": "white",
           "radialaxis": {
            "gridcolor": "#EBF0F8",
            "linecolor": "#EBF0F8",
            "ticks": ""
           }
          },
          "scene": {
           "xaxis": {
            "backgroundcolor": "white",
            "gridcolor": "#DFE8F3",
            "gridwidth": 2,
            "linecolor": "#EBF0F8",
            "showbackground": true,
            "ticks": "",
            "zerolinecolor": "#EBF0F8"
           },
           "yaxis": {
            "backgroundcolor": "white",
            "gridcolor": "#DFE8F3",
            "gridwidth": 2,
            "linecolor": "#EBF0F8",
            "showbackground": true,
            "ticks": "",
            "zerolinecolor": "#EBF0F8"
           },
           "zaxis": {
            "backgroundcolor": "white",
            "gridcolor": "#DFE8F3",
            "gridwidth": 2,
            "linecolor": "#EBF0F8",
            "showbackground": true,
            "ticks": "",
            "zerolinecolor": "#EBF0F8"
           }
          },
          "shapedefaults": {
           "line": {
            "color": "#2a3f5f"
           }
          },
          "ternary": {
           "aaxis": {
            "gridcolor": "#DFE8F3",
            "linecolor": "#A2B1C6",
            "ticks": ""
           },
           "baxis": {
            "gridcolor": "#DFE8F3",
            "linecolor": "#A2B1C6",
            "ticks": ""
           },
           "bgcolor": "white",
           "caxis": {
            "gridcolor": "#DFE8F3",
            "linecolor": "#A2B1C6",
            "ticks": ""
           }
          },
          "title": {
           "x": 0.05
          },
          "xaxis": {
           "automargin": true,
           "gridcolor": "#EBF0F8",
           "linecolor": "#EBF0F8",
           "ticks": "",
           "title": {
            "standoff": 15
           },
           "zerolinecolor": "#EBF0F8",
           "zerolinewidth": 2
          },
          "yaxis": {
           "automargin": true,
           "gridcolor": "#EBF0F8",
           "linecolor": "#EBF0F8",
           "ticks": "",
           "title": {
            "standoff": 15
           },
           "zerolinecolor": "#EBF0F8",
           "zerolinewidth": 2
          }
         }
        },
        "title": {
         "text": "Boxplot: 'plotly_white' Theme"
        },
        "xaxis": {
         "anchor": "y",
         "domain": [
          0,
          1
         ],
         "title": {
          "text": "Continent"
         }
        },
        "yaxis": {
         "anchor": "x",
         "domain": [
          0,
          1
         ],
         "title": {
          "text": "Explained by: Log GDP per capita"
         }
        }
       }
      }
     },
     "metadata": {},
     "output_type": "display_data"
    },
    {
     "data": {
      "application/vnd.plotly.v1+json": {
       "config": {
        "plotlyServerURL": "https://plot.ly"
       },
       "data": [
        {
         "alignmentgroup": "True",
         "boxpoints": "all",
         "customdata": [
          [
           "Finland",
           7.741
          ],
          [
           "Denmark",
           7.583
          ],
          [
           "Iceland",
           7.525
          ],
          [
           "Sweden",
           7.344
          ],
          [
           "Israel",
           7.341
          ],
          [
           "Netherlands",
           7.319
          ],
          [
           "Norway",
           7.302
          ],
          [
           "Luxembourg",
           7.122
          ],
          [
           "Switzerland",
           7.06
          ],
          [
           "Australia",
           7.057
          ],
          [
           "New Zealand",
           7.029
          ],
          [
           "Costa Rica",
           6.955
          ],
          [
           "Kuwait",
           6.951
          ],
          [
           "Austria",
           6.905
          ],
          [
           "Canada",
           6.9
          ],
          [
           "Belgium",
           6.894
          ],
          [
           "Ireland",
           6.838
          ],
          [
           "Czechia",
           6.822
          ],
          [
           "Lithuania",
           6.818
          ],
          [
           "United Kingdom",
           6.749
          ],
          [
           "Slovenia",
           6.743
          ],
          [
           "United Arab Emirates",
           6.733
          ],
          [
           "United States",
           6.725
          ],
          [
           "Germany",
           6.719
          ],
          [
           "Mexico",
           6.678
          ],
          [
           "Uruguay",
           6.611
          ],
          [
           "France",
           6.609
          ],
          [
           "Saudi Arabia",
           6.594
          ],
          [
           "Kosovo",
           6.561
          ],
          [
           "Singapore",
           6.523
          ],
          [
           "Taiwan",
           6.503
          ],
          [
           "Romania",
           6.491
          ],
          [
           "El Salvador",
           6.469
          ],
          [
           "Estonia",
           6.448
          ],
          [
           "Poland",
           6.442
          ],
          [
           "Spain",
           6.421
          ],
          [
           "Serbia",
           6.411
          ],
          [
           "Chile",
           6.36
          ],
          [
           "Panama",
           6.358
          ],
          [
           "Malta",
           6.346
          ],
          [
           "Italy",
           6.324
          ],
          [
           "Guatemala",
           6.287
          ],
          [
           "Nicaragua",
           6.284
          ],
          [
           "Brazil",
           6.272
          ],
          [
           "Slovakia",
           6.257
          ],
          [
           "Latvia",
           6.234
          ],
          [
           "Uzbekistan",
           6.195
          ],
          [
           "Argentina",
           6.188
          ],
          [
           "Kazakhstan",
           6.188
          ],
          [
           "Cyprus",
           6.068
          ],
          [
           "Japan",
           6.06
          ],
          [
           "South Korea",
           6.058
          ],
          [
           "Philippines",
           6.048
          ],
          [
           "Vietnam",
           6.043
          ],
          [
           "Portugal",
           6.03
          ],
          [
           "Hungary",
           6.017
          ],
          [
           "Paraguay",
           5.977
          ],
          [
           "Thailand",
           5.976
          ],
          [
           "Malaysia",
           5.975
          ],
          [
           "China",
           5.973
          ],
          [
           "Honduras",
           5.968
          ],
          [
           "Croatia",
           5.942
          ],
          [
           "Greece",
           5.934
          ],
          [
           "Bosnia and Herzegovina",
           5.877
          ],
          [
           "Libya",
           5.866
          ],
          [
           "Jamaica",
           5.842
          ],
          [
           "Peru",
           5.841
          ],
          [
           "Dominican Republic",
           5.823
          ],
          [
           "Mauritius",
           5.816
          ],
          [
           "Moldova",
           5.816
          ],
          [
           "Russia",
           5.785
          ],
          [
           "Bolivia",
           5.784
          ],
          [
           "Ecuador",
           5.725
          ],
          [
           "Kyrgyzstan",
           5.714
          ],
          [
           "Montenegro",
           5.707
          ],
          [
           "Mongolia",
           5.696
          ],
          [
           "Colombia",
           5.695
          ],
          [
           "Indonesia",
           5.568
          ]
         ],
         "hovertemplate": "Grouping mean=Ladder score above mean<br>Continent=%{x}<br>Explained by: Log GDP per capita=%{y}<br>Country name=%{customdata[0]}<br>Ladder score=%{customdata[1]}<extra></extra>",
         "legendgroup": "Ladder score above mean",
         "marker": {
          "color": "#636efa"
         },
         "name": "Ladder score above mean",
         "notched": false,
         "offsetgroup": "Ladder score above mean",
         "orientation": "v",
         "quartilemethod": "linear",
         "showlegend": true,
         "type": "box",
         "x": [
          "Europe",
          "Europe",
          "Europe",
          "Europe",
          "Asia",
          "Europe",
          "Europe",
          "Europe",
          "Europe",
          "Oceania",
          "Oceania",
          "North America",
          "Asia",
          "Europe",
          "North America",
          "Europe",
          "Europe",
          "Europe",
          "Europe",
          "Europe",
          "Europe",
          "Asia",
          "North America",
          "Europe",
          "North America",
          "South America",
          "Europe",
          "Asia",
          "Europe",
          "Asia",
          "Asia",
          "Europe",
          "North America",
          "Europe",
          "Europe",
          "Europe",
          "Europe",
          "South America",
          "North America",
          "Europe",
          "Europe",
          "North America",
          "North America",
          "South America",
          "Europe",
          "Europe",
          "Asia",
          "South America",
          "Asia",
          "Europe",
          "Asia",
          "Asia",
          "Asia",
          "Asia",
          "Europe",
          "Europe",
          "South America",
          "Asia",
          "Asia",
          "Asia",
          "North America",
          "Europe",
          "Europe",
          "Europe",
          "Africa",
          "North America",
          "South America",
          "North America",
          "Africa",
          "Europe",
          "Asia",
          "South America",
          "South America",
          "Asia",
          "Europe",
          "Asia",
          "South America",
          "Asia"
         ],
         "x0": " ",
         "xaxis": "x",
         "y": [
          1.844,
          1.908,
          1.881,
          1.878,
          1.803,
          1.901,
          1.952,
          2.141,
          1.97,
          1.854,
          1.81,
          1.561,
          1.845,
          1.885,
          1.84,
          1.868,
          2.129,
          1.783,
          1.766,
          1.822,
          1.786,
          1.983,
          1.939,
          1.871,
          1.521,
          1.596,
          1.818,
          1.842,
          1.364,
          2.118,
          1.842,
          1.699,
          1.265,
          1.752,
          1.738,
          1.766,
          1.538,
          1.616,
          1.702,
          1.827,
          1.8,
          1.26,
          1.097,
          1.43,
          1.706,
          1.7,
          1.212,
          1.562,
          1.622,
          1.794,
          1.786,
          1.815,
          1.232,
          1.331,
          1.728,
          1.722,
          1.398,
          1.484,
          1.646,
          1.497,
          1.091,
          1.71,
          1.684,
          1.465,
          1.526,
          1.28,
          1.371,
          1.517,
          1.57,
          1.385,
          1.642,
          1.217,
          1.315,
          1.054,
          1.571,
          1.353,
          1.437,
          1.361
         ],
         "y0": " ",
         "yaxis": "y"
        },
        {
         "alignmentgroup": "True",
         "boxpoints": "all",
         "customdata": [
          [
           "Bulgaria",
           5.463
          ],
          [
           "Armenia",
           5.455
          ],
          [
           "South Africa",
           5.422
          ],
          [
           "North Macedonia",
           5.369
          ],
          [
           "Algeria",
           5.364
          ],
          [
           "Hong Kong",
           5.316
          ],
          [
           "Albania",
           5.304
          ],
          [
           "Congo (Brazzaville)",
           5.221
          ],
          [
           "Mozambique",
           5.216
          ],
          [
           "Georgia",
           5.185
          ],
          [
           "Iraq",
           5.166
          ],
          [
           "Nepal",
           5.158
          ],
          [
           "Laos",
           5.139
          ],
          [
           "Gabon",
           5.106
          ],
          [
           "Ivory Coast",
           5.08
          ],
          [
           "Guinea",
           5.023
          ],
          [
           "Turkey",
           4.975
          ],
          [
           "Senegal",
           4.969
          ],
          [
           "Iran",
           4.923
          ],
          [
           "Azerbaijan",
           4.893
          ],
          [
           "Nigeria",
           4.881
          ],
          [
           "Cameroon",
           4.874
          ],
          [
           "Ukraine",
           4.873
          ],
          [
           "Namibia",
           4.832
          ],
          [
           "Morocco",
           4.795
          ],
          [
           "Pakistan",
           4.657
          ],
          [
           "Niger",
           4.556
          ],
          [
           "Burkina Faso",
           4.548
          ],
          [
           "Mauritania",
           4.505
          ],
          [
           "Gambia",
           4.485
          ],
          [
           "Chad",
           4.471
          ],
          [
           "Kenya",
           4.47
          ],
          [
           "Tunisia",
           4.422
          ],
          [
           "Benin",
           4.377
          ],
          [
           "Uganda",
           4.372
          ],
          [
           "Myanmar",
           4.354
          ],
          [
           "Cambodia",
           4.341
          ],
          [
           "Ghana",
           4.289
          ],
          [
           "Liberia",
           4.269
          ],
          [
           "Mali",
           4.232
          ],
          [
           "Madagascar",
           4.228
          ],
          [
           "Togo",
           4.214
          ],
          [
           "Jordan",
           4.186
          ],
          [
           "India",
           4.054
          ],
          [
           "Egypt",
           3.977
          ],
          [
           "Sri Lanka",
           3.898
          ],
          [
           "Bangladesh",
           3.886
          ],
          [
           "Ethiopia",
           3.861
          ],
          [
           "Tanzania",
           3.781
          ],
          [
           "Comoros",
           3.566
          ],
          [
           "Yemen",
           3.561
          ],
          [
           "Zambia",
           3.502
          ],
          [
           "Eswatini",
           3.502
          ],
          [
           "Malawi",
           3.421
          ],
          [
           "Botswana",
           3.383
          ],
          [
           "Zimbabwe",
           3.341
          ],
          [
           "Congo (Kinshasa)",
           3.295
          ],
          [
           "Sierra Leone",
           3.245
          ],
          [
           "Lesotho",
           3.186
          ],
          [
           "Lebanon",
           2.707
          ],
          [
           "Afghanistan",
           1.721
          ]
         ],
         "hovertemplate": "Grouping mean=Ladder score below mean<br>Continent=%{x}<br>Explained by: Log GDP per capita=%{y}<br>Country name=%{customdata[0]}<br>Ladder score=%{customdata[1]}<extra></extra>",
         "legendgroup": "Ladder score below mean",
         "marker": {
          "color": "#EF553B"
         },
         "name": "Ladder score below mean",
         "notched": false,
         "offsetgroup": "Ladder score below mean",
         "orientation": "v",
         "quartilemethod": "linear",
         "showlegend": true,
         "type": "box",
         "x": [
          "Europe",
          "Europe",
          "Africa",
          null,
          "Africa",
          "Asia",
          "Europe",
          null,
          "Africa",
          "Europe",
          "Asia",
          "Asia",
          "Asia",
          "Africa",
          "Africa",
          "Africa",
          "Europe",
          "Africa",
          "Asia",
          "Europe",
          "Africa",
          "Africa",
          "Europe",
          "Africa",
          "Africa",
          "Asia",
          "Africa",
          null,
          "Africa",
          "Africa",
          "Africa",
          "Africa",
          "Africa",
          "Africa",
          "Africa",
          null,
          "Asia",
          "Africa",
          "Africa",
          "Africa",
          "Africa",
          "Africa",
          "Asia",
          "Asia",
          "Africa",
          "Asia",
          "Asia",
          "Africa",
          "Africa",
          "Africa",
          "Asia",
          "Africa",
          null,
          "Africa",
          "Africa",
          "Africa",
          null,
          "Africa",
          "Africa",
          "Asia",
          "Asia"
         ],
         "x0": " ",
         "xaxis": "x",
         "y": [
          1.629,
          1.444,
          1.389,
          1.475,
          1.324,
          1.909,
          1.438,
          0.892,
          0.56,
          1.467,
          1.249,
          0.965,
          1.208,
          1.403,
          1.08,
          0.831,
          1.702,
          0.927,
          1.435,
          1.433,
          1.042,
          0.943,
          1.35,
          1.266,
          1.213,
          1.069,
          0.573,
          0.756,
          1.078,
          0.75,
          0.603,
          1.037,
          1.306,
          0.914,
          0.772,
          0.978,
          1.011,
          1.077,
          0.619,
          0.747,
          0.628,
          0.758,
          1.262,
          1.166,
          1.37,
          1.361,
          1.122,
          0.792,
          0.82,
          0.896,
          0.671,
          0.899,
          1.255,
          0.617,
          1.445,
          0.748,
          0.534,
          0.654,
          0.771,
          1.377,
          0.628
         ],
         "y0": " ",
         "yaxis": "y"
        }
       ],
       "layout": {
        "boxmode": "group",
        "legend": {
         "title": {
          "text": "Grouping mean"
         },
         "tracegroupgap": 0
        },
        "template": {
         "data": {
          "bar": [
           {
            "error_x": {
             "color": "#f2f5fa"
            },
            "error_y": {
             "color": "#f2f5fa"
            },
            "marker": {
             "line": {
              "color": "rgb(17,17,17)",
              "width": 0.5
             },
             "pattern": {
              "fillmode": "overlay",
              "size": 10,
              "solidity": 0.2
             }
            },
            "type": "bar"
           }
          ],
          "barpolar": [
           {
            "marker": {
             "line": {
              "color": "rgb(17,17,17)",
              "width": 0.5
             },
             "pattern": {
              "fillmode": "overlay",
              "size": 10,
              "solidity": 0.2
             }
            },
            "type": "barpolar"
           }
          ],
          "carpet": [
           {
            "aaxis": {
             "endlinecolor": "#A2B1C6",
             "gridcolor": "#506784",
             "linecolor": "#506784",
             "minorgridcolor": "#506784",
             "startlinecolor": "#A2B1C6"
            },
            "baxis": {
             "endlinecolor": "#A2B1C6",
             "gridcolor": "#506784",
             "linecolor": "#506784",
             "minorgridcolor": "#506784",
             "startlinecolor": "#A2B1C6"
            },
            "type": "carpet"
           }
          ],
          "choropleth": [
           {
            "colorbar": {
             "outlinewidth": 0,
             "ticks": ""
            },
            "type": "choropleth"
           }
          ],
          "contour": [
           {
            "colorbar": {
             "outlinewidth": 0,
             "ticks": ""
            },
            "colorscale": [
             [
              0,
              "#0d0887"
             ],
             [
              0.1111111111111111,
              "#46039f"
             ],
             [
              0.2222222222222222,
              "#7201a8"
             ],
             [
              0.3333333333333333,
              "#9c179e"
             ],
             [
              0.4444444444444444,
              "#bd3786"
             ],
             [
              0.5555555555555556,
              "#d8576b"
             ],
             [
              0.6666666666666666,
              "#ed7953"
             ],
             [
              0.7777777777777778,
              "#fb9f3a"
             ],
             [
              0.8888888888888888,
              "#fdca26"
             ],
             [
              1,
              "#f0f921"
             ]
            ],
            "type": "contour"
           }
          ],
          "contourcarpet": [
           {
            "colorbar": {
             "outlinewidth": 0,
             "ticks": ""
            },
            "type": "contourcarpet"
           }
          ],
          "heatmap": [
           {
            "colorbar": {
             "outlinewidth": 0,
             "ticks": ""
            },
            "colorscale": [
             [
              0,
              "#0d0887"
             ],
             [
              0.1111111111111111,
              "#46039f"
             ],
             [
              0.2222222222222222,
              "#7201a8"
             ],
             [
              0.3333333333333333,
              "#9c179e"
             ],
             [
              0.4444444444444444,
              "#bd3786"
             ],
             [
              0.5555555555555556,
              "#d8576b"
             ],
             [
              0.6666666666666666,
              "#ed7953"
             ],
             [
              0.7777777777777778,
              "#fb9f3a"
             ],
             [
              0.8888888888888888,
              "#fdca26"
             ],
             [
              1,
              "#f0f921"
             ]
            ],
            "type": "heatmap"
           }
          ],
          "heatmapgl": [
           {
            "colorbar": {
             "outlinewidth": 0,
             "ticks": ""
            },
            "colorscale": [
             [
              0,
              "#0d0887"
             ],
             [
              0.1111111111111111,
              "#46039f"
             ],
             [
              0.2222222222222222,
              "#7201a8"
             ],
             [
              0.3333333333333333,
              "#9c179e"
             ],
             [
              0.4444444444444444,
              "#bd3786"
             ],
             [
              0.5555555555555556,
              "#d8576b"
             ],
             [
              0.6666666666666666,
              "#ed7953"
             ],
             [
              0.7777777777777778,
              "#fb9f3a"
             ],
             [
              0.8888888888888888,
              "#fdca26"
             ],
             [
              1,
              "#f0f921"
             ]
            ],
            "type": "heatmapgl"
           }
          ],
          "histogram": [
           {
            "marker": {
             "pattern": {
              "fillmode": "overlay",
              "size": 10,
              "solidity": 0.2
             }
            },
            "type": "histogram"
           }
          ],
          "histogram2d": [
           {
            "colorbar": {
             "outlinewidth": 0,
             "ticks": ""
            },
            "colorscale": [
             [
              0,
              "#0d0887"
             ],
             [
              0.1111111111111111,
              "#46039f"
             ],
             [
              0.2222222222222222,
              "#7201a8"
             ],
             [
              0.3333333333333333,
              "#9c179e"
             ],
             [
              0.4444444444444444,
              "#bd3786"
             ],
             [
              0.5555555555555556,
              "#d8576b"
             ],
             [
              0.6666666666666666,
              "#ed7953"
             ],
             [
              0.7777777777777778,
              "#fb9f3a"
             ],
             [
              0.8888888888888888,
              "#fdca26"
             ],
             [
              1,
              "#f0f921"
             ]
            ],
            "type": "histogram2d"
           }
          ],
          "histogram2dcontour": [
           {
            "colorbar": {
             "outlinewidth": 0,
             "ticks": ""
            },
            "colorscale": [
             [
              0,
              "#0d0887"
             ],
             [
              0.1111111111111111,
              "#46039f"
             ],
             [
              0.2222222222222222,
              "#7201a8"
             ],
             [
              0.3333333333333333,
              "#9c179e"
             ],
             [
              0.4444444444444444,
              "#bd3786"
             ],
             [
              0.5555555555555556,
              "#d8576b"
             ],
             [
              0.6666666666666666,
              "#ed7953"
             ],
             [
              0.7777777777777778,
              "#fb9f3a"
             ],
             [
              0.8888888888888888,
              "#fdca26"
             ],
             [
              1,
              "#f0f921"
             ]
            ],
            "type": "histogram2dcontour"
           }
          ],
          "mesh3d": [
           {
            "colorbar": {
             "outlinewidth": 0,
             "ticks": ""
            },
            "type": "mesh3d"
           }
          ],
          "parcoords": [
           {
            "line": {
             "colorbar": {
              "outlinewidth": 0,
              "ticks": ""
             }
            },
            "type": "parcoords"
           }
          ],
          "pie": [
           {
            "automargin": true,
            "type": "pie"
           }
          ],
          "scatter": [
           {
            "marker": {
             "line": {
              "color": "#283442"
             }
            },
            "type": "scatter"
           }
          ],
          "scatter3d": [
           {
            "line": {
             "colorbar": {
              "outlinewidth": 0,
              "ticks": ""
             }
            },
            "marker": {
             "colorbar": {
              "outlinewidth": 0,
              "ticks": ""
             }
            },
            "type": "scatter3d"
           }
          ],
          "scattercarpet": [
           {
            "marker": {
             "colorbar": {
              "outlinewidth": 0,
              "ticks": ""
             }
            },
            "type": "scattercarpet"
           }
          ],
          "scattergeo": [
           {
            "marker": {
             "colorbar": {
              "outlinewidth": 0,
              "ticks": ""
             }
            },
            "type": "scattergeo"
           }
          ],
          "scattergl": [
           {
            "marker": {
             "line": {
              "color": "#283442"
             }
            },
            "type": "scattergl"
           }
          ],
          "scattermapbox": [
           {
            "marker": {
             "colorbar": {
              "outlinewidth": 0,
              "ticks": ""
             }
            },
            "type": "scattermapbox"
           }
          ],
          "scatterpolar": [
           {
            "marker": {
             "colorbar": {
              "outlinewidth": 0,
              "ticks": ""
             }
            },
            "type": "scatterpolar"
           }
          ],
          "scatterpolargl": [
           {
            "marker": {
             "colorbar": {
              "outlinewidth": 0,
              "ticks": ""
             }
            },
            "type": "scatterpolargl"
           }
          ],
          "scatterternary": [
           {
            "marker": {
             "colorbar": {
              "outlinewidth": 0,
              "ticks": ""
             }
            },
            "type": "scatterternary"
           }
          ],
          "surface": [
           {
            "colorbar": {
             "outlinewidth": 0,
             "ticks": ""
            },
            "colorscale": [
             [
              0,
              "#0d0887"
             ],
             [
              0.1111111111111111,
              "#46039f"
             ],
             [
              0.2222222222222222,
              "#7201a8"
             ],
             [
              0.3333333333333333,
              "#9c179e"
             ],
             [
              0.4444444444444444,
              "#bd3786"
             ],
             [
              0.5555555555555556,
              "#d8576b"
             ],
             [
              0.6666666666666666,
              "#ed7953"
             ],
             [
              0.7777777777777778,
              "#fb9f3a"
             ],
             [
              0.8888888888888888,
              "#fdca26"
             ],
             [
              1,
              "#f0f921"
             ]
            ],
            "type": "surface"
           }
          ],
          "table": [
           {
            "cells": {
             "fill": {
              "color": "#506784"
             },
             "line": {
              "color": "rgb(17,17,17)"
             }
            },
            "header": {
             "fill": {
              "color": "#2a3f5f"
             },
             "line": {
              "color": "rgb(17,17,17)"
             }
            },
            "type": "table"
           }
          ]
         },
         "layout": {
          "annotationdefaults": {
           "arrowcolor": "#f2f5fa",
           "arrowhead": 0,
           "arrowwidth": 1
          },
          "autotypenumbers": "strict",
          "coloraxis": {
           "colorbar": {
            "outlinewidth": 0,
            "ticks": ""
           }
          },
          "colorscale": {
           "diverging": [
            [
             0,
             "#8e0152"
            ],
            [
             0.1,
             "#c51b7d"
            ],
            [
             0.2,
             "#de77ae"
            ],
            [
             0.3,
             "#f1b6da"
            ],
            [
             0.4,
             "#fde0ef"
            ],
            [
             0.5,
             "#f7f7f7"
            ],
            [
             0.6,
             "#e6f5d0"
            ],
            [
             0.7,
             "#b8e186"
            ],
            [
             0.8,
             "#7fbc41"
            ],
            [
             0.9,
             "#4d9221"
            ],
            [
             1,
             "#276419"
            ]
           ],
           "sequential": [
            [
             0,
             "#0d0887"
            ],
            [
             0.1111111111111111,
             "#46039f"
            ],
            [
             0.2222222222222222,
             "#7201a8"
            ],
            [
             0.3333333333333333,
             "#9c179e"
            ],
            [
             0.4444444444444444,
             "#bd3786"
            ],
            [
             0.5555555555555556,
             "#d8576b"
            ],
            [
             0.6666666666666666,
             "#ed7953"
            ],
            [
             0.7777777777777778,
             "#fb9f3a"
            ],
            [
             0.8888888888888888,
             "#fdca26"
            ],
            [
             1,
             "#f0f921"
            ]
           ],
           "sequentialminus": [
            [
             0,
             "#0d0887"
            ],
            [
             0.1111111111111111,
             "#46039f"
            ],
            [
             0.2222222222222222,
             "#7201a8"
            ],
            [
             0.3333333333333333,
             "#9c179e"
            ],
            [
             0.4444444444444444,
             "#bd3786"
            ],
            [
             0.5555555555555556,
             "#d8576b"
            ],
            [
             0.6666666666666666,
             "#ed7953"
            ],
            [
             0.7777777777777778,
             "#fb9f3a"
            ],
            [
             0.8888888888888888,
             "#fdca26"
            ],
            [
             1,
             "#f0f921"
            ]
           ]
          },
          "colorway": [
           "#636efa",
           "#EF553B",
           "#00cc96",
           "#ab63fa",
           "#FFA15A",
           "#19d3f3",
           "#FF6692",
           "#B6E880",
           "#FF97FF",
           "#FECB52"
          ],
          "font": {
           "color": "#f2f5fa"
          },
          "geo": {
           "bgcolor": "rgb(17,17,17)",
           "lakecolor": "rgb(17,17,17)",
           "landcolor": "rgb(17,17,17)",
           "showlakes": true,
           "showland": true,
           "subunitcolor": "#506784"
          },
          "hoverlabel": {
           "align": "left"
          },
          "hovermode": "closest",
          "mapbox": {
           "style": "dark"
          },
          "paper_bgcolor": "rgb(17,17,17)",
          "plot_bgcolor": "rgb(17,17,17)",
          "polar": {
           "angularaxis": {
            "gridcolor": "#506784",
            "linecolor": "#506784",
            "ticks": ""
           },
           "bgcolor": "rgb(17,17,17)",
           "radialaxis": {
            "gridcolor": "#506784",
            "linecolor": "#506784",
            "ticks": ""
           }
          },
          "scene": {
           "xaxis": {
            "backgroundcolor": "rgb(17,17,17)",
            "gridcolor": "#506784",
            "gridwidth": 2,
            "linecolor": "#506784",
            "showbackground": true,
            "ticks": "",
            "zerolinecolor": "#C8D4E3"
           },
           "yaxis": {
            "backgroundcolor": "rgb(17,17,17)",
            "gridcolor": "#506784",
            "gridwidth": 2,
            "linecolor": "#506784",
            "showbackground": true,
            "ticks": "",
            "zerolinecolor": "#C8D4E3"
           },
           "zaxis": {
            "backgroundcolor": "rgb(17,17,17)",
            "gridcolor": "#506784",
            "gridwidth": 2,
            "linecolor": "#506784",
            "showbackground": true,
            "ticks": "",
            "zerolinecolor": "#C8D4E3"
           }
          },
          "shapedefaults": {
           "line": {
            "color": "#f2f5fa"
           }
          },
          "sliderdefaults": {
           "bgcolor": "#C8D4E3",
           "bordercolor": "rgb(17,17,17)",
           "borderwidth": 1,
           "tickwidth": 0
          },
          "ternary": {
           "aaxis": {
            "gridcolor": "#506784",
            "linecolor": "#506784",
            "ticks": ""
           },
           "baxis": {
            "gridcolor": "#506784",
            "linecolor": "#506784",
            "ticks": ""
           },
           "bgcolor": "rgb(17,17,17)",
           "caxis": {
            "gridcolor": "#506784",
            "linecolor": "#506784",
            "ticks": ""
           }
          },
          "title": {
           "x": 0.05
          },
          "updatemenudefaults": {
           "bgcolor": "#506784",
           "borderwidth": 0
          },
          "xaxis": {
           "automargin": true,
           "gridcolor": "#283442",
           "linecolor": "#506784",
           "ticks": "",
           "title": {
            "standoff": 15
           },
           "zerolinecolor": "#283442",
           "zerolinewidth": 2
          },
          "yaxis": {
           "automargin": true,
           "gridcolor": "#283442",
           "linecolor": "#506784",
           "ticks": "",
           "title": {
            "standoff": 15
           },
           "zerolinecolor": "#283442",
           "zerolinewidth": 2
          }
         }
        },
        "title": {
         "text": "Boxplot: 'plotly_dark' Theme"
        },
        "xaxis": {
         "anchor": "y",
         "domain": [
          0,
          1
         ],
         "title": {
          "text": "Continent"
         }
        },
        "yaxis": {
         "anchor": "x",
         "domain": [
          0,
          1
         ],
         "title": {
          "text": "Explained by: Log GDP per capita"
         }
        }
       }
      }
     },
     "metadata": {},
     "output_type": "display_data"
    },
    {
     "data": {
      "application/vnd.plotly.v1+json": {
       "config": {
        "plotlyServerURL": "https://plot.ly"
       },
       "data": [
        {
         "alignmentgroup": "True",
         "boxpoints": "all",
         "customdata": [
          [
           "Finland",
           7.741
          ],
          [
           "Denmark",
           7.583
          ],
          [
           "Iceland",
           7.525
          ],
          [
           "Sweden",
           7.344
          ],
          [
           "Israel",
           7.341
          ],
          [
           "Netherlands",
           7.319
          ],
          [
           "Norway",
           7.302
          ],
          [
           "Luxembourg",
           7.122
          ],
          [
           "Switzerland",
           7.06
          ],
          [
           "Australia",
           7.057
          ],
          [
           "New Zealand",
           7.029
          ],
          [
           "Costa Rica",
           6.955
          ],
          [
           "Kuwait",
           6.951
          ],
          [
           "Austria",
           6.905
          ],
          [
           "Canada",
           6.9
          ],
          [
           "Belgium",
           6.894
          ],
          [
           "Ireland",
           6.838
          ],
          [
           "Czechia",
           6.822
          ],
          [
           "Lithuania",
           6.818
          ],
          [
           "United Kingdom",
           6.749
          ],
          [
           "Slovenia",
           6.743
          ],
          [
           "United Arab Emirates",
           6.733
          ],
          [
           "United States",
           6.725
          ],
          [
           "Germany",
           6.719
          ],
          [
           "Mexico",
           6.678
          ],
          [
           "Uruguay",
           6.611
          ],
          [
           "France",
           6.609
          ],
          [
           "Saudi Arabia",
           6.594
          ],
          [
           "Kosovo",
           6.561
          ],
          [
           "Singapore",
           6.523
          ],
          [
           "Taiwan",
           6.503
          ],
          [
           "Romania",
           6.491
          ],
          [
           "El Salvador",
           6.469
          ],
          [
           "Estonia",
           6.448
          ],
          [
           "Poland",
           6.442
          ],
          [
           "Spain",
           6.421
          ],
          [
           "Serbia",
           6.411
          ],
          [
           "Chile",
           6.36
          ],
          [
           "Panama",
           6.358
          ],
          [
           "Malta",
           6.346
          ],
          [
           "Italy",
           6.324
          ],
          [
           "Guatemala",
           6.287
          ],
          [
           "Nicaragua",
           6.284
          ],
          [
           "Brazil",
           6.272
          ],
          [
           "Slovakia",
           6.257
          ],
          [
           "Latvia",
           6.234
          ],
          [
           "Uzbekistan",
           6.195
          ],
          [
           "Argentina",
           6.188
          ],
          [
           "Kazakhstan",
           6.188
          ],
          [
           "Cyprus",
           6.068
          ],
          [
           "Japan",
           6.06
          ],
          [
           "South Korea",
           6.058
          ],
          [
           "Philippines",
           6.048
          ],
          [
           "Vietnam",
           6.043
          ],
          [
           "Portugal",
           6.03
          ],
          [
           "Hungary",
           6.017
          ],
          [
           "Paraguay",
           5.977
          ],
          [
           "Thailand",
           5.976
          ],
          [
           "Malaysia",
           5.975
          ],
          [
           "China",
           5.973
          ],
          [
           "Honduras",
           5.968
          ],
          [
           "Croatia",
           5.942
          ],
          [
           "Greece",
           5.934
          ],
          [
           "Bosnia and Herzegovina",
           5.877
          ],
          [
           "Libya",
           5.866
          ],
          [
           "Jamaica",
           5.842
          ],
          [
           "Peru",
           5.841
          ],
          [
           "Dominican Republic",
           5.823
          ],
          [
           "Mauritius",
           5.816
          ],
          [
           "Moldova",
           5.816
          ],
          [
           "Russia",
           5.785
          ],
          [
           "Bolivia",
           5.784
          ],
          [
           "Ecuador",
           5.725
          ],
          [
           "Kyrgyzstan",
           5.714
          ],
          [
           "Montenegro",
           5.707
          ],
          [
           "Mongolia",
           5.696
          ],
          [
           "Colombia",
           5.695
          ],
          [
           "Indonesia",
           5.568
          ]
         ],
         "hovertemplate": "Grouping mean=Ladder score above mean<br>Continent=%{x}<br>Explained by: Log GDP per capita=%{y}<br>Country name=%{customdata[0]}<br>Ladder score=%{customdata[1]}<extra></extra>",
         "legendgroup": "Ladder score above mean",
         "marker": {
          "color": "#1F77B4"
         },
         "name": "Ladder score above mean",
         "notched": false,
         "offsetgroup": "Ladder score above mean",
         "orientation": "v",
         "quartilemethod": "linear",
         "showlegend": true,
         "type": "box",
         "x": [
          "Europe",
          "Europe",
          "Europe",
          "Europe",
          "Asia",
          "Europe",
          "Europe",
          "Europe",
          "Europe",
          "Oceania",
          "Oceania",
          "North America",
          "Asia",
          "Europe",
          "North America",
          "Europe",
          "Europe",
          "Europe",
          "Europe",
          "Europe",
          "Europe",
          "Asia",
          "North America",
          "Europe",
          "North America",
          "South America",
          "Europe",
          "Asia",
          "Europe",
          "Asia",
          "Asia",
          "Europe",
          "North America",
          "Europe",
          "Europe",
          "Europe",
          "Europe",
          "South America",
          "North America",
          "Europe",
          "Europe",
          "North America",
          "North America",
          "South America",
          "Europe",
          "Europe",
          "Asia",
          "South America",
          "Asia",
          "Europe",
          "Asia",
          "Asia",
          "Asia",
          "Asia",
          "Europe",
          "Europe",
          "South America",
          "Asia",
          "Asia",
          "Asia",
          "North America",
          "Europe",
          "Europe",
          "Europe",
          "Africa",
          "North America",
          "South America",
          "North America",
          "Africa",
          "Europe",
          "Asia",
          "South America",
          "South America",
          "Asia",
          "Europe",
          "Asia",
          "South America",
          "Asia"
         ],
         "x0": " ",
         "xaxis": "x",
         "y": [
          1.844,
          1.908,
          1.881,
          1.878,
          1.803,
          1.901,
          1.952,
          2.141,
          1.97,
          1.854,
          1.81,
          1.561,
          1.845,
          1.885,
          1.84,
          1.868,
          2.129,
          1.783,
          1.766,
          1.822,
          1.786,
          1.983,
          1.939,
          1.871,
          1.521,
          1.596,
          1.818,
          1.842,
          1.364,
          2.118,
          1.842,
          1.699,
          1.265,
          1.752,
          1.738,
          1.766,
          1.538,
          1.616,
          1.702,
          1.827,
          1.8,
          1.26,
          1.097,
          1.43,
          1.706,
          1.7,
          1.212,
          1.562,
          1.622,
          1.794,
          1.786,
          1.815,
          1.232,
          1.331,
          1.728,
          1.722,
          1.398,
          1.484,
          1.646,
          1.497,
          1.091,
          1.71,
          1.684,
          1.465,
          1.526,
          1.28,
          1.371,
          1.517,
          1.57,
          1.385,
          1.642,
          1.217,
          1.315,
          1.054,
          1.571,
          1.353,
          1.437,
          1.361
         ],
         "y0": " ",
         "yaxis": "y"
        },
        {
         "alignmentgroup": "True",
         "boxpoints": "all",
         "customdata": [
          [
           "Bulgaria",
           5.463
          ],
          [
           "Armenia",
           5.455
          ],
          [
           "South Africa",
           5.422
          ],
          [
           "North Macedonia",
           5.369
          ],
          [
           "Algeria",
           5.364
          ],
          [
           "Hong Kong",
           5.316
          ],
          [
           "Albania",
           5.304
          ],
          [
           "Congo (Brazzaville)",
           5.221
          ],
          [
           "Mozambique",
           5.216
          ],
          [
           "Georgia",
           5.185
          ],
          [
           "Iraq",
           5.166
          ],
          [
           "Nepal",
           5.158
          ],
          [
           "Laos",
           5.139
          ],
          [
           "Gabon",
           5.106
          ],
          [
           "Ivory Coast",
           5.08
          ],
          [
           "Guinea",
           5.023
          ],
          [
           "Turkey",
           4.975
          ],
          [
           "Senegal",
           4.969
          ],
          [
           "Iran",
           4.923
          ],
          [
           "Azerbaijan",
           4.893
          ],
          [
           "Nigeria",
           4.881
          ],
          [
           "Cameroon",
           4.874
          ],
          [
           "Ukraine",
           4.873
          ],
          [
           "Namibia",
           4.832
          ],
          [
           "Morocco",
           4.795
          ],
          [
           "Pakistan",
           4.657
          ],
          [
           "Niger",
           4.556
          ],
          [
           "Burkina Faso",
           4.548
          ],
          [
           "Mauritania",
           4.505
          ],
          [
           "Gambia",
           4.485
          ],
          [
           "Chad",
           4.471
          ],
          [
           "Kenya",
           4.47
          ],
          [
           "Tunisia",
           4.422
          ],
          [
           "Benin",
           4.377
          ],
          [
           "Uganda",
           4.372
          ],
          [
           "Myanmar",
           4.354
          ],
          [
           "Cambodia",
           4.341
          ],
          [
           "Ghana",
           4.289
          ],
          [
           "Liberia",
           4.269
          ],
          [
           "Mali",
           4.232
          ],
          [
           "Madagascar",
           4.228
          ],
          [
           "Togo",
           4.214
          ],
          [
           "Jordan",
           4.186
          ],
          [
           "India",
           4.054
          ],
          [
           "Egypt",
           3.977
          ],
          [
           "Sri Lanka",
           3.898
          ],
          [
           "Bangladesh",
           3.886
          ],
          [
           "Ethiopia",
           3.861
          ],
          [
           "Tanzania",
           3.781
          ],
          [
           "Comoros",
           3.566
          ],
          [
           "Yemen",
           3.561
          ],
          [
           "Zambia",
           3.502
          ],
          [
           "Eswatini",
           3.502
          ],
          [
           "Malawi",
           3.421
          ],
          [
           "Botswana",
           3.383
          ],
          [
           "Zimbabwe",
           3.341
          ],
          [
           "Congo (Kinshasa)",
           3.295
          ],
          [
           "Sierra Leone",
           3.245
          ],
          [
           "Lesotho",
           3.186
          ],
          [
           "Lebanon",
           2.707
          ],
          [
           "Afghanistan",
           1.721
          ]
         ],
         "hovertemplate": "Grouping mean=Ladder score below mean<br>Continent=%{x}<br>Explained by: Log GDP per capita=%{y}<br>Country name=%{customdata[0]}<br>Ladder score=%{customdata[1]}<extra></extra>",
         "legendgroup": "Ladder score below mean",
         "marker": {
          "color": "#FF7F0E"
         },
         "name": "Ladder score below mean",
         "notched": false,
         "offsetgroup": "Ladder score below mean",
         "orientation": "v",
         "quartilemethod": "linear",
         "showlegend": true,
         "type": "box",
         "x": [
          "Europe",
          "Europe",
          "Africa",
          null,
          "Africa",
          "Asia",
          "Europe",
          null,
          "Africa",
          "Europe",
          "Asia",
          "Asia",
          "Asia",
          "Africa",
          "Africa",
          "Africa",
          "Europe",
          "Africa",
          "Asia",
          "Europe",
          "Africa",
          "Africa",
          "Europe",
          "Africa",
          "Africa",
          "Asia",
          "Africa",
          null,
          "Africa",
          "Africa",
          "Africa",
          "Africa",
          "Africa",
          "Africa",
          "Africa",
          null,
          "Asia",
          "Africa",
          "Africa",
          "Africa",
          "Africa",
          "Africa",
          "Asia",
          "Asia",
          "Africa",
          "Asia",
          "Asia",
          "Africa",
          "Africa",
          "Africa",
          "Asia",
          "Africa",
          null,
          "Africa",
          "Africa",
          "Africa",
          null,
          "Africa",
          "Africa",
          "Asia",
          "Asia"
         ],
         "x0": " ",
         "xaxis": "x",
         "y": [
          1.629,
          1.444,
          1.389,
          1.475,
          1.324,
          1.909,
          1.438,
          0.892,
          0.56,
          1.467,
          1.249,
          0.965,
          1.208,
          1.403,
          1.08,
          0.831,
          1.702,
          0.927,
          1.435,
          1.433,
          1.042,
          0.943,
          1.35,
          1.266,
          1.213,
          1.069,
          0.573,
          0.756,
          1.078,
          0.75,
          0.603,
          1.037,
          1.306,
          0.914,
          0.772,
          0.978,
          1.011,
          1.077,
          0.619,
          0.747,
          0.628,
          0.758,
          1.262,
          1.166,
          1.37,
          1.361,
          1.122,
          0.792,
          0.82,
          0.896,
          0.671,
          0.899,
          1.255,
          0.617,
          1.445,
          0.748,
          0.534,
          0.654,
          0.771,
          1.377,
          0.628
         ],
         "y0": " ",
         "yaxis": "y"
        }
       ],
       "layout": {
        "boxmode": "group",
        "legend": {
         "title": {
          "text": "Grouping mean"
         },
         "tracegroupgap": 0
        },
        "template": {
         "data": {
          "pie": [
           {
            "automargin": true,
            "type": "pie"
           }
          ],
          "scatter": [
           {
            "line": {
             "width": 3
            },
            "marker": {
             "size": 9
            },
            "type": "scatter"
           }
          ],
          "scatter3d": [
           {
            "line": {
             "width": 3
            },
            "marker": {
             "size": 9
            },
            "type": "scatter3d"
           }
          ],
          "scattergeo": [
           {
            "line": {
             "width": 3
            },
            "marker": {
             "size": 9
            },
            "type": "scattergeo"
           }
          ],
          "scattergl": [
           {
            "line": {
             "width": 3
            },
            "marker": {
             "size": 9
            },
            "type": "scattergl"
           }
          ],
          "scatterpolar": [
           {
            "line": {
             "width": 3
            },
            "marker": {
             "size": 9
            },
            "type": "scatterpolar"
           }
          ],
          "scatterpolargl": [
           {
            "line": {
             "width": 3
            },
            "marker": {
             "size": 9
            },
            "type": "scatterpolargl"
           }
          ],
          "scatterternary": [
           {
            "line": {
             "width": 3
            },
            "marker": {
             "size": 9
            },
            "type": "scatterternary"
           }
          ],
          "table": [
           {
            "cells": {
             "height": 30
            },
            "header": {
             "height": 36
            },
            "type": "table"
           }
          ]
         },
         "layout": {
          "font": {
           "size": 18
          },
          "xaxis": {
           "title": {
            "standoff": 15
           }
          },
          "yaxis": {
           "title": {
            "standoff": 15
           }
          }
         }
        },
        "title": {
         "text": "Boxplot: 'presentation' Theme"
        },
        "xaxis": {
         "anchor": "y",
         "domain": [
          0,
          1
         ],
         "title": {
          "text": "Continent"
         }
        },
        "yaxis": {
         "anchor": "x",
         "domain": [
          0,
          1
         ],
         "title": {
          "text": "Explained by: Log GDP per capita"
         }
        }
       }
      }
     },
     "metadata": {},
     "output_type": "display_data"
    },
    {
     "data": {
      "application/vnd.plotly.v1+json": {
       "config": {
        "plotlyServerURL": "https://plot.ly"
       },
       "data": [
        {
         "alignmentgroup": "True",
         "boxpoints": "all",
         "customdata": [
          [
           "Finland",
           7.741
          ],
          [
           "Denmark",
           7.583
          ],
          [
           "Iceland",
           7.525
          ],
          [
           "Sweden",
           7.344
          ],
          [
           "Israel",
           7.341
          ],
          [
           "Netherlands",
           7.319
          ],
          [
           "Norway",
           7.302
          ],
          [
           "Luxembourg",
           7.122
          ],
          [
           "Switzerland",
           7.06
          ],
          [
           "Australia",
           7.057
          ],
          [
           "New Zealand",
           7.029
          ],
          [
           "Costa Rica",
           6.955
          ],
          [
           "Kuwait",
           6.951
          ],
          [
           "Austria",
           6.905
          ],
          [
           "Canada",
           6.9
          ],
          [
           "Belgium",
           6.894
          ],
          [
           "Ireland",
           6.838
          ],
          [
           "Czechia",
           6.822
          ],
          [
           "Lithuania",
           6.818
          ],
          [
           "United Kingdom",
           6.749
          ],
          [
           "Slovenia",
           6.743
          ],
          [
           "United Arab Emirates",
           6.733
          ],
          [
           "United States",
           6.725
          ],
          [
           "Germany",
           6.719
          ],
          [
           "Mexico",
           6.678
          ],
          [
           "Uruguay",
           6.611
          ],
          [
           "France",
           6.609
          ],
          [
           "Saudi Arabia",
           6.594
          ],
          [
           "Kosovo",
           6.561
          ],
          [
           "Singapore",
           6.523
          ],
          [
           "Taiwan",
           6.503
          ],
          [
           "Romania",
           6.491
          ],
          [
           "El Salvador",
           6.469
          ],
          [
           "Estonia",
           6.448
          ],
          [
           "Poland",
           6.442
          ],
          [
           "Spain",
           6.421
          ],
          [
           "Serbia",
           6.411
          ],
          [
           "Chile",
           6.36
          ],
          [
           "Panama",
           6.358
          ],
          [
           "Malta",
           6.346
          ],
          [
           "Italy",
           6.324
          ],
          [
           "Guatemala",
           6.287
          ],
          [
           "Nicaragua",
           6.284
          ],
          [
           "Brazil",
           6.272
          ],
          [
           "Slovakia",
           6.257
          ],
          [
           "Latvia",
           6.234
          ],
          [
           "Uzbekistan",
           6.195
          ],
          [
           "Argentina",
           6.188
          ],
          [
           "Kazakhstan",
           6.188
          ],
          [
           "Cyprus",
           6.068
          ],
          [
           "Japan",
           6.06
          ],
          [
           "South Korea",
           6.058
          ],
          [
           "Philippines",
           6.048
          ],
          [
           "Vietnam",
           6.043
          ],
          [
           "Portugal",
           6.03
          ],
          [
           "Hungary",
           6.017
          ],
          [
           "Paraguay",
           5.977
          ],
          [
           "Thailand",
           5.976
          ],
          [
           "Malaysia",
           5.975
          ],
          [
           "China",
           5.973
          ],
          [
           "Honduras",
           5.968
          ],
          [
           "Croatia",
           5.942
          ],
          [
           "Greece",
           5.934
          ],
          [
           "Bosnia and Herzegovina",
           5.877
          ],
          [
           "Libya",
           5.866
          ],
          [
           "Jamaica",
           5.842
          ],
          [
           "Peru",
           5.841
          ],
          [
           "Dominican Republic",
           5.823
          ],
          [
           "Mauritius",
           5.816
          ],
          [
           "Moldova",
           5.816
          ],
          [
           "Russia",
           5.785
          ],
          [
           "Bolivia",
           5.784
          ],
          [
           "Ecuador",
           5.725
          ],
          [
           "Kyrgyzstan",
           5.714
          ],
          [
           "Montenegro",
           5.707
          ],
          [
           "Mongolia",
           5.696
          ],
          [
           "Colombia",
           5.695
          ],
          [
           "Indonesia",
           5.568
          ]
         ],
         "hovertemplate": "Grouping mean=Ladder score above mean<br>Continent=%{x}<br>Explained by: Log GDP per capita=%{y}<br>Country name=%{customdata[0]}<br>Ladder score=%{customdata[1]}<extra></extra>",
         "legendgroup": "Ladder score above mean",
         "marker": {
          "color": "#1F77B4"
         },
         "name": "Ladder score above mean",
         "notched": false,
         "offsetgroup": "Ladder score above mean",
         "orientation": "v",
         "quartilemethod": "linear",
         "showlegend": true,
         "type": "box",
         "x": [
          "Europe",
          "Europe",
          "Europe",
          "Europe",
          "Asia",
          "Europe",
          "Europe",
          "Europe",
          "Europe",
          "Oceania",
          "Oceania",
          "North America",
          "Asia",
          "Europe",
          "North America",
          "Europe",
          "Europe",
          "Europe",
          "Europe",
          "Europe",
          "Europe",
          "Asia",
          "North America",
          "Europe",
          "North America",
          "South America",
          "Europe",
          "Asia",
          "Europe",
          "Asia",
          "Asia",
          "Europe",
          "North America",
          "Europe",
          "Europe",
          "Europe",
          "Europe",
          "South America",
          "North America",
          "Europe",
          "Europe",
          "North America",
          "North America",
          "South America",
          "Europe",
          "Europe",
          "Asia",
          "South America",
          "Asia",
          "Europe",
          "Asia",
          "Asia",
          "Asia",
          "Asia",
          "Europe",
          "Europe",
          "South America",
          "Asia",
          "Asia",
          "Asia",
          "North America",
          "Europe",
          "Europe",
          "Europe",
          "Africa",
          "North America",
          "South America",
          "North America",
          "Africa",
          "Europe",
          "Asia",
          "South America",
          "South America",
          "Asia",
          "Europe",
          "Asia",
          "South America",
          "Asia"
         ],
         "x0": " ",
         "xaxis": "x",
         "y": [
          1.844,
          1.908,
          1.881,
          1.878,
          1.803,
          1.901,
          1.952,
          2.141,
          1.97,
          1.854,
          1.81,
          1.561,
          1.845,
          1.885,
          1.84,
          1.868,
          2.129,
          1.783,
          1.766,
          1.822,
          1.786,
          1.983,
          1.939,
          1.871,
          1.521,
          1.596,
          1.818,
          1.842,
          1.364,
          2.118,
          1.842,
          1.699,
          1.265,
          1.752,
          1.738,
          1.766,
          1.538,
          1.616,
          1.702,
          1.827,
          1.8,
          1.26,
          1.097,
          1.43,
          1.706,
          1.7,
          1.212,
          1.562,
          1.622,
          1.794,
          1.786,
          1.815,
          1.232,
          1.331,
          1.728,
          1.722,
          1.398,
          1.484,
          1.646,
          1.497,
          1.091,
          1.71,
          1.684,
          1.465,
          1.526,
          1.28,
          1.371,
          1.517,
          1.57,
          1.385,
          1.642,
          1.217,
          1.315,
          1.054,
          1.571,
          1.353,
          1.437,
          1.361
         ],
         "y0": " ",
         "yaxis": "y"
        },
        {
         "alignmentgroup": "True",
         "boxpoints": "all",
         "customdata": [
          [
           "Bulgaria",
           5.463
          ],
          [
           "Armenia",
           5.455
          ],
          [
           "South Africa",
           5.422
          ],
          [
           "North Macedonia",
           5.369
          ],
          [
           "Algeria",
           5.364
          ],
          [
           "Hong Kong",
           5.316
          ],
          [
           "Albania",
           5.304
          ],
          [
           "Congo (Brazzaville)",
           5.221
          ],
          [
           "Mozambique",
           5.216
          ],
          [
           "Georgia",
           5.185
          ],
          [
           "Iraq",
           5.166
          ],
          [
           "Nepal",
           5.158
          ],
          [
           "Laos",
           5.139
          ],
          [
           "Gabon",
           5.106
          ],
          [
           "Ivory Coast",
           5.08
          ],
          [
           "Guinea",
           5.023
          ],
          [
           "Turkey",
           4.975
          ],
          [
           "Senegal",
           4.969
          ],
          [
           "Iran",
           4.923
          ],
          [
           "Azerbaijan",
           4.893
          ],
          [
           "Nigeria",
           4.881
          ],
          [
           "Cameroon",
           4.874
          ],
          [
           "Ukraine",
           4.873
          ],
          [
           "Namibia",
           4.832
          ],
          [
           "Morocco",
           4.795
          ],
          [
           "Pakistan",
           4.657
          ],
          [
           "Niger",
           4.556
          ],
          [
           "Burkina Faso",
           4.548
          ],
          [
           "Mauritania",
           4.505
          ],
          [
           "Gambia",
           4.485
          ],
          [
           "Chad",
           4.471
          ],
          [
           "Kenya",
           4.47
          ],
          [
           "Tunisia",
           4.422
          ],
          [
           "Benin",
           4.377
          ],
          [
           "Uganda",
           4.372
          ],
          [
           "Myanmar",
           4.354
          ],
          [
           "Cambodia",
           4.341
          ],
          [
           "Ghana",
           4.289
          ],
          [
           "Liberia",
           4.269
          ],
          [
           "Mali",
           4.232
          ],
          [
           "Madagascar",
           4.228
          ],
          [
           "Togo",
           4.214
          ],
          [
           "Jordan",
           4.186
          ],
          [
           "India",
           4.054
          ],
          [
           "Egypt",
           3.977
          ],
          [
           "Sri Lanka",
           3.898
          ],
          [
           "Bangladesh",
           3.886
          ],
          [
           "Ethiopia",
           3.861
          ],
          [
           "Tanzania",
           3.781
          ],
          [
           "Comoros",
           3.566
          ],
          [
           "Yemen",
           3.561
          ],
          [
           "Zambia",
           3.502
          ],
          [
           "Eswatini",
           3.502
          ],
          [
           "Malawi",
           3.421
          ],
          [
           "Botswana",
           3.383
          ],
          [
           "Zimbabwe",
           3.341
          ],
          [
           "Congo (Kinshasa)",
           3.295
          ],
          [
           "Sierra Leone",
           3.245
          ],
          [
           "Lesotho",
           3.186
          ],
          [
           "Lebanon",
           2.707
          ],
          [
           "Afghanistan",
           1.721
          ]
         ],
         "hovertemplate": "Grouping mean=Ladder score below mean<br>Continent=%{x}<br>Explained by: Log GDP per capita=%{y}<br>Country name=%{customdata[0]}<br>Ladder score=%{customdata[1]}<extra></extra>",
         "legendgroup": "Ladder score below mean",
         "marker": {
          "color": "#FF7F0E"
         },
         "name": "Ladder score below mean",
         "notched": false,
         "offsetgroup": "Ladder score below mean",
         "orientation": "v",
         "quartilemethod": "linear",
         "showlegend": true,
         "type": "box",
         "x": [
          "Europe",
          "Europe",
          "Africa",
          null,
          "Africa",
          "Asia",
          "Europe",
          null,
          "Africa",
          "Europe",
          "Asia",
          "Asia",
          "Asia",
          "Africa",
          "Africa",
          "Africa",
          "Europe",
          "Africa",
          "Asia",
          "Europe",
          "Africa",
          "Africa",
          "Europe",
          "Africa",
          "Africa",
          "Asia",
          "Africa",
          null,
          "Africa",
          "Africa",
          "Africa",
          "Africa",
          "Africa",
          "Africa",
          "Africa",
          null,
          "Asia",
          "Africa",
          "Africa",
          "Africa",
          "Africa",
          "Africa",
          "Asia",
          "Asia",
          "Africa",
          "Asia",
          "Asia",
          "Africa",
          "Africa",
          "Africa",
          "Asia",
          "Africa",
          null,
          "Africa",
          "Africa",
          "Africa",
          null,
          "Africa",
          "Africa",
          "Asia",
          "Asia"
         ],
         "x0": " ",
         "xaxis": "x",
         "y": [
          1.629,
          1.444,
          1.389,
          1.475,
          1.324,
          1.909,
          1.438,
          0.892,
          0.56,
          1.467,
          1.249,
          0.965,
          1.208,
          1.403,
          1.08,
          0.831,
          1.702,
          0.927,
          1.435,
          1.433,
          1.042,
          0.943,
          1.35,
          1.266,
          1.213,
          1.069,
          0.573,
          0.756,
          1.078,
          0.75,
          0.603,
          1.037,
          1.306,
          0.914,
          0.772,
          0.978,
          1.011,
          1.077,
          0.619,
          0.747,
          0.628,
          0.758,
          1.262,
          1.166,
          1.37,
          1.361,
          1.122,
          0.792,
          0.82,
          0.896,
          0.671,
          0.899,
          1.255,
          0.617,
          1.445,
          0.748,
          0.534,
          0.654,
          0.771,
          1.377,
          0.628
         ],
         "y0": " ",
         "yaxis": "y"
        }
       ],
       "layout": {
        "boxmode": "group",
        "legend": {
         "title": {
          "text": "Grouping mean"
         },
         "tracegroupgap": 0
        },
        "template": {
         "data": {
          "pie": [
           {
            "automargin": true,
            "type": "pie"
           }
          ]
         },
         "layout": {
          "xaxis": {
           "showgrid": false,
           "title": {
            "standoff": 15
           }
          },
          "yaxis": {
           "title": {
            "standoff": 15
           }
          }
         }
        },
        "title": {
         "text": "Boxplot: 'xgridoff' Theme"
        },
        "xaxis": {
         "anchor": "y",
         "domain": [
          0,
          1
         ],
         "title": {
          "text": "Continent"
         }
        },
        "yaxis": {
         "anchor": "x",
         "domain": [
          0,
          1
         ],
         "title": {
          "text": "Explained by: Log GDP per capita"
         }
        }
       }
      }
     },
     "metadata": {},
     "output_type": "display_data"
    },
    {
     "data": {
      "application/vnd.plotly.v1+json": {
       "config": {
        "plotlyServerURL": "https://plot.ly"
       },
       "data": [
        {
         "alignmentgroup": "True",
         "boxpoints": "all",
         "customdata": [
          [
           "Finland",
           7.741
          ],
          [
           "Denmark",
           7.583
          ],
          [
           "Iceland",
           7.525
          ],
          [
           "Sweden",
           7.344
          ],
          [
           "Israel",
           7.341
          ],
          [
           "Netherlands",
           7.319
          ],
          [
           "Norway",
           7.302
          ],
          [
           "Luxembourg",
           7.122
          ],
          [
           "Switzerland",
           7.06
          ],
          [
           "Australia",
           7.057
          ],
          [
           "New Zealand",
           7.029
          ],
          [
           "Costa Rica",
           6.955
          ],
          [
           "Kuwait",
           6.951
          ],
          [
           "Austria",
           6.905
          ],
          [
           "Canada",
           6.9
          ],
          [
           "Belgium",
           6.894
          ],
          [
           "Ireland",
           6.838
          ],
          [
           "Czechia",
           6.822
          ],
          [
           "Lithuania",
           6.818
          ],
          [
           "United Kingdom",
           6.749
          ],
          [
           "Slovenia",
           6.743
          ],
          [
           "United Arab Emirates",
           6.733
          ],
          [
           "United States",
           6.725
          ],
          [
           "Germany",
           6.719
          ],
          [
           "Mexico",
           6.678
          ],
          [
           "Uruguay",
           6.611
          ],
          [
           "France",
           6.609
          ],
          [
           "Saudi Arabia",
           6.594
          ],
          [
           "Kosovo",
           6.561
          ],
          [
           "Singapore",
           6.523
          ],
          [
           "Taiwan",
           6.503
          ],
          [
           "Romania",
           6.491
          ],
          [
           "El Salvador",
           6.469
          ],
          [
           "Estonia",
           6.448
          ],
          [
           "Poland",
           6.442
          ],
          [
           "Spain",
           6.421
          ],
          [
           "Serbia",
           6.411
          ],
          [
           "Chile",
           6.36
          ],
          [
           "Panama",
           6.358
          ],
          [
           "Malta",
           6.346
          ],
          [
           "Italy",
           6.324
          ],
          [
           "Guatemala",
           6.287
          ],
          [
           "Nicaragua",
           6.284
          ],
          [
           "Brazil",
           6.272
          ],
          [
           "Slovakia",
           6.257
          ],
          [
           "Latvia",
           6.234
          ],
          [
           "Uzbekistan",
           6.195
          ],
          [
           "Argentina",
           6.188
          ],
          [
           "Kazakhstan",
           6.188
          ],
          [
           "Cyprus",
           6.068
          ],
          [
           "Japan",
           6.06
          ],
          [
           "South Korea",
           6.058
          ],
          [
           "Philippines",
           6.048
          ],
          [
           "Vietnam",
           6.043
          ],
          [
           "Portugal",
           6.03
          ],
          [
           "Hungary",
           6.017
          ],
          [
           "Paraguay",
           5.977
          ],
          [
           "Thailand",
           5.976
          ],
          [
           "Malaysia",
           5.975
          ],
          [
           "China",
           5.973
          ],
          [
           "Honduras",
           5.968
          ],
          [
           "Croatia",
           5.942
          ],
          [
           "Greece",
           5.934
          ],
          [
           "Bosnia and Herzegovina",
           5.877
          ],
          [
           "Libya",
           5.866
          ],
          [
           "Jamaica",
           5.842
          ],
          [
           "Peru",
           5.841
          ],
          [
           "Dominican Republic",
           5.823
          ],
          [
           "Mauritius",
           5.816
          ],
          [
           "Moldova",
           5.816
          ],
          [
           "Russia",
           5.785
          ],
          [
           "Bolivia",
           5.784
          ],
          [
           "Ecuador",
           5.725
          ],
          [
           "Kyrgyzstan",
           5.714
          ],
          [
           "Montenegro",
           5.707
          ],
          [
           "Mongolia",
           5.696
          ],
          [
           "Colombia",
           5.695
          ],
          [
           "Indonesia",
           5.568
          ]
         ],
         "hovertemplate": "Grouping mean=Ladder score above mean<br>Continent=%{x}<br>Explained by: Log GDP per capita=%{y}<br>Country name=%{customdata[0]}<br>Ladder score=%{customdata[1]}<extra></extra>",
         "legendgroup": "Ladder score above mean",
         "marker": {
          "color": "#1F77B4"
         },
         "name": "Ladder score above mean",
         "notched": false,
         "offsetgroup": "Ladder score above mean",
         "orientation": "v",
         "quartilemethod": "linear",
         "showlegend": true,
         "type": "box",
         "x": [
          "Europe",
          "Europe",
          "Europe",
          "Europe",
          "Asia",
          "Europe",
          "Europe",
          "Europe",
          "Europe",
          "Oceania",
          "Oceania",
          "North America",
          "Asia",
          "Europe",
          "North America",
          "Europe",
          "Europe",
          "Europe",
          "Europe",
          "Europe",
          "Europe",
          "Asia",
          "North America",
          "Europe",
          "North America",
          "South America",
          "Europe",
          "Asia",
          "Europe",
          "Asia",
          "Asia",
          "Europe",
          "North America",
          "Europe",
          "Europe",
          "Europe",
          "Europe",
          "South America",
          "North America",
          "Europe",
          "Europe",
          "North America",
          "North America",
          "South America",
          "Europe",
          "Europe",
          "Asia",
          "South America",
          "Asia",
          "Europe",
          "Asia",
          "Asia",
          "Asia",
          "Asia",
          "Europe",
          "Europe",
          "South America",
          "Asia",
          "Asia",
          "Asia",
          "North America",
          "Europe",
          "Europe",
          "Europe",
          "Africa",
          "North America",
          "South America",
          "North America",
          "Africa",
          "Europe",
          "Asia",
          "South America",
          "South America",
          "Asia",
          "Europe",
          "Asia",
          "South America",
          "Asia"
         ],
         "x0": " ",
         "xaxis": "x",
         "y": [
          1.844,
          1.908,
          1.881,
          1.878,
          1.803,
          1.901,
          1.952,
          2.141,
          1.97,
          1.854,
          1.81,
          1.561,
          1.845,
          1.885,
          1.84,
          1.868,
          2.129,
          1.783,
          1.766,
          1.822,
          1.786,
          1.983,
          1.939,
          1.871,
          1.521,
          1.596,
          1.818,
          1.842,
          1.364,
          2.118,
          1.842,
          1.699,
          1.265,
          1.752,
          1.738,
          1.766,
          1.538,
          1.616,
          1.702,
          1.827,
          1.8,
          1.26,
          1.097,
          1.43,
          1.706,
          1.7,
          1.212,
          1.562,
          1.622,
          1.794,
          1.786,
          1.815,
          1.232,
          1.331,
          1.728,
          1.722,
          1.398,
          1.484,
          1.646,
          1.497,
          1.091,
          1.71,
          1.684,
          1.465,
          1.526,
          1.28,
          1.371,
          1.517,
          1.57,
          1.385,
          1.642,
          1.217,
          1.315,
          1.054,
          1.571,
          1.353,
          1.437,
          1.361
         ],
         "y0": " ",
         "yaxis": "y"
        },
        {
         "alignmentgroup": "True",
         "boxpoints": "all",
         "customdata": [
          [
           "Bulgaria",
           5.463
          ],
          [
           "Armenia",
           5.455
          ],
          [
           "South Africa",
           5.422
          ],
          [
           "North Macedonia",
           5.369
          ],
          [
           "Algeria",
           5.364
          ],
          [
           "Hong Kong",
           5.316
          ],
          [
           "Albania",
           5.304
          ],
          [
           "Congo (Brazzaville)",
           5.221
          ],
          [
           "Mozambique",
           5.216
          ],
          [
           "Georgia",
           5.185
          ],
          [
           "Iraq",
           5.166
          ],
          [
           "Nepal",
           5.158
          ],
          [
           "Laos",
           5.139
          ],
          [
           "Gabon",
           5.106
          ],
          [
           "Ivory Coast",
           5.08
          ],
          [
           "Guinea",
           5.023
          ],
          [
           "Turkey",
           4.975
          ],
          [
           "Senegal",
           4.969
          ],
          [
           "Iran",
           4.923
          ],
          [
           "Azerbaijan",
           4.893
          ],
          [
           "Nigeria",
           4.881
          ],
          [
           "Cameroon",
           4.874
          ],
          [
           "Ukraine",
           4.873
          ],
          [
           "Namibia",
           4.832
          ],
          [
           "Morocco",
           4.795
          ],
          [
           "Pakistan",
           4.657
          ],
          [
           "Niger",
           4.556
          ],
          [
           "Burkina Faso",
           4.548
          ],
          [
           "Mauritania",
           4.505
          ],
          [
           "Gambia",
           4.485
          ],
          [
           "Chad",
           4.471
          ],
          [
           "Kenya",
           4.47
          ],
          [
           "Tunisia",
           4.422
          ],
          [
           "Benin",
           4.377
          ],
          [
           "Uganda",
           4.372
          ],
          [
           "Myanmar",
           4.354
          ],
          [
           "Cambodia",
           4.341
          ],
          [
           "Ghana",
           4.289
          ],
          [
           "Liberia",
           4.269
          ],
          [
           "Mali",
           4.232
          ],
          [
           "Madagascar",
           4.228
          ],
          [
           "Togo",
           4.214
          ],
          [
           "Jordan",
           4.186
          ],
          [
           "India",
           4.054
          ],
          [
           "Egypt",
           3.977
          ],
          [
           "Sri Lanka",
           3.898
          ],
          [
           "Bangladesh",
           3.886
          ],
          [
           "Ethiopia",
           3.861
          ],
          [
           "Tanzania",
           3.781
          ],
          [
           "Comoros",
           3.566
          ],
          [
           "Yemen",
           3.561
          ],
          [
           "Zambia",
           3.502
          ],
          [
           "Eswatini",
           3.502
          ],
          [
           "Malawi",
           3.421
          ],
          [
           "Botswana",
           3.383
          ],
          [
           "Zimbabwe",
           3.341
          ],
          [
           "Congo (Kinshasa)",
           3.295
          ],
          [
           "Sierra Leone",
           3.245
          ],
          [
           "Lesotho",
           3.186
          ],
          [
           "Lebanon",
           2.707
          ],
          [
           "Afghanistan",
           1.721
          ]
         ],
         "hovertemplate": "Grouping mean=Ladder score below mean<br>Continent=%{x}<br>Explained by: Log GDP per capita=%{y}<br>Country name=%{customdata[0]}<br>Ladder score=%{customdata[1]}<extra></extra>",
         "legendgroup": "Ladder score below mean",
         "marker": {
          "color": "#FF7F0E"
         },
         "name": "Ladder score below mean",
         "notched": false,
         "offsetgroup": "Ladder score below mean",
         "orientation": "v",
         "quartilemethod": "linear",
         "showlegend": true,
         "type": "box",
         "x": [
          "Europe",
          "Europe",
          "Africa",
          null,
          "Africa",
          "Asia",
          "Europe",
          null,
          "Africa",
          "Europe",
          "Asia",
          "Asia",
          "Asia",
          "Africa",
          "Africa",
          "Africa",
          "Europe",
          "Africa",
          "Asia",
          "Europe",
          "Africa",
          "Africa",
          "Europe",
          "Africa",
          "Africa",
          "Asia",
          "Africa",
          null,
          "Africa",
          "Africa",
          "Africa",
          "Africa",
          "Africa",
          "Africa",
          "Africa",
          null,
          "Asia",
          "Africa",
          "Africa",
          "Africa",
          "Africa",
          "Africa",
          "Asia",
          "Asia",
          "Africa",
          "Asia",
          "Asia",
          "Africa",
          "Africa",
          "Africa",
          "Asia",
          "Africa",
          null,
          "Africa",
          "Africa",
          "Africa",
          null,
          "Africa",
          "Africa",
          "Asia",
          "Asia"
         ],
         "x0": " ",
         "xaxis": "x",
         "y": [
          1.629,
          1.444,
          1.389,
          1.475,
          1.324,
          1.909,
          1.438,
          0.892,
          0.56,
          1.467,
          1.249,
          0.965,
          1.208,
          1.403,
          1.08,
          0.831,
          1.702,
          0.927,
          1.435,
          1.433,
          1.042,
          0.943,
          1.35,
          1.266,
          1.213,
          1.069,
          0.573,
          0.756,
          1.078,
          0.75,
          0.603,
          1.037,
          1.306,
          0.914,
          0.772,
          0.978,
          1.011,
          1.077,
          0.619,
          0.747,
          0.628,
          0.758,
          1.262,
          1.166,
          1.37,
          1.361,
          1.122,
          0.792,
          0.82,
          0.896,
          0.671,
          0.899,
          1.255,
          0.617,
          1.445,
          0.748,
          0.534,
          0.654,
          0.771,
          1.377,
          0.628
         ],
         "y0": " ",
         "yaxis": "y"
        }
       ],
       "layout": {
        "boxmode": "group",
        "legend": {
         "title": {
          "text": "Grouping mean"
         },
         "tracegroupgap": 0
        },
        "template": {
         "data": {
          "pie": [
           {
            "automargin": true,
            "type": "pie"
           }
          ]
         },
         "layout": {
          "yaxis": {
           "showgrid": false
          }
         }
        },
        "title": {
         "text": "Boxplot: 'ygridoff' Theme"
        },
        "xaxis": {
         "anchor": "y",
         "domain": [
          0,
          1
         ],
         "title": {
          "text": "Continent"
         }
        },
        "yaxis": {
         "anchor": "x",
         "domain": [
          0,
          1
         ],
         "title": {
          "text": "Explained by: Log GDP per capita"
         }
        }
       }
      }
     },
     "metadata": {},
     "output_type": "display_data"
    },
    {
     "data": {
      "application/vnd.plotly.v1+json": {
       "config": {
        "plotlyServerURL": "https://plot.ly"
       },
       "data": [
        {
         "alignmentgroup": "True",
         "boxpoints": "all",
         "customdata": [
          [
           "Finland",
           7.741
          ],
          [
           "Denmark",
           7.583
          ],
          [
           "Iceland",
           7.525
          ],
          [
           "Sweden",
           7.344
          ],
          [
           "Israel",
           7.341
          ],
          [
           "Netherlands",
           7.319
          ],
          [
           "Norway",
           7.302
          ],
          [
           "Luxembourg",
           7.122
          ],
          [
           "Switzerland",
           7.06
          ],
          [
           "Australia",
           7.057
          ],
          [
           "New Zealand",
           7.029
          ],
          [
           "Costa Rica",
           6.955
          ],
          [
           "Kuwait",
           6.951
          ],
          [
           "Austria",
           6.905
          ],
          [
           "Canada",
           6.9
          ],
          [
           "Belgium",
           6.894
          ],
          [
           "Ireland",
           6.838
          ],
          [
           "Czechia",
           6.822
          ],
          [
           "Lithuania",
           6.818
          ],
          [
           "United Kingdom",
           6.749
          ],
          [
           "Slovenia",
           6.743
          ],
          [
           "United Arab Emirates",
           6.733
          ],
          [
           "United States",
           6.725
          ],
          [
           "Germany",
           6.719
          ],
          [
           "Mexico",
           6.678
          ],
          [
           "Uruguay",
           6.611
          ],
          [
           "France",
           6.609
          ],
          [
           "Saudi Arabia",
           6.594
          ],
          [
           "Kosovo",
           6.561
          ],
          [
           "Singapore",
           6.523
          ],
          [
           "Taiwan",
           6.503
          ],
          [
           "Romania",
           6.491
          ],
          [
           "El Salvador",
           6.469
          ],
          [
           "Estonia",
           6.448
          ],
          [
           "Poland",
           6.442
          ],
          [
           "Spain",
           6.421
          ],
          [
           "Serbia",
           6.411
          ],
          [
           "Chile",
           6.36
          ],
          [
           "Panama",
           6.358
          ],
          [
           "Malta",
           6.346
          ],
          [
           "Italy",
           6.324
          ],
          [
           "Guatemala",
           6.287
          ],
          [
           "Nicaragua",
           6.284
          ],
          [
           "Brazil",
           6.272
          ],
          [
           "Slovakia",
           6.257
          ],
          [
           "Latvia",
           6.234
          ],
          [
           "Uzbekistan",
           6.195
          ],
          [
           "Argentina",
           6.188
          ],
          [
           "Kazakhstan",
           6.188
          ],
          [
           "Cyprus",
           6.068
          ],
          [
           "Japan",
           6.06
          ],
          [
           "South Korea",
           6.058
          ],
          [
           "Philippines",
           6.048
          ],
          [
           "Vietnam",
           6.043
          ],
          [
           "Portugal",
           6.03
          ],
          [
           "Hungary",
           6.017
          ],
          [
           "Paraguay",
           5.977
          ],
          [
           "Thailand",
           5.976
          ],
          [
           "Malaysia",
           5.975
          ],
          [
           "China",
           5.973
          ],
          [
           "Honduras",
           5.968
          ],
          [
           "Croatia",
           5.942
          ],
          [
           "Greece",
           5.934
          ],
          [
           "Bosnia and Herzegovina",
           5.877
          ],
          [
           "Libya",
           5.866
          ],
          [
           "Jamaica",
           5.842
          ],
          [
           "Peru",
           5.841
          ],
          [
           "Dominican Republic",
           5.823
          ],
          [
           "Mauritius",
           5.816
          ],
          [
           "Moldova",
           5.816
          ],
          [
           "Russia",
           5.785
          ],
          [
           "Bolivia",
           5.784
          ],
          [
           "Ecuador",
           5.725
          ],
          [
           "Kyrgyzstan",
           5.714
          ],
          [
           "Montenegro",
           5.707
          ],
          [
           "Mongolia",
           5.696
          ],
          [
           "Colombia",
           5.695
          ],
          [
           "Indonesia",
           5.568
          ]
         ],
         "hovertemplate": "Grouping mean=Ladder score above mean<br>Continent=%{x}<br>Explained by: Log GDP per capita=%{y}<br>Country name=%{customdata[0]}<br>Ladder score=%{customdata[1]}<extra></extra>",
         "legendgroup": "Ladder score above mean",
         "marker": {
          "color": "#1F77B4"
         },
         "name": "Ladder score above mean",
         "notched": false,
         "offsetgroup": "Ladder score above mean",
         "orientation": "v",
         "quartilemethod": "linear",
         "showlegend": true,
         "type": "box",
         "x": [
          "Europe",
          "Europe",
          "Europe",
          "Europe",
          "Asia",
          "Europe",
          "Europe",
          "Europe",
          "Europe",
          "Oceania",
          "Oceania",
          "North America",
          "Asia",
          "Europe",
          "North America",
          "Europe",
          "Europe",
          "Europe",
          "Europe",
          "Europe",
          "Europe",
          "Asia",
          "North America",
          "Europe",
          "North America",
          "South America",
          "Europe",
          "Asia",
          "Europe",
          "Asia",
          "Asia",
          "Europe",
          "North America",
          "Europe",
          "Europe",
          "Europe",
          "Europe",
          "South America",
          "North America",
          "Europe",
          "Europe",
          "North America",
          "North America",
          "South America",
          "Europe",
          "Europe",
          "Asia",
          "South America",
          "Asia",
          "Europe",
          "Asia",
          "Asia",
          "Asia",
          "Asia",
          "Europe",
          "Europe",
          "South America",
          "Asia",
          "Asia",
          "Asia",
          "North America",
          "Europe",
          "Europe",
          "Europe",
          "Africa",
          "North America",
          "South America",
          "North America",
          "Africa",
          "Europe",
          "Asia",
          "South America",
          "South America",
          "Asia",
          "Europe",
          "Asia",
          "South America",
          "Asia"
         ],
         "x0": " ",
         "xaxis": "x",
         "y": [
          1.844,
          1.908,
          1.881,
          1.878,
          1.803,
          1.901,
          1.952,
          2.141,
          1.97,
          1.854,
          1.81,
          1.561,
          1.845,
          1.885,
          1.84,
          1.868,
          2.129,
          1.783,
          1.766,
          1.822,
          1.786,
          1.983,
          1.939,
          1.871,
          1.521,
          1.596,
          1.818,
          1.842,
          1.364,
          2.118,
          1.842,
          1.699,
          1.265,
          1.752,
          1.738,
          1.766,
          1.538,
          1.616,
          1.702,
          1.827,
          1.8,
          1.26,
          1.097,
          1.43,
          1.706,
          1.7,
          1.212,
          1.562,
          1.622,
          1.794,
          1.786,
          1.815,
          1.232,
          1.331,
          1.728,
          1.722,
          1.398,
          1.484,
          1.646,
          1.497,
          1.091,
          1.71,
          1.684,
          1.465,
          1.526,
          1.28,
          1.371,
          1.517,
          1.57,
          1.385,
          1.642,
          1.217,
          1.315,
          1.054,
          1.571,
          1.353,
          1.437,
          1.361
         ],
         "y0": " ",
         "yaxis": "y"
        },
        {
         "alignmentgroup": "True",
         "boxpoints": "all",
         "customdata": [
          [
           "Bulgaria",
           5.463
          ],
          [
           "Armenia",
           5.455
          ],
          [
           "South Africa",
           5.422
          ],
          [
           "North Macedonia",
           5.369
          ],
          [
           "Algeria",
           5.364
          ],
          [
           "Hong Kong",
           5.316
          ],
          [
           "Albania",
           5.304
          ],
          [
           "Congo (Brazzaville)",
           5.221
          ],
          [
           "Mozambique",
           5.216
          ],
          [
           "Georgia",
           5.185
          ],
          [
           "Iraq",
           5.166
          ],
          [
           "Nepal",
           5.158
          ],
          [
           "Laos",
           5.139
          ],
          [
           "Gabon",
           5.106
          ],
          [
           "Ivory Coast",
           5.08
          ],
          [
           "Guinea",
           5.023
          ],
          [
           "Turkey",
           4.975
          ],
          [
           "Senegal",
           4.969
          ],
          [
           "Iran",
           4.923
          ],
          [
           "Azerbaijan",
           4.893
          ],
          [
           "Nigeria",
           4.881
          ],
          [
           "Cameroon",
           4.874
          ],
          [
           "Ukraine",
           4.873
          ],
          [
           "Namibia",
           4.832
          ],
          [
           "Morocco",
           4.795
          ],
          [
           "Pakistan",
           4.657
          ],
          [
           "Niger",
           4.556
          ],
          [
           "Burkina Faso",
           4.548
          ],
          [
           "Mauritania",
           4.505
          ],
          [
           "Gambia",
           4.485
          ],
          [
           "Chad",
           4.471
          ],
          [
           "Kenya",
           4.47
          ],
          [
           "Tunisia",
           4.422
          ],
          [
           "Benin",
           4.377
          ],
          [
           "Uganda",
           4.372
          ],
          [
           "Myanmar",
           4.354
          ],
          [
           "Cambodia",
           4.341
          ],
          [
           "Ghana",
           4.289
          ],
          [
           "Liberia",
           4.269
          ],
          [
           "Mali",
           4.232
          ],
          [
           "Madagascar",
           4.228
          ],
          [
           "Togo",
           4.214
          ],
          [
           "Jordan",
           4.186
          ],
          [
           "India",
           4.054
          ],
          [
           "Egypt",
           3.977
          ],
          [
           "Sri Lanka",
           3.898
          ],
          [
           "Bangladesh",
           3.886
          ],
          [
           "Ethiopia",
           3.861
          ],
          [
           "Tanzania",
           3.781
          ],
          [
           "Comoros",
           3.566
          ],
          [
           "Yemen",
           3.561
          ],
          [
           "Zambia",
           3.502
          ],
          [
           "Eswatini",
           3.502
          ],
          [
           "Malawi",
           3.421
          ],
          [
           "Botswana",
           3.383
          ],
          [
           "Zimbabwe",
           3.341
          ],
          [
           "Congo (Kinshasa)",
           3.295
          ],
          [
           "Sierra Leone",
           3.245
          ],
          [
           "Lesotho",
           3.186
          ],
          [
           "Lebanon",
           2.707
          ],
          [
           "Afghanistan",
           1.721
          ]
         ],
         "hovertemplate": "Grouping mean=Ladder score below mean<br>Continent=%{x}<br>Explained by: Log GDP per capita=%{y}<br>Country name=%{customdata[0]}<br>Ladder score=%{customdata[1]}<extra></extra>",
         "legendgroup": "Ladder score below mean",
         "marker": {
          "color": "#FF7F0E"
         },
         "name": "Ladder score below mean",
         "notched": false,
         "offsetgroup": "Ladder score below mean",
         "orientation": "v",
         "quartilemethod": "linear",
         "showlegend": true,
         "type": "box",
         "x": [
          "Europe",
          "Europe",
          "Africa",
          null,
          "Africa",
          "Asia",
          "Europe",
          null,
          "Africa",
          "Europe",
          "Asia",
          "Asia",
          "Asia",
          "Africa",
          "Africa",
          "Africa",
          "Europe",
          "Africa",
          "Asia",
          "Europe",
          "Africa",
          "Africa",
          "Europe",
          "Africa",
          "Africa",
          "Asia",
          "Africa",
          null,
          "Africa",
          "Africa",
          "Africa",
          "Africa",
          "Africa",
          "Africa",
          "Africa",
          null,
          "Asia",
          "Africa",
          "Africa",
          "Africa",
          "Africa",
          "Africa",
          "Asia",
          "Asia",
          "Africa",
          "Asia",
          "Asia",
          "Africa",
          "Africa",
          "Africa",
          "Asia",
          "Africa",
          null,
          "Africa",
          "Africa",
          "Africa",
          null,
          "Africa",
          "Africa",
          "Asia",
          "Asia"
         ],
         "x0": " ",
         "xaxis": "x",
         "y": [
          1.629,
          1.444,
          1.389,
          1.475,
          1.324,
          1.909,
          1.438,
          0.892,
          0.56,
          1.467,
          1.249,
          0.965,
          1.208,
          1.403,
          1.08,
          0.831,
          1.702,
          0.927,
          1.435,
          1.433,
          1.042,
          0.943,
          1.35,
          1.266,
          1.213,
          1.069,
          0.573,
          0.756,
          1.078,
          0.75,
          0.603,
          1.037,
          1.306,
          0.914,
          0.772,
          0.978,
          1.011,
          1.077,
          0.619,
          0.747,
          0.628,
          0.758,
          1.262,
          1.166,
          1.37,
          1.361,
          1.122,
          0.792,
          0.82,
          0.896,
          0.671,
          0.899,
          1.255,
          0.617,
          1.445,
          0.748,
          0.534,
          0.654,
          0.771,
          1.377,
          0.628
         ],
         "y0": " ",
         "yaxis": "y"
        }
       ],
       "layout": {
        "boxmode": "group",
        "legend": {
         "title": {
          "text": "Grouping mean"
         },
         "tracegroupgap": 0
        },
        "template": {
         "data": {
          "pie": [
           {
            "automargin": true,
            "type": "pie"
           }
          ]
         },
         "layout": {
          "xaxis": {
           "showgrid": true,
           "title": {
            "standoff": 15
           }
          },
          "yaxis": {
           "showgrid": true,
           "title": {
            "standoff": 15
           }
          }
         }
        },
        "title": {
         "text": "Boxplot: 'gridon' Theme"
        },
        "xaxis": {
         "anchor": "y",
         "domain": [
          0,
          1
         ],
         "title": {
          "text": "Continent"
         }
        },
        "yaxis": {
         "anchor": "x",
         "domain": [
          0,
          1
         ],
         "title": {
          "text": "Explained by: Log GDP per capita"
         }
        }
       }
      }
     },
     "metadata": {},
     "output_type": "display_data"
    },
    {
     "data": {
      "application/vnd.plotly.v1+json": {
       "config": {
        "plotlyServerURL": "https://plot.ly"
       },
       "data": [
        {
         "alignmentgroup": "True",
         "boxpoints": "all",
         "customdata": [
          [
           "Finland",
           7.741
          ],
          [
           "Denmark",
           7.583
          ],
          [
           "Iceland",
           7.525
          ],
          [
           "Sweden",
           7.344
          ],
          [
           "Israel",
           7.341
          ],
          [
           "Netherlands",
           7.319
          ],
          [
           "Norway",
           7.302
          ],
          [
           "Luxembourg",
           7.122
          ],
          [
           "Switzerland",
           7.06
          ],
          [
           "Australia",
           7.057
          ],
          [
           "New Zealand",
           7.029
          ],
          [
           "Costa Rica",
           6.955
          ],
          [
           "Kuwait",
           6.951
          ],
          [
           "Austria",
           6.905
          ],
          [
           "Canada",
           6.9
          ],
          [
           "Belgium",
           6.894
          ],
          [
           "Ireland",
           6.838
          ],
          [
           "Czechia",
           6.822
          ],
          [
           "Lithuania",
           6.818
          ],
          [
           "United Kingdom",
           6.749
          ],
          [
           "Slovenia",
           6.743
          ],
          [
           "United Arab Emirates",
           6.733
          ],
          [
           "United States",
           6.725
          ],
          [
           "Germany",
           6.719
          ],
          [
           "Mexico",
           6.678
          ],
          [
           "Uruguay",
           6.611
          ],
          [
           "France",
           6.609
          ],
          [
           "Saudi Arabia",
           6.594
          ],
          [
           "Kosovo",
           6.561
          ],
          [
           "Singapore",
           6.523
          ],
          [
           "Taiwan",
           6.503
          ],
          [
           "Romania",
           6.491
          ],
          [
           "El Salvador",
           6.469
          ],
          [
           "Estonia",
           6.448
          ],
          [
           "Poland",
           6.442
          ],
          [
           "Spain",
           6.421
          ],
          [
           "Serbia",
           6.411
          ],
          [
           "Chile",
           6.36
          ],
          [
           "Panama",
           6.358
          ],
          [
           "Malta",
           6.346
          ],
          [
           "Italy",
           6.324
          ],
          [
           "Guatemala",
           6.287
          ],
          [
           "Nicaragua",
           6.284
          ],
          [
           "Brazil",
           6.272
          ],
          [
           "Slovakia",
           6.257
          ],
          [
           "Latvia",
           6.234
          ],
          [
           "Uzbekistan",
           6.195
          ],
          [
           "Argentina",
           6.188
          ],
          [
           "Kazakhstan",
           6.188
          ],
          [
           "Cyprus",
           6.068
          ],
          [
           "Japan",
           6.06
          ],
          [
           "South Korea",
           6.058
          ],
          [
           "Philippines",
           6.048
          ],
          [
           "Vietnam",
           6.043
          ],
          [
           "Portugal",
           6.03
          ],
          [
           "Hungary",
           6.017
          ],
          [
           "Paraguay",
           5.977
          ],
          [
           "Thailand",
           5.976
          ],
          [
           "Malaysia",
           5.975
          ],
          [
           "China",
           5.973
          ],
          [
           "Honduras",
           5.968
          ],
          [
           "Croatia",
           5.942
          ],
          [
           "Greece",
           5.934
          ],
          [
           "Bosnia and Herzegovina",
           5.877
          ],
          [
           "Libya",
           5.866
          ],
          [
           "Jamaica",
           5.842
          ],
          [
           "Peru",
           5.841
          ],
          [
           "Dominican Republic",
           5.823
          ],
          [
           "Mauritius",
           5.816
          ],
          [
           "Moldova",
           5.816
          ],
          [
           "Russia",
           5.785
          ],
          [
           "Bolivia",
           5.784
          ],
          [
           "Ecuador",
           5.725
          ],
          [
           "Kyrgyzstan",
           5.714
          ],
          [
           "Montenegro",
           5.707
          ],
          [
           "Mongolia",
           5.696
          ],
          [
           "Colombia",
           5.695
          ],
          [
           "Indonesia",
           5.568
          ]
         ],
         "hovertemplate": "Grouping mean=Ladder score above mean<br>Continent=%{x}<br>Explained by: Log GDP per capita=%{y}<br>Country name=%{customdata[0]}<br>Ladder score=%{customdata[1]}<extra></extra>",
         "legendgroup": "Ladder score above mean",
         "marker": {
          "color": "#1F77B4"
         },
         "name": "Ladder score above mean",
         "notched": false,
         "offsetgroup": "Ladder score above mean",
         "orientation": "v",
         "quartilemethod": "linear",
         "showlegend": true,
         "type": "box",
         "x": [
          "Europe",
          "Europe",
          "Europe",
          "Europe",
          "Asia",
          "Europe",
          "Europe",
          "Europe",
          "Europe",
          "Oceania",
          "Oceania",
          "North America",
          "Asia",
          "Europe",
          "North America",
          "Europe",
          "Europe",
          "Europe",
          "Europe",
          "Europe",
          "Europe",
          "Asia",
          "North America",
          "Europe",
          "North America",
          "South America",
          "Europe",
          "Asia",
          "Europe",
          "Asia",
          "Asia",
          "Europe",
          "North America",
          "Europe",
          "Europe",
          "Europe",
          "Europe",
          "South America",
          "North America",
          "Europe",
          "Europe",
          "North America",
          "North America",
          "South America",
          "Europe",
          "Europe",
          "Asia",
          "South America",
          "Asia",
          "Europe",
          "Asia",
          "Asia",
          "Asia",
          "Asia",
          "Europe",
          "Europe",
          "South America",
          "Asia",
          "Asia",
          "Asia",
          "North America",
          "Europe",
          "Europe",
          "Europe",
          "Africa",
          "North America",
          "South America",
          "North America",
          "Africa",
          "Europe",
          "Asia",
          "South America",
          "South America",
          "Asia",
          "Europe",
          "Asia",
          "South America",
          "Asia"
         ],
         "x0": " ",
         "xaxis": "x",
         "y": [
          1.844,
          1.908,
          1.881,
          1.878,
          1.803,
          1.901,
          1.952,
          2.141,
          1.97,
          1.854,
          1.81,
          1.561,
          1.845,
          1.885,
          1.84,
          1.868,
          2.129,
          1.783,
          1.766,
          1.822,
          1.786,
          1.983,
          1.939,
          1.871,
          1.521,
          1.596,
          1.818,
          1.842,
          1.364,
          2.118,
          1.842,
          1.699,
          1.265,
          1.752,
          1.738,
          1.766,
          1.538,
          1.616,
          1.702,
          1.827,
          1.8,
          1.26,
          1.097,
          1.43,
          1.706,
          1.7,
          1.212,
          1.562,
          1.622,
          1.794,
          1.786,
          1.815,
          1.232,
          1.331,
          1.728,
          1.722,
          1.398,
          1.484,
          1.646,
          1.497,
          1.091,
          1.71,
          1.684,
          1.465,
          1.526,
          1.28,
          1.371,
          1.517,
          1.57,
          1.385,
          1.642,
          1.217,
          1.315,
          1.054,
          1.571,
          1.353,
          1.437,
          1.361
         ],
         "y0": " ",
         "yaxis": "y"
        },
        {
         "alignmentgroup": "True",
         "boxpoints": "all",
         "customdata": [
          [
           "Bulgaria",
           5.463
          ],
          [
           "Armenia",
           5.455
          ],
          [
           "South Africa",
           5.422
          ],
          [
           "North Macedonia",
           5.369
          ],
          [
           "Algeria",
           5.364
          ],
          [
           "Hong Kong",
           5.316
          ],
          [
           "Albania",
           5.304
          ],
          [
           "Congo (Brazzaville)",
           5.221
          ],
          [
           "Mozambique",
           5.216
          ],
          [
           "Georgia",
           5.185
          ],
          [
           "Iraq",
           5.166
          ],
          [
           "Nepal",
           5.158
          ],
          [
           "Laos",
           5.139
          ],
          [
           "Gabon",
           5.106
          ],
          [
           "Ivory Coast",
           5.08
          ],
          [
           "Guinea",
           5.023
          ],
          [
           "Turkey",
           4.975
          ],
          [
           "Senegal",
           4.969
          ],
          [
           "Iran",
           4.923
          ],
          [
           "Azerbaijan",
           4.893
          ],
          [
           "Nigeria",
           4.881
          ],
          [
           "Cameroon",
           4.874
          ],
          [
           "Ukraine",
           4.873
          ],
          [
           "Namibia",
           4.832
          ],
          [
           "Morocco",
           4.795
          ],
          [
           "Pakistan",
           4.657
          ],
          [
           "Niger",
           4.556
          ],
          [
           "Burkina Faso",
           4.548
          ],
          [
           "Mauritania",
           4.505
          ],
          [
           "Gambia",
           4.485
          ],
          [
           "Chad",
           4.471
          ],
          [
           "Kenya",
           4.47
          ],
          [
           "Tunisia",
           4.422
          ],
          [
           "Benin",
           4.377
          ],
          [
           "Uganda",
           4.372
          ],
          [
           "Myanmar",
           4.354
          ],
          [
           "Cambodia",
           4.341
          ],
          [
           "Ghana",
           4.289
          ],
          [
           "Liberia",
           4.269
          ],
          [
           "Mali",
           4.232
          ],
          [
           "Madagascar",
           4.228
          ],
          [
           "Togo",
           4.214
          ],
          [
           "Jordan",
           4.186
          ],
          [
           "India",
           4.054
          ],
          [
           "Egypt",
           3.977
          ],
          [
           "Sri Lanka",
           3.898
          ],
          [
           "Bangladesh",
           3.886
          ],
          [
           "Ethiopia",
           3.861
          ],
          [
           "Tanzania",
           3.781
          ],
          [
           "Comoros",
           3.566
          ],
          [
           "Yemen",
           3.561
          ],
          [
           "Zambia",
           3.502
          ],
          [
           "Eswatini",
           3.502
          ],
          [
           "Malawi",
           3.421
          ],
          [
           "Botswana",
           3.383
          ],
          [
           "Zimbabwe",
           3.341
          ],
          [
           "Congo (Kinshasa)",
           3.295
          ],
          [
           "Sierra Leone",
           3.245
          ],
          [
           "Lesotho",
           3.186
          ],
          [
           "Lebanon",
           2.707
          ],
          [
           "Afghanistan",
           1.721
          ]
         ],
         "hovertemplate": "Grouping mean=Ladder score below mean<br>Continent=%{x}<br>Explained by: Log GDP per capita=%{y}<br>Country name=%{customdata[0]}<br>Ladder score=%{customdata[1]}<extra></extra>",
         "legendgroup": "Ladder score below mean",
         "marker": {
          "color": "#FF7F0E"
         },
         "name": "Ladder score below mean",
         "notched": false,
         "offsetgroup": "Ladder score below mean",
         "orientation": "v",
         "quartilemethod": "linear",
         "showlegend": true,
         "type": "box",
         "x": [
          "Europe",
          "Europe",
          "Africa",
          null,
          "Africa",
          "Asia",
          "Europe",
          null,
          "Africa",
          "Europe",
          "Asia",
          "Asia",
          "Asia",
          "Africa",
          "Africa",
          "Africa",
          "Europe",
          "Africa",
          "Asia",
          "Europe",
          "Africa",
          "Africa",
          "Europe",
          "Africa",
          "Africa",
          "Asia",
          "Africa",
          null,
          "Africa",
          "Africa",
          "Africa",
          "Africa",
          "Africa",
          "Africa",
          "Africa",
          null,
          "Asia",
          "Africa",
          "Africa",
          "Africa",
          "Africa",
          "Africa",
          "Asia",
          "Asia",
          "Africa",
          "Asia",
          "Asia",
          "Africa",
          "Africa",
          "Africa",
          "Asia",
          "Africa",
          null,
          "Africa",
          "Africa",
          "Africa",
          null,
          "Africa",
          "Africa",
          "Asia",
          "Asia"
         ],
         "x0": " ",
         "xaxis": "x",
         "y": [
          1.629,
          1.444,
          1.389,
          1.475,
          1.324,
          1.909,
          1.438,
          0.892,
          0.56,
          1.467,
          1.249,
          0.965,
          1.208,
          1.403,
          1.08,
          0.831,
          1.702,
          0.927,
          1.435,
          1.433,
          1.042,
          0.943,
          1.35,
          1.266,
          1.213,
          1.069,
          0.573,
          0.756,
          1.078,
          0.75,
          0.603,
          1.037,
          1.306,
          0.914,
          0.772,
          0.978,
          1.011,
          1.077,
          0.619,
          0.747,
          0.628,
          0.758,
          1.262,
          1.166,
          1.37,
          1.361,
          1.122,
          0.792,
          0.82,
          0.896,
          0.671,
          0.899,
          1.255,
          0.617,
          1.445,
          0.748,
          0.534,
          0.654,
          0.771,
          1.377,
          0.628
         ],
         "y0": " ",
         "yaxis": "y"
        }
       ],
       "layout": {
        "boxmode": "group",
        "legend": {
         "title": {
          "text": "Grouping mean"
         },
         "tracegroupgap": 0
        },
        "template": {
         "data": {
          "scatter": [
           {
            "type": "scatter"
           }
          ]
         }
        },
        "title": {
         "text": "Boxplot: 'none' Theme"
        },
        "xaxis": {
         "anchor": "y",
         "domain": [
          0,
          1
         ],
         "title": {
          "text": "Continent"
         }
        },
        "yaxis": {
         "anchor": "x",
         "domain": [
          0,
          1
         ],
         "title": {
          "text": "Explained by: Log GDP per capita"
         }
        }
       }
      }
     },
     "metadata": {},
     "output_type": "display_data"
    }
   ],
   "source": [
    "available_templates = ['ggplot2', 'seaborn', 'simple_white', 'plotly',\n",
    "         'plotly_white', 'plotly_dark', 'presentation', 'xgridoff',\n",
    "         'ygridoff', 'gridon', 'none']\n",
    "\n",
    "for template in available_templates:\n",
    "    boxplot = px.box(whr[whr['Explained by: Log GDP per capita']>0.0], \n",
    "                    x='Continent', \n",
    "                    y='Explained by: Log GDP per capita', \n",
    "                    color='Grouping mean',\n",
    "                    points='all',\n",
    "                    notched=False,\n",
    "                    hover_data=['Country name', 'Ladder score'],\n",
    "                    title=f\"Boxplot: '{template}' Theme\",\n",
    "                    template=template)\n",
    "    boxplot.update_traces(quartilemethod=\"linear\")\n",
    "    boxplot.show()"
   ]
  },
  {
   "cell_type": "code",
   "execution_count": 29,
   "metadata": {},
   "outputs": [],
   "source": [
    "whr['Grouping median'] = ['Ladder score above median' if x >= whr['Ladder score'].median() else 'Ladder score below median' for x in whr['Ladder score']]"
   ]
  },
  {
   "cell_type": "code",
   "execution_count": 30,
   "metadata": {},
   "outputs": [
    {
     "data": {
      "text/plain": [
       "Grouping mean\n",
       "Ladder score above mean    80\n",
       "Ladder score below mean    63\n",
       "Name: count, dtype: int64"
      ]
     },
     "execution_count": 30,
     "metadata": {},
     "output_type": "execute_result"
    }
   ],
   "source": [
    "whr['Grouping mean'].value_counts()"
   ]
  },
  {
   "cell_type": "code",
   "execution_count": 31,
   "metadata": {},
   "outputs": [
    {
     "data": {
      "text/plain": [
       "Grouping median\n",
       "Ladder score above median    72\n",
       "Ladder score below median    71\n",
       "Name: count, dtype: int64"
      ]
     },
     "execution_count": 31,
     "metadata": {},
     "output_type": "execute_result"
    }
   ],
   "source": [
    "whr['Grouping median'].value_counts()"
   ]
  },
  {
   "cell_type": "code",
   "execution_count": 32,
   "metadata": {},
   "outputs": [
    {
     "data": {
      "application/vnd.plotly.v1+json": {
       "config": {
        "plotlyServerURL": "https://plot.ly"
       },
       "data": [
        {
         "alignmentgroup": "True",
         "boxpoints": "all",
         "customdata": [
          [
           "Finland",
           7.741
          ],
          [
           "Denmark",
           7.583
          ],
          [
           "Iceland",
           7.525
          ],
          [
           "Sweden",
           7.344
          ],
          [
           "Israel",
           7.341
          ],
          [
           "Netherlands",
           7.319
          ],
          [
           "Norway",
           7.302
          ],
          [
           "Luxembourg",
           7.122
          ],
          [
           "Switzerland",
           7.06
          ],
          [
           "Australia",
           7.057
          ],
          [
           "New Zealand",
           7.029
          ],
          [
           "Costa Rica",
           6.955
          ],
          [
           "Kuwait",
           6.951
          ],
          [
           "Austria",
           6.905
          ],
          [
           "Canada",
           6.9
          ],
          [
           "Belgium",
           6.894
          ],
          [
           "Ireland",
           6.838
          ],
          [
           "Czechia",
           6.822
          ],
          [
           "Lithuania",
           6.818
          ],
          [
           "United Kingdom",
           6.749
          ],
          [
           "Slovenia",
           6.743
          ],
          [
           "United Arab Emirates",
           6.733
          ],
          [
           "United States",
           6.725
          ],
          [
           "Germany",
           6.719
          ],
          [
           "Mexico",
           6.678
          ],
          [
           "Uruguay",
           6.611
          ],
          [
           "France",
           6.609
          ],
          [
           "Saudi Arabia",
           6.594
          ],
          [
           "Kosovo",
           6.561
          ],
          [
           "Singapore",
           6.523
          ],
          [
           "Taiwan",
           6.503
          ],
          [
           "Romania",
           6.491
          ],
          [
           "El Salvador",
           6.469
          ],
          [
           "Estonia",
           6.448
          ],
          [
           "Poland",
           6.442
          ],
          [
           "Spain",
           6.421
          ],
          [
           "Serbia",
           6.411
          ],
          [
           "Chile",
           6.36
          ],
          [
           "Panama",
           6.358
          ],
          [
           "Malta",
           6.346
          ],
          [
           "Italy",
           6.324
          ],
          [
           "Guatemala",
           6.287
          ],
          [
           "Nicaragua",
           6.284
          ],
          [
           "Brazil",
           6.272
          ],
          [
           "Slovakia",
           6.257
          ],
          [
           "Latvia",
           6.234
          ],
          [
           "Uzbekistan",
           6.195
          ],
          [
           "Argentina",
           6.188
          ],
          [
           "Kazakhstan",
           6.188
          ],
          [
           "Cyprus",
           6.068
          ],
          [
           "Japan",
           6.06
          ],
          [
           "South Korea",
           6.058
          ],
          [
           "Philippines",
           6.048
          ],
          [
           "Vietnam",
           6.043
          ],
          [
           "Portugal",
           6.03
          ],
          [
           "Hungary",
           6.017
          ],
          [
           "Paraguay",
           5.977
          ],
          [
           "Thailand",
           5.976
          ],
          [
           "Malaysia",
           5.975
          ],
          [
           "China",
           5.973
          ],
          [
           "Honduras",
           5.968
          ],
          [
           "Bahrain",
           5.959
          ],
          [
           "Croatia",
           5.942
          ],
          [
           "Greece",
           5.934
          ],
          [
           "Bosnia and Herzegovina",
           5.877
          ],
          [
           "Libya",
           5.866
          ],
          [
           "Jamaica",
           5.842
          ],
          [
           "Peru",
           5.841
          ],
          [
           "Dominican Republic",
           5.823
          ],
          [
           "Mauritius",
           5.816
          ],
          [
           "Moldova",
           5.816
          ],
          [
           "Russia",
           5.785
          ]
         ],
         "hovertemplate": "Grouping median=Ladder score above median<br>Continent=%{x}<br>Explained by: Log GDP per capita=%{y}<br>Country name=%{customdata[0]}<br>Ladder score=%{customdata[1]}<extra></extra>",
         "legendgroup": "Ladder score above median",
         "marker": {
          "color": "#636efa"
         },
         "name": "Ladder score above median",
         "notched": false,
         "offsetgroup": "Ladder score above median",
         "orientation": "v",
         "quartilemethod": "linear",
         "showlegend": true,
         "type": "box",
         "x": [
          "Europe",
          "Europe",
          "Europe",
          "Europe",
          "Asia",
          "Europe",
          "Europe",
          "Europe",
          "Europe",
          "Oceania",
          "Oceania",
          "North America",
          "Asia",
          "Europe",
          "North America",
          "Europe",
          "Europe",
          "Europe",
          "Europe",
          "Europe",
          "Europe",
          "Asia",
          "North America",
          "Europe",
          "North America",
          "South America",
          "Europe",
          "Asia",
          "Europe",
          "Asia",
          "Asia",
          "Europe",
          "North America",
          "Europe",
          "Europe",
          "Europe",
          "Europe",
          "South America",
          "North America",
          "Europe",
          "Europe",
          "North America",
          "North America",
          "South America",
          "Europe",
          "Europe",
          "Asia",
          "South America",
          "Asia",
          "Europe",
          "Asia",
          "Asia",
          "Asia",
          "Asia",
          "Europe",
          "Europe",
          "South America",
          "Asia",
          "Asia",
          "Asia",
          "North America",
          "Asia",
          "Europe",
          "Europe",
          "Europe",
          "Africa",
          "North America",
          "South America",
          "North America",
          "Africa",
          "Europe",
          "Asia"
         ],
         "x0": " ",
         "xaxis": "x",
         "y": [
          1.844,
          1.908,
          1.881,
          1.878,
          1.803,
          1.901,
          1.952,
          2.141,
          1.97,
          1.854,
          1.81,
          1.561,
          1.845,
          1.885,
          1.84,
          1.868,
          2.129,
          1.783,
          1.766,
          1.822,
          1.786,
          1.983,
          1.939,
          1.871,
          1.521,
          1.596,
          1.818,
          1.842,
          1.364,
          2.118,
          1.842,
          1.699,
          1.265,
          1.752,
          1.738,
          1.766,
          1.538,
          1.616,
          1.702,
          1.827,
          1.8,
          1.26,
          1.097,
          1.43,
          1.706,
          1.7,
          1.212,
          1.562,
          1.622,
          1.794,
          1.786,
          1.815,
          1.232,
          1.331,
          1.728,
          1.722,
          1.398,
          1.484,
          1.646,
          1.497,
          1.091,
          null,
          1.71,
          1.684,
          1.465,
          1.526,
          1.28,
          1.371,
          1.517,
          1.57,
          1.385,
          1.642
         ],
         "y0": " ",
         "yaxis": "y"
        },
        {
         "alignmentgroup": "True",
         "boxpoints": "all",
         "customdata": [
          [
           "Bolivia",
           5.784
          ],
          [
           "Ecuador",
           5.725
          ],
          [
           "Kyrgyzstan",
           5.714
          ],
          [
           "Montenegro",
           5.707
          ],
          [
           "Mongolia",
           5.696
          ],
          [
           "Colombia",
           5.695
          ],
          [
           "Venezuela",
           5.607
          ],
          [
           "Indonesia",
           5.568
          ],
          [
           "Bulgaria",
           5.463
          ],
          [
           "Armenia",
           5.455
          ],
          [
           "South Africa",
           5.422
          ],
          [
           "North Macedonia",
           5.369
          ],
          [
           "Algeria",
           5.364
          ],
          [
           "Hong Kong",
           5.316
          ],
          [
           "Albania",
           5.304
          ],
          [
           "Tajikistan",
           5.281
          ],
          [
           "Congo (Brazzaville)",
           5.221
          ],
          [
           "Mozambique",
           5.216
          ],
          [
           "Georgia",
           5.185
          ],
          [
           "Iraq",
           5.166
          ],
          [
           "Nepal",
           5.158
          ],
          [
           "Laos",
           5.139
          ],
          [
           "Gabon",
           5.106
          ],
          [
           "Ivory Coast",
           5.08
          ],
          [
           "Guinea",
           5.023
          ],
          [
           "Turkey",
           4.975
          ],
          [
           "Senegal",
           4.969
          ],
          [
           "Iran",
           4.923
          ],
          [
           "Azerbaijan",
           4.893
          ],
          [
           "Nigeria",
           4.881
          ],
          [
           "State of Palestine",
           4.879
          ],
          [
           "Cameroon",
           4.874
          ],
          [
           "Ukraine",
           4.873
          ],
          [
           "Namibia",
           4.832
          ],
          [
           "Morocco",
           4.795
          ],
          [
           "Pakistan",
           4.657
          ],
          [
           "Niger",
           4.556
          ],
          [
           "Burkina Faso",
           4.548
          ],
          [
           "Mauritania",
           4.505
          ],
          [
           "Gambia",
           4.485
          ],
          [
           "Chad",
           4.471
          ],
          [
           "Kenya",
           4.47
          ],
          [
           "Tunisia",
           4.422
          ],
          [
           "Benin",
           4.377
          ],
          [
           "Uganda",
           4.372
          ],
          [
           "Myanmar",
           4.354
          ],
          [
           "Cambodia",
           4.341
          ],
          [
           "Ghana",
           4.289
          ],
          [
           "Liberia",
           4.269
          ],
          [
           "Mali",
           4.232
          ],
          [
           "Madagascar",
           4.228
          ],
          [
           "Togo",
           4.214
          ],
          [
           "Jordan",
           4.186
          ],
          [
           "India",
           4.054
          ],
          [
           "Egypt",
           3.977
          ],
          [
           "Sri Lanka",
           3.898
          ],
          [
           "Bangladesh",
           3.886
          ],
          [
           "Ethiopia",
           3.861
          ],
          [
           "Tanzania",
           3.781
          ],
          [
           "Comoros",
           3.566
          ],
          [
           "Yemen",
           3.561
          ],
          [
           "Zambia",
           3.502
          ],
          [
           "Eswatini",
           3.502
          ],
          [
           "Malawi",
           3.421
          ],
          [
           "Botswana",
           3.383
          ],
          [
           "Zimbabwe",
           3.341
          ],
          [
           "Congo (Kinshasa)",
           3.295
          ],
          [
           "Sierra Leone",
           3.245
          ],
          [
           "Lesotho",
           3.186
          ],
          [
           "Lebanon",
           2.707
          ],
          [
           "Afghanistan",
           1.721
          ]
         ],
         "hovertemplate": "Grouping median=Ladder score below median<br>Continent=%{x}<br>Explained by: Log GDP per capita=%{y}<br>Country name=%{customdata[0]}<br>Ladder score=%{customdata[1]}<extra></extra>",
         "legendgroup": "Ladder score below median",
         "marker": {
          "color": "#EF553B"
         },
         "name": "Ladder score below median",
         "notched": false,
         "offsetgroup": "Ladder score below median",
         "orientation": "v",
         "quartilemethod": "linear",
         "showlegend": true,
         "type": "box",
         "x": [
          "South America",
          "South America",
          "Asia",
          "Europe",
          "Asia",
          "South America",
          "South America",
          "Asia",
          "Europe",
          "Europe",
          "Africa",
          null,
          "Africa",
          "Asia",
          "Europe",
          "Asia",
          null,
          "Africa",
          "Europe",
          "Asia",
          "Asia",
          "Asia",
          "Africa",
          "Africa",
          "Africa",
          "Europe",
          "Africa",
          "Asia",
          "Europe",
          "Africa",
          null,
          "Africa",
          "Europe",
          "Africa",
          "Africa",
          "Asia",
          "Africa",
          null,
          "Africa",
          "Africa",
          "Africa",
          "Africa",
          "Africa",
          "Africa",
          "Africa",
          null,
          "Asia",
          "Africa",
          "Africa",
          "Africa",
          "Africa",
          "Africa",
          "Asia",
          "Asia",
          "Africa",
          "Asia",
          "Asia",
          "Africa",
          "Africa",
          "Africa",
          "Asia",
          "Africa",
          null,
          "Africa",
          "Africa",
          "Africa",
          null,
          "Africa",
          "Africa",
          "Asia",
          "Asia"
         ],
         "x0": " ",
         "xaxis": "x",
         "y": [
          1.217,
          1.315,
          1.054,
          1.571,
          1.353,
          1.437,
          0,
          1.361,
          1.629,
          1.444,
          1.389,
          1.475,
          1.324,
          1.909,
          1.438,
          null,
          0.892,
          0.56,
          1.467,
          1.249,
          0.965,
          1.208,
          1.403,
          1.08,
          0.831,
          1.702,
          0.927,
          1.435,
          1.433,
          1.042,
          null,
          0.943,
          1.35,
          1.266,
          1.213,
          1.069,
          0.573,
          0.756,
          1.078,
          0.75,
          0.603,
          1.037,
          1.306,
          0.914,
          0.772,
          0.978,
          1.011,
          1.077,
          0.619,
          0.747,
          0.628,
          0.758,
          1.262,
          1.166,
          1.37,
          1.361,
          1.122,
          0.792,
          0.82,
          0.896,
          0.671,
          0.899,
          1.255,
          0.617,
          1.445,
          0.748,
          0.534,
          0.654,
          0.771,
          1.377,
          0.628
         ],
         "y0": " ",
         "yaxis": "y"
        }
       ],
       "layout": {
        "boxmode": "group",
        "legend": {
         "title": {
          "text": "Grouping median"
         },
         "tracegroupgap": 0
        },
        "template": {
         "data": {
          "bar": [
           {
            "error_x": {
             "color": "#2a3f5f"
            },
            "error_y": {
             "color": "#2a3f5f"
            },
            "marker": {
             "line": {
              "color": "#E5ECF6",
              "width": 0.5
             },
             "pattern": {
              "fillmode": "overlay",
              "size": 10,
              "solidity": 0.2
             }
            },
            "type": "bar"
           }
          ],
          "barpolar": [
           {
            "marker": {
             "line": {
              "color": "#E5ECF6",
              "width": 0.5
             },
             "pattern": {
              "fillmode": "overlay",
              "size": 10,
              "solidity": 0.2
             }
            },
            "type": "barpolar"
           }
          ],
          "carpet": [
           {
            "aaxis": {
             "endlinecolor": "#2a3f5f",
             "gridcolor": "white",
             "linecolor": "white",
             "minorgridcolor": "white",
             "startlinecolor": "#2a3f5f"
            },
            "baxis": {
             "endlinecolor": "#2a3f5f",
             "gridcolor": "white",
             "linecolor": "white",
             "minorgridcolor": "white",
             "startlinecolor": "#2a3f5f"
            },
            "type": "carpet"
           }
          ],
          "choropleth": [
           {
            "colorbar": {
             "outlinewidth": 0,
             "ticks": ""
            },
            "type": "choropleth"
           }
          ],
          "contour": [
           {
            "colorbar": {
             "outlinewidth": 0,
             "ticks": ""
            },
            "colorscale": [
             [
              0,
              "#0d0887"
             ],
             [
              0.1111111111111111,
              "#46039f"
             ],
             [
              0.2222222222222222,
              "#7201a8"
             ],
             [
              0.3333333333333333,
              "#9c179e"
             ],
             [
              0.4444444444444444,
              "#bd3786"
             ],
             [
              0.5555555555555556,
              "#d8576b"
             ],
             [
              0.6666666666666666,
              "#ed7953"
             ],
             [
              0.7777777777777778,
              "#fb9f3a"
             ],
             [
              0.8888888888888888,
              "#fdca26"
             ],
             [
              1,
              "#f0f921"
             ]
            ],
            "type": "contour"
           }
          ],
          "contourcarpet": [
           {
            "colorbar": {
             "outlinewidth": 0,
             "ticks": ""
            },
            "type": "contourcarpet"
           }
          ],
          "heatmap": [
           {
            "colorbar": {
             "outlinewidth": 0,
             "ticks": ""
            },
            "colorscale": [
             [
              0,
              "#0d0887"
             ],
             [
              0.1111111111111111,
              "#46039f"
             ],
             [
              0.2222222222222222,
              "#7201a8"
             ],
             [
              0.3333333333333333,
              "#9c179e"
             ],
             [
              0.4444444444444444,
              "#bd3786"
             ],
             [
              0.5555555555555556,
              "#d8576b"
             ],
             [
              0.6666666666666666,
              "#ed7953"
             ],
             [
              0.7777777777777778,
              "#fb9f3a"
             ],
             [
              0.8888888888888888,
              "#fdca26"
             ],
             [
              1,
              "#f0f921"
             ]
            ],
            "type": "heatmap"
           }
          ],
          "heatmapgl": [
           {
            "colorbar": {
             "outlinewidth": 0,
             "ticks": ""
            },
            "colorscale": [
             [
              0,
              "#0d0887"
             ],
             [
              0.1111111111111111,
              "#46039f"
             ],
             [
              0.2222222222222222,
              "#7201a8"
             ],
             [
              0.3333333333333333,
              "#9c179e"
             ],
             [
              0.4444444444444444,
              "#bd3786"
             ],
             [
              0.5555555555555556,
              "#d8576b"
             ],
             [
              0.6666666666666666,
              "#ed7953"
             ],
             [
              0.7777777777777778,
              "#fb9f3a"
             ],
             [
              0.8888888888888888,
              "#fdca26"
             ],
             [
              1,
              "#f0f921"
             ]
            ],
            "type": "heatmapgl"
           }
          ],
          "histogram": [
           {
            "marker": {
             "pattern": {
              "fillmode": "overlay",
              "size": 10,
              "solidity": 0.2
             }
            },
            "type": "histogram"
           }
          ],
          "histogram2d": [
           {
            "colorbar": {
             "outlinewidth": 0,
             "ticks": ""
            },
            "colorscale": [
             [
              0,
              "#0d0887"
             ],
             [
              0.1111111111111111,
              "#46039f"
             ],
             [
              0.2222222222222222,
              "#7201a8"
             ],
             [
              0.3333333333333333,
              "#9c179e"
             ],
             [
              0.4444444444444444,
              "#bd3786"
             ],
             [
              0.5555555555555556,
              "#d8576b"
             ],
             [
              0.6666666666666666,
              "#ed7953"
             ],
             [
              0.7777777777777778,
              "#fb9f3a"
             ],
             [
              0.8888888888888888,
              "#fdca26"
             ],
             [
              1,
              "#f0f921"
             ]
            ],
            "type": "histogram2d"
           }
          ],
          "histogram2dcontour": [
           {
            "colorbar": {
             "outlinewidth": 0,
             "ticks": ""
            },
            "colorscale": [
             [
              0,
              "#0d0887"
             ],
             [
              0.1111111111111111,
              "#46039f"
             ],
             [
              0.2222222222222222,
              "#7201a8"
             ],
             [
              0.3333333333333333,
              "#9c179e"
             ],
             [
              0.4444444444444444,
              "#bd3786"
             ],
             [
              0.5555555555555556,
              "#d8576b"
             ],
             [
              0.6666666666666666,
              "#ed7953"
             ],
             [
              0.7777777777777778,
              "#fb9f3a"
             ],
             [
              0.8888888888888888,
              "#fdca26"
             ],
             [
              1,
              "#f0f921"
             ]
            ],
            "type": "histogram2dcontour"
           }
          ],
          "mesh3d": [
           {
            "colorbar": {
             "outlinewidth": 0,
             "ticks": ""
            },
            "type": "mesh3d"
           }
          ],
          "parcoords": [
           {
            "line": {
             "colorbar": {
              "outlinewidth": 0,
              "ticks": ""
             }
            },
            "type": "parcoords"
           }
          ],
          "pie": [
           {
            "automargin": true,
            "type": "pie"
           }
          ],
          "scatter": [
           {
            "fillpattern": {
             "fillmode": "overlay",
             "size": 10,
             "solidity": 0.2
            },
            "type": "scatter"
           }
          ],
          "scatter3d": [
           {
            "line": {
             "colorbar": {
              "outlinewidth": 0,
              "ticks": ""
             }
            },
            "marker": {
             "colorbar": {
              "outlinewidth": 0,
              "ticks": ""
             }
            },
            "type": "scatter3d"
           }
          ],
          "scattercarpet": [
           {
            "marker": {
             "colorbar": {
              "outlinewidth": 0,
              "ticks": ""
             }
            },
            "type": "scattercarpet"
           }
          ],
          "scattergeo": [
           {
            "marker": {
             "colorbar": {
              "outlinewidth": 0,
              "ticks": ""
             }
            },
            "type": "scattergeo"
           }
          ],
          "scattergl": [
           {
            "marker": {
             "colorbar": {
              "outlinewidth": 0,
              "ticks": ""
             }
            },
            "type": "scattergl"
           }
          ],
          "scattermapbox": [
           {
            "marker": {
             "colorbar": {
              "outlinewidth": 0,
              "ticks": ""
             }
            },
            "type": "scattermapbox"
           }
          ],
          "scatterpolar": [
           {
            "marker": {
             "colorbar": {
              "outlinewidth": 0,
              "ticks": ""
             }
            },
            "type": "scatterpolar"
           }
          ],
          "scatterpolargl": [
           {
            "marker": {
             "colorbar": {
              "outlinewidth": 0,
              "ticks": ""
             }
            },
            "type": "scatterpolargl"
           }
          ],
          "scatterternary": [
           {
            "marker": {
             "colorbar": {
              "outlinewidth": 0,
              "ticks": ""
             }
            },
            "type": "scatterternary"
           }
          ],
          "surface": [
           {
            "colorbar": {
             "outlinewidth": 0,
             "ticks": ""
            },
            "colorscale": [
             [
              0,
              "#0d0887"
             ],
             [
              0.1111111111111111,
              "#46039f"
             ],
             [
              0.2222222222222222,
              "#7201a8"
             ],
             [
              0.3333333333333333,
              "#9c179e"
             ],
             [
              0.4444444444444444,
              "#bd3786"
             ],
             [
              0.5555555555555556,
              "#d8576b"
             ],
             [
              0.6666666666666666,
              "#ed7953"
             ],
             [
              0.7777777777777778,
              "#fb9f3a"
             ],
             [
              0.8888888888888888,
              "#fdca26"
             ],
             [
              1,
              "#f0f921"
             ]
            ],
            "type": "surface"
           }
          ],
          "table": [
           {
            "cells": {
             "fill": {
              "color": "#EBF0F8"
             },
             "line": {
              "color": "white"
             }
            },
            "header": {
             "fill": {
              "color": "#C8D4E3"
             },
             "line": {
              "color": "white"
             }
            },
            "type": "table"
           }
          ]
         },
         "layout": {
          "annotationdefaults": {
           "arrowcolor": "#2a3f5f",
           "arrowhead": 0,
           "arrowwidth": 1
          },
          "autotypenumbers": "strict",
          "coloraxis": {
           "colorbar": {
            "outlinewidth": 0,
            "ticks": ""
           }
          },
          "colorscale": {
           "diverging": [
            [
             0,
             "#8e0152"
            ],
            [
             0.1,
             "#c51b7d"
            ],
            [
             0.2,
             "#de77ae"
            ],
            [
             0.3,
             "#f1b6da"
            ],
            [
             0.4,
             "#fde0ef"
            ],
            [
             0.5,
             "#f7f7f7"
            ],
            [
             0.6,
             "#e6f5d0"
            ],
            [
             0.7,
             "#b8e186"
            ],
            [
             0.8,
             "#7fbc41"
            ],
            [
             0.9,
             "#4d9221"
            ],
            [
             1,
             "#276419"
            ]
           ],
           "sequential": [
            [
             0,
             "#0d0887"
            ],
            [
             0.1111111111111111,
             "#46039f"
            ],
            [
             0.2222222222222222,
             "#7201a8"
            ],
            [
             0.3333333333333333,
             "#9c179e"
            ],
            [
             0.4444444444444444,
             "#bd3786"
            ],
            [
             0.5555555555555556,
             "#d8576b"
            ],
            [
             0.6666666666666666,
             "#ed7953"
            ],
            [
             0.7777777777777778,
             "#fb9f3a"
            ],
            [
             0.8888888888888888,
             "#fdca26"
            ],
            [
             1,
             "#f0f921"
            ]
           ],
           "sequentialminus": [
            [
             0,
             "#0d0887"
            ],
            [
             0.1111111111111111,
             "#46039f"
            ],
            [
             0.2222222222222222,
             "#7201a8"
            ],
            [
             0.3333333333333333,
             "#9c179e"
            ],
            [
             0.4444444444444444,
             "#bd3786"
            ],
            [
             0.5555555555555556,
             "#d8576b"
            ],
            [
             0.6666666666666666,
             "#ed7953"
            ],
            [
             0.7777777777777778,
             "#fb9f3a"
            ],
            [
             0.8888888888888888,
             "#fdca26"
            ],
            [
             1,
             "#f0f921"
            ]
           ]
          },
          "colorway": [
           "#636efa",
           "#EF553B",
           "#00cc96",
           "#ab63fa",
           "#FFA15A",
           "#19d3f3",
           "#FF6692",
           "#B6E880",
           "#FF97FF",
           "#FECB52"
          ],
          "font": {
           "color": "#2a3f5f"
          },
          "geo": {
           "bgcolor": "white",
           "lakecolor": "white",
           "landcolor": "#E5ECF6",
           "showlakes": true,
           "showland": true,
           "subunitcolor": "white"
          },
          "hoverlabel": {
           "align": "left"
          },
          "hovermode": "closest",
          "mapbox": {
           "style": "light"
          },
          "paper_bgcolor": "white",
          "plot_bgcolor": "#E5ECF6",
          "polar": {
           "angularaxis": {
            "gridcolor": "white",
            "linecolor": "white",
            "ticks": ""
           },
           "bgcolor": "#E5ECF6",
           "radialaxis": {
            "gridcolor": "white",
            "linecolor": "white",
            "ticks": ""
           }
          },
          "scene": {
           "xaxis": {
            "backgroundcolor": "#E5ECF6",
            "gridcolor": "white",
            "gridwidth": 2,
            "linecolor": "white",
            "showbackground": true,
            "ticks": "",
            "zerolinecolor": "white"
           },
           "yaxis": {
            "backgroundcolor": "#E5ECF6",
            "gridcolor": "white",
            "gridwidth": 2,
            "linecolor": "white",
            "showbackground": true,
            "ticks": "",
            "zerolinecolor": "white"
           },
           "zaxis": {
            "backgroundcolor": "#E5ECF6",
            "gridcolor": "white",
            "gridwidth": 2,
            "linecolor": "white",
            "showbackground": true,
            "ticks": "",
            "zerolinecolor": "white"
           }
          },
          "shapedefaults": {
           "line": {
            "color": "#2a3f5f"
           }
          },
          "ternary": {
           "aaxis": {
            "gridcolor": "white",
            "linecolor": "white",
            "ticks": ""
           },
           "baxis": {
            "gridcolor": "white",
            "linecolor": "white",
            "ticks": ""
           },
           "bgcolor": "#E5ECF6",
           "caxis": {
            "gridcolor": "white",
            "linecolor": "white",
            "ticks": ""
           }
          },
          "title": {
           "x": 0.05
          },
          "xaxis": {
           "automargin": true,
           "gridcolor": "white",
           "linecolor": "white",
           "ticks": "",
           "title": {
            "standoff": 15
           },
           "zerolinecolor": "white",
           "zerolinewidth": 2
          },
          "yaxis": {
           "automargin": true,
           "gridcolor": "white",
           "linecolor": "white",
           "ticks": "",
           "title": {
            "standoff": 15
           },
           "zerolinecolor": "white",
           "zerolinewidth": 2
          }
         }
        },
        "title": {
         "text": "Boxplot"
        },
        "xaxis": {
         "anchor": "y",
         "domain": [
          0,
          1
         ],
         "title": {
          "text": "Continent"
         }
        },
        "yaxis": {
         "anchor": "x",
         "domain": [
          0,
          1
         ],
         "title": {
          "text": "Explained by: Log GDP per capita"
         }
        }
       }
      }
     },
     "metadata": {},
     "output_type": "display_data"
    }
   ],
   "source": [
    "boxplot = px.box(whr, \n",
    "                 x='Continent', \n",
    "                 y='Explained by: Log GDP per capita', \n",
    "                 color='Grouping median',\n",
    "                 points='all',\n",
    "                 notched=False,\n",
    "                 hover_data=['Country name', 'Ladder score'],\n",
    "                 title=\"Boxplot\")\n",
    "boxplot.update_traces(quartilemethod=\"linear\")\n",
    "boxplot.show()"
   ]
  },
  {
   "cell_type": "code",
   "execution_count": 33,
   "metadata": {},
   "outputs": [],
   "source": [
    "tips = sns.load_dataset(\"tips\")"
   ]
  },
  {
   "cell_type": "code",
   "execution_count": 42,
   "metadata": {},
   "outputs": [
    {
     "data": {
      "image/png": "[encoded data removed]",
      "text/plain": [
       "<Figure size 640x480 with 1 Axes>"
      ]
     },
     "metadata": {},
     "output_type": "display_data"
    }
   ],
   "source": [
    "sns.set_theme(style='ticks', palette='pastel')\n",
    "\n",
    "sns.boxplot(x='day',\n",
    "            y='total_bill',\n",
    "            hue='smoker',\n",
    "            palette=['m', 'r'],\n",
    "            data=tips)\n",
    "\n",
    "sns.despine(offset=10, trim=True)"
   ]
  },
  {
   "cell_type": "code",
   "execution_count": 60,
   "metadata": {},
   "outputs": [
    {
     "data": {
      "image/png": "[encoded data removed]",
      "text/plain": [
       "<Figure size 640x480 with 1 Axes>"
      ]
     },
     "metadata": {},
     "output_type": "display_data"
    }
   ],
   "source": [
    "ax = sns.boxplot(x='Continent',\n",
    "            y='Explained by: Log GDP per capita',\n",
    "            hue='Grouping median',\n",
    "            data=whr[whr['Explained by: Log GDP per capita'] > 0.0])\n",
    "sns.despine(offset=10, trim=True)\n",
    "ax.set_xticklabels(ax.get_xticklabels(), rotation=45);\n",
    "\n"
   ]
  },
  {
   "cell_type": "code",
   "execution_count": 68,
   "metadata": {},
   "outputs": [
    {
     "data": {
      "image/png": "[encoded data removed]",
      "text/plain": [
       "<Figure size 640x480 with 1 Axes>"
      ]
     },
     "metadata": {},
     "output_type": "display_data"
    }
   ],
   "source": [
    "ax = sns.histplot(\n",
    "    data=whr[whr['Explained by: Log GDP per capita']>0.0],\n",
    "    x='Explained by: Log GDP per capita',\n",
    "    hue='Continent',\n",
    "    multiple='stack',\n",
    "    palette='light:m_r',\n",
    "    edgecolor='.3',\n",
    "    linewidth=.5\n",
    ")\n",
    "\n",
    "sns.despine()\n",
    "\n",
    "ax.xaxis.set_major_formatter(mpl.ticker.ScalarFormatter())"
   ]
  },
  {
   "cell_type": "code",
   "execution_count": null,
   "metadata": {},
   "outputs": [],
   "source": []
  }
 ],
 "metadata": {
  "kernelspec": {
   "display_name": ".venv",
   "language": "python",
   "name": "python3"
  },
  "language_info": {
   "codemirror_mode": {
    "name": "ipython",
    "version": 3
   },
   "file_extension": ".py",
   "mimetype": "text/x-python",
   "name": "python",
   "nbconvert_exporter": "python",
   "pygments_lexer": "ipython3",
   "version": "3.9.13"
  }
 },
 "nbformat": 4,
 "nbformat_minor": 2
}
