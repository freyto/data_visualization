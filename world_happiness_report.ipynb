{
 "cells": [
  {
   "cell_type": "markdown",
   "metadata": {},
   "source": [
    "# World Hapiness Reports from 2015 to 2023"
   ]
  },
  {
   "cell_type": "markdown",
   "metadata": {},
   "source": [
    "## Preparations"
   ]
  },
  {
   "cell_type": "code",
   "execution_count": 1,
   "metadata": {},
   "outputs": [],
   "source": [
    "import os\n",
    "import re\n",
    "import pandas as pd\n",
    "\n",
    "from plotly.subplots import make_subplots\n",
    "import plotly.graph_objects as go\n",
    "import plotly.express as px"
   ]
  },
  {
   "cell_type": "markdown",
   "metadata": {},
   "source": [
    "### Specify plotly theme"
   ]
  },
  {
   "cell_type": "code",
   "execution_count": 2,
   "metadata": {},
   "outputs": [],
   "source": [
    "import plotly.io as pio"
   ]
  },
  {
   "cell_type": "code",
   "execution_count": 3,
   "metadata": {},
   "outputs": [
    {
     "data": {
      "text/plain": [
       "Templates configuration\n",
       "-----------------------\n",
       "    Default template: 'plotly'\n",
       "    Available templates:\n",
       "        ['ggplot2', 'seaborn', 'simple_white', 'plotly',\n",
       "         'plotly_white', 'plotly_dark', 'presentation', 'xgridoff',\n",
       "         'ygridoff', 'gridon', 'none']"
      ]
     },
     "execution_count": 3,
     "metadata": {},
     "output_type": "execute_result"
    }
   ],
   "source": [
    "pio.templates"
   ]
  },
  {
   "cell_type": "code",
   "execution_count": 4,
   "metadata": {},
   "outputs": [],
   "source": [
    "pio.templates.default = \"ggplot2\""
   ]
  },
  {
   "cell_type": "markdown",
   "metadata": {},
   "source": [
    "### Load data from csv-files"
   ]
  },
  {
   "cell_type": "code",
   "execution_count": 5,
   "metadata": {},
   "outputs": [],
   "source": [
    "data_folder = \"whr_data\""
   ]
  },
  {
   "cell_type": "code",
   "execution_count": 6,
   "metadata": {},
   "outputs": [],
   "source": [
    "def find_year(string):\n",
    "    regex_pattern = r'\\d{4}'\n",
    "\n",
    "    result = re.findall(regex_pattern, string)[0]\n",
    "\n",
    "    return result"
   ]
  },
  {
   "cell_type": "code",
   "execution_count": 7,
   "metadata": {},
   "outputs": [],
   "source": [
    "def create_dict_df(data_folder):\n",
    "    dict_df = {}\n",
    "\n",
    "    for file in os.listdir(data_folder):\n",
    "        year = find_year(file)\n",
    "        temp_df = pd.read_csv(f\"{data_folder}/{file}\")\n",
    "\n",
    "        # Insert column for year\n",
    "        temp_df.insert(loc=0, column='Year', value=year)\n",
    "\n",
    "        # Insert column for ranking based on hapiness score per year\n",
    "        temp_df.insert(loc=3, column='Ranking', value=temp_df['happiness_score'].rank(ascending=False, method=\"average\"))\n",
    "\n",
    "        dict_df[year] = temp_df\n",
    "\n",
    "    return dict_df"
   ]
  },
  {
   "cell_type": "code",
   "execution_count": 8,
   "metadata": {},
   "outputs": [],
   "source": [
    "dict_df = create_dict_df(data_folder=data_folder)"
   ]
  },
  {
   "cell_type": "code",
   "execution_count": 9,
   "metadata": {},
   "outputs": [],
   "source": [
    "whr = pd.concat(dict_df.values(), ignore_index=True)"
   ]
  },
  {
   "cell_type": "code",
   "execution_count": 10,
   "metadata": {},
   "outputs": [
    {
     "data": {
      "text/html": [
       "<div>\n",
       "<style scoped>\n",
       "    .dataframe tbody tr th:only-of-type {\n",
       "        vertical-align: middle;\n",
       "    }\n",
       "\n",
       "    .dataframe tbody tr th {\n",
       "        vertical-align: top;\n",
       "    }\n",
       "\n",
       "    .dataframe thead th {\n",
       "        text-align: right;\n",
       "    }\n",
       "</style>\n",
       "<table border=\"1\" class=\"dataframe\">\n",
       "  <thead>\n",
       "    <tr style=\"text-align: right;\">\n",
       "      <th></th>\n",
       "      <th>Year</th>\n",
       "      <th>country</th>\n",
       "      <th>region</th>\n",
       "      <th>Ranking</th>\n",
       "      <th>happiness_score</th>\n",
       "      <th>gdp_per_capita</th>\n",
       "      <th>social_support</th>\n",
       "      <th>healthy_life_expectancy</th>\n",
       "      <th>freedom_to_make_life_choices</th>\n",
       "      <th>generosity</th>\n",
       "      <th>perceptions_of_corruption</th>\n",
       "    </tr>\n",
       "  </thead>\n",
       "  <tbody>\n",
       "    <tr>\n",
       "      <th>0</th>\n",
       "      <td>2015</td>\n",
       "      <td>Switzerland</td>\n",
       "      <td>Western Europe</td>\n",
       "      <td>1.0</td>\n",
       "      <td>7.587</td>\n",
       "      <td>1.39651</td>\n",
       "      <td>1.34951</td>\n",
       "      <td>0.94143</td>\n",
       "      <td>0.66557</td>\n",
       "      <td>0.29678</td>\n",
       "      <td>0.41978</td>\n",
       "    </tr>\n",
       "    <tr>\n",
       "      <th>1</th>\n",
       "      <td>2015</td>\n",
       "      <td>Iceland</td>\n",
       "      <td>Western Europe</td>\n",
       "      <td>2.0</td>\n",
       "      <td>7.561</td>\n",
       "      <td>1.30232</td>\n",
       "      <td>1.40223</td>\n",
       "      <td>0.94784</td>\n",
       "      <td>0.62877</td>\n",
       "      <td>0.43630</td>\n",
       "      <td>0.14145</td>\n",
       "    </tr>\n",
       "    <tr>\n",
       "      <th>2</th>\n",
       "      <td>2015</td>\n",
       "      <td>Denmark</td>\n",
       "      <td>Western Europe</td>\n",
       "      <td>3.0</td>\n",
       "      <td>7.527</td>\n",
       "      <td>1.32548</td>\n",
       "      <td>1.36058</td>\n",
       "      <td>0.87464</td>\n",
       "      <td>0.64938</td>\n",
       "      <td>0.34139</td>\n",
       "      <td>0.48357</td>\n",
       "    </tr>\n",
       "    <tr>\n",
       "      <th>3</th>\n",
       "      <td>2015</td>\n",
       "      <td>Norway</td>\n",
       "      <td>Western Europe</td>\n",
       "      <td>4.0</td>\n",
       "      <td>7.522</td>\n",
       "      <td>1.45900</td>\n",
       "      <td>1.33095</td>\n",
       "      <td>0.88521</td>\n",
       "      <td>0.66973</td>\n",
       "      <td>0.34699</td>\n",
       "      <td>0.36503</td>\n",
       "    </tr>\n",
       "    <tr>\n",
       "      <th>4</th>\n",
       "      <td>2015</td>\n",
       "      <td>Canada</td>\n",
       "      <td>North America and ANZ</td>\n",
       "      <td>5.0</td>\n",
       "      <td>7.427</td>\n",
       "      <td>1.32629</td>\n",
       "      <td>1.32261</td>\n",
       "      <td>0.90563</td>\n",
       "      <td>0.63297</td>\n",
       "      <td>0.45811</td>\n",
       "      <td>0.32957</td>\n",
       "    </tr>\n",
       "    <tr>\n",
       "      <th>...</th>\n",
       "      <td>...</td>\n",
       "      <td>...</td>\n",
       "      <td>...</td>\n",
       "      <td>...</td>\n",
       "      <td>...</td>\n",
       "      <td>...</td>\n",
       "      <td>...</td>\n",
       "      <td>...</td>\n",
       "      <td>...</td>\n",
       "      <td>...</td>\n",
       "      <td>...</td>\n",
       "    </tr>\n",
       "    <tr>\n",
       "      <th>1362</th>\n",
       "      <td>2023</td>\n",
       "      <td>Congo (Kinshasa)</td>\n",
       "      <td>Sub-Saharan Africa</td>\n",
       "      <td>133.0</td>\n",
       "      <td>3.207</td>\n",
       "      <td>0.53100</td>\n",
       "      <td>0.78400</td>\n",
       "      <td>0.10500</td>\n",
       "      <td>0.37500</td>\n",
       "      <td>0.18300</td>\n",
       "      <td>0.06800</td>\n",
       "    </tr>\n",
       "    <tr>\n",
       "      <th>1363</th>\n",
       "      <td>2023</td>\n",
       "      <td>Zimbabwe</td>\n",
       "      <td>Sub-Saharan Africa</td>\n",
       "      <td>134.0</td>\n",
       "      <td>3.204</td>\n",
       "      <td>0.75800</td>\n",
       "      <td>0.88100</td>\n",
       "      <td>0.06900</td>\n",
       "      <td>0.36300</td>\n",
       "      <td>0.11200</td>\n",
       "      <td>0.11700</td>\n",
       "    </tr>\n",
       "    <tr>\n",
       "      <th>1364</th>\n",
       "      <td>2023</td>\n",
       "      <td>Sierra Leone</td>\n",
       "      <td>Sub-Saharan Africa</td>\n",
       "      <td>135.0</td>\n",
       "      <td>3.138</td>\n",
       "      <td>0.67000</td>\n",
       "      <td>0.54000</td>\n",
       "      <td>0.09200</td>\n",
       "      <td>0.37100</td>\n",
       "      <td>0.19300</td>\n",
       "      <td>0.05100</td>\n",
       "    </tr>\n",
       "    <tr>\n",
       "      <th>1365</th>\n",
       "      <td>2023</td>\n",
       "      <td>Lebanon</td>\n",
       "      <td>Middle East and North Africa</td>\n",
       "      <td>136.0</td>\n",
       "      <td>2.392</td>\n",
       "      <td>1.41700</td>\n",
       "      <td>0.47600</td>\n",
       "      <td>0.39800</td>\n",
       "      <td>0.12300</td>\n",
       "      <td>0.06100</td>\n",
       "      <td>0.02700</td>\n",
       "    </tr>\n",
       "    <tr>\n",
       "      <th>1366</th>\n",
       "      <td>2023</td>\n",
       "      <td>Afghanistan</td>\n",
       "      <td>South Asia</td>\n",
       "      <td>137.0</td>\n",
       "      <td>1.859</td>\n",
       "      <td>0.64500</td>\n",
       "      <td>0.00000</td>\n",
       "      <td>0.08700</td>\n",
       "      <td>0.00000</td>\n",
       "      <td>0.09300</td>\n",
       "      <td>0.05900</td>\n",
       "    </tr>\n",
       "  </tbody>\n",
       "</table>\n",
       "<p>1367 rows × 11 columns</p>\n",
       "</div>"
      ],
      "text/plain": [
       "      Year           country                        region  Ranking  \\\n",
       "0     2015       Switzerland                Western Europe      1.0   \n",
       "1     2015           Iceland                Western Europe      2.0   \n",
       "2     2015           Denmark                Western Europe      3.0   \n",
       "3     2015            Norway                Western Europe      4.0   \n",
       "4     2015            Canada         North America and ANZ      5.0   \n",
       "...    ...               ...                           ...      ...   \n",
       "1362  2023  Congo (Kinshasa)            Sub-Saharan Africa    133.0   \n",
       "1363  2023          Zimbabwe            Sub-Saharan Africa    134.0   \n",
       "1364  2023      Sierra Leone            Sub-Saharan Africa    135.0   \n",
       "1365  2023           Lebanon  Middle East and North Africa    136.0   \n",
       "1366  2023       Afghanistan                    South Asia    137.0   \n",
       "\n",
       "      happiness_score  gdp_per_capita  social_support  \\\n",
       "0               7.587         1.39651         1.34951   \n",
       "1               7.561         1.30232         1.40223   \n",
       "2               7.527         1.32548         1.36058   \n",
       "3               7.522         1.45900         1.33095   \n",
       "4               7.427         1.32629         1.32261   \n",
       "...               ...             ...             ...   \n",
       "1362            3.207         0.53100         0.78400   \n",
       "1363            3.204         0.75800         0.88100   \n",
       "1364            3.138         0.67000         0.54000   \n",
       "1365            2.392         1.41700         0.47600   \n",
       "1366            1.859         0.64500         0.00000   \n",
       "\n",
       "      healthy_life_expectancy  freedom_to_make_life_choices  generosity  \\\n",
       "0                     0.94143                       0.66557     0.29678   \n",
       "1                     0.94784                       0.62877     0.43630   \n",
       "2                     0.87464                       0.64938     0.34139   \n",
       "3                     0.88521                       0.66973     0.34699   \n",
       "4                     0.90563                       0.63297     0.45811   \n",
       "...                       ...                           ...         ...   \n",
       "1362                  0.10500                       0.37500     0.18300   \n",
       "1363                  0.06900                       0.36300     0.11200   \n",
       "1364                  0.09200                       0.37100     0.19300   \n",
       "1365                  0.39800                       0.12300     0.06100   \n",
       "1366                  0.08700                       0.00000     0.09300   \n",
       "\n",
       "      perceptions_of_corruption  \n",
       "0                       0.41978  \n",
       "1                       0.14145  \n",
       "2                       0.48357  \n",
       "3                       0.36503  \n",
       "4                       0.32957  \n",
       "...                         ...  \n",
       "1362                    0.06800  \n",
       "1363                    0.11700  \n",
       "1364                    0.05100  \n",
       "1365                    0.02700  \n",
       "1366                    0.05900  \n",
       "\n",
       "[1367 rows x 11 columns]"
      ]
     },
     "execution_count": 10,
     "metadata": {},
     "output_type": "execute_result"
    }
   ],
   "source": [
    "whr"
   ]
  },
  {
   "cell_type": "markdown",
   "metadata": {},
   "source": [
    "## Analysis"
   ]
  },
  {
   "cell_type": "markdown",
   "metadata": {},
   "source": [
    "Top 3 Countries from 2015 to 2023"
   ]
  },
  {
   "cell_type": "code",
   "execution_count": 11,
   "metadata": {},
   "outputs": [
    {
     "data": {
      "text/html": [
       "<div>\n",
       "<style scoped>\n",
       "    .dataframe tbody tr th:only-of-type {\n",
       "        vertical-align: middle;\n",
       "    }\n",
       "\n",
       "    .dataframe tbody tr th {\n",
       "        vertical-align: top;\n",
       "    }\n",
       "\n",
       "    .dataframe thead th {\n",
       "        text-align: right;\n",
       "    }\n",
       "</style>\n",
       "<table border=\"1\" class=\"dataframe\">\n",
       "  <thead>\n",
       "    <tr style=\"text-align: right;\">\n",
       "      <th></th>\n",
       "      <th>Year</th>\n",
       "      <th>country</th>\n",
       "      <th>region</th>\n",
       "      <th>Ranking</th>\n",
       "      <th>happiness_score</th>\n",
       "      <th>gdp_per_capita</th>\n",
       "      <th>social_support</th>\n",
       "      <th>healthy_life_expectancy</th>\n",
       "      <th>freedom_to_make_life_choices</th>\n",
       "      <th>generosity</th>\n",
       "      <th>perceptions_of_corruption</th>\n",
       "    </tr>\n",
       "  </thead>\n",
       "  <tbody>\n",
       "    <tr>\n",
       "      <th>0</th>\n",
       "      <td>2015</td>\n",
       "      <td>Switzerland</td>\n",
       "      <td>Western Europe</td>\n",
       "      <td>1.0</td>\n",
       "      <td>7.5870</td>\n",
       "      <td>1.396510</td>\n",
       "      <td>1.349510</td>\n",
       "      <td>0.941430</td>\n",
       "      <td>0.665570</td>\n",
       "      <td>0.296780</td>\n",
       "      <td>0.419780</td>\n",
       "    </tr>\n",
       "    <tr>\n",
       "      <th>1</th>\n",
       "      <td>2015</td>\n",
       "      <td>Iceland</td>\n",
       "      <td>Western Europe</td>\n",
       "      <td>2.0</td>\n",
       "      <td>7.5610</td>\n",
       "      <td>1.302320</td>\n",
       "      <td>1.402230</td>\n",
       "      <td>0.947840</td>\n",
       "      <td>0.628770</td>\n",
       "      <td>0.436300</td>\n",
       "      <td>0.141450</td>\n",
       "    </tr>\n",
       "    <tr>\n",
       "      <th>2</th>\n",
       "      <td>2015</td>\n",
       "      <td>Denmark</td>\n",
       "      <td>Western Europe</td>\n",
       "      <td>3.0</td>\n",
       "      <td>7.5270</td>\n",
       "      <td>1.325480</td>\n",
       "      <td>1.360580</td>\n",
       "      <td>0.874640</td>\n",
       "      <td>0.649380</td>\n",
       "      <td>0.341390</td>\n",
       "      <td>0.483570</td>\n",
       "    </tr>\n",
       "    <tr>\n",
       "      <th>158</th>\n",
       "      <td>2016</td>\n",
       "      <td>Denmark</td>\n",
       "      <td>Western Europe</td>\n",
       "      <td>1.0</td>\n",
       "      <td>7.5260</td>\n",
       "      <td>1.441780</td>\n",
       "      <td>1.163740</td>\n",
       "      <td>0.795040</td>\n",
       "      <td>0.579410</td>\n",
       "      <td>0.361710</td>\n",
       "      <td>0.444530</td>\n",
       "    </tr>\n",
       "    <tr>\n",
       "      <th>159</th>\n",
       "      <td>2016</td>\n",
       "      <td>Switzerland</td>\n",
       "      <td>Western Europe</td>\n",
       "      <td>2.0</td>\n",
       "      <td>7.5090</td>\n",
       "      <td>1.527330</td>\n",
       "      <td>1.145240</td>\n",
       "      <td>0.863030</td>\n",
       "      <td>0.585570</td>\n",
       "      <td>0.280830</td>\n",
       "      <td>0.412030</td>\n",
       "    </tr>\n",
       "    <tr>\n",
       "      <th>160</th>\n",
       "      <td>2016</td>\n",
       "      <td>Iceland</td>\n",
       "      <td>Western Europe</td>\n",
       "      <td>3.0</td>\n",
       "      <td>7.5010</td>\n",
       "      <td>1.426660</td>\n",
       "      <td>1.183260</td>\n",
       "      <td>0.867330</td>\n",
       "      <td>0.566240</td>\n",
       "      <td>0.476780</td>\n",
       "      <td>0.149750</td>\n",
       "    </tr>\n",
       "    <tr>\n",
       "      <th>315</th>\n",
       "      <td>2017</td>\n",
       "      <td>Norway</td>\n",
       "      <td>Western Europe</td>\n",
       "      <td>1.0</td>\n",
       "      <td>7.5370</td>\n",
       "      <td>1.616463</td>\n",
       "      <td>1.533524</td>\n",
       "      <td>0.796667</td>\n",
       "      <td>0.635423</td>\n",
       "      <td>0.362012</td>\n",
       "      <td>0.315964</td>\n",
       "    </tr>\n",
       "    <tr>\n",
       "      <th>316</th>\n",
       "      <td>2017</td>\n",
       "      <td>Denmark</td>\n",
       "      <td>Western Europe</td>\n",
       "      <td>2.0</td>\n",
       "      <td>7.5220</td>\n",
       "      <td>1.482383</td>\n",
       "      <td>1.551122</td>\n",
       "      <td>0.792566</td>\n",
       "      <td>0.626007</td>\n",
       "      <td>0.355280</td>\n",
       "      <td>0.400770</td>\n",
       "    </tr>\n",
       "    <tr>\n",
       "      <th>317</th>\n",
       "      <td>2017</td>\n",
       "      <td>Iceland</td>\n",
       "      <td>Western Europe</td>\n",
       "      <td>3.0</td>\n",
       "      <td>7.5040</td>\n",
       "      <td>1.480633</td>\n",
       "      <td>1.610574</td>\n",
       "      <td>0.833552</td>\n",
       "      <td>0.627163</td>\n",
       "      <td>0.475540</td>\n",
       "      <td>0.153527</td>\n",
       "    </tr>\n",
       "    <tr>\n",
       "      <th>470</th>\n",
       "      <td>2018</td>\n",
       "      <td>Finland</td>\n",
       "      <td>Western Europe</td>\n",
       "      <td>1.0</td>\n",
       "      <td>7.6320</td>\n",
       "      <td>1.305000</td>\n",
       "      <td>1.592000</td>\n",
       "      <td>0.874000</td>\n",
       "      <td>0.681000</td>\n",
       "      <td>0.202000</td>\n",
       "      <td>0.393000</td>\n",
       "    </tr>\n",
       "    <tr>\n",
       "      <th>471</th>\n",
       "      <td>2018</td>\n",
       "      <td>Norway</td>\n",
       "      <td>Western Europe</td>\n",
       "      <td>2.0</td>\n",
       "      <td>7.5940</td>\n",
       "      <td>1.456000</td>\n",
       "      <td>1.582000</td>\n",
       "      <td>0.861000</td>\n",
       "      <td>0.686000</td>\n",
       "      <td>0.286000</td>\n",
       "      <td>0.340000</td>\n",
       "    </tr>\n",
       "    <tr>\n",
       "      <th>472</th>\n",
       "      <td>2018</td>\n",
       "      <td>Denmark</td>\n",
       "      <td>Western Europe</td>\n",
       "      <td>3.0</td>\n",
       "      <td>7.5550</td>\n",
       "      <td>1.351000</td>\n",
       "      <td>1.590000</td>\n",
       "      <td>0.868000</td>\n",
       "      <td>0.683000</td>\n",
       "      <td>0.284000</td>\n",
       "      <td>0.408000</td>\n",
       "    </tr>\n",
       "    <tr>\n",
       "      <th>626</th>\n",
       "      <td>2019</td>\n",
       "      <td>Finland</td>\n",
       "      <td>Western Europe</td>\n",
       "      <td>1.0</td>\n",
       "      <td>7.7690</td>\n",
       "      <td>1.340000</td>\n",
       "      <td>1.587000</td>\n",
       "      <td>0.986000</td>\n",
       "      <td>0.596000</td>\n",
       "      <td>0.153000</td>\n",
       "      <td>0.393000</td>\n",
       "    </tr>\n",
       "    <tr>\n",
       "      <th>627</th>\n",
       "      <td>2019</td>\n",
       "      <td>Denmark</td>\n",
       "      <td>Western Europe</td>\n",
       "      <td>2.0</td>\n",
       "      <td>7.6000</td>\n",
       "      <td>1.383000</td>\n",
       "      <td>1.573000</td>\n",
       "      <td>0.996000</td>\n",
       "      <td>0.592000</td>\n",
       "      <td>0.252000</td>\n",
       "      <td>0.410000</td>\n",
       "    </tr>\n",
       "    <tr>\n",
       "      <th>628</th>\n",
       "      <td>2019</td>\n",
       "      <td>Norway</td>\n",
       "      <td>Western Europe</td>\n",
       "      <td>3.0</td>\n",
       "      <td>7.5540</td>\n",
       "      <td>1.488000</td>\n",
       "      <td>1.582000</td>\n",
       "      <td>1.028000</td>\n",
       "      <td>0.603000</td>\n",
       "      <td>0.271000</td>\n",
       "      <td>0.341000</td>\n",
       "    </tr>\n",
       "    <tr>\n",
       "      <th>782</th>\n",
       "      <td>2020</td>\n",
       "      <td>Finland</td>\n",
       "      <td>Western Europe</td>\n",
       "      <td>1.0</td>\n",
       "      <td>7.8087</td>\n",
       "      <td>1.285190</td>\n",
       "      <td>1.499526</td>\n",
       "      <td>0.961271</td>\n",
       "      <td>0.662317</td>\n",
       "      <td>0.159670</td>\n",
       "      <td>0.477857</td>\n",
       "    </tr>\n",
       "    <tr>\n",
       "      <th>783</th>\n",
       "      <td>2020</td>\n",
       "      <td>Denmark</td>\n",
       "      <td>Western Europe</td>\n",
       "      <td>2.0</td>\n",
       "      <td>7.6456</td>\n",
       "      <td>1.326949</td>\n",
       "      <td>1.503449</td>\n",
       "      <td>0.979333</td>\n",
       "      <td>0.665040</td>\n",
       "      <td>0.242793</td>\n",
       "      <td>0.495260</td>\n",
       "    </tr>\n",
       "    <tr>\n",
       "      <th>784</th>\n",
       "      <td>2020</td>\n",
       "      <td>Switzerland</td>\n",
       "      <td>Western Europe</td>\n",
       "      <td>3.0</td>\n",
       "      <td>7.5599</td>\n",
       "      <td>1.390774</td>\n",
       "      <td>1.472403</td>\n",
       "      <td>1.040533</td>\n",
       "      <td>0.628954</td>\n",
       "      <td>0.269056</td>\n",
       "      <td>0.407946</td>\n",
       "    </tr>\n",
       "    <tr>\n",
       "      <th>935</th>\n",
       "      <td>2021</td>\n",
       "      <td>Finland</td>\n",
       "      <td>Western Europe</td>\n",
       "      <td>1.0</td>\n",
       "      <td>7.8420</td>\n",
       "      <td>1.446000</td>\n",
       "      <td>1.106000</td>\n",
       "      <td>0.741000</td>\n",
       "      <td>0.691000</td>\n",
       "      <td>0.124000</td>\n",
       "      <td>0.481000</td>\n",
       "    </tr>\n",
       "    <tr>\n",
       "      <th>936</th>\n",
       "      <td>2021</td>\n",
       "      <td>Denmark</td>\n",
       "      <td>Western Europe</td>\n",
       "      <td>2.0</td>\n",
       "      <td>7.6200</td>\n",
       "      <td>1.502000</td>\n",
       "      <td>1.108000</td>\n",
       "      <td>0.763000</td>\n",
       "      <td>0.686000</td>\n",
       "      <td>0.208000</td>\n",
       "      <td>0.485000</td>\n",
       "    </tr>\n",
       "    <tr>\n",
       "      <th>937</th>\n",
       "      <td>2021</td>\n",
       "      <td>Switzerland</td>\n",
       "      <td>Western Europe</td>\n",
       "      <td>3.0</td>\n",
       "      <td>7.5710</td>\n",
       "      <td>1.566000</td>\n",
       "      <td>1.079000</td>\n",
       "      <td>0.816000</td>\n",
       "      <td>0.653000</td>\n",
       "      <td>0.204000</td>\n",
       "      <td>0.413000</td>\n",
       "    </tr>\n",
       "    <tr>\n",
       "      <th>1084</th>\n",
       "      <td>2022</td>\n",
       "      <td>Finland</td>\n",
       "      <td>Western Europe</td>\n",
       "      <td>1.0</td>\n",
       "      <td>7.8210</td>\n",
       "      <td>1.892000</td>\n",
       "      <td>1.258000</td>\n",
       "      <td>0.775000</td>\n",
       "      <td>0.736000</td>\n",
       "      <td>0.109000</td>\n",
       "      <td>0.534000</td>\n",
       "    </tr>\n",
       "    <tr>\n",
       "      <th>1085</th>\n",
       "      <td>2022</td>\n",
       "      <td>Denmark</td>\n",
       "      <td>Western Europe</td>\n",
       "      <td>2.0</td>\n",
       "      <td>7.6360</td>\n",
       "      <td>1.953000</td>\n",
       "      <td>1.243000</td>\n",
       "      <td>0.777000</td>\n",
       "      <td>0.719000</td>\n",
       "      <td>0.188000</td>\n",
       "      <td>0.532000</td>\n",
       "    </tr>\n",
       "    <tr>\n",
       "      <th>1086</th>\n",
       "      <td>2022</td>\n",
       "      <td>Iceland</td>\n",
       "      <td>Western Europe</td>\n",
       "      <td>3.0</td>\n",
       "      <td>7.5570</td>\n",
       "      <td>1.936000</td>\n",
       "      <td>1.320000</td>\n",
       "      <td>0.803000</td>\n",
       "      <td>0.718000</td>\n",
       "      <td>0.270000</td>\n",
       "      <td>0.191000</td>\n",
       "    </tr>\n",
       "    <tr>\n",
       "      <th>1230</th>\n",
       "      <td>2023</td>\n",
       "      <td>Finland</td>\n",
       "      <td>Western Europe</td>\n",
       "      <td>1.0</td>\n",
       "      <td>7.8040</td>\n",
       "      <td>1.888000</td>\n",
       "      <td>1.585000</td>\n",
       "      <td>0.535000</td>\n",
       "      <td>0.772000</td>\n",
       "      <td>0.126000</td>\n",
       "      <td>0.535000</td>\n",
       "    </tr>\n",
       "    <tr>\n",
       "      <th>1231</th>\n",
       "      <td>2023</td>\n",
       "      <td>Denmark</td>\n",
       "      <td>Western Europe</td>\n",
       "      <td>2.0</td>\n",
       "      <td>7.5860</td>\n",
       "      <td>1.949000</td>\n",
       "      <td>1.548000</td>\n",
       "      <td>0.537000</td>\n",
       "      <td>0.734000</td>\n",
       "      <td>0.208000</td>\n",
       "      <td>0.525000</td>\n",
       "    </tr>\n",
       "    <tr>\n",
       "      <th>1232</th>\n",
       "      <td>2023</td>\n",
       "      <td>Iceland</td>\n",
       "      <td>Western Europe</td>\n",
       "      <td>3.0</td>\n",
       "      <td>7.5300</td>\n",
       "      <td>1.926000</td>\n",
       "      <td>1.620000</td>\n",
       "      <td>0.559000</td>\n",
       "      <td>0.738000</td>\n",
       "      <td>0.250000</td>\n",
       "      <td>0.187000</td>\n",
       "    </tr>\n",
       "  </tbody>\n",
       "</table>\n",
       "</div>"
      ],
      "text/plain": [
       "      Year      country          region  Ranking  happiness_score  \\\n",
       "0     2015  Switzerland  Western Europe      1.0           7.5870   \n",
       "1     2015      Iceland  Western Europe      2.0           7.5610   \n",
       "2     2015      Denmark  Western Europe      3.0           7.5270   \n",
       "158   2016      Denmark  Western Europe      1.0           7.5260   \n",
       "159   2016  Switzerland  Western Europe      2.0           7.5090   \n",
       "160   2016      Iceland  Western Europe      3.0           7.5010   \n",
       "315   2017       Norway  Western Europe      1.0           7.5370   \n",
       "316   2017      Denmark  Western Europe      2.0           7.5220   \n",
       "317   2017      Iceland  Western Europe      3.0           7.5040   \n",
       "470   2018      Finland  Western Europe      1.0           7.6320   \n",
       "471   2018       Norway  Western Europe      2.0           7.5940   \n",
       "472   2018      Denmark  Western Europe      3.0           7.5550   \n",
       "626   2019      Finland  Western Europe      1.0           7.7690   \n",
       "627   2019      Denmark  Western Europe      2.0           7.6000   \n",
       "628   2019       Norway  Western Europe      3.0           7.5540   \n",
       "782   2020      Finland  Western Europe      1.0           7.8087   \n",
       "783   2020      Denmark  Western Europe      2.0           7.6456   \n",
       "784   2020  Switzerland  Western Europe      3.0           7.5599   \n",
       "935   2021      Finland  Western Europe      1.0           7.8420   \n",
       "936   2021      Denmark  Western Europe      2.0           7.6200   \n",
       "937   2021  Switzerland  Western Europe      3.0           7.5710   \n",
       "1084  2022      Finland  Western Europe      1.0           7.8210   \n",
       "1085  2022      Denmark  Western Europe      2.0           7.6360   \n",
       "1086  2022      Iceland  Western Europe      3.0           7.5570   \n",
       "1230  2023      Finland  Western Europe      1.0           7.8040   \n",
       "1231  2023      Denmark  Western Europe      2.0           7.5860   \n",
       "1232  2023      Iceland  Western Europe      3.0           7.5300   \n",
       "\n",
       "      gdp_per_capita  social_support  healthy_life_expectancy  \\\n",
       "0           1.396510        1.349510                 0.941430   \n",
       "1           1.302320        1.402230                 0.947840   \n",
       "2           1.325480        1.360580                 0.874640   \n",
       "158         1.441780        1.163740                 0.795040   \n",
       "159         1.527330        1.145240                 0.863030   \n",
       "160         1.426660        1.183260                 0.867330   \n",
       "315         1.616463        1.533524                 0.796667   \n",
       "316         1.482383        1.551122                 0.792566   \n",
       "317         1.480633        1.610574                 0.833552   \n",
       "470         1.305000        1.592000                 0.874000   \n",
       "471         1.456000        1.582000                 0.861000   \n",
       "472         1.351000        1.590000                 0.868000   \n",
       "626         1.340000        1.587000                 0.986000   \n",
       "627         1.383000        1.573000                 0.996000   \n",
       "628         1.488000        1.582000                 1.028000   \n",
       "782         1.285190        1.499526                 0.961271   \n",
       "783         1.326949        1.503449                 0.979333   \n",
       "784         1.390774        1.472403                 1.040533   \n",
       "935         1.446000        1.106000                 0.741000   \n",
       "936         1.502000        1.108000                 0.763000   \n",
       "937         1.566000        1.079000                 0.816000   \n",
       "1084        1.892000        1.258000                 0.775000   \n",
       "1085        1.953000        1.243000                 0.777000   \n",
       "1086        1.936000        1.320000                 0.803000   \n",
       "1230        1.888000        1.585000                 0.535000   \n",
       "1231        1.949000        1.548000                 0.537000   \n",
       "1232        1.926000        1.620000                 0.559000   \n",
       "\n",
       "      freedom_to_make_life_choices  generosity  perceptions_of_corruption  \n",
       "0                         0.665570    0.296780                   0.419780  \n",
       "1                         0.628770    0.436300                   0.141450  \n",
       "2                         0.649380    0.341390                   0.483570  \n",
       "158                       0.579410    0.361710                   0.444530  \n",
       "159                       0.585570    0.280830                   0.412030  \n",
       "160                       0.566240    0.476780                   0.149750  \n",
       "315                       0.635423    0.362012                   0.315964  \n",
       "316                       0.626007    0.355280                   0.400770  \n",
       "317                       0.627163    0.475540                   0.153527  \n",
       "470                       0.681000    0.202000                   0.393000  \n",
       "471                       0.686000    0.286000                   0.340000  \n",
       "472                       0.683000    0.284000                   0.408000  \n",
       "626                       0.596000    0.153000                   0.393000  \n",
       "627                       0.592000    0.252000                   0.410000  \n",
       "628                       0.603000    0.271000                   0.341000  \n",
       "782                       0.662317    0.159670                   0.477857  \n",
       "783                       0.665040    0.242793                   0.495260  \n",
       "784                       0.628954    0.269056                   0.407946  \n",
       "935                       0.691000    0.124000                   0.481000  \n",
       "936                       0.686000    0.208000                   0.485000  \n",
       "937                       0.653000    0.204000                   0.413000  \n",
       "1084                      0.736000    0.109000                   0.534000  \n",
       "1085                      0.719000    0.188000                   0.532000  \n",
       "1086                      0.718000    0.270000                   0.191000  \n",
       "1230                      0.772000    0.126000                   0.535000  \n",
       "1231                      0.734000    0.208000                   0.525000  \n",
       "1232                      0.738000    0.250000                   0.187000  "
      ]
     },
     "execution_count": 11,
     "metadata": {},
     "output_type": "execute_result"
    }
   ],
   "source": [
    "whr[whr['Ranking'] <= 3.0]"
   ]
  },
  {
   "cell_type": "markdown",
   "metadata": {},
   "source": [
    "Ranking of Germany between 2015 and 2023"
   ]
  },
  {
   "cell_type": "code",
   "execution_count": 12,
   "metadata": {},
   "outputs": [
    {
     "data": {
      "text/html": [
       "<div>\n",
       "<style scoped>\n",
       "    .dataframe tbody tr th:only-of-type {\n",
       "        vertical-align: middle;\n",
       "    }\n",
       "\n",
       "    .dataframe tbody tr th {\n",
       "        vertical-align: top;\n",
       "    }\n",
       "\n",
       "    .dataframe thead th {\n",
       "        text-align: right;\n",
       "    }\n",
       "</style>\n",
       "<table border=\"1\" class=\"dataframe\">\n",
       "  <thead>\n",
       "    <tr style=\"text-align: right;\">\n",
       "      <th></th>\n",
       "      <th>Year</th>\n",
       "      <th>country</th>\n",
       "      <th>region</th>\n",
       "      <th>Ranking</th>\n",
       "      <th>happiness_score</th>\n",
       "      <th>gdp_per_capita</th>\n",
       "      <th>social_support</th>\n",
       "      <th>healthy_life_expectancy</th>\n",
       "      <th>freedom_to_make_life_choices</th>\n",
       "      <th>generosity</th>\n",
       "      <th>perceptions_of_corruption</th>\n",
       "    </tr>\n",
       "  </thead>\n",
       "  <tbody>\n",
       "    <tr>\n",
       "      <th>25</th>\n",
       "      <td>2015</td>\n",
       "      <td>Germany</td>\n",
       "      <td>Western Europe</td>\n",
       "      <td>26.0</td>\n",
       "      <td>6.7500</td>\n",
       "      <td>1.327920</td>\n",
       "      <td>1.299370</td>\n",
       "      <td>0.891860</td>\n",
       "      <td>0.614770</td>\n",
       "      <td>0.282140</td>\n",
       "      <td>0.218430</td>\n",
       "    </tr>\n",
       "    <tr>\n",
       "      <th>173</th>\n",
       "      <td>2016</td>\n",
       "      <td>Germany</td>\n",
       "      <td>Western Europe</td>\n",
       "      <td>16.0</td>\n",
       "      <td>6.9940</td>\n",
       "      <td>1.447870</td>\n",
       "      <td>1.097740</td>\n",
       "      <td>0.814870</td>\n",
       "      <td>0.534660</td>\n",
       "      <td>0.304520</td>\n",
       "      <td>0.285510</td>\n",
       "    </tr>\n",
       "    <tr>\n",
       "      <th>330</th>\n",
       "      <td>2017</td>\n",
       "      <td>Germany</td>\n",
       "      <td>Western Europe</td>\n",
       "      <td>16.0</td>\n",
       "      <td>6.9510</td>\n",
       "      <td>1.487923</td>\n",
       "      <td>1.472520</td>\n",
       "      <td>0.798951</td>\n",
       "      <td>0.562511</td>\n",
       "      <td>0.336269</td>\n",
       "      <td>0.276732</td>\n",
       "    </tr>\n",
       "    <tr>\n",
       "      <th>484</th>\n",
       "      <td>2018</td>\n",
       "      <td>Germany</td>\n",
       "      <td>Western Europe</td>\n",
       "      <td>15.0</td>\n",
       "      <td>6.9650</td>\n",
       "      <td>1.340000</td>\n",
       "      <td>1.474000</td>\n",
       "      <td>0.861000</td>\n",
       "      <td>0.586000</td>\n",
       "      <td>0.273000</td>\n",
       "      <td>0.280000</td>\n",
       "    </tr>\n",
       "    <tr>\n",
       "      <th>642</th>\n",
       "      <td>2019</td>\n",
       "      <td>Germany</td>\n",
       "      <td>Western Europe</td>\n",
       "      <td>17.0</td>\n",
       "      <td>6.9850</td>\n",
       "      <td>1.373000</td>\n",
       "      <td>1.454000</td>\n",
       "      <td>0.987000</td>\n",
       "      <td>0.495000</td>\n",
       "      <td>0.261000</td>\n",
       "      <td>0.265000</td>\n",
       "    </tr>\n",
       "    <tr>\n",
       "      <th>798</th>\n",
       "      <td>2020</td>\n",
       "      <td>Germany</td>\n",
       "      <td>Western Europe</td>\n",
       "      <td>17.0</td>\n",
       "      <td>7.0758</td>\n",
       "      <td>1.314185</td>\n",
       "      <td>1.368544</td>\n",
       "      <td>0.972115</td>\n",
       "      <td>0.564274</td>\n",
       "      <td>0.252038</td>\n",
       "      <td>0.309362</td>\n",
       "    </tr>\n",
       "    <tr>\n",
       "      <th>947</th>\n",
       "      <td>2021</td>\n",
       "      <td>Germany</td>\n",
       "      <td>Western Europe</td>\n",
       "      <td>13.0</td>\n",
       "      <td>7.1550</td>\n",
       "      <td>1.480000</td>\n",
       "      <td>0.993000</td>\n",
       "      <td>0.757000</td>\n",
       "      <td>0.600000</td>\n",
       "      <td>0.195000</td>\n",
       "      <td>0.306000</td>\n",
       "    </tr>\n",
       "    <tr>\n",
       "      <th>1097</th>\n",
       "      <td>2022</td>\n",
       "      <td>Germany</td>\n",
       "      <td>Western Europe</td>\n",
       "      <td>14.0</td>\n",
       "      <td>7.0340</td>\n",
       "      <td>1.924000</td>\n",
       "      <td>1.088000</td>\n",
       "      <td>0.776000</td>\n",
       "      <td>0.585000</td>\n",
       "      <td>0.163000</td>\n",
       "      <td>0.358000</td>\n",
       "    </tr>\n",
       "    <tr>\n",
       "      <th>1245</th>\n",
       "      <td>2023</td>\n",
       "      <td>Germany</td>\n",
       "      <td>Western Europe</td>\n",
       "      <td>16.0</td>\n",
       "      <td>6.8920</td>\n",
       "      <td>1.919000</td>\n",
       "      <td>1.401000</td>\n",
       "      <td>0.539000</td>\n",
       "      <td>0.618000</td>\n",
       "      <td>0.153000</td>\n",
       "      <td>0.365000</td>\n",
       "    </tr>\n",
       "  </tbody>\n",
       "</table>\n",
       "</div>"
      ],
      "text/plain": [
       "      Year  country          region  Ranking  happiness_score  gdp_per_capita  \\\n",
       "25    2015  Germany  Western Europe     26.0           6.7500        1.327920   \n",
       "173   2016  Germany  Western Europe     16.0           6.9940        1.447870   \n",
       "330   2017  Germany  Western Europe     16.0           6.9510        1.487923   \n",
       "484   2018  Germany  Western Europe     15.0           6.9650        1.340000   \n",
       "642   2019  Germany  Western Europe     17.0           6.9850        1.373000   \n",
       "798   2020  Germany  Western Europe     17.0           7.0758        1.314185   \n",
       "947   2021  Germany  Western Europe     13.0           7.1550        1.480000   \n",
       "1097  2022  Germany  Western Europe     14.0           7.0340        1.924000   \n",
       "1245  2023  Germany  Western Europe     16.0           6.8920        1.919000   \n",
       "\n",
       "      social_support  healthy_life_expectancy  freedom_to_make_life_choices  \\\n",
       "25          1.299370                 0.891860                      0.614770   \n",
       "173         1.097740                 0.814870                      0.534660   \n",
       "330         1.472520                 0.798951                      0.562511   \n",
       "484         1.474000                 0.861000                      0.586000   \n",
       "642         1.454000                 0.987000                      0.495000   \n",
       "798         1.368544                 0.972115                      0.564274   \n",
       "947         0.993000                 0.757000                      0.600000   \n",
       "1097        1.088000                 0.776000                      0.585000   \n",
       "1245        1.401000                 0.539000                      0.618000   \n",
       "\n",
       "      generosity  perceptions_of_corruption  \n",
       "25      0.282140                   0.218430  \n",
       "173     0.304520                   0.285510  \n",
       "330     0.336269                   0.276732  \n",
       "484     0.273000                   0.280000  \n",
       "642     0.261000                   0.265000  \n",
       "798     0.252038                   0.309362  \n",
       "947     0.195000                   0.306000  \n",
       "1097    0.163000                   0.358000  \n",
       "1245    0.153000                   0.365000  "
      ]
     },
     "execution_count": 12,
     "metadata": {},
     "output_type": "execute_result"
    }
   ],
   "source": [
    "whr[whr['country'] == 'Germany']"
   ]
  },
  {
   "cell_type": "markdown",
   "metadata": {},
   "source": [
    "Average hapiness score of Germany"
   ]
  },
  {
   "cell_type": "code",
   "execution_count": 13,
   "metadata": {},
   "outputs": [
    {
     "data": {
      "text/plain": [
       "np.float64(6.977977795111112)"
      ]
     },
     "execution_count": 13,
     "metadata": {},
     "output_type": "execute_result"
    }
   ],
   "source": [
    "whr[whr['country'] == 'Germany']['happiness_score'].mean()"
   ]
  },
  {
   "cell_type": "markdown",
   "metadata": {},
   "source": [
    "Development of Germany, Austria and Switzerland over the years"
   ]
  },
  {
   "cell_type": "code",
   "execution_count": 14,
   "metadata": {},
   "outputs": [],
   "source": [
    "countries = [\"Germany\", \"Austria\", \"Switzerland\"]"
   ]
  },
  {
   "cell_type": "code",
   "execution_count": 15,
   "metadata": {},
   "outputs": [],
   "source": [
    "def create_figure(df, countries):\n",
    "\n",
    "    # Get active plotly-theme\n",
    "    active_plotly_theme = pio.templates.default\n",
    "\n",
    "    # Get default line colors for theme\n",
    "    default_theme_colors = pio.templates[active_plotly_theme].layout['colorway']\n",
    "\n",
    "    if len(countries) > len(default_theme_colors):\n",
    "        error_message = f\"\"\"The number of countries is bigger than the number of default colors.\n",
    "              Used theme: {active_plotly_theme}\n",
    "              Available colors in this theme: {len(default_theme_colors)}\n",
    "              Number of countries: {len(countries)}\n",
    "              Following countries were excluded automatically: {countries[len(default_theme_colors):]}\n",
    "              \"\"\"\n",
    "        \n",
    "        print(error_message)\n",
    "\n",
    "        countries = countries[:len(default_theme_colors)]\n",
    "\n",
    "    # Assign one default line color to each country\n",
    "    colors = dict(zip(countries, default_theme_colors))\n",
    "\n",
    "\n",
    "    # Create supblots\n",
    "    fig = make_subplots(rows=2, cols=4,\n",
    "                        subplot_titles=(\"Ranking\", \"Hapiness score\", \"GDP per capita\", \"Social support\", \"Healthy life expectancy\", \"Freedom to make life choices\", \"Generosity\", \"Perceptions of corruption\"))\n",
    "\n",
    "    # Add traces for each country to each subplot\n",
    "    for country in countries:\n",
    "\n",
    "        temp_df = df[df['country'] == country]\n",
    "\n",
    "        fig.add_trace(\n",
    "            go.Scatter(x=temp_df['Year'],\n",
    "                    y=temp_df['Ranking'],\n",
    "                    name=country,\n",
    "                    legendgroup=country,\n",
    "                    showlegend=True,\n",
    "                    line=dict(color=colors[country])),\n",
    "            row=1, col=1\n",
    "        )\n",
    "\n",
    "        fig.add_trace(\n",
    "            go.Scatter(x=temp_df['Year'],\n",
    "                    y=temp_df['happiness_score'],\n",
    "                    name=country,\n",
    "                    legendgroup=country,\n",
    "                    showlegend=False,\n",
    "                    line=dict(color=colors[country])),\n",
    "            row=1, col=2\n",
    "        )\n",
    "\n",
    "        fig.add_trace(\n",
    "            go.Scatter(x=temp_df['Year'],\n",
    "                    y=temp_df['gdp_per_capita'],\n",
    "                    name=country,\n",
    "                    legendgroup=country,\n",
    "                    showlegend=False,\n",
    "                    line=dict(color=colors[country])),\n",
    "            row=1, col=3\n",
    "        )\n",
    "\n",
    "        fig.add_trace(\n",
    "            go.Scatter(x=temp_df['Year'],\n",
    "                    y=temp_df['social_support'],\n",
    "                    name=country,\n",
    "                    legendgroup=country,\n",
    "                    showlegend=False,\n",
    "                    line=dict(color=colors[country])),\n",
    "            row=1, col=4\n",
    "        )\n",
    "\n",
    "        fig.add_trace(\n",
    "            go.Scatter(x=temp_df['Year'],\n",
    "                    y=temp_df['healthy_life_expectancy'],\n",
    "                    name=country,\n",
    "                    legendgroup=country,\n",
    "                    showlegend=False,\n",
    "                    line=dict(color=colors[country])),\n",
    "            row=2, col=1\n",
    "        )\n",
    "\n",
    "        fig.add_trace(\n",
    "            go.Scatter(x=temp_df['Year'],\n",
    "                    y=temp_df['freedom_to_make_life_choices'],\n",
    "                    name=country,\n",
    "                    legendgroup=country,\n",
    "                    showlegend=False,\n",
    "                    line=dict(color=colors[country])),\n",
    "            row=2, col=2\n",
    "        )\n",
    "\n",
    "        fig.add_trace(\n",
    "            go.Scatter(x=temp_df['Year'],\n",
    "                    y=temp_df['generosity'],\n",
    "                    name=country,\n",
    "                    legendgroup=country,\n",
    "                    showlegend=False,\n",
    "                    line=dict(color=colors[country])),\n",
    "            row=2, col=3\n",
    "        )\n",
    "\n",
    "        fig.add_trace(\n",
    "            go.Scatter(x=temp_df['Year'],\n",
    "                    y=temp_df['perceptions_of_corruption'],\n",
    "                    name=country,\n",
    "                    legendgroup=country,\n",
    "                    showlegend=False,\n",
    "                    line=dict(color=colors[country])),\n",
    "            row=2, col=4\n",
    "        )\n",
    "\n",
    "    # fig.update_layout(height=600, width=800)\n",
    "    fig.update_layout(title_text=\"Development of Germany over the years\")\n",
    "\n",
    "    return fig\n"
   ]
  },
  {
   "cell_type": "code",
   "execution_count": 16,
   "metadata": {},
   "outputs": [
    {
     "data": {
      "application/vnd.plotly.v1+json": {
       "config": {
        "plotlyServerURL": "https://plot.ly"
       },
       "data": [
        {
         "legendgroup": "Germany",
         "line": {
          "color": "#F8766D"
         },
         "name": "Germany",
         "showlegend": true,
         "type": "scatter",
         "x": [
          "2015",
          "2016",
          "2017",
          "2018",
          "2019",
          "2020",
          "2021",
          "2022",
          "2023"
         ],
         "xaxis": "x",
         "y": [
          26,
          16,
          16,
          15,
          17,
          17,
          13,
          14,
          16
         ],
         "yaxis": "y"
        },
        {
         "legendgroup": "Germany",
         "line": {
          "color": "#F8766D"
         },
         "name": "Germany",
         "showlegend": false,
         "type": "scatter",
         "x": [
          "2015",
          "2016",
          "2017",
          "2018",
          "2019",
          "2020",
          "2021",
          "2022",
          "2023"
         ],
         "xaxis": "x2",
         "y": [
          6.75,
          6.994,
          6.951000214,
          6.965,
          6.985,
          7.075799942,
          7.155,
          7.034,
          6.892
         ],
         "yaxis": "y2"
        },
        {
         "legendgroup": "Germany",
         "line": {
          "color": "#F8766D"
         },
         "name": "Germany",
         "showlegend": false,
         "type": "scatter",
         "x": [
          "2015",
          "2016",
          "2017",
          "2018",
          "2019",
          "2020",
          "2021",
          "2022",
          "2023"
         ],
         "xaxis": "x3",
         "y": [
          1.32792,
          1.44787,
          1.487923384,
          1.34,
          1.373,
          1.314184546,
          1.48,
          1.924,
          1.919
         ],
         "yaxis": "y3"
        },
        {
         "legendgroup": "Germany",
         "line": {
          "color": "#F8766D"
         },
         "name": "Germany",
         "showlegend": false,
         "type": "scatter",
         "x": [
          "2015",
          "2016",
          "2017",
          "2018",
          "2019",
          "2020",
          "2021",
          "2022",
          "2023"
         ],
         "xaxis": "x4",
         "y": [
          1.29937,
          1.09774,
          1.472520351,
          1.474,
          1.454,
          1.368543744,
          0.993,
          1.088,
          1.401
         ],
         "yaxis": "y4"
        },
        {
         "legendgroup": "Germany",
         "line": {
          "color": "#F8766D"
         },
         "name": "Germany",
         "showlegend": false,
         "type": "scatter",
         "x": [
          "2015",
          "2016",
          "2017",
          "2018",
          "2019",
          "2020",
          "2021",
          "2022",
          "2023"
         ],
         "xaxis": "x5",
         "y": [
          0.89186,
          0.81487,
          0.798950732,
          0.861,
          0.987,
          0.972114801,
          0.757,
          0.776,
          0.539
         ],
         "yaxis": "y5"
        },
        {
         "legendgroup": "Germany",
         "line": {
          "color": "#F8766D"
         },
         "name": "Germany",
         "showlegend": false,
         "type": "scatter",
         "x": [
          "2015",
          "2016",
          "2017",
          "2018",
          "2019",
          "2020",
          "2021",
          "2022",
          "2023"
         ],
         "xaxis": "x6",
         "y": [
          0.61477,
          0.53466,
          0.562511384,
          0.586,
          0.495,
          0.564274132,
          0.6,
          0.585,
          0.618
         ],
         "yaxis": "y6"
        },
        {
         "legendgroup": "Germany",
         "line": {
          "color": "#F8766D"
         },
         "name": "Germany",
         "showlegend": false,
         "type": "scatter",
         "x": [
          "2015",
          "2016",
          "2017",
          "2018",
          "2019",
          "2020",
          "2021",
          "2022",
          "2023"
         ],
         "xaxis": "x7",
         "y": [
          0.28214,
          0.30452,
          0.33626917,
          0.273,
          0.261,
          0.252037704,
          0.195,
          0.163,
          0.153
         ],
         "yaxis": "y7"
        },
        {
         "legendgroup": "Germany",
         "line": {
          "color": "#F8766D"
         },
         "name": "Germany",
         "showlegend": false,
         "type": "scatter",
         "x": [
          "2015",
          "2016",
          "2017",
          "2018",
          "2019",
          "2020",
          "2021",
          "2022",
          "2023"
         ],
         "xaxis": "x8",
         "y": [
          0.21843,
          0.28551,
          0.276731938,
          0.28,
          0.265,
          0.309362292,
          0.306,
          0.358,
          0.365
         ],
         "yaxis": "y8"
        },
        {
         "legendgroup": "Austria",
         "line": {
          "color": "#A3A500"
         },
         "name": "Austria",
         "showlegend": true,
         "type": "scatter",
         "x": [
          "2015",
          "2016",
          "2017",
          "2018",
          "2019",
          "2020",
          "2021",
          "2022",
          "2023"
         ],
         "xaxis": "x",
         "y": [
          13,
          12,
          13,
          12,
          10,
          9,
          10,
          11,
          11
         ],
         "yaxis": "y"
        },
        {
         "legendgroup": "Austria",
         "line": {
          "color": "#A3A500"
         },
         "name": "Austria",
         "showlegend": false,
         "type": "scatter",
         "x": [
          "2015",
          "2016",
          "2017",
          "2018",
          "2019",
          "2020",
          "2021",
          "2022",
          "2023"
         ],
         "xaxis": "x2",
         "y": [
          7.2,
          7.119,
          7.006000042,
          7.139,
          7.246,
          7.294199944,
          7.268,
          7.163,
          7.097
         ],
         "yaxis": "y2"
        },
        {
         "legendgroup": "Austria",
         "line": {
          "color": "#A3A500"
         },
         "name": "Austria",
         "showlegend": false,
         "type": "scatter",
         "x": [
          "2015",
          "2016",
          "2017",
          "2018",
          "2019",
          "2020",
          "2021",
          "2022",
          "2023"
         ],
         "xaxis": "x3",
         "y": [
          1.33723,
          1.45038,
          1.487097263,
          1.341,
          1.376,
          1.317285538,
          1.492,
          1.931,
          1.927
         ],
         "yaxis": "y3"
        },
        {
         "legendgroup": "Austria",
         "line": {
          "color": "#A3A500"
         },
         "name": "Austria",
         "showlegend": false,
         "type": "scatter",
         "x": [
          "2015",
          "2016",
          "2017",
          "2018",
          "2019",
          "2020",
          "2021",
          "2022",
          "2023"
         ],
         "xaxis": "x4",
         "y": [
          1.29704,
          1.08383,
          1.459944963,
          1.504,
          1.475,
          1.437444925,
          1.062,
          1.165,
          1.382
         ],
         "yaxis": "y4"
        },
        {
         "legendgroup": "Austria",
         "line": {
          "color": "#A3A500"
         },
         "name": "Austria",
         "showlegend": false,
         "type": "scatter",
         "x": [
          "2015",
          "2016",
          "2017",
          "2018",
          "2019",
          "2020",
          "2021",
          "2022",
          "2023"
         ],
         "xaxis": "x5",
         "y": [
          0.89042,
          0.80565,
          0.815328419,
          0.891,
          1.016,
          1.000933528,
          0.782,
          0.774,
          0.535
         ],
         "yaxis": "y5"
        },
        {
         "legendgroup": "Austria",
         "line": {
          "color": "#A3A500"
         },
         "name": "Austria",
         "showlegend": false,
         "type": "scatter",
         "x": [
          "2015",
          "2016",
          "2017",
          "2018",
          "2019",
          "2020",
          "2021",
          "2022",
          "2023"
         ],
         "xaxis": "x6",
         "y": [
          0.62433,
          0.54355,
          0.56776619,
          0.617,
          0.532,
          0.603368878,
          0.64,
          0.623,
          0.63
         ],
         "yaxis": "y6"
        },
        {
         "legendgroup": "Austria",
         "line": {
          "color": "#A3A500"
         },
         "name": "Austria",
         "showlegend": false,
         "type": "scatter",
         "x": [
          "2015",
          "2016",
          "2017",
          "2018",
          "2019",
          "2020",
          "2021",
          "2022",
          "2023"
         ],
         "xaxis": "x7",
         "y": [
          0.33088,
          0.32865,
          0.316472322,
          0.242,
          0.244,
          0.255509764,
          0.215,
          0.193,
          0.191
         ],
         "yaxis": "y7"
        },
        {
         "legendgroup": "Austria",
         "line": {
          "color": "#A3A500"
         },
         "name": "Austria",
         "showlegend": false,
         "type": "scatter",
         "x": [
          "2015",
          "2016",
          "2017",
          "2018",
          "2019",
          "2020",
          "2021",
          "2022",
          "2023"
         ],
         "xaxis": "x8",
         "y": [
          0.18676,
          0.21348,
          0.221060365,
          0.224,
          0.226,
          0.281256139,
          0.292,
          0.329,
          0.31
         ],
         "yaxis": "y8"
        },
        {
         "legendgroup": "Switzerland",
         "line": {
          "color": "#00BF7D"
         },
         "name": "Switzerland",
         "showlegend": true,
         "type": "scatter",
         "x": [
          "2015",
          "2016",
          "2017",
          "2018",
          "2019",
          "2020",
          "2021",
          "2022",
          "2023"
         ],
         "xaxis": "x",
         "y": [
          1,
          2,
          4,
          5,
          6,
          3,
          3,
          4,
          8
         ],
         "yaxis": "y"
        },
        {
         "legendgroup": "Switzerland",
         "line": {
          "color": "#00BF7D"
         },
         "name": "Switzerland",
         "showlegend": false,
         "type": "scatter",
         "x": [
          "2015",
          "2016",
          "2017",
          "2018",
          "2019",
          "2020",
          "2021",
          "2022",
          "2023"
         ],
         "xaxis": "x2",
         "y": [
          7.587,
          7.509,
          7.493999958,
          7.487,
          7.48,
          7.559899807,
          7.571,
          7.512,
          7.24
         ],
         "yaxis": "y2"
        },
        {
         "legendgroup": "Switzerland",
         "line": {
          "color": "#00BF7D"
         },
         "name": "Switzerland",
         "showlegend": false,
         "type": "scatter",
         "x": [
          "2015",
          "2016",
          "2017",
          "2018",
          "2019",
          "2020",
          "2021",
          "2022",
          "2023"
         ],
         "xaxis": "x3",
         "y": [
          1.39651,
          1.52733,
          1.564979553,
          1.42,
          1.452,
          1.39077425,
          1.566,
          2.026,
          2.022
         ],
         "yaxis": "y3"
        },
        {
         "legendgroup": "Switzerland",
         "line": {
          "color": "#00BF7D"
         },
         "name": "Switzerland",
         "showlegend": false,
         "type": "scatter",
         "x": [
          "2015",
          "2016",
          "2017",
          "2018",
          "2019",
          "2020",
          "2021",
          "2022",
          "2023"
         ],
         "xaxis": "x4",
         "y": [
          1.34951,
          1.14524,
          1.516911745,
          1.549,
          1.526,
          1.472403407,
          1.079,
          1.226,
          1.463
         ],
         "yaxis": "y4"
        },
        {
         "legendgroup": "Switzerland",
         "line": {
          "color": "#00BF7D"
         },
         "name": "Switzerland",
         "showlegend": false,
         "type": "scatter",
         "x": [
          "2015",
          "2016",
          "2017",
          "2018",
          "2019",
          "2020",
          "2021",
          "2022",
          "2023"
         ],
         "xaxis": "x5",
         "y": [
          0.94143,
          0.86303,
          0.858131289,
          0.927,
          1.052,
          1.040533185,
          0.816,
          0.822,
          0.582
         ],
         "yaxis": "y5"
        },
        {
         "legendgroup": "Switzerland",
         "line": {
          "color": "#00BF7D"
         },
         "name": "Switzerland",
         "showlegend": false,
         "type": "scatter",
         "x": [
          "2015",
          "2016",
          "2017",
          "2018",
          "2019",
          "2020",
          "2021",
          "2022",
          "2023"
         ],
         "xaxis": "x6",
         "y": [
          0.66557,
          0.58557,
          0.620070577,
          0.66,
          0.572,
          0.62895447,
          0.653,
          0.677,
          0.678
         ],
         "yaxis": "y6"
        },
        {
         "legendgroup": "Switzerland",
         "line": {
          "color": "#00BF7D"
         },
         "name": "Switzerland",
         "showlegend": false,
         "type": "scatter",
         "x": [
          "2015",
          "2016",
          "2017",
          "2018",
          "2019",
          "2020",
          "2021",
          "2022",
          "2023"
         ],
         "xaxis": "x7",
         "y": [
          0.29678,
          0.28083,
          0.290549278,
          0.256,
          0.263,
          0.269055754,
          0.204,
          0.147,
          0.151
         ],
         "yaxis": "y7"
        },
        {
         "legendgroup": "Switzerland",
         "line": {
          "color": "#00BF7D"
         },
         "name": "Switzerland",
         "showlegend": false,
         "type": "scatter",
         "x": [
          "2015",
          "2016",
          "2017",
          "2018",
          "2019",
          "2020",
          "2021",
          "2022",
          "2023"
         ],
         "xaxis": "x8",
         "y": [
          0.41978,
          0.41203,
          0.367007285,
          0.357,
          0.343,
          0.407945901,
          0.413,
          0.461,
          0.475
         ],
         "yaxis": "y8"
        }
       ],
       "layout": {
        "annotations": [
         {
          "font": {
           "size": 16
          },
          "showarrow": false,
          "text": "Ranking",
          "x": 0.10625,
          "xanchor": "center",
          "xref": "paper",
          "y": 1,
          "yanchor": "bottom",
          "yref": "paper"
         },
         {
          "font": {
           "size": 16
          },
          "showarrow": false,
          "text": "Hapiness score",
          "x": 0.36875,
          "xanchor": "center",
          "xref": "paper",
          "y": 1,
          "yanchor": "bottom",
          "yref": "paper"
         },
         {
          "font": {
           "size": 16
          },
          "showarrow": false,
          "text": "GDP per capita",
          "x": 0.6312500000000001,
          "xanchor": "center",
          "xref": "paper",
          "y": 1,
          "yanchor": "bottom",
          "yref": "paper"
         },
         {
          "font": {
           "size": 16
          },
          "showarrow": false,
          "text": "Social support",
          "x": 0.89375,
          "xanchor": "center",
          "xref": "paper",
          "y": 1,
          "yanchor": "bottom",
          "yref": "paper"
         },
         {
          "font": {
           "size": 16
          },
          "showarrow": false,
          "text": "Healthy life expectancy",
          "x": 0.10625,
          "xanchor": "center",
          "xref": "paper",
          "y": 0.375,
          "yanchor": "bottom",
          "yref": "paper"
         },
         {
          "font": {
           "size": 16
          },
          "showarrow": false,
          "text": "Freedom to make life choices",
          "x": 0.36875,
          "xanchor": "center",
          "xref": "paper",
          "y": 0.375,
          "yanchor": "bottom",
          "yref": "paper"
         },
         {
          "font": {
           "size": 16
          },
          "showarrow": false,
          "text": "Generosity",
          "x": 0.6312500000000001,
          "xanchor": "center",
          "xref": "paper",
          "y": 0.375,
          "yanchor": "bottom",
          "yref": "paper"
         },
         {
          "font": {
           "size": 16
          },
          "showarrow": false,
          "text": "Perceptions of corruption",
          "x": 0.89375,
          "xanchor": "center",
          "xref": "paper",
          "y": 0.375,
          "yanchor": "bottom",
          "yref": "paper"
         }
        ],
        "template": {
         "data": {
          "bar": [
           {
            "error_x": {
             "color": "rgb(51,51,51)"
            },
            "error_y": {
             "color": "rgb(51,51,51)"
            },
            "marker": {
             "line": {
              "color": "rgb(237,237,237)",
              "width": 0.5
             },
             "pattern": {
              "fillmode": "overlay",
              "size": 10,
              "solidity": 0.2
             }
            },
            "type": "bar"
           }
          ],
          "barpolar": [
           {
            "marker": {
             "line": {
              "color": "rgb(237,237,237)",
              "width": 0.5
             },
             "pattern": {
              "fillmode": "overlay",
              "size": 10,
              "solidity": 0.2
             }
            },
            "type": "barpolar"
           }
          ],
          "carpet": [
           {
            "aaxis": {
             "endlinecolor": "rgb(51,51,51)",
             "gridcolor": "white",
             "linecolor": "white",
             "minorgridcolor": "white",
             "startlinecolor": "rgb(51,51,51)"
            },
            "baxis": {
             "endlinecolor": "rgb(51,51,51)",
             "gridcolor": "white",
             "linecolor": "white",
             "minorgridcolor": "white",
             "startlinecolor": "rgb(51,51,51)"
            },
            "type": "carpet"
           }
          ],
          "choropleth": [
           {
            "colorbar": {
             "outlinewidth": 0,
             "tickcolor": "rgb(237,237,237)",
             "ticklen": 6,
             "ticks": "inside"
            },
            "type": "choropleth"
           }
          ],
          "contour": [
           {
            "colorbar": {
             "outlinewidth": 0,
             "tickcolor": "rgb(237,237,237)",
             "ticklen": 6,
             "ticks": "inside"
            },
            "colorscale": [
             [
              0,
              "rgb(20,44,66)"
             ],
             [
              1,
              "rgb(90,179,244)"
             ]
            ],
            "type": "contour"
           }
          ],
          "contourcarpet": [
           {
            "colorbar": {
             "outlinewidth": 0,
             "tickcolor": "rgb(237,237,237)",
             "ticklen": 6,
             "ticks": "inside"
            },
            "type": "contourcarpet"
           }
          ],
          "heatmap": [
           {
            "colorbar": {
             "outlinewidth": 0,
             "tickcolor": "rgb(237,237,237)",
             "ticklen": 6,
             "ticks": "inside"
            },
            "colorscale": [
             [
              0,
              "rgb(20,44,66)"
             ],
             [
              1,
              "rgb(90,179,244)"
             ]
            ],
            "type": "heatmap"
           }
          ],
          "heatmapgl": [
           {
            "colorbar": {
             "outlinewidth": 0,
             "tickcolor": "rgb(237,237,237)",
             "ticklen": 6,
             "ticks": "inside"
            },
            "colorscale": [
             [
              0,
              "rgb(20,44,66)"
             ],
             [
              1,
              "rgb(90,179,244)"
             ]
            ],
            "type": "heatmapgl"
           }
          ],
          "histogram": [
           {
            "marker": {
             "pattern": {
              "fillmode": "overlay",
              "size": 10,
              "solidity": 0.2
             }
            },
            "type": "histogram"
           }
          ],
          "histogram2d": [
           {
            "colorbar": {
             "outlinewidth": 0,
             "tickcolor": "rgb(237,237,237)",
             "ticklen": 6,
             "ticks": "inside"
            },
            "colorscale": [
             [
              0,
              "rgb(20,44,66)"
             ],
             [
              1,
              "rgb(90,179,244)"
             ]
            ],
            "type": "histogram2d"
           }
          ],
          "histogram2dcontour": [
           {
            "colorbar": {
             "outlinewidth": 0,
             "tickcolor": "rgb(237,237,237)",
             "ticklen": 6,
             "ticks": "inside"
            },
            "colorscale": [
             [
              0,
              "rgb(20,44,66)"
             ],
             [
              1,
              "rgb(90,179,244)"
             ]
            ],
            "type": "histogram2dcontour"
           }
          ],
          "mesh3d": [
           {
            "colorbar": {
             "outlinewidth": 0,
             "tickcolor": "rgb(237,237,237)",
             "ticklen": 6,
             "ticks": "inside"
            },
            "type": "mesh3d"
           }
          ],
          "parcoords": [
           {
            "line": {
             "colorbar": {
              "outlinewidth": 0,
              "tickcolor": "rgb(237,237,237)",
              "ticklen": 6,
              "ticks": "inside"
             }
            },
            "type": "parcoords"
           }
          ],
          "pie": [
           {
            "automargin": true,
            "type": "pie"
           }
          ],
          "scatter": [
           {
            "fillpattern": {
             "fillmode": "overlay",
             "size": 10,
             "solidity": 0.2
            },
            "type": "scatter"
           }
          ],
          "scatter3d": [
           {
            "line": {
             "colorbar": {
              "outlinewidth": 0,
              "tickcolor": "rgb(237,237,237)",
              "ticklen": 6,
              "ticks": "inside"
             }
            },
            "marker": {
             "colorbar": {
              "outlinewidth": 0,
              "tickcolor": "rgb(237,237,237)",
              "ticklen": 6,
              "ticks": "inside"
             }
            },
            "type": "scatter3d"
           }
          ],
          "scattercarpet": [
           {
            "marker": {
             "colorbar": {
              "outlinewidth": 0,
              "tickcolor": "rgb(237,237,237)",
              "ticklen": 6,
              "ticks": "inside"
             }
            },
            "type": "scattercarpet"
           }
          ],
          "scattergeo": [
           {
            "marker": {
             "colorbar": {
              "outlinewidth": 0,
              "tickcolor": "rgb(237,237,237)",
              "ticklen": 6,
              "ticks": "inside"
             }
            },
            "type": "scattergeo"
           }
          ],
          "scattergl": [
           {
            "marker": {
             "colorbar": {
              "outlinewidth": 0,
              "tickcolor": "rgb(237,237,237)",
              "ticklen": 6,
              "ticks": "inside"
             }
            },
            "type": "scattergl"
           }
          ],
          "scattermapbox": [
           {
            "marker": {
             "colorbar": {
              "outlinewidth": 0,
              "tickcolor": "rgb(237,237,237)",
              "ticklen": 6,
              "ticks": "inside"
             }
            },
            "type": "scattermapbox"
           }
          ],
          "scatterpolar": [
           {
            "marker": {
             "colorbar": {
              "outlinewidth": 0,
              "tickcolor": "rgb(237,237,237)",
              "ticklen": 6,
              "ticks": "inside"
             }
            },
            "type": "scatterpolar"
           }
          ],
          "scatterpolargl": [
           {
            "marker": {
             "colorbar": {
              "outlinewidth": 0,
              "tickcolor": "rgb(237,237,237)",
              "ticklen": 6,
              "ticks": "inside"
             }
            },
            "type": "scatterpolargl"
           }
          ],
          "scatterternary": [
           {
            "marker": {
             "colorbar": {
              "outlinewidth": 0,
              "tickcolor": "rgb(237,237,237)",
              "ticklen": 6,
              "ticks": "inside"
             }
            },
            "type": "scatterternary"
           }
          ],
          "surface": [
           {
            "colorbar": {
             "outlinewidth": 0,
             "tickcolor": "rgb(237,237,237)",
             "ticklen": 6,
             "ticks": "inside"
            },
            "colorscale": [
             [
              0,
              "rgb(20,44,66)"
             ],
             [
              1,
              "rgb(90,179,244)"
             ]
            ],
            "type": "surface"
           }
          ],
          "table": [
           {
            "cells": {
             "fill": {
              "color": "rgb(237,237,237)"
             },
             "line": {
              "color": "white"
             }
            },
            "header": {
             "fill": {
              "color": "rgb(217,217,217)"
             },
             "line": {
              "color": "white"
             }
            },
            "type": "table"
           }
          ]
         },
         "layout": {
          "annotationdefaults": {
           "arrowhead": 0,
           "arrowwidth": 1
          },
          "autotypenumbers": "strict",
          "coloraxis": {
           "colorbar": {
            "outlinewidth": 0,
            "tickcolor": "rgb(237,237,237)",
            "ticklen": 6,
            "ticks": "inside"
           }
          },
          "colorscale": {
           "sequential": [
            [
             0,
             "rgb(20,44,66)"
            ],
            [
             1,
             "rgb(90,179,244)"
            ]
           ],
           "sequentialminus": [
            [
             0,
             "rgb(20,44,66)"
            ],
            [
             1,
             "rgb(90,179,244)"
            ]
           ]
          },
          "colorway": [
           "#F8766D",
           "#A3A500",
           "#00BF7D",
           "#00B0F6",
           "#E76BF3"
          ],
          "font": {
           "color": "rgb(51,51,51)"
          },
          "geo": {
           "bgcolor": "white",
           "lakecolor": "white",
           "landcolor": "rgb(237,237,237)",
           "showlakes": true,
           "showland": true,
           "subunitcolor": "white"
          },
          "hoverlabel": {
           "align": "left"
          },
          "hovermode": "closest",
          "paper_bgcolor": "white",
          "plot_bgcolor": "rgb(237,237,237)",
          "polar": {
           "angularaxis": {
            "gridcolor": "white",
            "linecolor": "white",
            "showgrid": true,
            "tickcolor": "rgb(51,51,51)",
            "ticks": "outside"
           },
           "bgcolor": "rgb(237,237,237)",
           "radialaxis": {
            "gridcolor": "white",
            "linecolor": "white",
            "showgrid": true,
            "tickcolor": "rgb(51,51,51)",
            "ticks": "outside"
           }
          },
          "scene": {
           "xaxis": {
            "backgroundcolor": "rgb(237,237,237)",
            "gridcolor": "white",
            "gridwidth": 2,
            "linecolor": "white",
            "showbackground": true,
            "showgrid": true,
            "tickcolor": "rgb(51,51,51)",
            "ticks": "outside",
            "zerolinecolor": "white"
           },
           "yaxis": {
            "backgroundcolor": "rgb(237,237,237)",
            "gridcolor": "white",
            "gridwidth": 2,
            "linecolor": "white",
            "showbackground": true,
            "showgrid": true,
            "tickcolor": "rgb(51,51,51)",
            "ticks": "outside",
            "zerolinecolor": "white"
           },
           "zaxis": {
            "backgroundcolor": "rgb(237,237,237)",
            "gridcolor": "white",
            "gridwidth": 2,
            "linecolor": "white",
            "showbackground": true,
            "showgrid": true,
            "tickcolor": "rgb(51,51,51)",
            "ticks": "outside",
            "zerolinecolor": "white"
           }
          },
          "shapedefaults": {
           "fillcolor": "black",
           "line": {
            "width": 0
           },
           "opacity": 0.3
          },
          "ternary": {
           "aaxis": {
            "gridcolor": "white",
            "linecolor": "white",
            "showgrid": true,
            "tickcolor": "rgb(51,51,51)",
            "ticks": "outside"
           },
           "baxis": {
            "gridcolor": "white",
            "linecolor": "white",
            "showgrid": true,
            "tickcolor": "rgb(51,51,51)",
            "ticks": "outside"
           },
           "bgcolor": "rgb(237,237,237)",
           "caxis": {
            "gridcolor": "white",
            "linecolor": "white",
            "showgrid": true,
            "tickcolor": "rgb(51,51,51)",
            "ticks": "outside"
           }
          },
          "xaxis": {
           "automargin": true,
           "gridcolor": "white",
           "linecolor": "white",
           "showgrid": true,
           "tickcolor": "rgb(51,51,51)",
           "ticks": "outside",
           "title": {
            "standoff": 15
           },
           "zerolinecolor": "white"
          },
          "yaxis": {
           "automargin": true,
           "gridcolor": "white",
           "linecolor": "white",
           "showgrid": true,
           "tickcolor": "rgb(51,51,51)",
           "ticks": "outside",
           "title": {
            "standoff": 15
           },
           "zerolinecolor": "white"
          }
         }
        },
        "title": {
         "text": "Development of Germany over the years"
        },
        "xaxis": {
         "anchor": "y",
         "domain": [
          0,
          0.2125
         ]
        },
        "xaxis2": {
         "anchor": "y2",
         "domain": [
          0.2625,
          0.475
         ]
        },
        "xaxis3": {
         "anchor": "y3",
         "domain": [
          0.525,
          0.7375
         ]
        },
        "xaxis4": {
         "anchor": "y4",
         "domain": [
          0.7875,
          1
         ]
        },
        "xaxis5": {
         "anchor": "y5",
         "domain": [
          0,
          0.2125
         ]
        },
        "xaxis6": {
         "anchor": "y6",
         "domain": [
          0.2625,
          0.475
         ]
        },
        "xaxis7": {
         "anchor": "y7",
         "domain": [
          0.525,
          0.7375
         ]
        },
        "xaxis8": {
         "anchor": "y8",
         "domain": [
          0.7875,
          1
         ]
        },
        "yaxis": {
         "anchor": "x",
         "domain": [
          0.625,
          1
         ]
        },
        "yaxis2": {
         "anchor": "x2",
         "domain": [
          0.625,
          1
         ]
        },
        "yaxis3": {
         "anchor": "x3",
         "domain": [
          0.625,
          1
         ]
        },
        "yaxis4": {
         "anchor": "x4",
         "domain": [
          0.625,
          1
         ]
        },
        "yaxis5": {
         "anchor": "x5",
         "domain": [
          0,
          0.375
         ]
        },
        "yaxis6": {
         "anchor": "x6",
         "domain": [
          0,
          0.375
         ]
        },
        "yaxis7": {
         "anchor": "x7",
         "domain": [
          0,
          0.375
         ]
        },
        "yaxis8": {
         "anchor": "x8",
         "domain": [
          0,
          0.375
         ]
        }
       }
      }
     },
     "metadata": {},
     "output_type": "display_data"
    }
   ],
   "source": [
    "country_figure = create_figure(df=whr, countries=countries)\n",
    "country_figure.show()"
   ]
  }
 ],
 "metadata": {
  "kernelspec": {
   "display_name": ".venv",
   "language": "python",
   "name": "python3"
  },
  "language_info": {
   "codemirror_mode": {
    "name": "ipython",
    "version": 3
   },
   "file_extension": ".py",
   "mimetype": "text/x-python",
   "name": "python",
   "nbconvert_exporter": "python",
   "pygments_lexer": "ipython3",
   "version": "3.9.13"
  }
 },
 "nbformat": 4,
 "nbformat_minor": 2
}
